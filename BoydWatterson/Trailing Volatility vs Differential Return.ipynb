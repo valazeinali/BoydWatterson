{
 "cells": [
  {
   "cell_type": "code",
   "execution_count": 1,
   "metadata": {},
   "outputs": [
    {
     "name": "stdout",
     "output_type": "stream",
     "text": [
      "Populating the interactive namespace from numpy and matplotlib\n"
     ]
    }
   ],
   "source": [
    "import pandas as pd\n",
    "import csv\n",
    "import numpy as np\n",
    "import seaborn as sns\n",
    "sns.set_palette('husl')\n",
    "import matplotlib.pyplot as plt\n",
    "%matplotlib inline\n",
    "%pylab inline"
   ]
  },
  {
   "cell_type": "code",
   "execution_count": 2,
   "metadata": {},
   "outputs": [],
   "source": [
    "import warnings\n",
    "warnings.filterwarnings(\"ignore\")"
   ]
  },
  {
   "cell_type": "code",
   "execution_count": 3,
   "metadata": {},
   "outputs": [
    {
     "data": {
      "text/html": [
       "<div>\n",
       "<style scoped>\n",
       "    .dataframe tbody tr th:only-of-type {\n",
       "        vertical-align: middle;\n",
       "    }\n",
       "\n",
       "    .dataframe tbody tr th {\n",
       "        vertical-align: top;\n",
       "    }\n",
       "\n",
       "    .dataframe thead th {\n",
       "        text-align: right;\n",
       "    }\n",
       "</style>\n",
       "<table border=\"1\" class=\"dataframe\">\n",
       "  <thead>\n",
       "    <tr style=\"text-align: right;\">\n",
       "      <th></th>\n",
       "      <th>Date</th>\n",
       "      <th>ETF Name - AGG</th>\n",
       "      <th>Portfolio Return - AGG</th>\n",
       "      <th>Average Return [3, 6, 9] - AGG</th>\n",
       "      <th>Volatility, short - AGG</th>\n",
       "      <th>Volatility, med - AGG</th>\n",
       "      <th>Volatility, long - AGG</th>\n",
       "      <th>ETF Name - LBU</th>\n",
       "      <th>Portfolio Return - LBU</th>\n",
       "      <th>Average Return [3, 6, 9] - LBU</th>\n",
       "      <th>Volatility, short - LBU</th>\n",
       "      <th>Volatility, med - LBU</th>\n",
       "      <th>Volatility, long - LBU</th>\n",
       "    </tr>\n",
       "  </thead>\n",
       "  <tbody>\n",
       "    <tr>\n",
       "      <th>0</th>\n",
       "      <td>2015-01-01</td>\n",
       "      <td>AGG</td>\n",
       "      <td>2.05231</td>\n",
       "      <td>2.729735</td>\n",
       "      <td>0.202</td>\n",
       "      <td>0.179</td>\n",
       "      <td>0.167</td>\n",
       "      <td>LBU</td>\n",
       "      <td>2.09698</td>\n",
       "      <td>2.601183</td>\n",
       "      <td>0.176</td>\n",
       "      <td>0.164</td>\n",
       "      <td>0.160</td>\n",
       "    </tr>\n",
       "    <tr>\n",
       "      <th>1</th>\n",
       "      <td>2015-02-01</td>\n",
       "      <td>AGG</td>\n",
       "      <td>-0.89468</td>\n",
       "      <td>4.272149</td>\n",
       "      <td>0.209</td>\n",
       "      <td>0.188</td>\n",
       "      <td>0.177</td>\n",
       "      <td>LBU</td>\n",
       "      <td>-0.940213</td>\n",
       "      <td>4.206490</td>\n",
       "      <td>0.175</td>\n",
       "      <td>0.173</td>\n",
       "      <td>0.167</td>\n",
       "    </tr>\n",
       "    <tr>\n",
       "      <th>2</th>\n",
       "      <td>2015-03-01</td>\n",
       "      <td>AGG</td>\n",
       "      <td>0.375289</td>\n",
       "      <td>2.319376</td>\n",
       "      <td>0.240</td>\n",
       "      <td>0.208</td>\n",
       "      <td>0.193</td>\n",
       "      <td>LBU</td>\n",
       "      <td>0.464449</td>\n",
       "      <td>2.219713</td>\n",
       "      <td>0.218</td>\n",
       "      <td>0.195</td>\n",
       "      <td>0.180</td>\n",
       "    </tr>\n",
       "    <tr>\n",
       "      <th>3</th>\n",
       "      <td>2015-04-01</td>\n",
       "      <td>AGG</td>\n",
       "      <td>-0.323636</td>\n",
       "      <td>2.884690</td>\n",
       "      <td>0.267</td>\n",
       "      <td>0.236</td>\n",
       "      <td>0.211</td>\n",
       "      <td>LBU</td>\n",
       "      <td>-0.65899</td>\n",
       "      <td>2.879042</td>\n",
       "      <td>0.239</td>\n",
       "      <td>0.209</td>\n",
       "      <td>0.191</td>\n",
       "    </tr>\n",
       "    <tr>\n",
       "      <th>4</th>\n",
       "      <td>2015-05-01</td>\n",
       "      <td>AGG</td>\n",
       "      <td>-0.436819</td>\n",
       "      <td>1.598650</td>\n",
       "      <td>0.249</td>\n",
       "      <td>0.232</td>\n",
       "      <td>0.211</td>\n",
       "      <td>LBU</td>\n",
       "      <td>-0.240751</td>\n",
       "      <td>1.263064</td>\n",
       "      <td>0.222</td>\n",
       "      <td>0.203</td>\n",
       "      <td>0.192</td>\n",
       "    </tr>\n",
       "  </tbody>\n",
       "</table>\n",
       "</div>"
      ],
      "text/plain": [
       "        Date ETF Name - AGG Portfolio Return - AGG  \\\n",
       "0 2015-01-01            AGG                2.05231   \n",
       "1 2015-02-01            AGG               -0.89468   \n",
       "2 2015-03-01            AGG               0.375289   \n",
       "3 2015-04-01            AGG              -0.323636   \n",
       "4 2015-05-01            AGG              -0.436819   \n",
       "\n",
       "   Average Return [3, 6, 9] - AGG  Volatility, short - AGG  \\\n",
       "0                        2.729735                    0.202   \n",
       "1                        4.272149                    0.209   \n",
       "2                        2.319376                    0.240   \n",
       "3                        2.884690                    0.267   \n",
       "4                        1.598650                    0.249   \n",
       "\n",
       "   Volatility, med - AGG  Volatility, long - AGG ETF Name - LBU  \\\n",
       "0                  0.179                   0.167            LBU   \n",
       "1                  0.188                   0.177            LBU   \n",
       "2                  0.208                   0.193            LBU   \n",
       "3                  0.236                   0.211            LBU   \n",
       "4                  0.232                   0.211            LBU   \n",
       "\n",
       "  Portfolio Return - LBU  Average Return [3, 6, 9] - LBU  \\\n",
       "0                2.09698                        2.601183   \n",
       "1              -0.940213                        4.206490   \n",
       "2               0.464449                        2.219713   \n",
       "3               -0.65899                        2.879042   \n",
       "4              -0.240751                        1.263064   \n",
       "\n",
       "   Volatility, short - LBU  Volatility, med - LBU  Volatility, long - LBU  \n",
       "0                    0.176                  0.164                   0.160  \n",
       "1                    0.175                  0.173                   0.167  \n",
       "2                    0.218                  0.195                   0.180  \n",
       "3                    0.239                  0.209                   0.191  \n",
       "4                    0.222                  0.203                   0.192  "
      ]
     },
     "execution_count": 3,
     "metadata": {},
     "output_type": "execute_result"
    }
   ],
   "source": [
    "df = pd.read_excel('Multi_Sector_ETF_extGL_analysis_AGG.xlsx') \n",
    "df.head()"
   ]
  },
  {
   "cell_type": "code",
   "execution_count": 4,
   "metadata": {},
   "outputs": [
    {
     "name": "stdout",
     "output_type": "stream",
     "text": [
      "<class 'pandas.core.frame.DataFrame'>\n",
      "RangeIndex: 66 entries, 0 to 65\n",
      "Data columns (total 13 columns):\n",
      " #   Column                          Non-Null Count  Dtype         \n",
      "---  ------                          --------------  -----         \n",
      " 0   Date                            66 non-null     datetime64[ns]\n",
      " 1   ETF Name - AGG                  66 non-null     object        \n",
      " 2   Portfolio Return - AGG          66 non-null     object        \n",
      " 3   Average Return [3, 6, 9] - AGG  66 non-null     float64       \n",
      " 4   Volatility, short - AGG         66 non-null     float64       \n",
      " 5   Volatility, med - AGG           66 non-null     float64       \n",
      " 6   Volatility, long - AGG          66 non-null     float64       \n",
      " 7   ETF Name - LBU                  66 non-null     object        \n",
      " 8   Portfolio Return - LBU          66 non-null     object        \n",
      " 9   Average Return [3, 6, 9] - LBU  66 non-null     float64       \n",
      " 10  Volatility, short - LBU         66 non-null     float64       \n",
      " 11  Volatility, med - LBU           66 non-null     float64       \n",
      " 12  Volatility, long - LBU          66 non-null     float64       \n",
      "dtypes: datetime64[ns](1), float64(8), object(4)\n",
      "memory usage: 6.8+ KB\n"
     ]
    }
   ],
   "source": [
    "df.info()"
   ]
  },
  {
   "cell_type": "code",
   "execution_count": 5,
   "metadata": {},
   "outputs": [
    {
     "data": {
      "text/html": [
       "<div>\n",
       "<style scoped>\n",
       "    .dataframe tbody tr th:only-of-type {\n",
       "        vertical-align: middle;\n",
       "    }\n",
       "\n",
       "    .dataframe tbody tr th {\n",
       "        vertical-align: top;\n",
       "    }\n",
       "\n",
       "    .dataframe thead th {\n",
       "        text-align: right;\n",
       "    }\n",
       "</style>\n",
       "<table border=\"1\" class=\"dataframe\">\n",
       "  <thead>\n",
       "    <tr style=\"text-align: right;\">\n",
       "      <th></th>\n",
       "      <th>Average Return [3, 6, 9] - AGG</th>\n",
       "      <th>Volatility, short - AGG</th>\n",
       "      <th>Volatility, med - AGG</th>\n",
       "      <th>Volatility, long - AGG</th>\n",
       "      <th>Average Return [3, 6, 9] - LBU</th>\n",
       "      <th>Volatility, short - LBU</th>\n",
       "      <th>Volatility, med - LBU</th>\n",
       "      <th>Volatility, long - LBU</th>\n",
       "    </tr>\n",
       "  </thead>\n",
       "  <tbody>\n",
       "    <tr>\n",
       "      <th>count</th>\n",
       "      <td>66.000000</td>\n",
       "      <td>66.000000</td>\n",
       "      <td>66.000000</td>\n",
       "      <td>66.000000</td>\n",
       "      <td>66.000000</td>\n",
       "      <td>66.000000</td>\n",
       "      <td>66.000000</td>\n",
       "      <td>66.000000</td>\n",
       "    </tr>\n",
       "    <tr>\n",
       "      <th>mean</th>\n",
       "      <td>1.775268</td>\n",
       "      <td>0.228682</td>\n",
       "      <td>0.216621</td>\n",
       "      <td>0.210303</td>\n",
       "      <td>1.710988</td>\n",
       "      <td>0.210545</td>\n",
       "      <td>0.205091</td>\n",
       "      <td>0.202030</td>\n",
       "    </tr>\n",
       "    <tr>\n",
       "      <th>std</th>\n",
       "      <td>2.303323</td>\n",
       "      <td>0.174258</td>\n",
       "      <td>0.116425</td>\n",
       "      <td>0.091906</td>\n",
       "      <td>2.209135</td>\n",
       "      <td>0.073192</td>\n",
       "      <td>0.049640</td>\n",
       "      <td>0.040249</td>\n",
       "    </tr>\n",
       "    <tr>\n",
       "      <th>min</th>\n",
       "      <td>-2.151567</td>\n",
       "      <td>0.129000</td>\n",
       "      <td>0.140000</td>\n",
       "      <td>0.149000</td>\n",
       "      <td>-1.960142</td>\n",
       "      <td>0.147000</td>\n",
       "      <td>0.151000</td>\n",
       "      <td>0.158000</td>\n",
       "    </tr>\n",
       "    <tr>\n",
       "      <th>25%</th>\n",
       "      <td>-0.231086</td>\n",
       "      <td>0.168250</td>\n",
       "      <td>0.164250</td>\n",
       "      <td>0.165250</td>\n",
       "      <td>-0.322675</td>\n",
       "      <td>0.172750</td>\n",
       "      <td>0.174000</td>\n",
       "      <td>0.176250</td>\n",
       "    </tr>\n",
       "    <tr>\n",
       "      <th>50%</th>\n",
       "      <td>1.621767</td>\n",
       "      <td>0.187500</td>\n",
       "      <td>0.186000</td>\n",
       "      <td>0.191500</td>\n",
       "      <td>1.519529</td>\n",
       "      <td>0.196500</td>\n",
       "      <td>0.194500</td>\n",
       "      <td>0.197000</td>\n",
       "    </tr>\n",
       "    <tr>\n",
       "      <th>75%</th>\n",
       "      <td>3.694860</td>\n",
       "      <td>0.217750</td>\n",
       "      <td>0.223500</td>\n",
       "      <td>0.212000</td>\n",
       "      <td>3.596978</td>\n",
       "      <td>0.221500</td>\n",
       "      <td>0.219500</td>\n",
       "      <td>0.211750</td>\n",
       "    </tr>\n",
       "    <tr>\n",
       "      <th>max</th>\n",
       "      <td>7.788943</td>\n",
       "      <td>1.011000</td>\n",
       "      <td>0.730000</td>\n",
       "      <td>0.612000</td>\n",
       "      <td>7.001722</td>\n",
       "      <td>0.516000</td>\n",
       "      <td>0.396000</td>\n",
       "      <td>0.352000</td>\n",
       "    </tr>\n",
       "  </tbody>\n",
       "</table>\n",
       "</div>"
      ],
      "text/plain": [
       "       Average Return [3, 6, 9] - AGG  Volatility, short - AGG  \\\n",
       "count                       66.000000                66.000000   \n",
       "mean                         1.775268                 0.228682   \n",
       "std                          2.303323                 0.174258   \n",
       "min                         -2.151567                 0.129000   \n",
       "25%                         -0.231086                 0.168250   \n",
       "50%                          1.621767                 0.187500   \n",
       "75%                          3.694860                 0.217750   \n",
       "max                          7.788943                 1.011000   \n",
       "\n",
       "       Volatility, med - AGG  Volatility, long - AGG  \\\n",
       "count              66.000000               66.000000   \n",
       "mean                0.216621                0.210303   \n",
       "std                 0.116425                0.091906   \n",
       "min                 0.140000                0.149000   \n",
       "25%                 0.164250                0.165250   \n",
       "50%                 0.186000                0.191500   \n",
       "75%                 0.223500                0.212000   \n",
       "max                 0.730000                0.612000   \n",
       "\n",
       "       Average Return [3, 6, 9] - LBU  Volatility, short - LBU  \\\n",
       "count                       66.000000                66.000000   \n",
       "mean                         1.710988                 0.210545   \n",
       "std                          2.209135                 0.073192   \n",
       "min                         -1.960142                 0.147000   \n",
       "25%                         -0.322675                 0.172750   \n",
       "50%                          1.519529                 0.196500   \n",
       "75%                          3.596978                 0.221500   \n",
       "max                          7.001722                 0.516000   \n",
       "\n",
       "       Volatility, med - LBU  Volatility, long - LBU  \n",
       "count              66.000000               66.000000  \n",
       "mean                0.205091                0.202030  \n",
       "std                 0.049640                0.040249  \n",
       "min                 0.151000                0.158000  \n",
       "25%                 0.174000                0.176250  \n",
       "50%                 0.194500                0.197000  \n",
       "75%                 0.219500                0.211750  \n",
       "max                 0.396000                0.352000  "
      ]
     },
     "execution_count": 5,
     "metadata": {},
     "output_type": "execute_result"
    }
   ],
   "source": [
    "df.describe()"
   ]
  },
  {
   "cell_type": "markdown",
   "metadata": {},
   "source": [
    "# We need to create new data points from our prev. data.\n",
    "## We want to create ratios for the trailing volatility.\n",
    "### We want to do our security volatility  / benchmark volatility for short, medium, and long trailing volatilities.\n",
    "### Long Vol. = 9 month, Med. Vol. = 6 month, Short = 3 month\n",
    "\n",
    "#### Example below:\n",
    "$$ Long Volatility Ratio = \\frac{Long Volatitly TLT}{Long Volatiltiy LBU} $$"
   ]
  },
  {
   "cell_type": "code",
   "execution_count": 6,
   "metadata": {},
   "outputs": [],
   "source": [
    "df[\"Long Volatility Ratio\"] = df[\"Volatility, long - AGG\"] / df[\"Volatility, long - LBU\"] \n",
    "df[\"Medium Volatility Ratio\"] = df[\"Volatility, med - AGG\"] / df[\"Volatility, med - LBU\"]\n",
    "df[\"Short Volatility Ratio\"] = df[\"Volatility, short - AGG\"] / df[\"Volatility, short - LBU\"] "
   ]
  },
  {
   "cell_type": "code",
   "execution_count": 7,
   "metadata": {},
   "outputs": [
    {
     "data": {
      "text/html": [
       "<div>\n",
       "<style scoped>\n",
       "    .dataframe tbody tr th:only-of-type {\n",
       "        vertical-align: middle;\n",
       "    }\n",
       "\n",
       "    .dataframe tbody tr th {\n",
       "        vertical-align: top;\n",
       "    }\n",
       "\n",
       "    .dataframe thead th {\n",
       "        text-align: right;\n",
       "    }\n",
       "</style>\n",
       "<table border=\"1\" class=\"dataframe\">\n",
       "  <thead>\n",
       "    <tr style=\"text-align: right;\">\n",
       "      <th></th>\n",
       "      <th>Date</th>\n",
       "      <th>ETF Name - AGG</th>\n",
       "      <th>Portfolio Return - AGG</th>\n",
       "      <th>Average Return [3, 6, 9] - AGG</th>\n",
       "      <th>Volatility, short - AGG</th>\n",
       "      <th>Volatility, med - AGG</th>\n",
       "      <th>Volatility, long - AGG</th>\n",
       "      <th>ETF Name - LBU</th>\n",
       "      <th>Portfolio Return - LBU</th>\n",
       "      <th>Average Return [3, 6, 9] - LBU</th>\n",
       "      <th>Volatility, short - LBU</th>\n",
       "      <th>Volatility, med - LBU</th>\n",
       "      <th>Volatility, long - LBU</th>\n",
       "      <th>Long Volatility Ratio</th>\n",
       "      <th>Medium Volatility Ratio</th>\n",
       "      <th>Short Volatility Ratio</th>\n",
       "    </tr>\n",
       "  </thead>\n",
       "  <tbody>\n",
       "    <tr>\n",
       "      <th>0</th>\n",
       "      <td>2015-01-01</td>\n",
       "      <td>AGG</td>\n",
       "      <td>2.05231</td>\n",
       "      <td>2.729735</td>\n",
       "      <td>0.202</td>\n",
       "      <td>0.179</td>\n",
       "      <td>0.167</td>\n",
       "      <td>LBU</td>\n",
       "      <td>2.09698</td>\n",
       "      <td>2.601183</td>\n",
       "      <td>0.176</td>\n",
       "      <td>0.164</td>\n",
       "      <td>0.160</td>\n",
       "      <td>1.043750</td>\n",
       "      <td>1.091463</td>\n",
       "      <td>1.147727</td>\n",
       "    </tr>\n",
       "    <tr>\n",
       "      <th>1</th>\n",
       "      <td>2015-02-01</td>\n",
       "      <td>AGG</td>\n",
       "      <td>-0.89468</td>\n",
       "      <td>4.272149</td>\n",
       "      <td>0.209</td>\n",
       "      <td>0.188</td>\n",
       "      <td>0.177</td>\n",
       "      <td>LBU</td>\n",
       "      <td>-0.940213</td>\n",
       "      <td>4.206490</td>\n",
       "      <td>0.175</td>\n",
       "      <td>0.173</td>\n",
       "      <td>0.167</td>\n",
       "      <td>1.059880</td>\n",
       "      <td>1.086705</td>\n",
       "      <td>1.194286</td>\n",
       "    </tr>\n",
       "    <tr>\n",
       "      <th>2</th>\n",
       "      <td>2015-03-01</td>\n",
       "      <td>AGG</td>\n",
       "      <td>0.375289</td>\n",
       "      <td>2.319376</td>\n",
       "      <td>0.240</td>\n",
       "      <td>0.208</td>\n",
       "      <td>0.193</td>\n",
       "      <td>LBU</td>\n",
       "      <td>0.464449</td>\n",
       "      <td>2.219713</td>\n",
       "      <td>0.218</td>\n",
       "      <td>0.195</td>\n",
       "      <td>0.180</td>\n",
       "      <td>1.072222</td>\n",
       "      <td>1.066667</td>\n",
       "      <td>1.100917</td>\n",
       "    </tr>\n",
       "    <tr>\n",
       "      <th>3</th>\n",
       "      <td>2015-04-01</td>\n",
       "      <td>AGG</td>\n",
       "      <td>-0.323636</td>\n",
       "      <td>2.884690</td>\n",
       "      <td>0.267</td>\n",
       "      <td>0.236</td>\n",
       "      <td>0.211</td>\n",
       "      <td>LBU</td>\n",
       "      <td>-0.65899</td>\n",
       "      <td>2.879042</td>\n",
       "      <td>0.239</td>\n",
       "      <td>0.209</td>\n",
       "      <td>0.191</td>\n",
       "      <td>1.104712</td>\n",
       "      <td>1.129187</td>\n",
       "      <td>1.117155</td>\n",
       "    </tr>\n",
       "    <tr>\n",
       "      <th>4</th>\n",
       "      <td>2015-05-01</td>\n",
       "      <td>AGG</td>\n",
       "      <td>-0.436819</td>\n",
       "      <td>1.598650</td>\n",
       "      <td>0.249</td>\n",
       "      <td>0.232</td>\n",
       "      <td>0.211</td>\n",
       "      <td>LBU</td>\n",
       "      <td>-0.240751</td>\n",
       "      <td>1.263064</td>\n",
       "      <td>0.222</td>\n",
       "      <td>0.203</td>\n",
       "      <td>0.192</td>\n",
       "      <td>1.098958</td>\n",
       "      <td>1.142857</td>\n",
       "      <td>1.121622</td>\n",
       "    </tr>\n",
       "  </tbody>\n",
       "</table>\n",
       "</div>"
      ],
      "text/plain": [
       "        Date ETF Name - AGG Portfolio Return - AGG  \\\n",
       "0 2015-01-01            AGG                2.05231   \n",
       "1 2015-02-01            AGG               -0.89468   \n",
       "2 2015-03-01            AGG               0.375289   \n",
       "3 2015-04-01            AGG              -0.323636   \n",
       "4 2015-05-01            AGG              -0.436819   \n",
       "\n",
       "   Average Return [3, 6, 9] - AGG  Volatility, short - AGG  \\\n",
       "0                        2.729735                    0.202   \n",
       "1                        4.272149                    0.209   \n",
       "2                        2.319376                    0.240   \n",
       "3                        2.884690                    0.267   \n",
       "4                        1.598650                    0.249   \n",
       "\n",
       "   Volatility, med - AGG  Volatility, long - AGG ETF Name - LBU  \\\n",
       "0                  0.179                   0.167            LBU   \n",
       "1                  0.188                   0.177            LBU   \n",
       "2                  0.208                   0.193            LBU   \n",
       "3                  0.236                   0.211            LBU   \n",
       "4                  0.232                   0.211            LBU   \n",
       "\n",
       "  Portfolio Return - LBU  Average Return [3, 6, 9] - LBU  \\\n",
       "0                2.09698                        2.601183   \n",
       "1              -0.940213                        4.206490   \n",
       "2               0.464449                        2.219713   \n",
       "3               -0.65899                        2.879042   \n",
       "4              -0.240751                        1.263064   \n",
       "\n",
       "   Volatility, short - LBU  Volatility, med - LBU  Volatility, long - LBU  \\\n",
       "0                    0.176                  0.164                   0.160   \n",
       "1                    0.175                  0.173                   0.167   \n",
       "2                    0.218                  0.195                   0.180   \n",
       "3                    0.239                  0.209                   0.191   \n",
       "4                    0.222                  0.203                   0.192   \n",
       "\n",
       "   Long Volatility Ratio  Medium Volatility Ratio  Short Volatility Ratio  \n",
       "0               1.043750                 1.091463                1.147727  \n",
       "1               1.059880                 1.086705                1.194286  \n",
       "2               1.072222                 1.066667                1.100917  \n",
       "3               1.104712                 1.129187                1.117155  \n",
       "4               1.098958                 1.142857                1.121622  "
      ]
     },
     "execution_count": 7,
     "metadata": {},
     "output_type": "execute_result"
    }
   ],
   "source": [
    "df.head()"
   ]
  },
  {
   "cell_type": "markdown",
   "metadata": {},
   "source": [
    "# Now we need to create a Differential return dataframe\n",
    "## Example Below:\n",
    "\n",
    "$$ Differential Return TLT = (Portfolio Return - AGG) -  (Portfolio Return - LBU) $$"
   ]
  },
  {
   "cell_type": "code",
   "execution_count": 8,
   "metadata": {},
   "outputs": [],
   "source": [
    "# We have to convert the returns to float64, for some reason they were labeled as Objects\n",
    "df[\"Differential Return\"] = pd.to_numeric(df['Portfolio Return - AGG'],errors='coerce') - pd.to_numeric(df['Portfolio Return - LBU'],errors='coerce')"
   ]
  },
  {
   "cell_type": "code",
   "execution_count": 9,
   "metadata": {},
   "outputs": [
    {
     "data": {
      "text/html": [
       "<div>\n",
       "<style scoped>\n",
       "    .dataframe tbody tr th:only-of-type {\n",
       "        vertical-align: middle;\n",
       "    }\n",
       "\n",
       "    .dataframe tbody tr th {\n",
       "        vertical-align: top;\n",
       "    }\n",
       "\n",
       "    .dataframe thead th {\n",
       "        text-align: right;\n",
       "    }\n",
       "</style>\n",
       "<table border=\"1\" class=\"dataframe\">\n",
       "  <thead>\n",
       "    <tr style=\"text-align: right;\">\n",
       "      <th></th>\n",
       "      <th>Date</th>\n",
       "      <th>ETF Name - AGG</th>\n",
       "      <th>Portfolio Return - AGG</th>\n",
       "      <th>Average Return [3, 6, 9] - AGG</th>\n",
       "      <th>Volatility, short - AGG</th>\n",
       "      <th>Volatility, med - AGG</th>\n",
       "      <th>Volatility, long - AGG</th>\n",
       "      <th>ETF Name - LBU</th>\n",
       "      <th>Portfolio Return - LBU</th>\n",
       "      <th>Average Return [3, 6, 9] - LBU</th>\n",
       "      <th>Volatility, short - LBU</th>\n",
       "      <th>Volatility, med - LBU</th>\n",
       "      <th>Volatility, long - LBU</th>\n",
       "      <th>Long Volatility Ratio</th>\n",
       "      <th>Medium Volatility Ratio</th>\n",
       "      <th>Short Volatility Ratio</th>\n",
       "      <th>Differential Return</th>\n",
       "    </tr>\n",
       "  </thead>\n",
       "  <tbody>\n",
       "    <tr>\n",
       "      <th>0</th>\n",
       "      <td>2015-01-01</td>\n",
       "      <td>AGG</td>\n",
       "      <td>2.05231</td>\n",
       "      <td>2.729735</td>\n",
       "      <td>0.202</td>\n",
       "      <td>0.179</td>\n",
       "      <td>0.167</td>\n",
       "      <td>LBU</td>\n",
       "      <td>2.09698</td>\n",
       "      <td>2.601183</td>\n",
       "      <td>0.176</td>\n",
       "      <td>0.164</td>\n",
       "      <td>0.160</td>\n",
       "      <td>1.043750</td>\n",
       "      <td>1.091463</td>\n",
       "      <td>1.147727</td>\n",
       "      <td>-0.044674</td>\n",
       "    </tr>\n",
       "    <tr>\n",
       "      <th>1</th>\n",
       "      <td>2015-02-01</td>\n",
       "      <td>AGG</td>\n",
       "      <td>-0.89468</td>\n",
       "      <td>4.272149</td>\n",
       "      <td>0.209</td>\n",
       "      <td>0.188</td>\n",
       "      <td>0.177</td>\n",
       "      <td>LBU</td>\n",
       "      <td>-0.940213</td>\n",
       "      <td>4.206490</td>\n",
       "      <td>0.175</td>\n",
       "      <td>0.173</td>\n",
       "      <td>0.167</td>\n",
       "      <td>1.059880</td>\n",
       "      <td>1.086705</td>\n",
       "      <td>1.194286</td>\n",
       "      <td>0.045534</td>\n",
       "    </tr>\n",
       "    <tr>\n",
       "      <th>2</th>\n",
       "      <td>2015-03-01</td>\n",
       "      <td>AGG</td>\n",
       "      <td>0.375289</td>\n",
       "      <td>2.319376</td>\n",
       "      <td>0.240</td>\n",
       "      <td>0.208</td>\n",
       "      <td>0.193</td>\n",
       "      <td>LBU</td>\n",
       "      <td>0.464449</td>\n",
       "      <td>2.219713</td>\n",
       "      <td>0.218</td>\n",
       "      <td>0.195</td>\n",
       "      <td>0.180</td>\n",
       "      <td>1.072222</td>\n",
       "      <td>1.066667</td>\n",
       "      <td>1.100917</td>\n",
       "      <td>-0.089160</td>\n",
       "    </tr>\n",
       "    <tr>\n",
       "      <th>3</th>\n",
       "      <td>2015-04-01</td>\n",
       "      <td>AGG</td>\n",
       "      <td>-0.323636</td>\n",
       "      <td>2.884690</td>\n",
       "      <td>0.267</td>\n",
       "      <td>0.236</td>\n",
       "      <td>0.211</td>\n",
       "      <td>LBU</td>\n",
       "      <td>-0.65899</td>\n",
       "      <td>2.879042</td>\n",
       "      <td>0.239</td>\n",
       "      <td>0.209</td>\n",
       "      <td>0.191</td>\n",
       "      <td>1.104712</td>\n",
       "      <td>1.129187</td>\n",
       "      <td>1.117155</td>\n",
       "      <td>0.335354</td>\n",
       "    </tr>\n",
       "    <tr>\n",
       "      <th>4</th>\n",
       "      <td>2015-05-01</td>\n",
       "      <td>AGG</td>\n",
       "      <td>-0.436819</td>\n",
       "      <td>1.598650</td>\n",
       "      <td>0.249</td>\n",
       "      <td>0.232</td>\n",
       "      <td>0.211</td>\n",
       "      <td>LBU</td>\n",
       "      <td>-0.240751</td>\n",
       "      <td>1.263064</td>\n",
       "      <td>0.222</td>\n",
       "      <td>0.203</td>\n",
       "      <td>0.192</td>\n",
       "      <td>1.098958</td>\n",
       "      <td>1.142857</td>\n",
       "      <td>1.121622</td>\n",
       "      <td>-0.196068</td>\n",
       "    </tr>\n",
       "  </tbody>\n",
       "</table>\n",
       "</div>"
      ],
      "text/plain": [
       "        Date ETF Name - AGG Portfolio Return - AGG  \\\n",
       "0 2015-01-01            AGG                2.05231   \n",
       "1 2015-02-01            AGG               -0.89468   \n",
       "2 2015-03-01            AGG               0.375289   \n",
       "3 2015-04-01            AGG              -0.323636   \n",
       "4 2015-05-01            AGG              -0.436819   \n",
       "\n",
       "   Average Return [3, 6, 9] - AGG  Volatility, short - AGG  \\\n",
       "0                        2.729735                    0.202   \n",
       "1                        4.272149                    0.209   \n",
       "2                        2.319376                    0.240   \n",
       "3                        2.884690                    0.267   \n",
       "4                        1.598650                    0.249   \n",
       "\n",
       "   Volatility, med - AGG  Volatility, long - AGG ETF Name - LBU  \\\n",
       "0                  0.179                   0.167            LBU   \n",
       "1                  0.188                   0.177            LBU   \n",
       "2                  0.208                   0.193            LBU   \n",
       "3                  0.236                   0.211            LBU   \n",
       "4                  0.232                   0.211            LBU   \n",
       "\n",
       "  Portfolio Return - LBU  Average Return [3, 6, 9] - LBU  \\\n",
       "0                2.09698                        2.601183   \n",
       "1              -0.940213                        4.206490   \n",
       "2               0.464449                        2.219713   \n",
       "3               -0.65899                        2.879042   \n",
       "4              -0.240751                        1.263064   \n",
       "\n",
       "   Volatility, short - LBU  Volatility, med - LBU  Volatility, long - LBU  \\\n",
       "0                    0.176                  0.164                   0.160   \n",
       "1                    0.175                  0.173                   0.167   \n",
       "2                    0.218                  0.195                   0.180   \n",
       "3                    0.239                  0.209                   0.191   \n",
       "4                    0.222                  0.203                   0.192   \n",
       "\n",
       "   Long Volatility Ratio  Medium Volatility Ratio  Short Volatility Ratio  \\\n",
       "0               1.043750                 1.091463                1.147727   \n",
       "1               1.059880                 1.086705                1.194286   \n",
       "2               1.072222                 1.066667                1.100917   \n",
       "3               1.104712                 1.129187                1.117155   \n",
       "4               1.098958                 1.142857                1.121622   \n",
       "\n",
       "   Differential Return  \n",
       "0            -0.044674  \n",
       "1             0.045534  \n",
       "2            -0.089160  \n",
       "3             0.335354  \n",
       "4            -0.196068  "
      ]
     },
     "execution_count": 9,
     "metadata": {},
     "output_type": "execute_result"
    }
   ],
   "source": [
    "df.head()"
   ]
  },
  {
   "cell_type": "code",
   "execution_count": 20,
   "metadata": {},
   "outputs": [],
   "source": [
    "import plotly.express as px\n",
    "import plotly.graph_objects as go"
   ]
  },
  {
   "cell_type": "code",
   "execution_count": 30,
   "metadata": {},
   "outputs": [
    {
     "data": {
      "application/vnd.plotly.v1+json": {
       "config": {
        "plotlyServerURL": "https://plot.ly"
       },
       "data": [
        {
         "line": {
          "color": "firebrick",
          "width": 3
         },
         "name": "Long Volatility Ratio",
         "type": "scatter",
         "x": [
          "2015-01-01T00:00:00",
          "2015-02-01T00:00:00",
          "2015-03-01T00:00:00",
          "2015-04-01T00:00:00",
          "2015-05-01T00:00:00",
          "2015-06-01T00:00:00",
          "2015-07-01T00:00:00",
          "2015-08-01T00:00:00",
          "2015-09-01T00:00:00",
          "2015-10-01T00:00:00",
          "2015-11-01T00:00:00",
          "2015-12-01T00:00:00",
          "2016-01-01T00:00:00",
          "2016-02-01T00:00:00",
          "2016-03-01T00:00:00",
          "2016-04-01T00:00:00",
          "2016-05-01T00:00:00",
          "2016-06-01T00:00:00",
          "2016-07-01T00:00:00",
          "2016-08-01T00:00:00",
          "2016-09-01T00:00:00",
          "2016-10-01T00:00:00",
          "2016-11-01T00:00:00",
          "2016-12-01T00:00:00",
          "2017-01-01T00:00:00",
          "2017-02-01T00:00:00",
          "2017-03-01T00:00:00",
          "2017-04-01T00:00:00",
          "2017-05-01T00:00:00",
          "2017-06-01T00:00:00",
          "2017-07-01T00:00:00",
          "2017-08-01T00:00:00",
          "2017-09-01T00:00:00",
          "2017-10-01T00:00:00",
          "2017-11-01T00:00:00",
          "2017-12-01T00:00:00",
          "2018-01-01T00:00:00",
          "2018-02-01T00:00:00",
          "2018-03-01T00:00:00",
          "2018-04-01T00:00:00",
          "2018-05-01T00:00:00",
          "2018-06-01T00:00:00",
          "2018-07-01T00:00:00",
          "2018-08-01T00:00:00",
          "2018-09-01T00:00:00",
          "2018-10-01T00:00:00",
          "2018-11-01T00:00:00",
          "2018-12-01T00:00:00",
          "2019-01-01T00:00:00",
          "2019-02-01T00:00:00",
          "2019-03-01T00:00:00",
          "2019-04-01T00:00:00",
          "2019-05-01T00:00:00",
          "2019-06-01T00:00:00",
          "2019-07-01T00:00:00",
          "2019-08-01T00:00:00",
          "2019-09-01T00:00:00",
          "2019-10-01T00:00:00",
          "2019-11-01T00:00:00",
          "2019-12-01T00:00:00",
          "2020-01-01T00:00:00",
          "2020-02-01T00:00:00",
          "2020-03-01T00:00:00",
          "2020-04-01T00:00:00",
          "2020-05-01T00:00:00",
          "2020-06-01T00:00:00"
         ],
         "y": [
          1.04375,
          1.059880239520958,
          1.0722222222222222,
          1.1047120418848166,
          1.0989583333333333,
          1.0869565217391306,
          1.075221238938053,
          1.0701754385964912,
          1.0378151260504203,
          1.0040650406504066,
          1.008230452674897,
          1.0172413793103448,
          0.9661016949152543,
          0.9703389830508475,
          0.9439655172413792,
          0.9444444444444444,
          0.9423076923076924,
          0.9405940594059405,
          0.9593908629441624,
          0.9340101522842639,
          0.9261083743842364,
          0.9368421052631578,
          0.9365079365079364,
          0.985,
          0.9901477832512315,
          0.985781990521327,
          1,
          1.004739336492891,
          1.0142857142857142,
          1.0192307692307692,
          1.0194174757281553,
          1.014354066985646,
          0.9946808510638298,
          0.9891304347826086,
          1,
          1.0059880239520957,
          0.99375,
          0.9683544303797468,
          0.9814814814814815,
          0.9634146341463414,
          0.9512195121951219,
          0.938888888888889,
          0.9325842696629214,
          0.9213483146067416,
          0.9106145251396649,
          0.9152542372881357,
          0.9120879120879122,
          0.8843930635838151,
          0.9022988505747127,
          0.888268156424581,
          0.903030303030303,
          0.9221556886227544,
          0.9349112426035503,
          0.9310344827586208,
          0.9375000000000001,
          0.9473684210526315,
          0.9891891891891892,
          0.9901477832512315,
          1.0247524752475246,
          1.0144927536231885,
          0.9906976744186047,
          0.9769585253456221,
          0.9820627802690582,
          1.717948717948718,
          1.7386363636363638,
          1.740740740740741
         ]
        },
        {
         "line": {
          "color": "royalblue",
          "width": 3
         },
         "name": "Medium Volatility Ratio",
         "type": "scatter",
         "x": [
          "2015-01-01T00:00:00",
          "2015-02-01T00:00:00",
          "2015-03-01T00:00:00",
          "2015-04-01T00:00:00",
          "2015-05-01T00:00:00",
          "2015-06-01T00:00:00",
          "2015-07-01T00:00:00",
          "2015-08-01T00:00:00",
          "2015-09-01T00:00:00",
          "2015-10-01T00:00:00",
          "2015-11-01T00:00:00",
          "2015-12-01T00:00:00",
          "2016-01-01T00:00:00",
          "2016-02-01T00:00:00",
          "2016-03-01T00:00:00",
          "2016-04-01T00:00:00",
          "2016-05-01T00:00:00",
          "2016-06-01T00:00:00",
          "2016-07-01T00:00:00",
          "2016-08-01T00:00:00",
          "2016-09-01T00:00:00",
          "2016-10-01T00:00:00",
          "2016-11-01T00:00:00",
          "2016-12-01T00:00:00",
          "2017-01-01T00:00:00",
          "2017-02-01T00:00:00",
          "2017-03-01T00:00:00",
          "2017-04-01T00:00:00",
          "2017-05-01T00:00:00",
          "2017-06-01T00:00:00",
          "2017-07-01T00:00:00",
          "2017-08-01T00:00:00",
          "2017-09-01T00:00:00",
          "2017-10-01T00:00:00",
          "2017-11-01T00:00:00",
          "2017-12-01T00:00:00",
          "2018-01-01T00:00:00",
          "2018-02-01T00:00:00",
          "2018-03-01T00:00:00",
          "2018-04-01T00:00:00",
          "2018-05-01T00:00:00",
          "2018-06-01T00:00:00",
          "2018-07-01T00:00:00",
          "2018-08-01T00:00:00",
          "2018-09-01T00:00:00",
          "2018-10-01T00:00:00",
          "2018-11-01T00:00:00",
          "2018-12-01T00:00:00",
          "2019-01-01T00:00:00",
          "2019-02-01T00:00:00",
          "2019-03-01T00:00:00",
          "2019-04-01T00:00:00",
          "2019-05-01T00:00:00",
          "2019-06-01T00:00:00",
          "2019-07-01T00:00:00",
          "2019-08-01T00:00:00",
          "2019-09-01T00:00:00",
          "2019-10-01T00:00:00",
          "2019-11-01T00:00:00",
          "2019-12-01T00:00:00",
          "2020-01-01T00:00:00",
          "2020-02-01T00:00:00",
          "2020-03-01T00:00:00",
          "2020-04-01T00:00:00",
          "2020-05-01T00:00:00",
          "2020-06-01T00:00:00"
         ],
         "y": [
          1.0914634146341462,
          1.0867052023121389,
          1.0666666666666667,
          1.1291866028708133,
          1.1428571428571428,
          1.117117117117117,
          1.0609756097560976,
          1.040485829959514,
          1.0121457489878543,
          0.9556451612903225,
          0.9681274900398406,
          0.9617021276595745,
          0.9471365638766519,
          0.9583333333333333,
          0.966824644549763,
          0.9751243781094527,
          0.9484536082474226,
          0.8965517241379309,
          0.9206349206349206,
          0.9081632653061223,
          0.9375,
          0.9421052631578947,
          0.952127659574468,
          1.014354066985646,
          1.0193236714975846,
          1.0141509433962264,
          1.014018691588785,
          1.0181818181818183,
          1.0219298245614035,
          0.9951456310679612,
          0.9897959183673469,
          1.005464480874317,
          1.0173410404624277,
          1,
          0.9873417721518988,
          0.9867549668874172,
          0.974025974025974,
          0.9545454545454545,
          0.9761904761904762,
          0.963855421686747,
          0.9467455621301775,
          0.9170984455958548,
          0.9109947643979057,
          0.9202127659574467,
          0.875,
          0.8863636363636365,
          0.8846153846153847,
          0.8917197452229301,
          0.9182389937106917,
          0.8837209302325582,
          0.9080459770114944,
          0.9257142857142858,
          0.9636363636363636,
          0.942528735632184,
          0.9494382022471911,
          0.9768786127167631,
          1.0265957446808511,
          1.0141509433962264,
          1.0183486238532111,
          1.027027027027027,
          1,
          0.9914163090128755,
          0.9482758620689655,
          1.8177215189873417,
          1.8434343434343432,
          1.8434343434343432
         ]
        },
        {
         "line": {
          "color": "green",
          "width": 3
         },
         "name": "Short Volatility Ratio",
         "type": "scatter",
         "x": [
          "2015-01-01T00:00:00",
          "2015-02-01T00:00:00",
          "2015-03-01T00:00:00",
          "2015-04-01T00:00:00",
          "2015-05-01T00:00:00",
          "2015-06-01T00:00:00",
          "2015-07-01T00:00:00",
          "2015-08-01T00:00:00",
          "2015-09-01T00:00:00",
          "2015-10-01T00:00:00",
          "2015-11-01T00:00:00",
          "2015-12-01T00:00:00",
          "2016-01-01T00:00:00",
          "2016-02-01T00:00:00",
          "2016-03-01T00:00:00",
          "2016-04-01T00:00:00",
          "2016-05-01T00:00:00",
          "2016-06-01T00:00:00",
          "2016-07-01T00:00:00",
          "2016-08-01T00:00:00",
          "2016-09-01T00:00:00",
          "2016-10-01T00:00:00",
          "2016-11-01T00:00:00",
          "2016-12-01T00:00:00",
          "2017-01-01T00:00:00",
          "2017-02-01T00:00:00",
          "2017-03-01T00:00:00",
          "2017-04-01T00:00:00",
          "2017-05-01T00:00:00",
          "2017-06-01T00:00:00",
          "2017-07-01T00:00:00",
          "2017-08-01T00:00:00",
          "2017-09-01T00:00:00",
          "2017-10-01T00:00:00",
          "2017-11-01T00:00:00",
          "2017-12-01T00:00:00",
          "2018-01-01T00:00:00",
          "2018-02-01T00:00:00",
          "2018-03-01T00:00:00",
          "2018-04-01T00:00:00",
          "2018-05-01T00:00:00",
          "2018-06-01T00:00:00",
          "2018-07-01T00:00:00",
          "2018-08-01T00:00:00",
          "2018-09-01T00:00:00",
          "2018-10-01T00:00:00",
          "2018-11-01T00:00:00",
          "2018-12-01T00:00:00",
          "2019-01-01T00:00:00",
          "2019-02-01T00:00:00",
          "2019-03-01T00:00:00",
          "2019-04-01T00:00:00",
          "2019-05-01T00:00:00",
          "2019-06-01T00:00:00",
          "2019-07-01T00:00:00",
          "2019-08-01T00:00:00",
          "2019-09-01T00:00:00",
          "2019-10-01T00:00:00",
          "2019-11-01T00:00:00",
          "2019-12-01T00:00:00",
          "2020-01-01T00:00:00",
          "2020-02-01T00:00:00",
          "2020-03-01T00:00:00",
          "2020-04-01T00:00:00",
          "2020-05-01T00:00:00",
          "2020-06-01T00:00:00"
         ],
         "y": [
          1.147727272727273,
          1.1942857142857144,
          1.1009174311926606,
          1.1171548117154813,
          1.1216216216216217,
          1.1238938053097345,
          1.00398406374502,
          0.9851301115241635,
          0.9210526315789473,
          0.8934426229508197,
          0.9439655172413792,
          1.0303030303030303,
          1.0144927536231885,
          0.9798994974874372,
          0.9017857142857143,
          0.9259259259259258,
          0.9,
          0.8895027624309393,
          0.9105263157894736,
          0.9158415841584158,
          0.9753694581280788,
          0.968421052631579,
          0.9941176470588236,
          1.0585365853658537,
          1.0593607305936075,
          1.028225806451613,
          0.9677419354838709,
          0.9724770642201834,
          1.0099009900990097,
          1.0307692307692309,
          1.0174418604651163,
          0.9939024390243902,
          0.9932432432432432,
          0.9622641509433962,
          0.9736842105263158,
          0.9803921568627451,
          0.9798657718120806,
          0.9419354838709677,
          0.9672131147540983,
          0.9555555555555555,
          0.9505494505494505,
          0.8706467661691542,
          0.8844221105527638,
          0.8860103626943006,
          0.8775510204081634,
          0.9115646258503403,
          0.888235294117647,
          0.9090909090909091,
          0.9117647058823529,
          0.8742514970059879,
          0.904494382022472,
          0.9281767955801106,
          1.0432098765432098,
          0.9881656804733727,
          0.965909090909091,
          0.9285714285714286,
          1.053921568627451,
          1.037190082644628,
          1.0645161290322582,
          1,
          0.9409090909090908,
          0.8837209302325582,
          0.8883928571428572,
          1.9399224806201547,
          1.9631067961165045,
          1.9704724409448817
         ]
        }
       ],
       "layout": {
        "height": 800,
        "template": {
         "data": {
          "bar": [
           {
            "error_x": {
             "color": "#2a3f5f"
            },
            "error_y": {
             "color": "#2a3f5f"
            },
            "marker": {
             "line": {
              "color": "#E5ECF6",
              "width": 0.5
             }
            },
            "type": "bar"
           }
          ],
          "barpolar": [
           {
            "marker": {
             "line": {
              "color": "#E5ECF6",
              "width": 0.5
             }
            },
            "type": "barpolar"
           }
          ],
          "carpet": [
           {
            "aaxis": {
             "endlinecolor": "#2a3f5f",
             "gridcolor": "white",
             "linecolor": "white",
             "minorgridcolor": "white",
             "startlinecolor": "#2a3f5f"
            },
            "baxis": {
             "endlinecolor": "#2a3f5f",
             "gridcolor": "white",
             "linecolor": "white",
             "minorgridcolor": "white",
             "startlinecolor": "#2a3f5f"
            },
            "type": "carpet"
           }
          ],
          "choropleth": [
           {
            "colorbar": {
             "outlinewidth": 0,
             "ticks": ""
            },
            "type": "choropleth"
           }
          ],
          "contour": [
           {
            "colorbar": {
             "outlinewidth": 0,
             "ticks": ""
            },
            "colorscale": [
             [
              0,
              "#0d0887"
             ],
             [
              0.1111111111111111,
              "#46039f"
             ],
             [
              0.2222222222222222,
              "#7201a8"
             ],
             [
              0.3333333333333333,
              "#9c179e"
             ],
             [
              0.4444444444444444,
              "#bd3786"
             ],
             [
              0.5555555555555556,
              "#d8576b"
             ],
             [
              0.6666666666666666,
              "#ed7953"
             ],
             [
              0.7777777777777778,
              "#fb9f3a"
             ],
             [
              0.8888888888888888,
              "#fdca26"
             ],
             [
              1,
              "#f0f921"
             ]
            ],
            "type": "contour"
           }
          ],
          "contourcarpet": [
           {
            "colorbar": {
             "outlinewidth": 0,
             "ticks": ""
            },
            "type": "contourcarpet"
           }
          ],
          "heatmap": [
           {
            "colorbar": {
             "outlinewidth": 0,
             "ticks": ""
            },
            "colorscale": [
             [
              0,
              "#0d0887"
             ],
             [
              0.1111111111111111,
              "#46039f"
             ],
             [
              0.2222222222222222,
              "#7201a8"
             ],
             [
              0.3333333333333333,
              "#9c179e"
             ],
             [
              0.4444444444444444,
              "#bd3786"
             ],
             [
              0.5555555555555556,
              "#d8576b"
             ],
             [
              0.6666666666666666,
              "#ed7953"
             ],
             [
              0.7777777777777778,
              "#fb9f3a"
             ],
             [
              0.8888888888888888,
              "#fdca26"
             ],
             [
              1,
              "#f0f921"
             ]
            ],
            "type": "heatmap"
           }
          ],
          "heatmapgl": [
           {
            "colorbar": {
             "outlinewidth": 0,
             "ticks": ""
            },
            "colorscale": [
             [
              0,
              "#0d0887"
             ],
             [
              0.1111111111111111,
              "#46039f"
             ],
             [
              0.2222222222222222,
              "#7201a8"
             ],
             [
              0.3333333333333333,
              "#9c179e"
             ],
             [
              0.4444444444444444,
              "#bd3786"
             ],
             [
              0.5555555555555556,
              "#d8576b"
             ],
             [
              0.6666666666666666,
              "#ed7953"
             ],
             [
              0.7777777777777778,
              "#fb9f3a"
             ],
             [
              0.8888888888888888,
              "#fdca26"
             ],
             [
              1,
              "#f0f921"
             ]
            ],
            "type": "heatmapgl"
           }
          ],
          "histogram": [
           {
            "marker": {
             "colorbar": {
              "outlinewidth": 0,
              "ticks": ""
             }
            },
            "type": "histogram"
           }
          ],
          "histogram2d": [
           {
            "colorbar": {
             "outlinewidth": 0,
             "ticks": ""
            },
            "colorscale": [
             [
              0,
              "#0d0887"
             ],
             [
              0.1111111111111111,
              "#46039f"
             ],
             [
              0.2222222222222222,
              "#7201a8"
             ],
             [
              0.3333333333333333,
              "#9c179e"
             ],
             [
              0.4444444444444444,
              "#bd3786"
             ],
             [
              0.5555555555555556,
              "#d8576b"
             ],
             [
              0.6666666666666666,
              "#ed7953"
             ],
             [
              0.7777777777777778,
              "#fb9f3a"
             ],
             [
              0.8888888888888888,
              "#fdca26"
             ],
             [
              1,
              "#f0f921"
             ]
            ],
            "type": "histogram2d"
           }
          ],
          "histogram2dcontour": [
           {
            "colorbar": {
             "outlinewidth": 0,
             "ticks": ""
            },
            "colorscale": [
             [
              0,
              "#0d0887"
             ],
             [
              0.1111111111111111,
              "#46039f"
             ],
             [
              0.2222222222222222,
              "#7201a8"
             ],
             [
              0.3333333333333333,
              "#9c179e"
             ],
             [
              0.4444444444444444,
              "#bd3786"
             ],
             [
              0.5555555555555556,
              "#d8576b"
             ],
             [
              0.6666666666666666,
              "#ed7953"
             ],
             [
              0.7777777777777778,
              "#fb9f3a"
             ],
             [
              0.8888888888888888,
              "#fdca26"
             ],
             [
              1,
              "#f0f921"
             ]
            ],
            "type": "histogram2dcontour"
           }
          ],
          "mesh3d": [
           {
            "colorbar": {
             "outlinewidth": 0,
             "ticks": ""
            },
            "type": "mesh3d"
           }
          ],
          "parcoords": [
           {
            "line": {
             "colorbar": {
              "outlinewidth": 0,
              "ticks": ""
             }
            },
            "type": "parcoords"
           }
          ],
          "pie": [
           {
            "automargin": true,
            "type": "pie"
           }
          ],
          "scatter": [
           {
            "marker": {
             "colorbar": {
              "outlinewidth": 0,
              "ticks": ""
             }
            },
            "type": "scatter"
           }
          ],
          "scatter3d": [
           {
            "line": {
             "colorbar": {
              "outlinewidth": 0,
              "ticks": ""
             }
            },
            "marker": {
             "colorbar": {
              "outlinewidth": 0,
              "ticks": ""
             }
            },
            "type": "scatter3d"
           }
          ],
          "scattercarpet": [
           {
            "marker": {
             "colorbar": {
              "outlinewidth": 0,
              "ticks": ""
             }
            },
            "type": "scattercarpet"
           }
          ],
          "scattergeo": [
           {
            "marker": {
             "colorbar": {
              "outlinewidth": 0,
              "ticks": ""
             }
            },
            "type": "scattergeo"
           }
          ],
          "scattergl": [
           {
            "marker": {
             "colorbar": {
              "outlinewidth": 0,
              "ticks": ""
             }
            },
            "type": "scattergl"
           }
          ],
          "scattermapbox": [
           {
            "marker": {
             "colorbar": {
              "outlinewidth": 0,
              "ticks": ""
             }
            },
            "type": "scattermapbox"
           }
          ],
          "scatterpolar": [
           {
            "marker": {
             "colorbar": {
              "outlinewidth": 0,
              "ticks": ""
             }
            },
            "type": "scatterpolar"
           }
          ],
          "scatterpolargl": [
           {
            "marker": {
             "colorbar": {
              "outlinewidth": 0,
              "ticks": ""
             }
            },
            "type": "scatterpolargl"
           }
          ],
          "scatterternary": [
           {
            "marker": {
             "colorbar": {
              "outlinewidth": 0,
              "ticks": ""
             }
            },
            "type": "scatterternary"
           }
          ],
          "surface": [
           {
            "colorbar": {
             "outlinewidth": 0,
             "ticks": ""
            },
            "colorscale": [
             [
              0,
              "#0d0887"
             ],
             [
              0.1111111111111111,
              "#46039f"
             ],
             [
              0.2222222222222222,
              "#7201a8"
             ],
             [
              0.3333333333333333,
              "#9c179e"
             ],
             [
              0.4444444444444444,
              "#bd3786"
             ],
             [
              0.5555555555555556,
              "#d8576b"
             ],
             [
              0.6666666666666666,
              "#ed7953"
             ],
             [
              0.7777777777777778,
              "#fb9f3a"
             ],
             [
              0.8888888888888888,
              "#fdca26"
             ],
             [
              1,
              "#f0f921"
             ]
            ],
            "type": "surface"
           }
          ],
          "table": [
           {
            "cells": {
             "fill": {
              "color": "#EBF0F8"
             },
             "line": {
              "color": "white"
             }
            },
            "header": {
             "fill": {
              "color": "#C8D4E3"
             },
             "line": {
              "color": "white"
             }
            },
            "type": "table"
           }
          ]
         },
         "layout": {
          "annotationdefaults": {
           "arrowcolor": "#2a3f5f",
           "arrowhead": 0,
           "arrowwidth": 1
          },
          "coloraxis": {
           "colorbar": {
            "outlinewidth": 0,
            "ticks": ""
           }
          },
          "colorscale": {
           "diverging": [
            [
             0,
             "#8e0152"
            ],
            [
             0.1,
             "#c51b7d"
            ],
            [
             0.2,
             "#de77ae"
            ],
            [
             0.3,
             "#f1b6da"
            ],
            [
             0.4,
             "#fde0ef"
            ],
            [
             0.5,
             "#f7f7f7"
            ],
            [
             0.6,
             "#e6f5d0"
            ],
            [
             0.7,
             "#b8e186"
            ],
            [
             0.8,
             "#7fbc41"
            ],
            [
             0.9,
             "#4d9221"
            ],
            [
             1,
             "#276419"
            ]
           ],
           "sequential": [
            [
             0,
             "#0d0887"
            ],
            [
             0.1111111111111111,
             "#46039f"
            ],
            [
             0.2222222222222222,
             "#7201a8"
            ],
            [
             0.3333333333333333,
             "#9c179e"
            ],
            [
             0.4444444444444444,
             "#bd3786"
            ],
            [
             0.5555555555555556,
             "#d8576b"
            ],
            [
             0.6666666666666666,
             "#ed7953"
            ],
            [
             0.7777777777777778,
             "#fb9f3a"
            ],
            [
             0.8888888888888888,
             "#fdca26"
            ],
            [
             1,
             "#f0f921"
            ]
           ],
           "sequentialminus": [
            [
             0,
             "#0d0887"
            ],
            [
             0.1111111111111111,
             "#46039f"
            ],
            [
             0.2222222222222222,
             "#7201a8"
            ],
            [
             0.3333333333333333,
             "#9c179e"
            ],
            [
             0.4444444444444444,
             "#bd3786"
            ],
            [
             0.5555555555555556,
             "#d8576b"
            ],
            [
             0.6666666666666666,
             "#ed7953"
            ],
            [
             0.7777777777777778,
             "#fb9f3a"
            ],
            [
             0.8888888888888888,
             "#fdca26"
            ],
            [
             1,
             "#f0f921"
            ]
           ]
          },
          "colorway": [
           "#636efa",
           "#EF553B",
           "#00cc96",
           "#ab63fa",
           "#FFA15A",
           "#19d3f3",
           "#FF6692",
           "#B6E880",
           "#FF97FF",
           "#FECB52"
          ],
          "font": {
           "color": "#2a3f5f"
          },
          "geo": {
           "bgcolor": "white",
           "lakecolor": "white",
           "landcolor": "#E5ECF6",
           "showlakes": true,
           "showland": true,
           "subunitcolor": "white"
          },
          "hoverlabel": {
           "align": "left"
          },
          "hovermode": "closest",
          "mapbox": {
           "style": "light"
          },
          "paper_bgcolor": "white",
          "plot_bgcolor": "#E5ECF6",
          "polar": {
           "angularaxis": {
            "gridcolor": "white",
            "linecolor": "white",
            "ticks": ""
           },
           "bgcolor": "#E5ECF6",
           "radialaxis": {
            "gridcolor": "white",
            "linecolor": "white",
            "ticks": ""
           }
          },
          "scene": {
           "xaxis": {
            "backgroundcolor": "#E5ECF6",
            "gridcolor": "white",
            "gridwidth": 2,
            "linecolor": "white",
            "showbackground": true,
            "ticks": "",
            "zerolinecolor": "white"
           },
           "yaxis": {
            "backgroundcolor": "#E5ECF6",
            "gridcolor": "white",
            "gridwidth": 2,
            "linecolor": "white",
            "showbackground": true,
            "ticks": "",
            "zerolinecolor": "white"
           },
           "zaxis": {
            "backgroundcolor": "#E5ECF6",
            "gridcolor": "white",
            "gridwidth": 2,
            "linecolor": "white",
            "showbackground": true,
            "ticks": "",
            "zerolinecolor": "white"
           }
          },
          "shapedefaults": {
           "line": {
            "color": "#2a3f5f"
           }
          },
          "ternary": {
           "aaxis": {
            "gridcolor": "white",
            "linecolor": "white",
            "ticks": ""
           },
           "baxis": {
            "gridcolor": "white",
            "linecolor": "white",
            "ticks": ""
           },
           "bgcolor": "#E5ECF6",
           "caxis": {
            "gridcolor": "white",
            "linecolor": "white",
            "ticks": ""
           }
          },
          "title": {
           "x": 0.05
          },
          "xaxis": {
           "automargin": true,
           "gridcolor": "white",
           "linecolor": "white",
           "ticks": "",
           "title": {
            "standoff": 15
           },
           "zerolinecolor": "white",
           "zerolinewidth": 2
          },
          "yaxis": {
           "automargin": true,
           "gridcolor": "white",
           "linecolor": "white",
           "ticks": "",
           "title": {
            "standoff": 15
           },
           "zerolinecolor": "white",
           "zerolinewidth": 2
          }
         }
        },
        "title": {
         "text": "Analysis of Trailing Volatility Ratios Agg to LBU"
        },
        "width": 1000,
        "xaxis": {
         "title": {
          "text": "Year"
         }
        },
        "yaxis": {
         "title": {
          "text": "Volatility Ratio"
         }
        }
       }
      },
      "text/html": [
       "<div>\n",
       "        \n",
       "        \n",
       "            <div id=\"7c220308-723c-4ce9-9b3e-02f9b19b572c\" class=\"plotly-graph-div\" style=\"height:800px; width:1000px;\"></div>\n",
       "            <script type=\"text/javascript\">\n",
       "                require([\"plotly\"], function(Plotly) {\n",
       "                    window.PLOTLYENV=window.PLOTLYENV || {};\n",
       "                    \n",
       "                if (document.getElementById(\"7c220308-723c-4ce9-9b3e-02f9b19b572c\")) {\n",
       "                    Plotly.newPlot(\n",
       "                        '7c220308-723c-4ce9-9b3e-02f9b19b572c',\n",
       "                        [{\"line\": {\"color\": \"firebrick\", \"width\": 3}, \"name\": \"Long Volatility Ratio\", \"type\": \"scatter\", \"x\": [\"2015-01-01T00:00:00\", \"2015-02-01T00:00:00\", \"2015-03-01T00:00:00\", \"2015-04-01T00:00:00\", \"2015-05-01T00:00:00\", \"2015-06-01T00:00:00\", \"2015-07-01T00:00:00\", \"2015-08-01T00:00:00\", \"2015-09-01T00:00:00\", \"2015-10-01T00:00:00\", \"2015-11-01T00:00:00\", \"2015-12-01T00:00:00\", \"2016-01-01T00:00:00\", \"2016-02-01T00:00:00\", \"2016-03-01T00:00:00\", \"2016-04-01T00:00:00\", \"2016-05-01T00:00:00\", \"2016-06-01T00:00:00\", \"2016-07-01T00:00:00\", \"2016-08-01T00:00:00\", \"2016-09-01T00:00:00\", \"2016-10-01T00:00:00\", \"2016-11-01T00:00:00\", \"2016-12-01T00:00:00\", \"2017-01-01T00:00:00\", \"2017-02-01T00:00:00\", \"2017-03-01T00:00:00\", \"2017-04-01T00:00:00\", \"2017-05-01T00:00:00\", \"2017-06-01T00:00:00\", \"2017-07-01T00:00:00\", \"2017-08-01T00:00:00\", \"2017-09-01T00:00:00\", \"2017-10-01T00:00:00\", \"2017-11-01T00:00:00\", \"2017-12-01T00:00:00\", \"2018-01-01T00:00:00\", \"2018-02-01T00:00:00\", \"2018-03-01T00:00:00\", \"2018-04-01T00:00:00\", \"2018-05-01T00:00:00\", \"2018-06-01T00:00:00\", \"2018-07-01T00:00:00\", \"2018-08-01T00:00:00\", \"2018-09-01T00:00:00\", \"2018-10-01T00:00:00\", \"2018-11-01T00:00:00\", \"2018-12-01T00:00:00\", \"2019-01-01T00:00:00\", \"2019-02-01T00:00:00\", \"2019-03-01T00:00:00\", \"2019-04-01T00:00:00\", \"2019-05-01T00:00:00\", \"2019-06-01T00:00:00\", \"2019-07-01T00:00:00\", \"2019-08-01T00:00:00\", \"2019-09-01T00:00:00\", \"2019-10-01T00:00:00\", \"2019-11-01T00:00:00\", \"2019-12-01T00:00:00\", \"2020-01-01T00:00:00\", \"2020-02-01T00:00:00\", \"2020-03-01T00:00:00\", \"2020-04-01T00:00:00\", \"2020-05-01T00:00:00\", \"2020-06-01T00:00:00\"], \"y\": [1.04375, 1.059880239520958, 1.0722222222222222, 1.1047120418848166, 1.0989583333333333, 1.0869565217391306, 1.075221238938053, 1.0701754385964912, 1.0378151260504203, 1.0040650406504066, 1.008230452674897, 1.0172413793103448, 0.9661016949152543, 0.9703389830508475, 0.9439655172413792, 0.9444444444444444, 0.9423076923076924, 0.9405940594059405, 0.9593908629441624, 0.9340101522842639, 0.9261083743842364, 0.9368421052631578, 0.9365079365079364, 0.985, 0.9901477832512315, 0.985781990521327, 1.0, 1.004739336492891, 1.0142857142857142, 1.0192307692307692, 1.0194174757281553, 1.014354066985646, 0.9946808510638298, 0.9891304347826086, 1.0, 1.0059880239520957, 0.99375, 0.9683544303797468, 0.9814814814814815, 0.9634146341463414, 0.9512195121951219, 0.938888888888889, 0.9325842696629214, 0.9213483146067416, 0.9106145251396649, 0.9152542372881357, 0.9120879120879122, 0.8843930635838151, 0.9022988505747127, 0.888268156424581, 0.903030303030303, 0.9221556886227544, 0.9349112426035503, 0.9310344827586208, 0.9375000000000001, 0.9473684210526315, 0.9891891891891892, 0.9901477832512315, 1.0247524752475246, 1.0144927536231885, 0.9906976744186047, 0.9769585253456221, 0.9820627802690582, 1.717948717948718, 1.7386363636363638, 1.740740740740741]}, {\"line\": {\"color\": \"royalblue\", \"width\": 3}, \"name\": \"Medium Volatility Ratio\", \"type\": \"scatter\", \"x\": [\"2015-01-01T00:00:00\", \"2015-02-01T00:00:00\", \"2015-03-01T00:00:00\", \"2015-04-01T00:00:00\", \"2015-05-01T00:00:00\", \"2015-06-01T00:00:00\", \"2015-07-01T00:00:00\", \"2015-08-01T00:00:00\", \"2015-09-01T00:00:00\", \"2015-10-01T00:00:00\", \"2015-11-01T00:00:00\", \"2015-12-01T00:00:00\", \"2016-01-01T00:00:00\", \"2016-02-01T00:00:00\", \"2016-03-01T00:00:00\", \"2016-04-01T00:00:00\", \"2016-05-01T00:00:00\", \"2016-06-01T00:00:00\", \"2016-07-01T00:00:00\", \"2016-08-01T00:00:00\", \"2016-09-01T00:00:00\", \"2016-10-01T00:00:00\", \"2016-11-01T00:00:00\", \"2016-12-01T00:00:00\", \"2017-01-01T00:00:00\", \"2017-02-01T00:00:00\", \"2017-03-01T00:00:00\", \"2017-04-01T00:00:00\", \"2017-05-01T00:00:00\", \"2017-06-01T00:00:00\", \"2017-07-01T00:00:00\", \"2017-08-01T00:00:00\", \"2017-09-01T00:00:00\", \"2017-10-01T00:00:00\", \"2017-11-01T00:00:00\", \"2017-12-01T00:00:00\", \"2018-01-01T00:00:00\", \"2018-02-01T00:00:00\", \"2018-03-01T00:00:00\", \"2018-04-01T00:00:00\", \"2018-05-01T00:00:00\", \"2018-06-01T00:00:00\", \"2018-07-01T00:00:00\", \"2018-08-01T00:00:00\", \"2018-09-01T00:00:00\", \"2018-10-01T00:00:00\", \"2018-11-01T00:00:00\", \"2018-12-01T00:00:00\", \"2019-01-01T00:00:00\", \"2019-02-01T00:00:00\", \"2019-03-01T00:00:00\", \"2019-04-01T00:00:00\", \"2019-05-01T00:00:00\", \"2019-06-01T00:00:00\", \"2019-07-01T00:00:00\", \"2019-08-01T00:00:00\", \"2019-09-01T00:00:00\", \"2019-10-01T00:00:00\", \"2019-11-01T00:00:00\", \"2019-12-01T00:00:00\", \"2020-01-01T00:00:00\", \"2020-02-01T00:00:00\", \"2020-03-01T00:00:00\", \"2020-04-01T00:00:00\", \"2020-05-01T00:00:00\", \"2020-06-01T00:00:00\"], \"y\": [1.0914634146341462, 1.0867052023121389, 1.0666666666666667, 1.1291866028708133, 1.1428571428571428, 1.117117117117117, 1.0609756097560976, 1.040485829959514, 1.0121457489878543, 0.9556451612903225, 0.9681274900398406, 0.9617021276595745, 0.9471365638766519, 0.9583333333333333, 0.966824644549763, 0.9751243781094527, 0.9484536082474226, 0.8965517241379309, 0.9206349206349206, 0.9081632653061223, 0.9375, 0.9421052631578947, 0.952127659574468, 1.014354066985646, 1.0193236714975846, 1.0141509433962264, 1.014018691588785, 1.0181818181818183, 1.0219298245614035, 0.9951456310679612, 0.9897959183673469, 1.005464480874317, 1.0173410404624277, 1.0, 0.9873417721518988, 0.9867549668874172, 0.974025974025974, 0.9545454545454545, 0.9761904761904762, 0.963855421686747, 0.9467455621301775, 0.9170984455958548, 0.9109947643979057, 0.9202127659574467, 0.875, 0.8863636363636365, 0.8846153846153847, 0.8917197452229301, 0.9182389937106917, 0.8837209302325582, 0.9080459770114944, 0.9257142857142858, 0.9636363636363636, 0.942528735632184, 0.9494382022471911, 0.9768786127167631, 1.0265957446808511, 1.0141509433962264, 1.0183486238532111, 1.027027027027027, 1.0, 0.9914163090128755, 0.9482758620689655, 1.8177215189873417, 1.8434343434343432, 1.8434343434343432]}, {\"line\": {\"color\": \"green\", \"width\": 3}, \"name\": \"Short Volatility Ratio\", \"type\": \"scatter\", \"x\": [\"2015-01-01T00:00:00\", \"2015-02-01T00:00:00\", \"2015-03-01T00:00:00\", \"2015-04-01T00:00:00\", \"2015-05-01T00:00:00\", \"2015-06-01T00:00:00\", \"2015-07-01T00:00:00\", \"2015-08-01T00:00:00\", \"2015-09-01T00:00:00\", \"2015-10-01T00:00:00\", \"2015-11-01T00:00:00\", \"2015-12-01T00:00:00\", \"2016-01-01T00:00:00\", \"2016-02-01T00:00:00\", \"2016-03-01T00:00:00\", \"2016-04-01T00:00:00\", \"2016-05-01T00:00:00\", \"2016-06-01T00:00:00\", \"2016-07-01T00:00:00\", \"2016-08-01T00:00:00\", \"2016-09-01T00:00:00\", \"2016-10-01T00:00:00\", \"2016-11-01T00:00:00\", \"2016-12-01T00:00:00\", \"2017-01-01T00:00:00\", \"2017-02-01T00:00:00\", \"2017-03-01T00:00:00\", \"2017-04-01T00:00:00\", \"2017-05-01T00:00:00\", \"2017-06-01T00:00:00\", \"2017-07-01T00:00:00\", \"2017-08-01T00:00:00\", \"2017-09-01T00:00:00\", \"2017-10-01T00:00:00\", \"2017-11-01T00:00:00\", \"2017-12-01T00:00:00\", \"2018-01-01T00:00:00\", \"2018-02-01T00:00:00\", \"2018-03-01T00:00:00\", \"2018-04-01T00:00:00\", \"2018-05-01T00:00:00\", \"2018-06-01T00:00:00\", \"2018-07-01T00:00:00\", \"2018-08-01T00:00:00\", \"2018-09-01T00:00:00\", \"2018-10-01T00:00:00\", \"2018-11-01T00:00:00\", \"2018-12-01T00:00:00\", \"2019-01-01T00:00:00\", \"2019-02-01T00:00:00\", \"2019-03-01T00:00:00\", \"2019-04-01T00:00:00\", \"2019-05-01T00:00:00\", \"2019-06-01T00:00:00\", \"2019-07-01T00:00:00\", \"2019-08-01T00:00:00\", \"2019-09-01T00:00:00\", \"2019-10-01T00:00:00\", \"2019-11-01T00:00:00\", \"2019-12-01T00:00:00\", \"2020-01-01T00:00:00\", \"2020-02-01T00:00:00\", \"2020-03-01T00:00:00\", \"2020-04-01T00:00:00\", \"2020-05-01T00:00:00\", \"2020-06-01T00:00:00\"], \"y\": [1.147727272727273, 1.1942857142857144, 1.1009174311926606, 1.1171548117154813, 1.1216216216216217, 1.1238938053097345, 1.00398406374502, 0.9851301115241635, 0.9210526315789473, 0.8934426229508197, 0.9439655172413792, 1.0303030303030303, 1.0144927536231885, 0.9798994974874372, 0.9017857142857143, 0.9259259259259258, 0.9, 0.8895027624309393, 0.9105263157894736, 0.9158415841584158, 0.9753694581280788, 0.968421052631579, 0.9941176470588236, 1.0585365853658537, 1.0593607305936075, 1.028225806451613, 0.9677419354838709, 0.9724770642201834, 1.0099009900990097, 1.0307692307692309, 1.0174418604651163, 0.9939024390243902, 0.9932432432432432, 0.9622641509433962, 0.9736842105263158, 0.9803921568627451, 0.9798657718120806, 0.9419354838709677, 0.9672131147540983, 0.9555555555555555, 0.9505494505494505, 0.8706467661691542, 0.8844221105527638, 0.8860103626943006, 0.8775510204081634, 0.9115646258503403, 0.888235294117647, 0.9090909090909091, 0.9117647058823529, 0.8742514970059879, 0.904494382022472, 0.9281767955801106, 1.0432098765432098, 0.9881656804733727, 0.965909090909091, 0.9285714285714286, 1.053921568627451, 1.037190082644628, 1.0645161290322582, 1.0, 0.9409090909090908, 0.8837209302325582, 0.8883928571428572, 1.9399224806201547, 1.9631067961165045, 1.9704724409448817]}],\n",
       "                        {\"height\": 800, \"template\": {\"data\": {\"bar\": [{\"error_x\": {\"color\": \"#2a3f5f\"}, \"error_y\": {\"color\": \"#2a3f5f\"}, \"marker\": {\"line\": {\"color\": \"#E5ECF6\", \"width\": 0.5}}, \"type\": \"bar\"}], \"barpolar\": [{\"marker\": {\"line\": {\"color\": \"#E5ECF6\", \"width\": 0.5}}, \"type\": \"barpolar\"}], \"carpet\": [{\"aaxis\": {\"endlinecolor\": \"#2a3f5f\", \"gridcolor\": \"white\", \"linecolor\": \"white\", \"minorgridcolor\": \"white\", \"startlinecolor\": \"#2a3f5f\"}, \"baxis\": {\"endlinecolor\": \"#2a3f5f\", \"gridcolor\": \"white\", \"linecolor\": \"white\", \"minorgridcolor\": \"white\", \"startlinecolor\": \"#2a3f5f\"}, \"type\": \"carpet\"}], \"choropleth\": [{\"colorbar\": {\"outlinewidth\": 0, \"ticks\": \"\"}, \"type\": \"choropleth\"}], \"contour\": [{\"colorbar\": {\"outlinewidth\": 0, \"ticks\": \"\"}, \"colorscale\": [[0.0, \"#0d0887\"], [0.1111111111111111, \"#46039f\"], [0.2222222222222222, \"#7201a8\"], [0.3333333333333333, \"#9c179e\"], [0.4444444444444444, \"#bd3786\"], [0.5555555555555556, \"#d8576b\"], [0.6666666666666666, \"#ed7953\"], [0.7777777777777778, \"#fb9f3a\"], [0.8888888888888888, \"#fdca26\"], [1.0, \"#f0f921\"]], \"type\": \"contour\"}], \"contourcarpet\": [{\"colorbar\": {\"outlinewidth\": 0, \"ticks\": \"\"}, \"type\": \"contourcarpet\"}], \"heatmap\": [{\"colorbar\": {\"outlinewidth\": 0, \"ticks\": \"\"}, \"colorscale\": [[0.0, \"#0d0887\"], [0.1111111111111111, \"#46039f\"], [0.2222222222222222, \"#7201a8\"], [0.3333333333333333, \"#9c179e\"], [0.4444444444444444, \"#bd3786\"], [0.5555555555555556, \"#d8576b\"], [0.6666666666666666, \"#ed7953\"], [0.7777777777777778, \"#fb9f3a\"], [0.8888888888888888, \"#fdca26\"], [1.0, \"#f0f921\"]], \"type\": \"heatmap\"}], \"heatmapgl\": [{\"colorbar\": {\"outlinewidth\": 0, \"ticks\": \"\"}, \"colorscale\": [[0.0, \"#0d0887\"], [0.1111111111111111, \"#46039f\"], [0.2222222222222222, \"#7201a8\"], [0.3333333333333333, \"#9c179e\"], [0.4444444444444444, \"#bd3786\"], [0.5555555555555556, \"#d8576b\"], [0.6666666666666666, \"#ed7953\"], [0.7777777777777778, \"#fb9f3a\"], [0.8888888888888888, \"#fdca26\"], [1.0, \"#f0f921\"]], \"type\": \"heatmapgl\"}], \"histogram\": [{\"marker\": {\"colorbar\": {\"outlinewidth\": 0, \"ticks\": \"\"}}, \"type\": \"histogram\"}], \"histogram2d\": [{\"colorbar\": {\"outlinewidth\": 0, \"ticks\": \"\"}, \"colorscale\": [[0.0, \"#0d0887\"], [0.1111111111111111, \"#46039f\"], [0.2222222222222222, \"#7201a8\"], [0.3333333333333333, \"#9c179e\"], [0.4444444444444444, \"#bd3786\"], [0.5555555555555556, \"#d8576b\"], [0.6666666666666666, \"#ed7953\"], [0.7777777777777778, \"#fb9f3a\"], [0.8888888888888888, \"#fdca26\"], [1.0, \"#f0f921\"]], \"type\": \"histogram2d\"}], \"histogram2dcontour\": [{\"colorbar\": {\"outlinewidth\": 0, \"ticks\": \"\"}, \"colorscale\": [[0.0, \"#0d0887\"], [0.1111111111111111, \"#46039f\"], [0.2222222222222222, \"#7201a8\"], [0.3333333333333333, \"#9c179e\"], [0.4444444444444444, \"#bd3786\"], [0.5555555555555556, \"#d8576b\"], [0.6666666666666666, \"#ed7953\"], [0.7777777777777778, \"#fb9f3a\"], [0.8888888888888888, \"#fdca26\"], [1.0, \"#f0f921\"]], \"type\": \"histogram2dcontour\"}], \"mesh3d\": [{\"colorbar\": {\"outlinewidth\": 0, \"ticks\": \"\"}, \"type\": \"mesh3d\"}], \"parcoords\": [{\"line\": {\"colorbar\": {\"outlinewidth\": 0, \"ticks\": \"\"}}, \"type\": \"parcoords\"}], \"pie\": [{\"automargin\": true, \"type\": \"pie\"}], \"scatter\": [{\"marker\": {\"colorbar\": {\"outlinewidth\": 0, \"ticks\": \"\"}}, \"type\": \"scatter\"}], \"scatter3d\": [{\"line\": {\"colorbar\": {\"outlinewidth\": 0, \"ticks\": \"\"}}, \"marker\": {\"colorbar\": {\"outlinewidth\": 0, \"ticks\": \"\"}}, \"type\": \"scatter3d\"}], \"scattercarpet\": [{\"marker\": {\"colorbar\": {\"outlinewidth\": 0, \"ticks\": \"\"}}, \"type\": \"scattercarpet\"}], \"scattergeo\": [{\"marker\": {\"colorbar\": {\"outlinewidth\": 0, \"ticks\": \"\"}}, \"type\": \"scattergeo\"}], \"scattergl\": [{\"marker\": {\"colorbar\": {\"outlinewidth\": 0, \"ticks\": \"\"}}, \"type\": \"scattergl\"}], \"scattermapbox\": [{\"marker\": {\"colorbar\": {\"outlinewidth\": 0, \"ticks\": \"\"}}, \"type\": \"scattermapbox\"}], \"scatterpolar\": [{\"marker\": {\"colorbar\": {\"outlinewidth\": 0, \"ticks\": \"\"}}, \"type\": \"scatterpolar\"}], \"scatterpolargl\": [{\"marker\": {\"colorbar\": {\"outlinewidth\": 0, \"ticks\": \"\"}}, \"type\": \"scatterpolargl\"}], \"scatterternary\": [{\"marker\": {\"colorbar\": {\"outlinewidth\": 0, \"ticks\": \"\"}}, \"type\": \"scatterternary\"}], \"surface\": [{\"colorbar\": {\"outlinewidth\": 0, \"ticks\": \"\"}, \"colorscale\": [[0.0, \"#0d0887\"], [0.1111111111111111, \"#46039f\"], [0.2222222222222222, \"#7201a8\"], [0.3333333333333333, \"#9c179e\"], [0.4444444444444444, \"#bd3786\"], [0.5555555555555556, \"#d8576b\"], [0.6666666666666666, \"#ed7953\"], [0.7777777777777778, \"#fb9f3a\"], [0.8888888888888888, \"#fdca26\"], [1.0, \"#f0f921\"]], \"type\": \"surface\"}], \"table\": [{\"cells\": {\"fill\": {\"color\": \"#EBF0F8\"}, \"line\": {\"color\": \"white\"}}, \"header\": {\"fill\": {\"color\": \"#C8D4E3\"}, \"line\": {\"color\": \"white\"}}, \"type\": \"table\"}]}, \"layout\": {\"annotationdefaults\": {\"arrowcolor\": \"#2a3f5f\", \"arrowhead\": 0, \"arrowwidth\": 1}, \"coloraxis\": {\"colorbar\": {\"outlinewidth\": 0, \"ticks\": \"\"}}, \"colorscale\": {\"diverging\": [[0, \"#8e0152\"], [0.1, \"#c51b7d\"], [0.2, \"#de77ae\"], [0.3, \"#f1b6da\"], [0.4, \"#fde0ef\"], [0.5, \"#f7f7f7\"], [0.6, \"#e6f5d0\"], [0.7, \"#b8e186\"], [0.8, \"#7fbc41\"], [0.9, \"#4d9221\"], [1, \"#276419\"]], \"sequential\": [[0.0, \"#0d0887\"], [0.1111111111111111, \"#46039f\"], [0.2222222222222222, \"#7201a8\"], [0.3333333333333333, \"#9c179e\"], [0.4444444444444444, \"#bd3786\"], [0.5555555555555556, \"#d8576b\"], [0.6666666666666666, \"#ed7953\"], [0.7777777777777778, \"#fb9f3a\"], [0.8888888888888888, \"#fdca26\"], [1.0, \"#f0f921\"]], \"sequentialminus\": [[0.0, \"#0d0887\"], [0.1111111111111111, \"#46039f\"], [0.2222222222222222, \"#7201a8\"], [0.3333333333333333, \"#9c179e\"], [0.4444444444444444, \"#bd3786\"], [0.5555555555555556, \"#d8576b\"], [0.6666666666666666, \"#ed7953\"], [0.7777777777777778, \"#fb9f3a\"], [0.8888888888888888, \"#fdca26\"], [1.0, \"#f0f921\"]]}, \"colorway\": [\"#636efa\", \"#EF553B\", \"#00cc96\", \"#ab63fa\", \"#FFA15A\", \"#19d3f3\", \"#FF6692\", \"#B6E880\", \"#FF97FF\", \"#FECB52\"], \"font\": {\"color\": \"#2a3f5f\"}, \"geo\": {\"bgcolor\": \"white\", \"lakecolor\": \"white\", \"landcolor\": \"#E5ECF6\", \"showlakes\": true, \"showland\": true, \"subunitcolor\": \"white\"}, \"hoverlabel\": {\"align\": \"left\"}, \"hovermode\": \"closest\", \"mapbox\": {\"style\": \"light\"}, \"paper_bgcolor\": \"white\", \"plot_bgcolor\": \"#E5ECF6\", \"polar\": {\"angularaxis\": {\"gridcolor\": \"white\", \"linecolor\": \"white\", \"ticks\": \"\"}, \"bgcolor\": \"#E5ECF6\", \"radialaxis\": {\"gridcolor\": \"white\", \"linecolor\": \"white\", \"ticks\": \"\"}}, \"scene\": {\"xaxis\": {\"backgroundcolor\": \"#E5ECF6\", \"gridcolor\": \"white\", \"gridwidth\": 2, \"linecolor\": \"white\", \"showbackground\": true, \"ticks\": \"\", \"zerolinecolor\": \"white\"}, \"yaxis\": {\"backgroundcolor\": \"#E5ECF6\", \"gridcolor\": \"white\", \"gridwidth\": 2, \"linecolor\": \"white\", \"showbackground\": true, \"ticks\": \"\", \"zerolinecolor\": \"white\"}, \"zaxis\": {\"backgroundcolor\": \"#E5ECF6\", \"gridcolor\": \"white\", \"gridwidth\": 2, \"linecolor\": \"white\", \"showbackground\": true, \"ticks\": \"\", \"zerolinecolor\": \"white\"}}, \"shapedefaults\": {\"line\": {\"color\": \"#2a3f5f\"}}, \"ternary\": {\"aaxis\": {\"gridcolor\": \"white\", \"linecolor\": \"white\", \"ticks\": \"\"}, \"baxis\": {\"gridcolor\": \"white\", \"linecolor\": \"white\", \"ticks\": \"\"}, \"bgcolor\": \"#E5ECF6\", \"caxis\": {\"gridcolor\": \"white\", \"linecolor\": \"white\", \"ticks\": \"\"}}, \"title\": {\"x\": 0.05}, \"xaxis\": {\"automargin\": true, \"gridcolor\": \"white\", \"linecolor\": \"white\", \"ticks\": \"\", \"title\": {\"standoff\": 15}, \"zerolinecolor\": \"white\", \"zerolinewidth\": 2}, \"yaxis\": {\"automargin\": true, \"gridcolor\": \"white\", \"linecolor\": \"white\", \"ticks\": \"\", \"title\": {\"standoff\": 15}, \"zerolinecolor\": \"white\", \"zerolinewidth\": 2}}}, \"title\": {\"text\": \"Analysis of Trailing Volatility Ratios Agg to LBU\"}, \"width\": 1000, \"xaxis\": {\"title\": {\"text\": \"Year\"}}, \"yaxis\": {\"title\": {\"text\": \"Volatility Ratio\"}}},\n",
       "                        {\"responsive\": true}\n",
       "                    ).then(function(){\n",
       "                            \n",
       "var gd = document.getElementById('7c220308-723c-4ce9-9b3e-02f9b19b572c');\n",
       "var x = new MutationObserver(function (mutations, observer) {{\n",
       "        var display = window.getComputedStyle(gd).display;\n",
       "        if (!display || display === 'none') {{\n",
       "            console.log([gd, 'removed!']);\n",
       "            Plotly.purge(gd);\n",
       "            observer.disconnect();\n",
       "        }}\n",
       "}});\n",
       "\n",
       "// Listen for the removal of the full notebook cells\n",
       "var notebookContainer = gd.closest('#notebook-container');\n",
       "if (notebookContainer) {{\n",
       "    x.observe(notebookContainer, {childList: true});\n",
       "}}\n",
       "\n",
       "// Listen for the clearing of the current output cell\n",
       "var outputEl = gd.closest('.output');\n",
       "if (outputEl) {{\n",
       "    x.observe(outputEl, {childList: true});\n",
       "}}\n",
       "\n",
       "                        })\n",
       "                };\n",
       "                });\n",
       "            </script>\n",
       "        </div>"
      ]
     },
     "metadata": {},
     "output_type": "display_data"
    }
   ],
   "source": [
    "fig = go.Figure() # go object\n",
    "\n",
    "Date = df[\"Date\"]\n",
    "Long = df[\"Long Volatility Ratio\"]\n",
    "Medium = df[\"Medium Volatility Ratio\"]\n",
    "Short = df[\"Short Volatility Ratio\"]\n",
    "\n",
    "fig.add_trace(go.Scatter(x=Date, y=Long, name='Long Volatility Ratio',\n",
    "                         line=dict(color='firebrick', width=3)))\n",
    "fig.add_trace(go.Scatter(x=Date, y=Medium, name='Medium Volatility Ratio',\n",
    "                         line=dict(color='royalblue', width=3,)))\n",
    "fig.add_trace(go.Scatter(x=Date, y=Short, name='Short Volatility Ratio',\n",
    "                         line=dict(color='green', width=3,)))\n",
    "\n",
    "# Edit the layout\n",
    "fig.update_layout(title='Analysis of Trailing Volatility Ratios Agg to LBU',\n",
    "                   xaxis_title='Year',\n",
    "                   yaxis_title='Volatility Ratio', width=1000, height=800,)\n",
    "\n",
    "#px.line(df, x='Date', y='Long Volatility Ratio')\n",
    "#fig = px.line(df, x='Date', y='Medium Volatility Ratio')\n",
    "fig.show()"
   ]
  },
  {
   "cell_type": "code",
   "execution_count": null,
   "metadata": {},
   "outputs": [],
   "source": []
  }
 ],
 "metadata": {
  "kernelspec": {
   "display_name": "Python 3",
   "language": "python",
   "name": "python3"
  },
  "language_info": {
   "codemirror_mode": {
    "name": "ipython",
    "version": 3
   },
   "file_extension": ".py",
   "mimetype": "text/x-python",
   "name": "python",
   "nbconvert_exporter": "python",
   "pygments_lexer": "ipython3",
   "version": "3.7.6"
  }
 },
 "nbformat": 4,
 "nbformat_minor": 4
}
