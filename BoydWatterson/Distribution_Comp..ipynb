{
 "cells": [
  {
   "cell_type": "code",
   "execution_count": 1,
   "metadata": {},
   "outputs": [
    {
     "name": "stdout",
     "output_type": "stream",
     "text": [
      "Populating the interactive namespace from numpy and matplotlib\n"
     ]
    }
   ],
   "source": [
    "import pandas as pd\n",
    "import csv\n",
    "import numpy as np\n",
    "import seaborn as sns\n",
    "sns.set_palette('husl')\n",
    "import matplotlib.pyplot as plt\n",
    "%matplotlib inline\n",
    "%pylab inline"
   ]
  },
  {
   "cell_type": "code",
   "execution_count": 2,
   "metadata": {},
   "outputs": [],
   "source": [
    "import warnings\n",
    "warnings.filterwarnings(\"ignore\")"
   ]
  },
  {
   "cell_type": "code",
   "execution_count": 4,
   "metadata": {},
   "outputs": [],
   "source": [
    "df = pd.read_excel('OAS_with_Returns.xlsx') "
   ]
  },
  {
   "cell_type": "code",
   "execution_count": 5,
   "metadata": {},
   "outputs": [
    {
     "data": {
      "text/html": [
       "<div>\n",
       "<style scoped>\n",
       "    .dataframe tbody tr th:only-of-type {\n",
       "        vertical-align: middle;\n",
       "    }\n",
       "\n",
       "    .dataframe tbody tr th {\n",
       "        vertical-align: top;\n",
       "    }\n",
       "\n",
       "    .dataframe thead th {\n",
       "        text-align: right;\n",
       "    }\n",
       "</style>\n",
       "<table border=\"1\" class=\"dataframe\">\n",
       "  <thead>\n",
       "    <tr style=\"text-align: right;\">\n",
       "      <th></th>\n",
       "      <th>Date</th>\n",
       "      <th>OAS</th>\n",
       "      <th>Total Return % 1-mo-LOC</th>\n",
       "      <th>Agg Returns</th>\n",
       "      <th>Excess Return % 1-mo (Treasury)</th>\n",
       "      <th>Excess Return % 1-mo (Agg)</th>\n",
       "      <th>Excess Return % 3-mo (Treasury)</th>\n",
       "      <th>Excess Return % 3-mo (Agg)</th>\n",
       "      <th>Excess Return % 6-mo (Treasury)</th>\n",
       "      <th>Excess Return % 6-mo (Agg)</th>\n",
       "      <th>Excess Return % 9-mo (Treasury)</th>\n",
       "      <th>Excess Return % 9-mo (Agg)</th>\n",
       "      <th>Excess Return % 12-mo (Treasury)</th>\n",
       "      <th>Excess Return % 12-mo (Agg)</th>\n",
       "    </tr>\n",
       "  </thead>\n",
       "  <tbody>\n",
       "    <tr>\n",
       "      <th>0</th>\n",
       "      <td>1997-01-31</td>\n",
       "      <td>61</td>\n",
       "      <td>0.142</td>\n",
       "      <td>0.3062</td>\n",
       "      <td>0.102</td>\n",
       "      <td>-0.1642</td>\n",
       "      <td>0.437</td>\n",
       "      <td>-0.2998</td>\n",
       "      <td>0.547</td>\n",
       "      <td>0.1361</td>\n",
       "      <td>-0.032</td>\n",
       "      <td>0.9951</td>\n",
       "      <td>-0.790</td>\n",
       "      <td>0.9150</td>\n",
       "    </tr>\n",
       "    <tr>\n",
       "      <th>1</th>\n",
       "      <td>1997-02-28</td>\n",
       "      <td>59</td>\n",
       "      <td>0.255</td>\n",
       "      <td>0.2488</td>\n",
       "      <td>0.234</td>\n",
       "      <td>0.0062</td>\n",
       "      <td>0.229</td>\n",
       "      <td>-0.0155</td>\n",
       "      <td>0.613</td>\n",
       "      <td>1.3050</td>\n",
       "      <td>-0.479</td>\n",
       "      <td>0.8294</td>\n",
       "      <td>-0.779</td>\n",
       "      <td>0.8321</td>\n",
       "    </tr>\n",
       "    <tr>\n",
       "      <th>2</th>\n",
       "      <td>1997-03-31</td>\n",
       "      <td>57</td>\n",
       "      <td>-1.250</td>\n",
       "      <td>-1.1082</td>\n",
       "      <td>0.101</td>\n",
       "      <td>-0.1418</td>\n",
       "      <td>-0.046</td>\n",
       "      <td>-0.0510</td>\n",
       "      <td>0.333</td>\n",
       "      <td>0.6734</td>\n",
       "      <td>-0.718</td>\n",
       "      <td>1.0154</td>\n",
       "      <td>-0.616</td>\n",
       "      <td>1.1263</td>\n",
       "    </tr>\n",
       "    <tr>\n",
       "      <th>3</th>\n",
       "      <td>1997-04-30</td>\n",
       "      <td>59</td>\n",
       "      <td>1.617</td>\n",
       "      <td>1.4969</td>\n",
       "      <td>-0.106</td>\n",
       "      <td>0.1201</td>\n",
       "      <td>0.110</td>\n",
       "      <td>0.4359</td>\n",
       "      <td>0.241</td>\n",
       "      <td>1.1644</td>\n",
       "      <td>-1.019</td>\n",
       "      <td>0.9305</td>\n",
       "      <td>-0.410</td>\n",
       "      <td>0.9952</td>\n",
       "    </tr>\n",
       "    <tr>\n",
       "      <th>4</th>\n",
       "      <td>1997-05-31</td>\n",
       "      <td>61</td>\n",
       "      <td>0.916</td>\n",
       "      <td>0.9453</td>\n",
       "      <td>-0.041</td>\n",
       "      <td>-0.0293</td>\n",
       "      <td>0.384</td>\n",
       "      <td>1.3205</td>\n",
       "      <td>-0.261</td>\n",
       "      <td>1.0106</td>\n",
       "      <td>-0.733</td>\n",
       "      <td>0.8831</td>\n",
       "      <td>-0.248</td>\n",
       "      <td>1.3409</td>\n",
       "    </tr>\n",
       "  </tbody>\n",
       "</table>\n",
       "</div>"
      ],
      "text/plain": [
       "        Date  OAS  Total Return % 1-mo-LOC  Agg Returns  \\\n",
       "0 1997-01-31   61                    0.142       0.3062   \n",
       "1 1997-02-28   59                    0.255       0.2488   \n",
       "2 1997-03-31   57                   -1.250      -1.1082   \n",
       "3 1997-04-30   59                    1.617       1.4969   \n",
       "4 1997-05-31   61                    0.916       0.9453   \n",
       "\n",
       "   Excess Return % 1-mo (Treasury)  Excess Return % 1-mo (Agg)  \\\n",
       "0                            0.102                     -0.1642   \n",
       "1                            0.234                      0.0062   \n",
       "2                            0.101                     -0.1418   \n",
       "3                           -0.106                      0.1201   \n",
       "4                           -0.041                     -0.0293   \n",
       "\n",
       "   Excess Return % 3-mo (Treasury)  Excess Return % 3-mo (Agg)  \\\n",
       "0                            0.437                     -0.2998   \n",
       "1                            0.229                     -0.0155   \n",
       "2                           -0.046                     -0.0510   \n",
       "3                            0.110                      0.4359   \n",
       "4                            0.384                      1.3205   \n",
       "\n",
       "   Excess Return % 6-mo (Treasury)  Excess Return % 6-mo (Agg)  \\\n",
       "0                            0.547                      0.1361   \n",
       "1                            0.613                      1.3050   \n",
       "2                            0.333                      0.6734   \n",
       "3                            0.241                      1.1644   \n",
       "4                           -0.261                      1.0106   \n",
       "\n",
       "   Excess Return % 9-mo (Treasury)  Excess Return % 9-mo (Agg)  \\\n",
       "0                           -0.032                      0.9951   \n",
       "1                           -0.479                      0.8294   \n",
       "2                           -0.718                      1.0154   \n",
       "3                           -1.019                      0.9305   \n",
       "4                           -0.733                      0.8831   \n",
       "\n",
       "   Excess Return % 12-mo (Treasury)  Excess Return % 12-mo (Agg)  \n",
       "0                            -0.790                       0.9150  \n",
       "1                            -0.779                       0.8321  \n",
       "2                            -0.616                       1.1263  \n",
       "3                            -0.410                       0.9952  \n",
       "4                            -0.248                       1.3409  "
      ]
     },
     "execution_count": 5,
     "metadata": {},
     "output_type": "execute_result"
    }
   ],
   "source": [
    "df.head()"
   ]
  },
  {
   "cell_type": "markdown",
   "metadata": {},
   "source": [
    "# OAS to 3 Month Tres. \n",
    "\n",
    "## OAS = Blue"
   ]
  },
  {
   "cell_type": "code",
   "execution_count": 8,
   "metadata": {},
   "outputs": [
    {
     "data": {
      "text/plain": [
       "<matplotlib.axes._subplots.AxesSubplot at 0x1a22da52d0>"
      ]
     },
     "execution_count": 8,
     "metadata": {},
     "output_type": "execute_result"
    },
    {
     "data": {
      "image/png": "[encoded data removed]",
      "text/plain": [
       "<Figure size 1440x288 with 1 Axes>"
      ]
     },
     "metadata": {
      "needs_background": "light"
     },
     "output_type": "display_data"
    }
   ],
   "source": [
    "plt.figure(figsize=(20,4))\n",
    "#OAS to Excess Return % 3-mo (Treasury)\n",
    "sns.distplot(df[\"OAS\"], color=\"skyblue\", label=\"OAS_Normalized_Value\")\n",
    "sns.distplot(df[\"Excess Return % 3-mo (Treasury)\"], color=\"red\", label=\"3M_Tres._Normalized_Value\")\n",
    "\n"
   ]
  },
  {
   "cell_type": "code",
   "execution_count": 9,
   "metadata": {},
   "outputs": [
    {
     "data": {
      "text/plain": [
       "count    277.000000\n",
       "mean       0.142498\n",
       "std        2.719385\n",
       "min      -16.909000\n",
       "25%       -0.641000\n",
       "50%        0.389000\n",
       "75%        1.173000\n",
       "max       13.601000\n",
       "Name: Excess Return % 3-mo (Treasury), dtype: float64"
      ]
     },
     "execution_count": 9,
     "metadata": {},
     "output_type": "execute_result"
    }
   ],
   "source": [
    "df[\"Excess Return % 3-mo (Treasury)\"].describe()"
   ]
  },
  {
   "cell_type": "markdown",
   "metadata": {},
   "source": [
    "# OAS to 3 Month AGG. \n",
    "\n",
    "## OAS = Blue"
   ]
  },
  {
   "cell_type": "code",
   "execution_count": 10,
   "metadata": {},
   "outputs": [
    {
     "data": {
      "text/plain": [
       "<matplotlib.axes._subplots.AxesSubplot at 0x1a223c8790>"
      ]
     },
     "execution_count": 10,
     "metadata": {},
     "output_type": "execute_result"
    },
    {
     "data": {
      "image/png": "[encoded data removed]",
      "text/plain": [
       "<Figure size 1440x288 with 1 Axes>"
      ]
     },
     "metadata": {
      "needs_background": "light"
     },
     "output_type": "display_data"
    }
   ],
   "source": [
    "plt.figure(figsize=(20,4))\n",
    "#OAS to Excess Return % 3-mo (AGG)\n",
    "sns.distplot(df[\"OAS\"], color=\"skyblue\", label=\"OAS_Normalized_Value\")\n",
    "sns.distplot(df[\"Excess Return % 3-mo (Agg)\"], color=\"red\", label=\"3M_AGG_Normalized_Value\")\n"
   ]
  },
  {
   "cell_type": "code",
   "execution_count": 11,
   "metadata": {},
   "outputs": [
    {
     "data": {
      "text/plain": [
       "count    277.000000\n",
       "mean       0.207539\n",
       "std        1.724687\n",
       "min      -11.261500\n",
       "25%       -0.429300\n",
       "50%        0.244300\n",
       "75%        0.860200\n",
       "max        8.681800\n",
       "Name: Excess Return % 3-mo (Agg), dtype: float64"
      ]
     },
     "execution_count": 11,
     "metadata": {},
     "output_type": "execute_result"
    }
   ],
   "source": [
    "df[\"Excess Return % 3-mo (Agg)\"].describe()"
   ]
  },
  {
   "cell_type": "markdown",
   "metadata": {},
   "source": [
    "# OAS to 6 Month Treasury. \n",
    "\n",
    "## OAS = Blue"
   ]
  },
  {
   "cell_type": "code",
   "execution_count": 12,
   "metadata": {},
   "outputs": [
    {
     "data": {
      "text/plain": [
       "<matplotlib.axes._subplots.AxesSubplot at 0x1a22e67710>"
      ]
     },
     "execution_count": 12,
     "metadata": {},
     "output_type": "execute_result"
    },
    {
     "data": {
      "image/png": "[encoded data removed]",
      "text/plain": [
       "<Figure size 1440x288 with 1 Axes>"
      ]
     },
     "metadata": {
      "needs_background": "light"
     },
     "output_type": "display_data"
    }
   ],
   "source": [
    "plt.figure(figsize=(20,4))\n",
    "#OAS to Excess Return % 6-mo (Treasury)\n",
    "sns.distplot(df[\"OAS\"], color=\"skyblue\", label=\"OAS_Normalized_Value\")\n",
    "sns.distplot(df[\"Excess Return % 6-mo (Treasury)\"], color=\"red\", label=\"6M_Tres._Normalized_Value\")\n",
    "\n"
   ]
  },
  {
   "cell_type": "code",
   "execution_count": 13,
   "metadata": {},
   "outputs": [
    {
     "data": {
      "text/plain": [
       "count    274.000000\n",
       "mean       0.337193\n",
       "std        4.019240\n",
       "min      -20.274000\n",
       "25%       -0.851250\n",
       "50%        0.320000\n",
       "75%        2.006500\n",
       "max       19.231000\n",
       "Name: Excess Return % 6-mo (Treasury), dtype: float64"
      ]
     },
     "execution_count": 13,
     "metadata": {},
     "output_type": "execute_result"
    }
   ],
   "source": [
    "df[\"Excess Return % 6-mo (Treasury)\"].describe()"
   ]
  },
  {
   "cell_type": "markdown",
   "metadata": {},
   "source": [
    "# OAS to 6 Month AGG. \n",
    "\n",
    "## OAS = Blue"
   ]
  },
  {
   "cell_type": "code",
   "execution_count": 14,
   "metadata": {},
   "outputs": [
    {
     "data": {
      "text/plain": [
       "<matplotlib.axes._subplots.AxesSubplot at 0x1a23628b10>"
      ]
     },
     "execution_count": 14,
     "metadata": {},
     "output_type": "execute_result"
    },
    {
     "data": {
      "image/png": "[encoded data removed]",
      "text/plain": [
       "<Figure size 1440x288 with 1 Axes>"
      ]
     },
     "metadata": {
      "needs_background": "light"
     },
     "output_type": "display_data"
    }
   ],
   "source": [
    "plt.figure(figsize=(20,4))\n",
    "#OAS to Excess Return % 6-mo (AGG)\n",
    "sns.distplot(df[\"OAS\"], color=\"skyblue\", label=\"OAS_Normalized_Value\")\n",
    "sns.distplot(df[\"Excess Return % 6-mo (Agg)\"], color=\"red\", label=\"6M_AGG_Normalized_Value\")\n"
   ]
  },
  {
   "cell_type": "code",
   "execution_count": 15,
   "metadata": {},
   "outputs": [
    {
     "data": {
      "text/plain": [
       "count    274.000000\n",
       "mean       0.441347\n",
       "std        2.562217\n",
       "min      -12.520800\n",
       "25%       -0.587950\n",
       "50%        0.310550\n",
       "75%        1.465850\n",
       "max       13.096900\n",
       "Name: Excess Return % 6-mo (Agg), dtype: float64"
      ]
     },
     "execution_count": 15,
     "metadata": {},
     "output_type": "execute_result"
    }
   ],
   "source": [
    "df[\"Excess Return % 6-mo (Agg)\"].describe()"
   ]
  },
  {
   "cell_type": "markdown",
   "metadata": {},
   "source": [
    "# OAS to 9 Month Treasury. \n",
    "\n",
    "## OAS = Blue"
   ]
  },
  {
   "cell_type": "code",
   "execution_count": 16,
   "metadata": {},
   "outputs": [
    {
     "data": {
      "text/plain": [
       "<matplotlib.axes._subplots.AxesSubplot at 0x1a237f5890>"
      ]
     },
     "execution_count": 16,
     "metadata": {},
     "output_type": "execute_result"
    },
    {
     "data": {
      "image/png": "[encoded data removed]",
      "text/plain": [
       "<Figure size 1440x288 with 1 Axes>"
      ]
     },
     "metadata": {
      "needs_background": "light"
     },
     "output_type": "display_data"
    }
   ],
   "source": [
    "plt.figure(figsize=(20,4))\n",
    "#OAS to Excess Return % 9-mo (Treasury)\n",
    "sns.distplot(df[\"OAS\"], color=\"skyblue\", label=\"OAS_Normalized_Value\")\n",
    "sns.distplot(df[\"Excess Return % 9-mo (Treasury)\"], color=\"red\", label=\"9M_Tres._Normalized_Value\")\n",
    "\n"
   ]
  },
  {
   "cell_type": "code",
   "execution_count": 17,
   "metadata": {},
   "outputs": [
    {
     "data": {
      "text/plain": [
       "count    270.000000\n",
       "mean       0.518056\n",
       "std        5.008696\n",
       "min      -19.470000\n",
       "25%       -1.281500\n",
       "50%        0.656500\n",
       "75%        2.547250\n",
       "max       22.083000\n",
       "Name: Excess Return % 9-mo (Treasury), dtype: float64"
      ]
     },
     "execution_count": 17,
     "metadata": {},
     "output_type": "execute_result"
    }
   ],
   "source": [
    "df[\"Excess Return % 9-mo (Treasury)\"].describe()"
   ]
  },
  {
   "cell_type": "markdown",
   "metadata": {},
   "source": [
    "# OAS to 9 Month AGG. \n",
    "\n",
    "## OAS = Blue"
   ]
  },
  {
   "cell_type": "code",
   "execution_count": 18,
   "metadata": {},
   "outputs": [
    {
     "data": {
      "text/plain": [
       "<matplotlib.axes._subplots.AxesSubplot at 0x1a23b1c090>"
      ]
     },
     "execution_count": 18,
     "metadata": {},
     "output_type": "execute_result"
    },
    {
     "data": {
      "image/png": "[encoded data removed]",
      "text/plain": [
       "<Figure size 1440x288 with 1 Axes>"
      ]
     },
     "metadata": {
      "needs_background": "light"
     },
     "output_type": "display_data"
    }
   ],
   "source": [
    "plt.figure(figsize=(20,4))\n",
    "#OAS to Excess Return % 9-mo (AGG)\n",
    "sns.distplot(df[\"OAS\"], color=\"skyblue\", label=\"OAS_Normalized_Value\")\n",
    "sns.distplot(df[\"Excess Return % 9-mo (Agg)\"], color=\"red\", label=\"9M_AGG_Normalized_Value\")\n"
   ]
  },
  {
   "cell_type": "code",
   "execution_count": 19,
   "metadata": {},
   "outputs": [
    {
     "data": {
      "text/plain": [
       "count    270.000000\n",
       "mean       0.662590\n",
       "std        3.291367\n",
       "min      -13.475800\n",
       "25%       -0.786450\n",
       "50%        0.536250\n",
       "75%        2.151400\n",
       "max       14.100500\n",
       "Name: Excess Return % 9-mo (Agg), dtype: float64"
      ]
     },
     "execution_count": 19,
     "metadata": {},
     "output_type": "execute_result"
    }
   ],
   "source": [
    "df[\"Excess Return % 9-mo (Agg)\"].describe()"
   ]
  },
  {
   "cell_type": "markdown",
   "metadata": {},
   "source": [
    "# OAS to 12 Month Treasury. \n",
    "\n",
    "## OAS = Blue"
   ]
  },
  {
   "cell_type": "code",
   "execution_count": 20,
   "metadata": {},
   "outputs": [
    {
     "data": {
      "text/plain": [
       "<matplotlib.axes._subplots.AxesSubplot at 0x1a23ca79d0>"
      ]
     },
     "execution_count": 20,
     "metadata": {},
     "output_type": "execute_result"
    },
    {
     "data": {
      "image/png": "[encoded data removed]",
      "text/plain": [
       "<Figure size 1440x288 with 1 Axes>"
      ]
     },
     "metadata": {
      "needs_background": "light"
     },
     "output_type": "display_data"
    }
   ],
   "source": [
    "plt.figure(figsize=(20,4))\n",
    "#OAS to Excess Return % 12-mo (Treasury)\n",
    "sns.distplot(df[\"OAS\"], color=\"skyblue\", label=\"OAS_Normalized_Value\")\n",
    "sns.distplot(df[\"Excess Return % 12-mo (Treasury)\"], color=\"red\", label=\"12M_Tres._Normalized_Value\")\n",
    "\n"
   ]
  },
  {
   "cell_type": "code",
   "execution_count": 21,
   "metadata": {},
   "outputs": [
    {
     "data": {
      "text/plain": [
       "count    267.000000\n",
       "mean       0.705929\n",
       "std        5.660048\n",
       "min      -23.181000\n",
       "25%       -1.459500\n",
       "50%        0.925000\n",
       "75%        3.155500\n",
       "max       23.652000\n",
       "Name: Excess Return % 12-mo (Treasury), dtype: float64"
      ]
     },
     "execution_count": 21,
     "metadata": {},
     "output_type": "execute_result"
    }
   ],
   "source": [
    "df[\"Excess Return % 12-mo (Treasury)\"].describe()"
   ]
  },
  {
   "cell_type": "markdown",
   "metadata": {},
   "source": [
    "# OAS to 12 Month AGG. \n",
    "\n",
    "## OAS = Blue"
   ]
  },
  {
   "cell_type": "code",
   "execution_count": 22,
   "metadata": {},
   "outputs": [
    {
     "data": {
      "text/plain": [
       "<matplotlib.axes._subplots.AxesSubplot at 0x1a23fc5750>"
      ]
     },
     "execution_count": 22,
     "metadata": {},
     "output_type": "execute_result"
    },
    {
     "data": {
      "image/png": "[encoded data removed]",
      "text/plain": [
       "<Figure size 1440x288 with 1 Axes>"
      ]
     },
     "metadata": {
      "needs_background": "light"
     },
     "output_type": "display_data"
    }
   ],
   "source": [
    "plt.figure(figsize=(20,4))\n",
    "#OAS to Excess Return % 12-mo (AGG)\n",
    "sns.distplot(df[\"OAS\"], color=\"skyblue\", label=\"OAS_Normalized_Value\")\n",
    "sns.distplot(df[\"Excess Return % 12-mo (Agg)\"], color=\"red\", label=\"12M_AGG_Normalized_Value\")\n"
   ]
  },
  {
   "cell_type": "code",
   "execution_count": 23,
   "metadata": {},
   "outputs": [
    {
     "data": {
      "text/plain": [
       "count    267.000000\n",
       "mean       0.874353\n",
       "std        3.724763\n",
       "min      -15.229800\n",
       "25%       -0.808200\n",
       "50%        0.798400\n",
       "75%        2.436300\n",
       "max       15.053500\n",
       "Name: Excess Return % 12-mo (Agg), dtype: float64"
      ]
     },
     "execution_count": 23,
     "metadata": {},
     "output_type": "execute_result"
    }
   ],
   "source": [
    "df[\"Excess Return % 12-mo (Agg)\"].describe()"
   ]
  },
  {
   "cell_type": "code",
   "execution_count": null,
   "metadata": {},
   "outputs": [],
   "source": []
  }
 ],
 "metadata": {
  "kernelspec": {
   "display_name": "Python 3",
   "language": "python",
   "name": "python3"
  },
  "language_info": {
   "codemirror_mode": {
    "name": "ipython",
    "version": 3
   },
   "file_extension": ".py",
   "mimetype": "text/x-python",
   "name": "python",
   "nbconvert_exporter": "python",
   "pygments_lexer": "ipython3",
   "version": "3.7.6"
  }
 },
 "nbformat": 4,
 "nbformat_minor": 4
}
