{
 "cells": [
  {
   "cell_type": "code",
   "execution_count": 1,
   "metadata": {},
   "outputs": [],
   "source": [
    "import numpy as np\n",
    "import pandas as pd"
   ]
  },
  {
   "cell_type": "code",
   "execution_count": 2,
   "metadata": {},
   "outputs": [],
   "source": [
    "df_IG = pd.read_excel('minmax_OAS_with_Returns.xlsx', sheet_name=\"IG\") "
   ]
  },
  {
   "cell_type": "code",
   "execution_count": 3,
   "metadata": {},
   "outputs": [
    {
     "data": {
      "text/html": [
       "<div>\n",
       "<style scoped>\n",
       "    .dataframe tbody tr th:only-of-type {\n",
       "        vertical-align: middle;\n",
       "    }\n",
       "\n",
       "    .dataframe tbody tr th {\n",
       "        vertical-align: top;\n",
       "    }\n",
       "\n",
       "    .dataframe thead th {\n",
       "        text-align: right;\n",
       "    }\n",
       "</style>\n",
       "<table border=\"1\" class=\"dataframe\">\n",
       "  <thead>\n",
       "    <tr style=\"text-align: right;\">\n",
       "      <th></th>\n",
       "      <th>OAS</th>\n",
       "      <th>Total Return % 1-mo-LOC</th>\n",
       "      <th>Agg Returns</th>\n",
       "      <th>Excess Return % 1-mo (Treasury)</th>\n",
       "      <th>Excess Return % 1-mo (Agg)</th>\n",
       "      <th>Excess Return % 3-mo (Treasury)</th>\n",
       "      <th>Excess Return % 3-mo (Agg)</th>\n",
       "      <th>Excess Return % 6-mo (Treasury)</th>\n",
       "      <th>Excess Return % 6-mo (Agg)</th>\n",
       "      <th>Excess Return % 9-mo (Treasury)</th>\n",
       "      <th>...</th>\n",
       "      <th>Excess Return % 6-mo (Agg).1</th>\n",
       "      <th>Excess Return % 9-mo (Treasury).1</th>\n",
       "      <th>Excess Return % 9-mo (Agg).1</th>\n",
       "      <th>Excess Return % 12-mo (Treasury).1</th>\n",
       "      <th>Excess Return % 12-mo (Agg).1</th>\n",
       "      <th>Excess Return % 24-mo (Treasury).1</th>\n",
       "      <th>Excess Return % 24-mo (Agg).1</th>\n",
       "      <th>Excess Return % 36-mo (Treasury).1</th>\n",
       "      <th>Excess Return % 36-mo (Agg).1</th>\n",
       "      <th>Quadrant</th>\n",
       "    </tr>\n",
       "  </thead>\n",
       "  <tbody>\n",
       "    <tr>\n",
       "      <th>count</th>\n",
       "      <td>279.000000</td>\n",
       "      <td>279.000000</td>\n",
       "      <td>279.000000</td>\n",
       "      <td>279.00000</td>\n",
       "      <td>279.000000</td>\n",
       "      <td>277.000000</td>\n",
       "      <td>277.000000</td>\n",
       "      <td>274.000000</td>\n",
       "      <td>274.000000</td>\n",
       "      <td>270.000000</td>\n",
       "      <td>...</td>\n",
       "      <td>274.000000</td>\n",
       "      <td>270.000000</td>\n",
       "      <td>270.000000</td>\n",
       "      <td>267.000000</td>\n",
       "      <td>267.000000</td>\n",
       "      <td>257.000000</td>\n",
       "      <td>257.000000</td>\n",
       "      <td>245.000000</td>\n",
       "      <td>245.000000</td>\n",
       "      <td>279.00000</td>\n",
       "    </tr>\n",
       "    <tr>\n",
       "      <th>mean</th>\n",
       "      <td>153.311828</td>\n",
       "      <td>0.479842</td>\n",
       "      <td>0.428779</td>\n",
       "      <td>0.01881</td>\n",
       "      <td>0.051063</td>\n",
       "      <td>0.142498</td>\n",
       "      <td>0.207539</td>\n",
       "      <td>0.337193</td>\n",
       "      <td>0.441347</td>\n",
       "      <td>0.518056</td>\n",
       "      <td>...</td>\n",
       "      <td>0.505984</td>\n",
       "      <td>0.481026</td>\n",
       "      <td>0.512701</td>\n",
       "      <td>0.510045</td>\n",
       "      <td>0.531783</td>\n",
       "      <td>0.536730</td>\n",
       "      <td>0.524591</td>\n",
       "      <td>0.555810</td>\n",
       "      <td>0.535684</td>\n",
       "      <td>2.55914</td>\n",
       "    </tr>\n",
       "    <tr>\n",
       "      <th>std</th>\n",
       "      <td>82.684933</td>\n",
       "      <td>1.539438</td>\n",
       "      <td>0.978524</td>\n",
       "      <td>1.40695</td>\n",
       "      <td>0.907811</td>\n",
       "      <td>2.719385</td>\n",
       "      <td>1.724687</td>\n",
       "      <td>4.019240</td>\n",
       "      <td>2.562217</td>\n",
       "      <td>5.008696</td>\n",
       "      <td>...</td>\n",
       "      <td>0.100017</td>\n",
       "      <td>0.120538</td>\n",
       "      <td>0.119355</td>\n",
       "      <td>0.120856</td>\n",
       "      <td>0.122997</td>\n",
       "      <td>0.134785</td>\n",
       "      <td>0.137815</td>\n",
       "      <td>0.144242</td>\n",
       "      <td>0.152340</td>\n",
       "      <td>1.08418</td>\n",
       "    </tr>\n",
       "    <tr>\n",
       "      <th>min</th>\n",
       "      <td>54.000000</td>\n",
       "      <td>-7.474000</td>\n",
       "      <td>-3.361900</td>\n",
       "      <td>-11.14400</td>\n",
       "      <td>-6.958000</td>\n",
       "      <td>-16.909000</td>\n",
       "      <td>-11.261500</td>\n",
       "      <td>-20.274000</td>\n",
       "      <td>-12.520800</td>\n",
       "      <td>-19.470000</td>\n",
       "      <td>...</td>\n",
       "      <td>0.000000</td>\n",
       "      <td>0.000000</td>\n",
       "      <td>0.000000</td>\n",
       "      <td>0.000000</td>\n",
       "      <td>0.000000</td>\n",
       "      <td>0.000000</td>\n",
       "      <td>0.000000</td>\n",
       "      <td>0.000000</td>\n",
       "      <td>0.000000</td>\n",
       "      <td>1.00000</td>\n",
       "    </tr>\n",
       "    <tr>\n",
       "      <th>25%</th>\n",
       "      <td>106.000000</td>\n",
       "      <td>-0.242500</td>\n",
       "      <td>-0.125750</td>\n",
       "      <td>-0.34750</td>\n",
       "      <td>-0.215700</td>\n",
       "      <td>-0.641000</td>\n",
       "      <td>-0.429300</td>\n",
       "      <td>-0.851250</td>\n",
       "      <td>-0.587950</td>\n",
       "      <td>-1.281500</td>\n",
       "      <td>...</td>\n",
       "      <td>0.465805</td>\n",
       "      <td>0.437718</td>\n",
       "      <td>0.460154</td>\n",
       "      <td>0.463808</td>\n",
       "      <td>0.476223</td>\n",
       "      <td>0.485529</td>\n",
       "      <td>0.463914</td>\n",
       "      <td>0.481230</td>\n",
       "      <td>0.436978</td>\n",
       "      <td>2.00000</td>\n",
       "    </tr>\n",
       "    <tr>\n",
       "      <th>50%</th>\n",
       "      <td>136.000000</td>\n",
       "      <td>0.536000</td>\n",
       "      <td>0.464200</td>\n",
       "      <td>0.13300</td>\n",
       "      <td>0.093700</td>\n",
       "      <td>0.389000</td>\n",
       "      <td>0.244300</td>\n",
       "      <td>0.320000</td>\n",
       "      <td>0.310550</td>\n",
       "      <td>0.656500</td>\n",
       "      <td>...</td>\n",
       "      <td>0.500878</td>\n",
       "      <td>0.484357</td>\n",
       "      <td>0.508119</td>\n",
       "      <td>0.514723</td>\n",
       "      <td>0.529275</td>\n",
       "      <td>0.536254</td>\n",
       "      <td>0.526679</td>\n",
       "      <td>0.575179</td>\n",
       "      <td>0.561777</td>\n",
       "      <td>3.00000</td>\n",
       "    </tr>\n",
       "    <tr>\n",
       "      <th>75%</th>\n",
       "      <td>172.500000</td>\n",
       "      <td>1.299000</td>\n",
       "      <td>1.056350</td>\n",
       "      <td>0.47500</td>\n",
       "      <td>0.391500</td>\n",
       "      <td>1.173000</td>\n",
       "      <td>0.860200</td>\n",
       "      <td>2.006500</td>\n",
       "      <td>1.465850</td>\n",
       "      <td>2.547250</td>\n",
       "      <td>...</td>\n",
       "      <td>0.545976</td>\n",
       "      <td>0.529859</td>\n",
       "      <td>0.566690</td>\n",
       "      <td>0.562349</td>\n",
       "      <td>0.583361</td>\n",
       "      <td>0.585171</td>\n",
       "      <td>0.597708</td>\n",
       "      <td>0.636482</td>\n",
       "      <td>0.624196</td>\n",
       "      <td>3.00000</td>\n",
       "    </tr>\n",
       "    <tr>\n",
       "      <th>max</th>\n",
       "      <td>608.000000</td>\n",
       "      <td>5.554000</td>\n",
       "      <td>3.730900</td>\n",
       "      <td>5.37600</td>\n",
       "      <td>3.609700</td>\n",
       "      <td>13.601000</td>\n",
       "      <td>8.681800</td>\n",
       "      <td>19.231000</td>\n",
       "      <td>13.096900</td>\n",
       "      <td>22.083000</td>\n",
       "      <td>...</td>\n",
       "      <td>1.000000</td>\n",
       "      <td>1.000000</td>\n",
       "      <td>1.000000</td>\n",
       "      <td>1.000000</td>\n",
       "      <td>1.000000</td>\n",
       "      <td>1.000000</td>\n",
       "      <td>1.000000</td>\n",
       "      <td>1.000000</td>\n",
       "      <td>1.000000</td>\n",
       "      <td>4.00000</td>\n",
       "    </tr>\n",
       "  </tbody>\n",
       "</table>\n",
       "<p>8 rows × 36 columns</p>\n",
       "</div>"
      ],
      "text/plain": [
       "              OAS  Total Return % 1-mo-LOC  Agg Returns  \\\n",
       "count  279.000000               279.000000   279.000000   \n",
       "mean   153.311828                 0.479842     0.428779   \n",
       "std     82.684933                 1.539438     0.978524   \n",
       "min     54.000000                -7.474000    -3.361900   \n",
       "25%    106.000000                -0.242500    -0.125750   \n",
       "50%    136.000000                 0.536000     0.464200   \n",
       "75%    172.500000                 1.299000     1.056350   \n",
       "max    608.000000                 5.554000     3.730900   \n",
       "\n",
       "       Excess Return % 1-mo (Treasury)  Excess Return % 1-mo (Agg)  \\\n",
       "count                        279.00000                  279.000000   \n",
       "mean                           0.01881                    0.051063   \n",
       "std                            1.40695                    0.907811   \n",
       "min                          -11.14400                   -6.958000   \n",
       "25%                           -0.34750                   -0.215700   \n",
       "50%                            0.13300                    0.093700   \n",
       "75%                            0.47500                    0.391500   \n",
       "max                            5.37600                    3.609700   \n",
       "\n",
       "       Excess Return % 3-mo (Treasury)  Excess Return % 3-mo (Agg)  \\\n",
       "count                       277.000000                  277.000000   \n",
       "mean                          0.142498                    0.207539   \n",
       "std                           2.719385                    1.724687   \n",
       "min                         -16.909000                  -11.261500   \n",
       "25%                          -0.641000                   -0.429300   \n",
       "50%                           0.389000                    0.244300   \n",
       "75%                           1.173000                    0.860200   \n",
       "max                          13.601000                    8.681800   \n",
       "\n",
       "       Excess Return % 6-mo (Treasury)  Excess Return % 6-mo (Agg)  \\\n",
       "count                       274.000000                  274.000000   \n",
       "mean                          0.337193                    0.441347   \n",
       "std                           4.019240                    2.562217   \n",
       "min                         -20.274000                  -12.520800   \n",
       "25%                          -0.851250                   -0.587950   \n",
       "50%                           0.320000                    0.310550   \n",
       "75%                           2.006500                    1.465850   \n",
       "max                          19.231000                   13.096900   \n",
       "\n",
       "       Excess Return % 9-mo (Treasury)  ...  Excess Return % 6-mo (Agg).1  \\\n",
       "count                       270.000000  ...                    274.000000   \n",
       "mean                          0.518056  ...                      0.505984   \n",
       "std                           5.008696  ...                      0.100017   \n",
       "min                         -19.470000  ...                      0.000000   \n",
       "25%                          -1.281500  ...                      0.465805   \n",
       "50%                           0.656500  ...                      0.500878   \n",
       "75%                           2.547250  ...                      0.545976   \n",
       "max                          22.083000  ...                      1.000000   \n",
       "\n",
       "       Excess Return % 9-mo (Treasury).1  Excess Return % 9-mo (Agg).1  \\\n",
       "count                         270.000000                    270.000000   \n",
       "mean                            0.481026                      0.512701   \n",
       "std                             0.120538                      0.119355   \n",
       "min                             0.000000                      0.000000   \n",
       "25%                             0.437718                      0.460154   \n",
       "50%                             0.484357                      0.508119   \n",
       "75%                             0.529859                      0.566690   \n",
       "max                             1.000000                      1.000000   \n",
       "\n",
       "       Excess Return % 12-mo (Treasury).1  Excess Return % 12-mo (Agg).1  \\\n",
       "count                          267.000000                     267.000000   \n",
       "mean                             0.510045                       0.531783   \n",
       "std                              0.120856                       0.122997   \n",
       "min                              0.000000                       0.000000   \n",
       "25%                              0.463808                       0.476223   \n",
       "50%                              0.514723                       0.529275   \n",
       "75%                              0.562349                       0.583361   \n",
       "max                              1.000000                       1.000000   \n",
       "\n",
       "       Excess Return % 24-mo (Treasury).1  Excess Return % 24-mo (Agg).1  \\\n",
       "count                          257.000000                     257.000000   \n",
       "mean                             0.536730                       0.524591   \n",
       "std                              0.134785                       0.137815   \n",
       "min                              0.000000                       0.000000   \n",
       "25%                              0.485529                       0.463914   \n",
       "50%                              0.536254                       0.526679   \n",
       "75%                              0.585171                       0.597708   \n",
       "max                              1.000000                       1.000000   \n",
       "\n",
       "       Excess Return % 36-mo (Treasury).1  Excess Return % 36-mo (Agg).1  \\\n",
       "count                          245.000000                     245.000000   \n",
       "mean                             0.555810                       0.535684   \n",
       "std                              0.144242                       0.152340   \n",
       "min                              0.000000                       0.000000   \n",
       "25%                              0.481230                       0.436978   \n",
       "50%                              0.575179                       0.561777   \n",
       "75%                              0.636482                       0.624196   \n",
       "max                              1.000000                       1.000000   \n",
       "\n",
       "        Quadrant  \n",
       "count  279.00000  \n",
       "mean     2.55914  \n",
       "std      1.08418  \n",
       "min      1.00000  \n",
       "25%      2.00000  \n",
       "50%      3.00000  \n",
       "75%      3.00000  \n",
       "max      4.00000  \n",
       "\n",
       "[8 rows x 36 columns]"
      ]
     },
     "execution_count": 3,
     "metadata": {},
     "output_type": "execute_result"
    }
   ],
   "source": [
    "df_IG.describe()"
   ]
  },
  {
   "cell_type": "markdown",
   "metadata": {},
   "source": [
    "# Data Creation and Wrangling "
   ]
  },
  {
   "cell_type": "code",
   "execution_count": 4,
   "metadata": {},
   "outputs": [],
   "source": [
    "# This is redundant so we are dropping them\n",
    "df_IG = df_IG.drop(columns = ['Excess Return % 1-mo (Treasury).1','Excess Return % 1-mo (Agg).1','Excess Return % 3-mo (Treasury).1','Excess Return % 3-mo (Agg).1','Excess Return % 6-mo (Treasury).1','Excess Return % 6-mo (Agg).1','Excess Return % 9-mo (Treasury).1','Excess Return % 9-mo (Agg).1','Excess Return % 12-mo (Treasury).1','Excess Return % 12-mo (Agg).1','Excess Return % 24-mo (Treasury).1','Excess Return % 24-mo (Agg).1','Excess Return % 36-mo (Treasury).1','Excess Return % 36-mo (Agg).1','Unnamed: 18','Date.1','OAS.1','Total Return % 1-mo-LOC.1','Agg Returns.1'])\n"
   ]
  },
  {
   "cell_type": "code",
   "execution_count": 5,
   "metadata": {},
   "outputs": [
    {
     "data": {
      "text/plain": [
       "0    0.336\n",
       "1    0.335\n",
       "2   -0.005\n",
       "3   -0.147\n",
       "4    0.216\n",
       "Name: Excess Return % 2-mo (Treasury_), dtype: float64"
      ]
     },
     "execution_count": 5,
     "metadata": {},
     "output_type": "execute_result"
    }
   ],
   "source": [
    "df_IG['Excess Return % 2-mo (Treasury_)'] = df_IG['Excess Return % 1-mo (Treasury)'].rolling(2,win_type='boxcar',center=True).sum().shift(-1)\n",
    "df_IG[\"Excess Return % 2-mo (Treasury_)\"].head()"
   ]
  },
  {
   "cell_type": "code",
   "execution_count": 6,
   "metadata": {},
   "outputs": [
    {
     "data": {
      "text/plain": [
       "0    0.437\n",
       "1    0.229\n",
       "2   -0.046\n",
       "3    0.110\n",
       "4    0.384\n",
       "Name: Excess Return % 3-mo (Treasury_), dtype: float64"
      ]
     },
     "execution_count": 6,
     "metadata": {},
     "output_type": "execute_result"
    }
   ],
   "source": [
    "df_IG['Excess Return % 3-mo (Treasury_)'] = df_IG['Excess Return % 1-mo (Treasury)'].rolling(3,win_type='boxcar',center=True).sum().shift(-1)\n",
    "df_IG[\"Excess Return % 3-mo (Treasury_)\"].head()"
   ]
  },
  {
   "cell_type": "code",
   "execution_count": 7,
   "metadata": {},
   "outputs": [
    {
     "data": {
      "text/plain": [
       "0    0.331\n",
       "1    0.188\n",
       "2    0.211\n",
       "3    0.278\n",
       "4    0.338\n",
       "Name: Excess Return % 4-mo (Treasury_), dtype: float64"
      ]
     },
     "execution_count": 7,
     "metadata": {},
     "output_type": "execute_result"
    }
   ],
   "source": [
    "df_IG['Excess Return % 4-mo (Treasury_)'] = df_IG['Excess Return % 1-mo (Treasury)'].rolling(4,win_type='boxcar',center=True).sum().shift(-2)\n",
    "df_IG[\"Excess Return % 4-mo (Treasury_)\"].head()"
   ]
  },
  {
   "cell_type": "code",
   "execution_count": 8,
   "metadata": {},
   "outputs": [
    {
     "data": {
      "text/plain": [
       "0    0.290\n",
       "1    0.445\n",
       "2    0.379\n",
       "3    0.232\n",
       "4    0.347\n",
       "Name: Excess Return % 5-mo (Treasury_), dtype: float64"
      ]
     },
     "execution_count": 8,
     "metadata": {},
     "output_type": "execute_result"
    }
   ],
   "source": [
    "df_IG['Excess Return % 5-mo (Treasury_)'] = df_IG['Excess Return % 1-mo (Treasury)'].rolling(5,win_type='boxcar',center=True).sum().shift(-2)\n",
    "df_IG[\"Excess Return % 5-mo (Treasury_)\"].head()"
   ]
  },
  {
   "cell_type": "code",
   "execution_count": 9,
   "metadata": {},
   "outputs": [
    {
     "data": {
      "text/plain": [
       "0    0.547\n",
       "1    0.613\n",
       "2    0.333\n",
       "3    0.241\n",
       "4   -0.261\n",
       "Name: Excess Return % 6-mo (Treasury_), dtype: float64"
      ]
     },
     "execution_count": 9,
     "metadata": {},
     "output_type": "execute_result"
    }
   ],
   "source": [
    "df_IG['Excess Return % 6-mo (Treasury_)'] = df_IG['Excess Return % 1-mo (Treasury)'].rolling(6,win_type='boxcar',center=True).sum().shift(-3)\n",
    "df_IG[\"Excess Return % 6-mo (Treasury_)\"].head()"
   ]
  },
  {
   "cell_type": "code",
   "execution_count": 10,
   "metadata": {},
   "outputs": [
    {
     "data": {
      "text/plain": [
       "0    0.715\n",
       "1    0.567\n",
       "2    0.342\n",
       "3   -0.367\n",
       "4   -0.474\n",
       "Name: Excess Return % 7-mo (Treasury_), dtype: float64"
      ]
     },
     "execution_count": 10,
     "metadata": {},
     "output_type": "execute_result"
    }
   ],
   "source": [
    "df_IG['Excess Return % 7-mo (Treasury_)'] = df_IG['Excess Return % 1-mo (Treasury)'].rolling(7,win_type='boxcar',center=True).sum().shift(-3)\n",
    "df_IG[\"Excess Return % 7-mo (Treasury_)\"].head()"
   ]
  },
  {
   "cell_type": "code",
   "execution_count": 11,
   "metadata": {},
   "outputs": [
    {
     "data": {
      "text/plain": [
       "0    0.669\n",
       "1    0.576\n",
       "2   -0.266\n",
       "3   -0.580\n",
       "4   -0.612\n",
       "Name: Excess Return % 8-mo (Treasury_), dtype: float64"
      ]
     },
     "execution_count": 11,
     "metadata": {},
     "output_type": "execute_result"
    }
   ],
   "source": [
    "df_IG['Excess Return % 8-mo (Treasury_)'] = df_IG['Excess Return % 1-mo (Treasury)'].rolling(8,win_type='boxcar',center=True).sum().shift(-4)\n",
    "df_IG[\"Excess Return % 8-mo (Treasury_)\"].head()"
   ]
  },
  {
   "cell_type": "code",
   "execution_count": 12,
   "metadata": {},
   "outputs": [
    {
     "data": {
      "text/plain": [
       "0    0.678\n",
       "1   -0.032\n",
       "2   -0.479\n",
       "3   -0.718\n",
       "4   -1.019\n",
       "Name: Excess Return % 9-mo (Treasury_), dtype: float64"
      ]
     },
     "execution_count": 12,
     "metadata": {},
     "output_type": "execute_result"
    }
   ],
   "source": [
    "df_IG['Excess Return % 9-mo (Treasury_)'] = df_IG['Excess Return % 1-mo (Treasury)'].rolling(9,win_type='boxcar',center=True).sum().shift(-4)\n",
    "df_IG[\"Excess Return % 9-mo (Treasury_)\"].head()\n"
   ]
  },
  {
   "cell_type": "code",
   "execution_count": 13,
   "metadata": {},
   "outputs": [
    {
     "data": {
      "text/plain": [
       "0    0.070\n",
       "1   -0.245\n",
       "2   -0.617\n",
       "3   -1.125\n",
       "4   -0.774\n",
       "Name: Excess Return % 10-mo (Treasury_), dtype: float64"
      ]
     },
     "execution_count": 13,
     "metadata": {},
     "output_type": "execute_result"
    }
   ],
   "source": [
    "df_IG['Excess Return % 10-mo (Treasury_)'] = df_IG['Excess Return % 1-mo (Treasury)'].rolling(10,win_type='boxcar',center=True).sum().shift(-5)\n",
    "df_IG[\"Excess Return % 10-mo (Treasury_)\"].head()"
   ]
  },
  {
   "cell_type": "code",
   "execution_count": 14,
   "metadata": {},
   "outputs": [
    {
     "data": {
      "text/plain": [
       "0   -0.143\n",
       "1   -0.383\n",
       "2   -1.024\n",
       "3   -0.880\n",
       "4   -0.510\n",
       "Name: Excess Return % 11-mo (Treasury_), dtype: float64"
      ]
     },
     "execution_count": 14,
     "metadata": {},
     "output_type": "execute_result"
    }
   ],
   "source": [
    "df_IG['Excess Return % 11-mo (Treasury_)'] = df_IG['Excess Return % 1-mo (Treasury)'].rolling(11,win_type='boxcar',center=True).sum().shift(-5)\n",
    "df_IG[\"Excess Return % 11-mo (Treasury_)\"].head()"
   ]
  },
  {
   "cell_type": "code",
   "execution_count": 15,
   "metadata": {},
   "outputs": [
    {
     "data": {
      "text/plain": [
       "0   -0.281\n",
       "1   -0.790\n",
       "2   -0.779\n",
       "3   -0.616\n",
       "4   -0.410\n",
       "Name: Excess Return % 12-mo (Treasury_), dtype: float64"
      ]
     },
     "execution_count": 15,
     "metadata": {},
     "output_type": "execute_result"
    }
   ],
   "source": [
    "df_IG['Excess Return % 12-mo (Treasury_)'] = df_IG['Excess Return % 1-mo (Treasury)'].rolling(12,win_type='boxcar',center=True).sum().shift(-6)\n",
    "df_IG[\"Excess Return % 12-mo (Treasury_)\"].head()"
   ]
  },
  {
   "cell_type": "code",
   "execution_count": 16,
   "metadata": {},
   "outputs": [
    {
     "data": {
      "text/plain": [
       "0   -0.688\n",
       "1   -0.545\n",
       "2   -0.515\n",
       "3   -0.516\n",
       "4   -0.289\n",
       "Name: Excess Return % 13-mo (Treasury_), dtype: float64"
      ]
     },
     "execution_count": 16,
     "metadata": {},
     "output_type": "execute_result"
    }
   ],
   "source": [
    "df_IG['Excess Return % 13-mo (Treasury_)'] = df_IG['Excess Return % 1-mo (Treasury)'].rolling(13,win_type='boxcar',center=True).sum().shift(-6)\n",
    "df_IG[\"Excess Return % 13-mo (Treasury_)\"].head()"
   ]
  },
  {
   "cell_type": "code",
   "execution_count": 17,
   "metadata": {},
   "outputs": [
    {
     "data": {
      "text/plain": [
       "0   -0.443\n",
       "1   -0.281\n",
       "2   -0.415\n",
       "3   -0.395\n",
       "4   -0.547\n",
       "Name: Excess Return % 14-mo (Treasury_), dtype: float64"
      ]
     },
     "execution_count": 17,
     "metadata": {},
     "output_type": "execute_result"
    }
   ],
   "source": [
    "df_IG['Excess Return % 14-mo (Treasury_)'] = df_IG['Excess Return % 1-mo (Treasury)'].rolling(14,win_type='boxcar',center=True).sum().shift(-7)\n",
    "df_IG[\"Excess Return % 14-mo (Treasury_)\"].head()"
   ]
  },
  {
   "cell_type": "code",
   "execution_count": 18,
   "metadata": {},
   "outputs": [
    {
     "data": {
      "text/plain": [
       "0   -0.179\n",
       "1   -0.181\n",
       "2   -0.294\n",
       "3   -0.653\n",
       "4   -0.896\n",
       "Name: Excess Return % 15-mo (Treasury_), dtype: float64"
      ]
     },
     "execution_count": 18,
     "metadata": {},
     "output_type": "execute_result"
    }
   ],
   "source": [
    "df_IG['Excess Return % 15-mo (Treasury_)'] = df_IG['Excess Return % 1-mo (Treasury)'].rolling(15,win_type='boxcar',center=True).sum().shift(-7)\n",
    "df_IG[\"Excess Return % 15-mo (Treasury_)\"].head()"
   ]
  },
  {
   "cell_type": "code",
   "execution_count": 19,
   "metadata": {},
   "outputs": [
    {
     "data": {
      "text/plain": [
       "0   -0.079\n",
       "1   -0.060\n",
       "2   -0.552\n",
       "3   -1.002\n",
       "4   -3.896\n",
       "Name: Excess Return % 16-mo (Treasury_), dtype: float64"
      ]
     },
     "execution_count": 19,
     "metadata": {},
     "output_type": "execute_result"
    }
   ],
   "source": [
    "df_IG['Excess Return % 16-mo (Treasury_)'] = df_IG['Excess Return % 1-mo (Treasury)'].rolling(16,win_type='boxcar',center=True).sum().shift(-8)\n",
    "df_IG[\"Excess Return % 16-mo (Treasury_)\"].head()"
   ]
  },
  {
   "cell_type": "code",
   "execution_count": 20,
   "metadata": {},
   "outputs": [
    {
     "data": {
      "text/plain": [
       "0    0.042\n",
       "1   -0.318\n",
       "2   -0.901\n",
       "3   -4.002\n",
       "4   -3.953\n",
       "Name: Excess Return % 17-mo (Treasury_), dtype: float64"
      ]
     },
     "execution_count": 20,
     "metadata": {},
     "output_type": "execute_result"
    }
   ],
   "source": [
    "df_IG['Excess Return % 17-mo (Treasury_)'] = df_IG['Excess Return % 1-mo (Treasury)'].rolling(17,win_type='boxcar',center=True).sum().shift(-8)\n",
    "df_IG[\"Excess Return % 17-mo (Treasury_)\"].head()"
   ]
  },
  {
   "cell_type": "code",
   "execution_count": 21,
   "metadata": {},
   "outputs": [
    {
     "data": {
      "text/plain": [
       "0   -0.216\n",
       "1   -0.667\n",
       "2   -3.901\n",
       "3   -4.059\n",
       "4   -4.726\n",
       "Name: Excess Return % 18-mo (Treasury_), dtype: float64"
      ]
     },
     "execution_count": 21,
     "metadata": {},
     "output_type": "execute_result"
    }
   ],
   "source": [
    "df_IG['Excess Return % 18-mo (Treasury_)'] = df_IG['Excess Return % 1-mo (Treasury)'].rolling(18,win_type='boxcar',center=True).sum().shift(-9)\n",
    "df_IG[\"Excess Return % 18-mo (Treasury_)\"].head()"
   ]
  },
  {
   "cell_type": "code",
   "execution_count": 22,
   "metadata": {},
   "outputs": [
    {
     "data": {
      "text/plain": [
       "0   -0.565\n",
       "1   -3.667\n",
       "2   -3.958\n",
       "3   -4.832\n",
       "4   -3.064\n",
       "Name: Excess Return % 19-mo (Treasury_), dtype: float64"
      ]
     },
     "execution_count": 22,
     "metadata": {},
     "output_type": "execute_result"
    }
   ],
   "source": [
    "df_IG['Excess Return % 19-mo (Treasury_)'] = df_IG['Excess Return % 1-mo (Treasury)'].rolling(19,win_type='boxcar',center=True).sum().shift(-9)\n",
    "df_IG[\"Excess Return % 19-mo (Treasury_)\"].head()"
   ]
  },
  {
   "cell_type": "code",
   "execution_count": 23,
   "metadata": {},
   "outputs": [
    {
     "data": {
      "text/plain": [
       "0   -3.565\n",
       "1   -3.724\n",
       "2   -4.731\n",
       "3   -3.170\n",
       "4   -2.669\n",
       "Name: Excess Return % 20-mo (Treasury_), dtype: float64"
      ]
     },
     "execution_count": 23,
     "metadata": {},
     "output_type": "execute_result"
    }
   ],
   "source": [
    "df_IG['Excess Return % 20-mo (Treasury_)'] = df_IG['Excess Return % 1-mo (Treasury)'].rolling(20,win_type='boxcar',center=True).sum().shift(-10)\n",
    "df_IG[\"Excess Return % 20-mo (Treasury_)\"].head()"
   ]
  },
  {
   "cell_type": "code",
   "execution_count": 24,
   "metadata": {},
   "outputs": [
    {
     "data": {
      "text/plain": [
       "0   -3.622\n",
       "1   -4.497\n",
       "2   -3.069\n",
       "3   -2.775\n",
       "4   -2.350\n",
       "Name: Excess Return % 21-mo (Treasury_), dtype: float64"
      ]
     },
     "execution_count": 24,
     "metadata": {},
     "output_type": "execute_result"
    }
   ],
   "source": [
    "df_IG['Excess Return % 21-mo (Treasury_)'] = df_IG['Excess Return % 1-mo (Treasury)'].rolling(21,win_type='boxcar',center=True).sum().shift(-10)\n",
    "df_IG[\"Excess Return % 21-mo (Treasury_)\"].head()"
   ]
  },
  {
   "cell_type": "code",
   "execution_count": 25,
   "metadata": {},
   "outputs": [
    {
     "data": {
      "text/plain": [
       "0   -4.395\n",
       "1   -2.835\n",
       "2   -2.674\n",
       "3   -2.456\n",
       "4   -1.891\n",
       "Name: Excess Return % 22-mo (Treasury_), dtype: float64"
      ]
     },
     "execution_count": 25,
     "metadata": {},
     "output_type": "execute_result"
    }
   ],
   "source": [
    "df_IG['Excess Return % 22-mo (Treasury_)'] = df_IG['Excess Return % 1-mo (Treasury)'].rolling(22,win_type='boxcar',center=True).sum().shift(-11)\n",
    "df_IG[\"Excess Return % 22-mo (Treasury_)\"].head()"
   ]
  },
  {
   "cell_type": "code",
   "execution_count": 26,
   "metadata": {},
   "outputs": [
    {
     "data": {
      "text/plain": [
       "0   -2.733\n",
       "1   -2.440\n",
       "2   -2.355\n",
       "3   -1.997\n",
       "4   -1.453\n",
       "Name: Excess Return % 23-mo (Treasury_), dtype: float64"
      ]
     },
     "execution_count": 26,
     "metadata": {},
     "output_type": "execute_result"
    }
   ],
   "source": [
    "df_IG['Excess Return % 23-mo (Treasury_)'] = df_IG['Excess Return % 1-mo (Treasury)'].rolling(23,win_type='boxcar',center=True).sum().shift(-11)\n",
    "df_IG[\"Excess Return % 23-mo (Treasury_)\"].head()"
   ]
  },
  {
   "cell_type": "code",
   "execution_count": 27,
   "metadata": {},
   "outputs": [
    {
     "data": {
      "text/plain": [
       "0   -2.338\n",
       "1   -2.121\n",
       "2   -1.896\n",
       "3   -1.559\n",
       "4   -1.452\n",
       "Name: Excess Return % 24-mo (Treasury_), dtype: float64"
      ]
     },
     "execution_count": 27,
     "metadata": {},
     "output_type": "execute_result"
    }
   ],
   "source": [
    "df_IG['Excess Return % 24-mo (Treasury_)'] = df_IG['Excess Return % 1-mo (Treasury)'].rolling(24,win_type='boxcar',center=True).sum().shift(-12)\n",
    "df_IG[\"Excess Return % 24-mo (Treasury_)\"].head()"
   ]
  },
  {
   "cell_type": "code",
   "execution_count": 28,
   "metadata": {},
   "outputs": [
    {
     "data": {
      "text/plain": [
       "0   -2.019\n",
       "1   -1.662\n",
       "2   -1.458\n",
       "3   -1.558\n",
       "4   -1.644\n",
       "Name: Excess Return % 25-mo (Treasury_), dtype: float64"
      ]
     },
     "execution_count": 28,
     "metadata": {},
     "output_type": "execute_result"
    }
   ],
   "source": [
    "df_IG['Excess Return % 25-mo (Treasury_)'] = df_IG['Excess Return % 1-mo (Treasury)'].rolling(25,win_type='boxcar',center=True).sum().shift(-12)\n",
    "df_IG[\"Excess Return % 25-mo (Treasury_)\"].head()"
   ]
  },
  {
   "cell_type": "code",
   "execution_count": 29,
   "metadata": {},
   "outputs": [
    {
     "data": {
      "text/plain": [
       "0   -1.560\n",
       "1   -1.224\n",
       "2   -1.457\n",
       "3   -1.750\n",
       "4   -1.971\n",
       "Name: Excess Return % 26-mo (Treasury_), dtype: float64"
      ]
     },
     "execution_count": 29,
     "metadata": {},
     "output_type": "execute_result"
    }
   ],
   "source": [
    "df_IG['Excess Return % 26-mo (Treasury_)'] = df_IG['Excess Return % 1-mo (Treasury)'].rolling(26,win_type='boxcar',center=True).sum().shift(-13)\n",
    "df_IG[\"Excess Return % 26-mo (Treasury_)\"].head()"
   ]
  },
  {
   "cell_type": "code",
   "execution_count": 30,
   "metadata": {},
   "outputs": [
    {
     "data": {
      "text/plain": [
       "0   -1.122\n",
       "1   -1.223\n",
       "2   -1.649\n",
       "3   -2.077\n",
       "4   -2.301\n",
       "Name: Excess Return % 27-mo (Treasury_), dtype: float64"
      ]
     },
     "execution_count": 30,
     "metadata": {},
     "output_type": "execute_result"
    }
   ],
   "source": [
    "df_IG['Excess Return % 27-mo (Treasury_)'] = df_IG['Excess Return % 1-mo (Treasury)'].rolling(27,win_type='boxcar',center=True).sum().shift(-13)\n",
    "df_IG[\"Excess Return % 27-mo (Treasury_)\"].head()"
   ]
  },
  {
   "cell_type": "code",
   "execution_count": 31,
   "metadata": {},
   "outputs": [
    {
     "data": {
      "text/plain": [
       "0   -1.121\n",
       "1   -1.415\n",
       "2   -1.976\n",
       "3   -2.407\n",
       "4   -2.591\n",
       "Name: Excess Return % 28-mo (Treasury_), dtype: float64"
      ]
     },
     "execution_count": 31,
     "metadata": {},
     "output_type": "execute_result"
    }
   ],
   "source": [
    "df_IG['Excess Return % 28-mo (Treasury_)'] = df_IG['Excess Return % 1-mo (Treasury)'].rolling(28,win_type='boxcar',center=True).sum().shift(-14)\n",
    "df_IG[\"Excess Return % 28-mo (Treasury_)\"].head()"
   ]
  },
  {
   "cell_type": "code",
   "execution_count": 32,
   "metadata": {},
   "outputs": [
    {
     "data": {
      "text/plain": [
       "0   -1.313\n",
       "1   -1.742\n",
       "2   -2.306\n",
       "3   -2.697\n",
       "4   -2.232\n",
       "Name: Excess Return % 29-mo (Treasury_), dtype: float64"
      ]
     },
     "execution_count": 32,
     "metadata": {},
     "output_type": "execute_result"
    }
   ],
   "source": [
    "df_IG['Excess Return % 29-mo (Treasury_)'] = df_IG['Excess Return % 1-mo (Treasury)'].rolling(29,win_type='boxcar',center=True).sum().shift(-14)\n",
    "df_IG[\"Excess Return % 29-mo (Treasury_)\"].head()"
   ]
  },
  {
   "cell_type": "code",
   "execution_count": 33,
   "metadata": {},
   "outputs": [
    {
     "data": {
      "text/plain": [
       "0   -1.640\n",
       "1   -2.072\n",
       "2   -2.596\n",
       "3   -2.338\n",
       "4   -1.984\n",
       "Name: Excess Return % 30-mo (Treasury_), dtype: float64"
      ]
     },
     "execution_count": 33,
     "metadata": {},
     "output_type": "execute_result"
    }
   ],
   "source": [
    "df_IG['Excess Return % 30-mo (Treasury_)'] = df_IG['Excess Return % 1-mo (Treasury)'].rolling(30,win_type='boxcar',center=True).sum().shift(-15)\n",
    "df_IG[\"Excess Return % 30-mo (Treasury_)\"].head()"
   ]
  },
  {
   "cell_type": "code",
   "execution_count": 34,
   "metadata": {},
   "outputs": [
    {
     "data": {
      "text/plain": [
       "0   -1.970\n",
       "1   -2.362\n",
       "2   -2.237\n",
       "3   -2.090\n",
       "4   -1.470\n",
       "Name: Excess Return % 31-mo (Treasury_), dtype: float64"
      ]
     },
     "execution_count": 34,
     "metadata": {},
     "output_type": "execute_result"
    }
   ],
   "source": [
    "df_IG['Excess Return % 31-mo (Treasury_)'] = df_IG['Excess Return % 1-mo (Treasury)'].rolling(31,win_type='boxcar',center=True).sum().shift(-15)\n",
    "df_IG[\"Excess Return % 31-mo (Treasury_)\"].head()"
   ]
  },
  {
   "cell_type": "code",
   "execution_count": 35,
   "metadata": {},
   "outputs": [
    {
     "data": {
      "text/plain": [
       "0   -2.260\n",
       "1   -2.003\n",
       "2   -1.989\n",
       "3   -1.576\n",
       "4   -1.282\n",
       "Name: Excess Return % 32-mo (Treasury_), dtype: float64"
      ]
     },
     "execution_count": 35,
     "metadata": {},
     "output_type": "execute_result"
    }
   ],
   "source": [
    "df_IG['Excess Return % 32-mo (Treasury_)'] = df_IG['Excess Return % 1-mo (Treasury)'].rolling(32,win_type='boxcar',center=True).sum().shift(-16)\n",
    "df_IG[\"Excess Return % 32-mo (Treasury_)\"].head()"
   ]
  },
  {
   "cell_type": "code",
   "execution_count": 36,
   "metadata": {},
   "outputs": [
    {
     "data": {
      "text/plain": [
       "0   -1.901\n",
       "1   -1.755\n",
       "2   -1.475\n",
       "3   -1.388\n",
       "4   -1.737\n",
       "Name: Excess Return % 33-mo (Treasury_), dtype: float64"
      ]
     },
     "execution_count": 36,
     "metadata": {},
     "output_type": "execute_result"
    }
   ],
   "source": [
    "df_IG['Excess Return % 33-mo (Treasury_)'] = df_IG['Excess Return % 1-mo (Treasury)'].rolling(33,win_type='boxcar',center=True).sum().shift(-16)\n",
    "df_IG[\"Excess Return % 33-mo (Treasury_)\"].head()"
   ]
  },
  {
   "cell_type": "code",
   "execution_count": 37,
   "metadata": {},
   "outputs": [
    {
     "data": {
      "text/plain": [
       "0   -1.653\n",
       "1   -1.241\n",
       "2   -1.287\n",
       "3   -1.843\n",
       "4   -2.316\n",
       "Name: Excess Return % 34-mo (Treasury_), dtype: float64"
      ]
     },
     "execution_count": 37,
     "metadata": {},
     "output_type": "execute_result"
    }
   ],
   "source": [
    "df_IG['Excess Return % 34-mo (Treasury_)'] = df_IG['Excess Return % 1-mo (Treasury)'].rolling(34,win_type='boxcar',center=True).sum().shift(-17)\n",
    "df_IG[\"Excess Return % 34-mo (Treasury_)\"].head()"
   ]
  },
  {
   "cell_type": "code",
   "execution_count": 38,
   "metadata": {},
   "outputs": [
    {
     "data": {
      "text/plain": [
       "0   -1.139\n",
       "1   -1.053\n",
       "2   -1.742\n",
       "3   -2.422\n",
       "4   -3.393\n",
       "Name: Excess Return % 35-mo (Treasury_), dtype: float64"
      ]
     },
     "execution_count": 38,
     "metadata": {},
     "output_type": "execute_result"
    }
   ],
   "source": [
    "df_IG['Excess Return % 35-mo (Treasury_)'] = df_IG['Excess Return % 1-mo (Treasury)'].rolling(35,win_type='boxcar',center=True).sum().shift(-17)\n",
    "df_IG[\"Excess Return % 35-mo (Treasury_)\"].head()"
   ]
  },
  {
   "cell_type": "code",
   "execution_count": 39,
   "metadata": {},
   "outputs": [
    {
     "data": {
      "text/plain": [
       "0   -0.951\n",
       "1   -1.508\n",
       "2   -2.321\n",
       "3   -3.499\n",
       "4   -4.230\n",
       "Name: Excess Return % 36-mo (Treasury_), dtype: float64"
      ]
     },
     "execution_count": 39,
     "metadata": {},
     "output_type": "execute_result"
    }
   ],
   "source": [
    "df_IG['Excess Return % 36-mo (Treasury_)'] = df_IG['Excess Return % 1-mo (Treasury)'].rolling(36,win_type='boxcar',center=True).sum().shift(-18)\n",
    "df_IG[\"Excess Return % 36-mo (Treasury_)\"].head()"
   ]
  },
  {
   "cell_type": "code",
   "execution_count": 40,
   "metadata": {},
   "outputs": [
    {
     "data": {
      "text/html": [
       "<div>\n",
       "<style scoped>\n",
       "    .dataframe tbody tr th:only-of-type {\n",
       "        vertical-align: middle;\n",
       "    }\n",
       "\n",
       "    .dataframe tbody tr th {\n",
       "        vertical-align: top;\n",
       "    }\n",
       "\n",
       "    .dataframe thead th {\n",
       "        text-align: right;\n",
       "    }\n",
       "</style>\n",
       "<table border=\"1\" class=\"dataframe\">\n",
       "  <thead>\n",
       "    <tr style=\"text-align: right;\">\n",
       "      <th></th>\n",
       "      <th>Date</th>\n",
       "      <th>OAS</th>\n",
       "      <th>Total Return % 1-mo-LOC</th>\n",
       "      <th>Agg Returns</th>\n",
       "      <th>Excess Return % 1-mo (Treasury)</th>\n",
       "      <th>Excess Return % 1-mo (Agg)</th>\n",
       "      <th>Excess Return % 3-mo (Treasury)</th>\n",
       "      <th>Excess Return % 3-mo (Agg)</th>\n",
       "      <th>Excess Return % 6-mo (Treasury)</th>\n",
       "      <th>Excess Return % 6-mo (Agg)</th>\n",
       "      <th>...</th>\n",
       "      <th>Excess Return % 27-mo (Treasury_)</th>\n",
       "      <th>Excess Return % 28-mo (Treasury_)</th>\n",
       "      <th>Excess Return % 29-mo (Treasury_)</th>\n",
       "      <th>Excess Return % 30-mo (Treasury_)</th>\n",
       "      <th>Excess Return % 31-mo (Treasury_)</th>\n",
       "      <th>Excess Return % 32-mo (Treasury_)</th>\n",
       "      <th>Excess Return % 33-mo (Treasury_)</th>\n",
       "      <th>Excess Return % 34-mo (Treasury_)</th>\n",
       "      <th>Excess Return % 35-mo (Treasury_)</th>\n",
       "      <th>Excess Return % 36-mo (Treasury_)</th>\n",
       "    </tr>\n",
       "  </thead>\n",
       "  <tbody>\n",
       "    <tr>\n",
       "      <th>0</th>\n",
       "      <td>1997-01-31</td>\n",
       "      <td>61</td>\n",
       "      <td>0.142</td>\n",
       "      <td>0.3062</td>\n",
       "      <td>0.102</td>\n",
       "      <td>-0.1642</td>\n",
       "      <td>0.437</td>\n",
       "      <td>-0.2998</td>\n",
       "      <td>0.547</td>\n",
       "      <td>0.1361</td>\n",
       "      <td>...</td>\n",
       "      <td>-1.122</td>\n",
       "      <td>-1.121</td>\n",
       "      <td>-1.313</td>\n",
       "      <td>-1.640</td>\n",
       "      <td>-1.970</td>\n",
       "      <td>-2.260</td>\n",
       "      <td>-1.901</td>\n",
       "      <td>-1.653</td>\n",
       "      <td>-1.139</td>\n",
       "      <td>-0.951</td>\n",
       "    </tr>\n",
       "    <tr>\n",
       "      <th>1</th>\n",
       "      <td>1997-02-28</td>\n",
       "      <td>59</td>\n",
       "      <td>0.255</td>\n",
       "      <td>0.2488</td>\n",
       "      <td>0.234</td>\n",
       "      <td>0.0062</td>\n",
       "      <td>0.229</td>\n",
       "      <td>-0.0155</td>\n",
       "      <td>0.613</td>\n",
       "      <td>1.3050</td>\n",
       "      <td>...</td>\n",
       "      <td>-1.223</td>\n",
       "      <td>-1.415</td>\n",
       "      <td>-1.742</td>\n",
       "      <td>-2.072</td>\n",
       "      <td>-2.362</td>\n",
       "      <td>-2.003</td>\n",
       "      <td>-1.755</td>\n",
       "      <td>-1.241</td>\n",
       "      <td>-1.053</td>\n",
       "      <td>-1.508</td>\n",
       "    </tr>\n",
       "    <tr>\n",
       "      <th>2</th>\n",
       "      <td>1997-03-31</td>\n",
       "      <td>57</td>\n",
       "      <td>-1.250</td>\n",
       "      <td>-1.1082</td>\n",
       "      <td>0.101</td>\n",
       "      <td>-0.1418</td>\n",
       "      <td>-0.046</td>\n",
       "      <td>-0.0510</td>\n",
       "      <td>0.333</td>\n",
       "      <td>0.6734</td>\n",
       "      <td>...</td>\n",
       "      <td>-1.649</td>\n",
       "      <td>-1.976</td>\n",
       "      <td>-2.306</td>\n",
       "      <td>-2.596</td>\n",
       "      <td>-2.237</td>\n",
       "      <td>-1.989</td>\n",
       "      <td>-1.475</td>\n",
       "      <td>-1.287</td>\n",
       "      <td>-1.742</td>\n",
       "      <td>-2.321</td>\n",
       "    </tr>\n",
       "    <tr>\n",
       "      <th>3</th>\n",
       "      <td>1997-04-30</td>\n",
       "      <td>59</td>\n",
       "      <td>1.617</td>\n",
       "      <td>1.4969</td>\n",
       "      <td>-0.106</td>\n",
       "      <td>0.1201</td>\n",
       "      <td>0.110</td>\n",
       "      <td>0.4359</td>\n",
       "      <td>0.241</td>\n",
       "      <td>1.1644</td>\n",
       "      <td>...</td>\n",
       "      <td>-2.077</td>\n",
       "      <td>-2.407</td>\n",
       "      <td>-2.697</td>\n",
       "      <td>-2.338</td>\n",
       "      <td>-2.090</td>\n",
       "      <td>-1.576</td>\n",
       "      <td>-1.388</td>\n",
       "      <td>-1.843</td>\n",
       "      <td>-2.422</td>\n",
       "      <td>-3.499</td>\n",
       "    </tr>\n",
       "    <tr>\n",
       "      <th>4</th>\n",
       "      <td>1997-05-31</td>\n",
       "      <td>61</td>\n",
       "      <td>0.916</td>\n",
       "      <td>0.9453</td>\n",
       "      <td>-0.041</td>\n",
       "      <td>-0.0293</td>\n",
       "      <td>0.384</td>\n",
       "      <td>1.3205</td>\n",
       "      <td>-0.261</td>\n",
       "      <td>1.0106</td>\n",
       "      <td>...</td>\n",
       "      <td>-2.301</td>\n",
       "      <td>-2.591</td>\n",
       "      <td>-2.232</td>\n",
       "      <td>-1.984</td>\n",
       "      <td>-1.470</td>\n",
       "      <td>-1.282</td>\n",
       "      <td>-1.737</td>\n",
       "      <td>-2.316</td>\n",
       "      <td>-3.393</td>\n",
       "      <td>-4.230</td>\n",
       "    </tr>\n",
       "  </tbody>\n",
       "</table>\n",
       "<p>5 rows × 54 columns</p>\n",
       "</div>"
      ],
      "text/plain": [
       "        Date  OAS  Total Return % 1-mo-LOC  Agg Returns  \\\n",
       "0 1997-01-31   61                    0.142       0.3062   \n",
       "1 1997-02-28   59                    0.255       0.2488   \n",
       "2 1997-03-31   57                   -1.250      -1.1082   \n",
       "3 1997-04-30   59                    1.617       1.4969   \n",
       "4 1997-05-31   61                    0.916       0.9453   \n",
       "\n",
       "   Excess Return % 1-mo (Treasury)  Excess Return % 1-mo (Agg)  \\\n",
       "0                            0.102                     -0.1642   \n",
       "1                            0.234                      0.0062   \n",
       "2                            0.101                     -0.1418   \n",
       "3                           -0.106                      0.1201   \n",
       "4                           -0.041                     -0.0293   \n",
       "\n",
       "   Excess Return % 3-mo (Treasury)  Excess Return % 3-mo (Agg)  \\\n",
       "0                            0.437                     -0.2998   \n",
       "1                            0.229                     -0.0155   \n",
       "2                           -0.046                     -0.0510   \n",
       "3                            0.110                      0.4359   \n",
       "4                            0.384                      1.3205   \n",
       "\n",
       "   Excess Return % 6-mo (Treasury)  Excess Return % 6-mo (Agg)  ...  \\\n",
       "0                            0.547                      0.1361  ...   \n",
       "1                            0.613                      1.3050  ...   \n",
       "2                            0.333                      0.6734  ...   \n",
       "3                            0.241                      1.1644  ...   \n",
       "4                           -0.261                      1.0106  ...   \n",
       "\n",
       "   Excess Return % 27-mo (Treasury_)  Excess Return % 28-mo (Treasury_)  \\\n",
       "0                             -1.122                             -1.121   \n",
       "1                             -1.223                             -1.415   \n",
       "2                             -1.649                             -1.976   \n",
       "3                             -2.077                             -2.407   \n",
       "4                             -2.301                             -2.591   \n",
       "\n",
       "   Excess Return % 29-mo (Treasury_)  Excess Return % 30-mo (Treasury_)  \\\n",
       "0                             -1.313                             -1.640   \n",
       "1                             -1.742                             -2.072   \n",
       "2                             -2.306                             -2.596   \n",
       "3                             -2.697                             -2.338   \n",
       "4                             -2.232                             -1.984   \n",
       "\n",
       "   Excess Return % 31-mo (Treasury_)  Excess Return % 32-mo (Treasury_)  \\\n",
       "0                             -1.970                             -2.260   \n",
       "1                             -2.362                             -2.003   \n",
       "2                             -2.237                             -1.989   \n",
       "3                             -2.090                             -1.576   \n",
       "4                             -1.470                             -1.282   \n",
       "\n",
       "   Excess Return % 33-mo (Treasury_)  Excess Return % 34-mo (Treasury_)  \\\n",
       "0                             -1.901                             -1.653   \n",
       "1                             -1.755                             -1.241   \n",
       "2                             -1.475                             -1.287   \n",
       "3                             -1.388                             -1.843   \n",
       "4                             -1.737                             -2.316   \n",
       "\n",
       "   Excess Return % 35-mo (Treasury_)  Excess Return % 36-mo (Treasury_)  \n",
       "0                             -1.139                             -0.951  \n",
       "1                             -1.053                             -1.508  \n",
       "2                             -1.742                             -2.321  \n",
       "3                             -2.422                             -3.499  \n",
       "4                             -3.393                             -4.230  \n",
       "\n",
       "[5 rows x 54 columns]"
      ]
     },
     "execution_count": 40,
     "metadata": {},
     "output_type": "execute_result"
    }
   ],
   "source": [
    "df_IG.head()"
   ]
  },
  {
   "cell_type": "markdown",
   "metadata": {},
   "source": [
    "# DO the same thing for returns against AGG"
   ]
  },
  {
   "cell_type": "code",
   "execution_count": 41,
   "metadata": {},
   "outputs": [
    {
     "data": {
      "text/plain": [
       "0   -0.1580\n",
       "1   -0.1356\n",
       "2   -0.0217\n",
       "3    0.0908\n",
       "4    0.3158\n",
       "Name: Excess Return % 2-mo (Agg_), dtype: float64"
      ]
     },
     "execution_count": 41,
     "metadata": {},
     "output_type": "execute_result"
    }
   ],
   "source": [
    "df_IG['Excess Return % 2-mo (Agg_)'] = df_IG['Excess Return % 1-mo (Agg)'].rolling(2,win_type='boxcar',center=True).sum().shift(-1)\n",
    "df_IG[\"Excess Return % 2-mo (Agg_)\"].head()"
   ]
  },
  {
   "cell_type": "code",
   "execution_count": 42,
   "metadata": {},
   "outputs": [
    {
     "data": {
      "text/plain": [
       "0   -0.2998\n",
       "1   -0.0155\n",
       "2   -0.0510\n",
       "3    0.4359\n",
       "4    1.3205\n",
       "Name: Excess Return % 3-mo (Agg_), dtype: float64"
      ]
     },
     "execution_count": 42,
     "metadata": {},
     "output_type": "execute_result"
    }
   ],
   "source": [
    "df_IG['Excess Return % 3-mo (Agg_)'] = df_IG['Excess Return % 1-mo (Agg)'].rolling(3,win_type='boxcar',center=True).sum().shift(-1)\n",
    "df_IG[\"Excess Return % 3-mo (Agg_)\"].head()"
   ]
  },
  {
   "cell_type": "code",
   "execution_count": 43,
   "metadata": {},
   "outputs": [
    {
     "data": {
      "text/plain": [
       "0   -0.1797\n",
       "1   -0.0448\n",
       "2    0.2941\n",
       "3    1.4406\n",
       "4    0.6951\n",
       "Name: Excess Return % 4-mo (Agg_), dtype: float64"
      ]
     },
     "execution_count": 43,
     "metadata": {},
     "output_type": "execute_result"
    }
   ],
   "source": [
    "df_IG['Excess Return % 4-mo (Agg_)'] = df_IG['Excess Return % 1-mo (Agg)'].rolling(4,win_type='boxcar',center=True).sum().shift(-2)\n",
    "df_IG[\"Excess Return % 4-mo (Agg_)\"].head()"
   ]
  },
  {
   "cell_type": "code",
   "execution_count": 44,
   "metadata": {},
   "outputs": [
    {
     "data": {
      "text/plain": [
       "0   -0.2090\n",
       "1    0.3003\n",
       "2    1.2988\n",
       "3    0.8152\n",
       "4    1.0443\n",
       "Name: Excess Return % 5-mo (Agg_), dtype: float64"
      ]
     },
     "execution_count": 44,
     "metadata": {},
     "output_type": "execute_result"
    }
   ],
   "source": [
    "df_IG['Excess Return % 5-mo (Agg_)'] = df_IG['Excess Return % 1-mo (Agg)'].rolling(5,win_type='boxcar',center=True).sum().shift(-2)\n",
    "df_IG[\"Excess Return % 5-mo (Agg_)\"].head()"
   ]
  },
  {
   "cell_type": "code",
   "execution_count": 45,
   "metadata": {},
   "outputs": [
    {
     "data": {
      "text/plain": [
       "0    0.1361\n",
       "1    1.3050\n",
       "2    0.6734\n",
       "3    1.1644\n",
       "4    1.0106\n",
       "Name: Excess Return % 6-mo (Agg_), dtype: float64"
      ]
     },
     "execution_count": 45,
     "metadata": {},
     "output_type": "execute_result"
    }
   ],
   "source": [
    "df_IG['Excess Return % 6-mo (Agg_)'] = df_IG['Excess Return % 1-mo (Agg)'].rolling(6,win_type='boxcar',center=True).sum().shift(-3)\n",
    "df_IG[\"Excess Return % 6-mo (Agg_)\"].head()"
   ]
  },
  {
   "cell_type": "code",
   "execution_count": 46,
   "metadata": {},
   "outputs": [
    {
     "data": {
      "text/plain": [
       "0    1.1408\n",
       "1    0.6796\n",
       "2    1.0226\n",
       "3    1.1307\n",
       "4    0.8511\n",
       "Name: Excess Return % 7-mo (Agg_), dtype: float64"
      ]
     },
     "execution_count": 46,
     "metadata": {},
     "output_type": "execute_result"
    }
   ],
   "source": [
    "df_IG['Excess Return % 7-mo (Agg_)'] = df_IG['Excess Return % 1-mo (Agg)'].rolling(7,win_type='boxcar',center=True).sum().shift(-3)\n",
    "df_IG[\"Excess Return % 7-mo (Agg_)\"].head()"
   ]
  },
  {
   "cell_type": "code",
   "execution_count": 47,
   "metadata": {},
   "outputs": [
    {
     "data": {
      "text/plain": [
       "0    0.5154\n",
       "1    1.0288\n",
       "2    0.9889\n",
       "3    0.9712\n",
       "4    0.8953\n",
       "Name: Excess Return % 8-mo (Agg_), dtype: float64"
      ]
     },
     "execution_count": 47,
     "metadata": {},
     "output_type": "execute_result"
    }
   ],
   "source": [
    "df_IG['Excess Return % 8-mo (Agg_)'] = df_IG['Excess Return % 1-mo (Agg)'].rolling(8,win_type='boxcar',center=True).sum().shift(-4)\n",
    "df_IG[\"Excess Return % 8-mo (Agg_)\"].head()"
   ]
  },
  {
   "cell_type": "code",
   "execution_count": 48,
   "metadata": {},
   "outputs": [
    {
     "data": {
      "text/plain": [
       "0    0.8646\n",
       "1    0.9951\n",
       "2    0.8294\n",
       "3    1.0154\n",
       "4    0.9305\n",
       "Name: Excess Return % 9-mo (Agg_), dtype: float64"
      ]
     },
     "execution_count": 48,
     "metadata": {},
     "output_type": "execute_result"
    }
   ],
   "source": [
    "df_IG['Excess Return % 9-mo (Agg_)'] = df_IG['Excess Return % 1-mo (Agg)'].rolling(9,win_type='boxcar',center=True).sum().shift(-4)\n",
    "df_IG[\"Excess Return % 9-mo (Agg_)\"].head()\n"
   ]
  },
  {
   "cell_type": "code",
   "execution_count": 49,
   "metadata": {},
   "outputs": [
    {
     "data": {
      "text/plain": [
       "0    0.8309\n",
       "1    0.8356\n",
       "2    0.8736\n",
       "3    1.0506\n",
       "4    0.8538\n",
       "Name: Excess Return % 10-mo (Agg_), dtype: float64"
      ]
     },
     "execution_count": 49,
     "metadata": {},
     "output_type": "execute_result"
    }
   ],
   "source": [
    "df_IG['Excess Return % 10-mo (Agg_)'] = df_IG['Excess Return % 1-mo (Agg)'].rolling(10,win_type='boxcar',center=True).sum().shift(-5)\n",
    "df_IG[\"Excess Return % 10-mo (Agg_)\"].head()"
   ]
  },
  {
   "cell_type": "code",
   "execution_count": 50,
   "metadata": {},
   "outputs": [
    {
     "data": {
      "text/plain": [
       "0    0.6714\n",
       "1    0.8798\n",
       "2    0.9088\n",
       "3    0.9739\n",
       "4    1.0062\n",
       "Name: Excess Return % 11-mo (Agg_), dtype: float64"
      ]
     },
     "execution_count": 50,
     "metadata": {},
     "output_type": "execute_result"
    }
   ],
   "source": [
    "df_IG['Excess Return % 11-mo (Agg_)'] = df_IG['Excess Return % 1-mo (Agg)'].rolling(11,win_type='boxcar',center=True).sum().shift(-5)\n",
    "df_IG[\"Excess Return % 11-mo (Agg_)\"].head()"
   ]
  },
  {
   "cell_type": "code",
   "execution_count": 51,
   "metadata": {},
   "outputs": [
    {
     "data": {
      "text/plain": [
       "0    0.7156\n",
       "1    0.9150\n",
       "2    0.8321\n",
       "3    1.1263\n",
       "4    0.9952\n",
       "Name: Excess Return % 12-mo (Agg_), dtype: float64"
      ]
     },
     "execution_count": 51,
     "metadata": {},
     "output_type": "execute_result"
    }
   ],
   "source": [
    "df_IG['Excess Return % 12-mo (Agg_)'] = df_IG['Excess Return % 1-mo (Agg)'].rolling(12,win_type='boxcar',center=True).sum().shift(-6)\n",
    "df_IG[\"Excess Return % 12-mo (Agg_)\"].head()"
   ]
  },
  {
   "cell_type": "code",
   "execution_count": 52,
   "metadata": {},
   "outputs": [
    {
     "data": {
      "text/plain": [
       "0    0.7508\n",
       "1    0.8383\n",
       "2    0.9845\n",
       "3    1.1153\n",
       "4    1.3116\n",
       "Name: Excess Return % 13-mo (Agg_), dtype: float64"
      ]
     },
     "execution_count": 52,
     "metadata": {},
     "output_type": "execute_result"
    }
   ],
   "source": [
    "df_IG['Excess Return % 13-mo (Agg_)'] = df_IG['Excess Return % 1-mo (Agg)'].rolling(13,win_type='boxcar',center=True).sum().shift(-6)\n",
    "df_IG[\"Excess Return % 13-mo (Agg_)\"].head()"
   ]
  },
  {
   "cell_type": "code",
   "execution_count": 53,
   "metadata": {},
   "outputs": [
    {
     "data": {
      "text/plain": [
       "0    0.6741\n",
       "1    0.9907\n",
       "2    0.9735\n",
       "3    1.4317\n",
       "4    1.3255\n",
       "Name: Excess Return % 14-mo (Agg_), dtype: float64"
      ]
     },
     "execution_count": 53,
     "metadata": {},
     "output_type": "execute_result"
    }
   ],
   "source": [
    "df_IG['Excess Return % 14-mo (Agg_)'] = df_IG['Excess Return % 1-mo (Agg)'].rolling(14,win_type='boxcar',center=True).sum().shift(-7)\n",
    "df_IG[\"Excess Return % 14-mo (Agg_)\"].head()"
   ]
  },
  {
   "cell_type": "code",
   "execution_count": 54,
   "metadata": {},
   "outputs": [
    {
     "data": {
      "text/plain": [
       "0    0.8265\n",
       "1    0.9797\n",
       "2    1.2899\n",
       "3    1.4456\n",
       "4    1.0318\n",
       "Name: Excess Return % 15-mo (Agg_), dtype: float64"
      ]
     },
     "execution_count": 54,
     "metadata": {},
     "output_type": "execute_result"
    }
   ],
   "source": [
    "df_IG['Excess Return % 15-mo (Agg_)'] = df_IG['Excess Return % 1-mo (Agg)'].rolling(15,win_type='boxcar',center=True).sum().shift(-7)\n",
    "df_IG[\"Excess Return % 15-mo (Agg_)\"].head()"
   ]
  },
  {
   "cell_type": "code",
   "execution_count": 55,
   "metadata": {},
   "outputs": [
    {
     "data": {
      "text/plain": [
       "0    0.8155\n",
       "1    1.2961\n",
       "2    1.3038\n",
       "3    1.1519\n",
       "4   -0.4536\n",
       "Name: Excess Return % 16-mo (Agg_), dtype: float64"
      ]
     },
     "execution_count": 55,
     "metadata": {},
     "output_type": "execute_result"
    }
   ],
   "source": [
    "df_IG['Excess Return % 16-mo (Agg_)'] = df_IG['Excess Return % 1-mo (Agg)'].rolling(16,win_type='boxcar',center=True).sum().shift(-8)\n",
    "df_IG[\"Excess Return % 16-mo (Agg_)\"].head()"
   ]
  },
  {
   "cell_type": "code",
   "execution_count": 56,
   "metadata": {},
   "outputs": [
    {
     "data": {
      "text/plain": [
       "0    1.1319\n",
       "1    1.3100\n",
       "2    1.0101\n",
       "3   -0.3335\n",
       "4    0.3108\n",
       "Name: Excess Return % 17-mo (Agg_), dtype: float64"
      ]
     },
     "execution_count": 56,
     "metadata": {},
     "output_type": "execute_result"
    }
   ],
   "source": [
    "df_IG['Excess Return % 17-mo (Agg_)'] = df_IG['Excess Return % 1-mo (Agg)'].rolling(17,win_type='boxcar',center=True).sum().shift(-8)\n",
    "df_IG[\"Excess Return % 17-mo (Agg_)\"].head()"
   ]
  },
  {
   "cell_type": "code",
   "execution_count": 57,
   "metadata": {},
   "outputs": [
    {
     "data": {
      "text/plain": [
       "0    1.1458\n",
       "1    1.0163\n",
       "2   -0.4753\n",
       "3    0.4309\n",
       "4   -0.3157\n",
       "Name: Excess Return % 18-mo (Agg_), dtype: float64"
      ]
     },
     "execution_count": 57,
     "metadata": {},
     "output_type": "execute_result"
    }
   ],
   "source": [
    "df_IG['Excess Return % 18-mo (Agg_)'] = df_IG['Excess Return % 1-mo (Agg)'].rolling(18,win_type='boxcar',center=True).sum().shift(-9)\n",
    "df_IG[\"Excess Return % 18-mo (Agg_)\"].head()"
   ]
  },
  {
   "cell_type": "code",
   "execution_count": 58,
   "metadata": {},
   "outputs": [
    {
     "data": {
      "text/plain": [
       "0    0.8521\n",
       "1   -0.4691\n",
       "2    0.2891\n",
       "3   -0.1956\n",
       "4    0.6600\n",
       "Name: Excess Return % 19-mo (Agg_), dtype: float64"
      ]
     },
     "execution_count": 58,
     "metadata": {},
     "output_type": "execute_result"
    }
   ],
   "source": [
    "df_IG['Excess Return % 19-mo (Agg_)'] = df_IG['Excess Return % 1-mo (Agg)'].rolling(19,win_type='boxcar',center=True).sum().shift(-9)\n",
    "df_IG[\"Excess Return % 19-mo (Agg_)\"].head()"
   ]
  },
  {
   "cell_type": "code",
   "execution_count": 59,
   "metadata": {},
   "outputs": [
    {
     "data": {
      "text/plain": [
       "0   -0.6333\n",
       "1    0.2953\n",
       "2   -0.3374\n",
       "3    0.7801\n",
       "4    0.9543\n",
       "Name: Excess Return % 20-mo (Agg_), dtype: float64"
      ]
     },
     "execution_count": 59,
     "metadata": {},
     "output_type": "execute_result"
    }
   ],
   "source": [
    "df_IG['Excess Return % 20-mo (Agg_)'] = df_IG['Excess Return % 1-mo (Agg)'].rolling(20,win_type='boxcar',center=True).sum().shift(-10)\n",
    "df_IG[\"Excess Return % 20-mo (Agg_)\"].head()"
   ]
  },
  {
   "cell_type": "code",
   "execution_count": 60,
   "metadata": {},
   "outputs": [
    {
     "data": {
      "text/plain": [
       "0    0.1311\n",
       "1   -0.3312\n",
       "2    0.6383\n",
       "3    1.0744\n",
       "4    1.2626\n",
       "Name: Excess Return % 21-mo (Agg_), dtype: float64"
      ]
     },
     "execution_count": 60,
     "metadata": {},
     "output_type": "execute_result"
    }
   ],
   "source": [
    "df_IG['Excess Return % 21-mo (Agg_)'] = df_IG['Excess Return % 1-mo (Agg)'].rolling(21,win_type='boxcar',center=True).sum().shift(-10)\n",
    "df_IG[\"Excess Return % 21-mo (Agg_)\"].head()"
   ]
  },
  {
   "cell_type": "code",
   "execution_count": 61,
   "metadata": {},
   "outputs": [
    {
     "data": {
      "text/plain": [
       "0   -0.4954\n",
       "1    0.6445\n",
       "2    0.9326\n",
       "3    1.3827\n",
       "4    0.4483\n",
       "Name: Excess Return % 22-mo (Agg_), dtype: float64"
      ]
     },
     "execution_count": 61,
     "metadata": {},
     "output_type": "execute_result"
    }
   ],
   "source": [
    "df_IG['Excess Return % 22-mo (Agg_)'] = df_IG['Excess Return % 1-mo (Agg)'].rolling(22,win_type='boxcar',center=True).sum().shift(-11)\n",
    "df_IG[\"Excess Return % 22-mo (Agg_)\"].head()"
   ]
  },
  {
   "cell_type": "code",
   "execution_count": 62,
   "metadata": {},
   "outputs": [
    {
     "data": {
      "text/plain": [
       "0    0.4803\n",
       "1    0.9388\n",
       "2    1.2409\n",
       "3    0.5684\n",
       "4    0.8031\n",
       "Name: Excess Return % 23-mo (Agg_), dtype: float64"
      ]
     },
     "execution_count": 62,
     "metadata": {},
     "output_type": "execute_result"
    }
   ],
   "source": [
    "df_IG['Excess Return % 23-mo (Agg_)'] = df_IG['Excess Return % 1-mo (Agg)'].rolling(23,win_type='boxcar',center=True).sum().shift(-11)\n",
    "df_IG[\"Excess Return % 23-mo (Agg_)\"].head()"
   ]
  },
  {
   "cell_type": "code",
   "execution_count": 63,
   "metadata": {},
   "outputs": [
    {
     "data": {
      "text/plain": [
       "0    0.7746\n",
       "1    1.2471\n",
       "2    0.4266\n",
       "3    0.9232\n",
       "4    0.8333\n",
       "Name: Excess Return % 24-mo (Agg_), dtype: float64"
      ]
     },
     "execution_count": 63,
     "metadata": {},
     "output_type": "execute_result"
    }
   ],
   "source": [
    "df_IG['Excess Return % 24-mo (Agg_)'] = df_IG['Excess Return % 1-mo (Agg)'].rolling(24,win_type='boxcar',center=True).sum().shift(-12)\n",
    "df_IG[\"Excess Return % 24-mo (Agg_)\"].head()"
   ]
  },
  {
   "cell_type": "code",
   "execution_count": 64,
   "metadata": {},
   "outputs": [
    {
     "data": {
      "text/plain": [
       "0    1.0829\n",
       "1    0.4328\n",
       "2    0.7814\n",
       "3    0.9534\n",
       "4    0.2622\n",
       "Name: Excess Return % 25-mo (Agg_), dtype: float64"
      ]
     },
     "execution_count": 64,
     "metadata": {},
     "output_type": "execute_result"
    }
   ],
   "source": [
    "df_IG['Excess Return % 25-mo (Agg_)'] = df_IG['Excess Return % 1-mo (Agg)'].rolling(25,win_type='boxcar',center=True).sum().shift(-12)\n",
    "df_IG[\"Excess Return % 25-mo (Agg_)\"].head()"
   ]
  },
  {
   "cell_type": "code",
   "execution_count": 65,
   "metadata": {},
   "outputs": [
    {
     "data": {
      "text/plain": [
       "0    0.2686\n",
       "1    0.7876\n",
       "2    0.8116\n",
       "3    0.3823\n",
       "4    0.0878\n",
       "Name: Excess Return % 26-mo (Agg_), dtype: float64"
      ]
     },
     "execution_count": 65,
     "metadata": {},
     "output_type": "execute_result"
    }
   ],
   "source": [
    "df_IG['Excess Return % 26-mo (Agg_)'] = df_IG['Excess Return % 1-mo (Agg)'].rolling(26,win_type='boxcar',center=True).sum().shift(-13)\n",
    "df_IG[\"Excess Return % 26-mo (Agg_)\"].head()"
   ]
  },
  {
   "cell_type": "code",
   "execution_count": 66,
   "metadata": {},
   "outputs": [
    {
     "data": {
      "text/plain": [
       "0    0.6234\n",
       "1    0.8178\n",
       "2    0.2405\n",
       "3    0.2079\n",
       "4   -0.0715\n",
       "Name: Excess Return % 27-mo (Agg_), dtype: float64"
      ]
     },
     "execution_count": 66,
     "metadata": {},
     "output_type": "execute_result"
    }
   ],
   "source": [
    "df_IG['Excess Return % 27-mo (Agg_)'] = df_IG['Excess Return % 1-mo (Agg)'].rolling(27,win_type='boxcar',center=True).sum().shift(-13)\n",
    "df_IG[\"Excess Return % 27-mo (Agg_)\"].head()"
   ]
  },
  {
   "cell_type": "code",
   "execution_count": 67,
   "metadata": {},
   "outputs": [
    {
     "data": {
      "text/plain": [
       "0    0.6536\n",
       "1    0.2467\n",
       "2    0.0661\n",
       "3    0.0486\n",
       "4   -0.2776\n",
       "Name: Excess Return % 28-mo (Agg_), dtype: float64"
      ]
     },
     "execution_count": 67,
     "metadata": {},
     "output_type": "execute_result"
    }
   ],
   "source": [
    "df_IG['Excess Return % 28-mo (Agg_)'] = df_IG['Excess Return % 1-mo (Agg)'].rolling(28,win_type='boxcar',center=True).sum().shift(-14)\n",
    "df_IG[\"Excess Return % 28-mo (Agg_)\"].head()"
   ]
  },
  {
   "cell_type": "code",
   "execution_count": 68,
   "metadata": {},
   "outputs": [
    {
     "data": {
      "text/plain": [
       "0    0.0825\n",
       "1    0.0723\n",
       "2   -0.0932\n",
       "3   -0.1575\n",
       "4   -0.3045\n",
       "Name: Excess Return % 29-mo (Agg_), dtype: float64"
      ]
     },
     "execution_count": 68,
     "metadata": {},
     "output_type": "execute_result"
    }
   ],
   "source": [
    "df_IG['Excess Return % 29-mo (Agg_)'] = df_IG['Excess Return % 1-mo (Agg)'].rolling(29,win_type='boxcar',center=True).sum().shift(-14)\n",
    "df_IG[\"Excess Return % 29-mo (Agg_)\"].head()"
   ]
  },
  {
   "cell_type": "code",
   "execution_count": 69,
   "metadata": {},
   "outputs": [
    {
     "data": {
      "text/plain": [
       "0   -0.0919\n",
       "1   -0.0870\n",
       "2   -0.2993\n",
       "3   -0.1844\n",
       "4   -0.3625\n",
       "Name: Excess Return % 30-mo (Agg_), dtype: float64"
      ]
     },
     "execution_count": 69,
     "metadata": {},
     "output_type": "execute_result"
    }
   ],
   "source": [
    "df_IG['Excess Return % 30-mo (Agg_)'] = df_IG['Excess Return % 1-mo (Agg)'].rolling(30,win_type='boxcar',center=True).sum().shift(-15)\n",
    "df_IG[\"Excess Return % 30-mo (Agg_)\"].head()"
   ]
  },
  {
   "cell_type": "code",
   "execution_count": 70,
   "metadata": {},
   "outputs": [
    {
     "data": {
      "text/plain": [
       "0   -0.2512\n",
       "1   -0.2931\n",
       "2   -0.3262\n",
       "3   -0.2424\n",
       "4   -0.2173\n",
       "Name: Excess Return % 31-mo (Agg_), dtype: float64"
      ]
     },
     "execution_count": 70,
     "metadata": {},
     "output_type": "execute_result"
    }
   ],
   "source": [
    "df_IG['Excess Return % 31-mo (Agg_)'] = df_IG['Excess Return % 1-mo (Agg)'].rolling(31,win_type='boxcar',center=True).sum().shift(-15)\n",
    "df_IG[\"Excess Return % 31-mo (Agg_)\"].head()"
   ]
  },
  {
   "cell_type": "code",
   "execution_count": 71,
   "metadata": {},
   "outputs": [
    {
     "data": {
      "text/plain": [
       "0   -0.4573\n",
       "1   -0.3200\n",
       "2   -0.3842\n",
       "3   -0.0972\n",
       "4   -0.0931\n",
       "Name: Excess Return % 32-mo (Agg_), dtype: float64"
      ]
     },
     "execution_count": 71,
     "metadata": {},
     "output_type": "execute_result"
    }
   ],
   "source": [
    "df_IG['Excess Return % 32-mo (Agg_)'] = df_IG['Excess Return % 1-mo (Agg)'].rolling(32,win_type='boxcar',center=True).sum().shift(-16)\n",
    "df_IG[\"Excess Return % 32-mo (Agg_)\"].head()"
   ]
  },
  {
   "cell_type": "code",
   "execution_count": 72,
   "metadata": {},
   "outputs": [
    {
     "data": {
      "text/plain": [
       "0   -0.4842\n",
       "1   -0.3780\n",
       "2   -0.2390\n",
       "3    0.0270\n",
       "4   -0.1007\n",
       "Name: Excess Return % 33-mo (Agg_), dtype: float64"
      ]
     },
     "execution_count": 72,
     "metadata": {},
     "output_type": "execute_result"
    }
   ],
   "source": [
    "df_IG['Excess Return % 33-mo (Agg_)'] = df_IG['Excess Return % 1-mo (Agg)'].rolling(33,win_type='boxcar',center=True).sum().shift(-16)\n",
    "df_IG[\"Excess Return % 33-mo (Agg_)\"].head()"
   ]
  },
  {
   "cell_type": "code",
   "execution_count": 73,
   "metadata": {},
   "outputs": [
    {
     "data": {
      "text/plain": [
       "0   -0.5422\n",
       "1   -0.2328\n",
       "2   -0.1148\n",
       "3    0.0194\n",
       "4   -0.5361\n",
       "Name: Excess Return % 34-mo (Agg_), dtype: float64"
      ]
     },
     "execution_count": 73,
     "metadata": {},
     "output_type": "execute_result"
    }
   ],
   "source": [
    "df_IG['Excess Return % 34-mo (Agg_)'] = df_IG['Excess Return % 1-mo (Agg)'].rolling(34,win_type='boxcar',center=True).sum().shift(-17)\n",
    "df_IG[\"Excess Return % 34-mo (Agg_)\"].head()"
   ]
  },
  {
   "cell_type": "code",
   "execution_count": 74,
   "metadata": {},
   "outputs": [
    {
     "data": {
      "text/plain": [
       "0   -0.3970\n",
       "1   -0.1086\n",
       "2   -0.1224\n",
       "3   -0.4160\n",
       "4   -0.7445\n",
       "Name: Excess Return % 35-mo (Agg_), dtype: float64"
      ]
     },
     "execution_count": 74,
     "metadata": {},
     "output_type": "execute_result"
    }
   ],
   "source": [
    "df_IG['Excess Return % 35-mo (Agg_)'] = df_IG['Excess Return % 1-mo (Agg)'].rolling(35,win_type='boxcar',center=True).sum().shift(-17)\n",
    "df_IG[\"Excess Return % 35-mo (Agg_)\"].head()"
   ]
  },
  {
   "cell_type": "code",
   "execution_count": 75,
   "metadata": {},
   "outputs": [
    {
     "data": {
      "text/plain": [
       "0   -0.2728\n",
       "1   -0.1162\n",
       "2   -0.5578\n",
       "3   -0.6244\n",
       "4   -1.6942\n",
       "Name: Excess Return % 36-mo (Agg_), dtype: float64"
      ]
     },
     "execution_count": 75,
     "metadata": {},
     "output_type": "execute_result"
    }
   ],
   "source": [
    "df_IG['Excess Return % 36-mo (Agg_)'] = df_IG['Excess Return % 1-mo (Agg)'].rolling(36,win_type='boxcar',center=True).sum().shift(-18)\n",
    "df_IG[\"Excess Return % 36-mo (Agg_)\"].head()"
   ]
  },
  {
   "cell_type": "code",
   "execution_count": 76,
   "metadata": {},
   "outputs": [
    {
     "data": {
      "text/html": [
       "<div>\n",
       "<style scoped>\n",
       "    .dataframe tbody tr th:only-of-type {\n",
       "        vertical-align: middle;\n",
       "    }\n",
       "\n",
       "    .dataframe tbody tr th {\n",
       "        vertical-align: top;\n",
       "    }\n",
       "\n",
       "    .dataframe thead th {\n",
       "        text-align: right;\n",
       "    }\n",
       "</style>\n",
       "<table border=\"1\" class=\"dataframe\">\n",
       "  <thead>\n",
       "    <tr style=\"text-align: right;\">\n",
       "      <th></th>\n",
       "      <th>Date</th>\n",
       "      <th>OAS</th>\n",
       "      <th>Total Return % 1-mo-LOC</th>\n",
       "      <th>Agg Returns</th>\n",
       "      <th>Excess Return % 1-mo (Treasury)</th>\n",
       "      <th>Excess Return % 1-mo (Agg)</th>\n",
       "      <th>Excess Return % 3-mo (Treasury)</th>\n",
       "      <th>Excess Return % 3-mo (Agg)</th>\n",
       "      <th>Excess Return % 6-mo (Treasury)</th>\n",
       "      <th>Excess Return % 6-mo (Agg)</th>\n",
       "      <th>...</th>\n",
       "      <th>Excess Return % 27-mo (Agg_)</th>\n",
       "      <th>Excess Return % 28-mo (Agg_)</th>\n",
       "      <th>Excess Return % 29-mo (Agg_)</th>\n",
       "      <th>Excess Return % 30-mo (Agg_)</th>\n",
       "      <th>Excess Return % 31-mo (Agg_)</th>\n",
       "      <th>Excess Return % 32-mo (Agg_)</th>\n",
       "      <th>Excess Return % 33-mo (Agg_)</th>\n",
       "      <th>Excess Return % 34-mo (Agg_)</th>\n",
       "      <th>Excess Return % 35-mo (Agg_)</th>\n",
       "      <th>Excess Return % 36-mo (Agg_)</th>\n",
       "    </tr>\n",
       "  </thead>\n",
       "  <tbody>\n",
       "    <tr>\n",
       "      <th>0</th>\n",
       "      <td>1997-01-31</td>\n",
       "      <td>61</td>\n",
       "      <td>0.142</td>\n",
       "      <td>0.3062</td>\n",
       "      <td>0.102</td>\n",
       "      <td>-0.1642</td>\n",
       "      <td>0.437</td>\n",
       "      <td>-0.2998</td>\n",
       "      <td>0.547</td>\n",
       "      <td>0.1361</td>\n",
       "      <td>...</td>\n",
       "      <td>0.6234</td>\n",
       "      <td>0.6536</td>\n",
       "      <td>0.0825</td>\n",
       "      <td>-0.0919</td>\n",
       "      <td>-0.2512</td>\n",
       "      <td>-0.4573</td>\n",
       "      <td>-0.4842</td>\n",
       "      <td>-0.5422</td>\n",
       "      <td>-0.3970</td>\n",
       "      <td>-0.2728</td>\n",
       "    </tr>\n",
       "    <tr>\n",
       "      <th>1</th>\n",
       "      <td>1997-02-28</td>\n",
       "      <td>59</td>\n",
       "      <td>0.255</td>\n",
       "      <td>0.2488</td>\n",
       "      <td>0.234</td>\n",
       "      <td>0.0062</td>\n",
       "      <td>0.229</td>\n",
       "      <td>-0.0155</td>\n",
       "      <td>0.613</td>\n",
       "      <td>1.3050</td>\n",
       "      <td>...</td>\n",
       "      <td>0.8178</td>\n",
       "      <td>0.2467</td>\n",
       "      <td>0.0723</td>\n",
       "      <td>-0.0870</td>\n",
       "      <td>-0.2931</td>\n",
       "      <td>-0.3200</td>\n",
       "      <td>-0.3780</td>\n",
       "      <td>-0.2328</td>\n",
       "      <td>-0.1086</td>\n",
       "      <td>-0.1162</td>\n",
       "    </tr>\n",
       "    <tr>\n",
       "      <th>2</th>\n",
       "      <td>1997-03-31</td>\n",
       "      <td>57</td>\n",
       "      <td>-1.250</td>\n",
       "      <td>-1.1082</td>\n",
       "      <td>0.101</td>\n",
       "      <td>-0.1418</td>\n",
       "      <td>-0.046</td>\n",
       "      <td>-0.0510</td>\n",
       "      <td>0.333</td>\n",
       "      <td>0.6734</td>\n",
       "      <td>...</td>\n",
       "      <td>0.2405</td>\n",
       "      <td>0.0661</td>\n",
       "      <td>-0.0932</td>\n",
       "      <td>-0.2993</td>\n",
       "      <td>-0.3262</td>\n",
       "      <td>-0.3842</td>\n",
       "      <td>-0.2390</td>\n",
       "      <td>-0.1148</td>\n",
       "      <td>-0.1224</td>\n",
       "      <td>-0.5578</td>\n",
       "    </tr>\n",
       "    <tr>\n",
       "      <th>3</th>\n",
       "      <td>1997-04-30</td>\n",
       "      <td>59</td>\n",
       "      <td>1.617</td>\n",
       "      <td>1.4969</td>\n",
       "      <td>-0.106</td>\n",
       "      <td>0.1201</td>\n",
       "      <td>0.110</td>\n",
       "      <td>0.4359</td>\n",
       "      <td>0.241</td>\n",
       "      <td>1.1644</td>\n",
       "      <td>...</td>\n",
       "      <td>0.2079</td>\n",
       "      <td>0.0486</td>\n",
       "      <td>-0.1575</td>\n",
       "      <td>-0.1844</td>\n",
       "      <td>-0.2424</td>\n",
       "      <td>-0.0972</td>\n",
       "      <td>0.0270</td>\n",
       "      <td>0.0194</td>\n",
       "      <td>-0.4160</td>\n",
       "      <td>-0.6244</td>\n",
       "    </tr>\n",
       "    <tr>\n",
       "      <th>4</th>\n",
       "      <td>1997-05-31</td>\n",
       "      <td>61</td>\n",
       "      <td>0.916</td>\n",
       "      <td>0.9453</td>\n",
       "      <td>-0.041</td>\n",
       "      <td>-0.0293</td>\n",
       "      <td>0.384</td>\n",
       "      <td>1.3205</td>\n",
       "      <td>-0.261</td>\n",
       "      <td>1.0106</td>\n",
       "      <td>...</td>\n",
       "      <td>-0.0715</td>\n",
       "      <td>-0.2776</td>\n",
       "      <td>-0.3045</td>\n",
       "      <td>-0.3625</td>\n",
       "      <td>-0.2173</td>\n",
       "      <td>-0.0931</td>\n",
       "      <td>-0.1007</td>\n",
       "      <td>-0.5361</td>\n",
       "      <td>-0.7445</td>\n",
       "      <td>-1.6942</td>\n",
       "    </tr>\n",
       "  </tbody>\n",
       "</table>\n",
       "<p>5 rows × 89 columns</p>\n",
       "</div>"
      ],
      "text/plain": [
       "        Date  OAS  Total Return % 1-mo-LOC  Agg Returns  \\\n",
       "0 1997-01-31   61                    0.142       0.3062   \n",
       "1 1997-02-28   59                    0.255       0.2488   \n",
       "2 1997-03-31   57                   -1.250      -1.1082   \n",
       "3 1997-04-30   59                    1.617       1.4969   \n",
       "4 1997-05-31   61                    0.916       0.9453   \n",
       "\n",
       "   Excess Return % 1-mo (Treasury)  Excess Return % 1-mo (Agg)  \\\n",
       "0                            0.102                     -0.1642   \n",
       "1                            0.234                      0.0062   \n",
       "2                            0.101                     -0.1418   \n",
       "3                           -0.106                      0.1201   \n",
       "4                           -0.041                     -0.0293   \n",
       "\n",
       "   Excess Return % 3-mo (Treasury)  Excess Return % 3-mo (Agg)  \\\n",
       "0                            0.437                     -0.2998   \n",
       "1                            0.229                     -0.0155   \n",
       "2                           -0.046                     -0.0510   \n",
       "3                            0.110                      0.4359   \n",
       "4                            0.384                      1.3205   \n",
       "\n",
       "   Excess Return % 6-mo (Treasury)  Excess Return % 6-mo (Agg)  ...  \\\n",
       "0                            0.547                      0.1361  ...   \n",
       "1                            0.613                      1.3050  ...   \n",
       "2                            0.333                      0.6734  ...   \n",
       "3                            0.241                      1.1644  ...   \n",
       "4                           -0.261                      1.0106  ...   \n",
       "\n",
       "   Excess Return % 27-mo (Agg_)  Excess Return % 28-mo (Agg_)  \\\n",
       "0                        0.6234                        0.6536   \n",
       "1                        0.8178                        0.2467   \n",
       "2                        0.2405                        0.0661   \n",
       "3                        0.2079                        0.0486   \n",
       "4                       -0.0715                       -0.2776   \n",
       "\n",
       "   Excess Return % 29-mo (Agg_)  Excess Return % 30-mo (Agg_)  \\\n",
       "0                        0.0825                       -0.0919   \n",
       "1                        0.0723                       -0.0870   \n",
       "2                       -0.0932                       -0.2993   \n",
       "3                       -0.1575                       -0.1844   \n",
       "4                       -0.3045                       -0.3625   \n",
       "\n",
       "   Excess Return % 31-mo (Agg_)  Excess Return % 32-mo (Agg_)  \\\n",
       "0                       -0.2512                       -0.4573   \n",
       "1                       -0.2931                       -0.3200   \n",
       "2                       -0.3262                       -0.3842   \n",
       "3                       -0.2424                       -0.0972   \n",
       "4                       -0.2173                       -0.0931   \n",
       "\n",
       "   Excess Return % 33-mo (Agg_)  Excess Return % 34-mo (Agg_)  \\\n",
       "0                       -0.4842                       -0.5422   \n",
       "1                       -0.3780                       -0.2328   \n",
       "2                       -0.2390                       -0.1148   \n",
       "3                        0.0270                        0.0194   \n",
       "4                       -0.1007                       -0.5361   \n",
       "\n",
       "   Excess Return % 35-mo (Agg_)  Excess Return % 36-mo (Agg_)  \n",
       "0                       -0.3970                       -0.2728  \n",
       "1                       -0.1086                       -0.1162  \n",
       "2                       -0.1224                       -0.5578  \n",
       "3                       -0.4160                       -0.6244  \n",
       "4                       -0.7445                       -1.6942  \n",
       "\n",
       "[5 rows x 89 columns]"
      ]
     },
     "execution_count": 76,
     "metadata": {},
     "output_type": "execute_result"
    }
   ],
   "source": [
    "df_IG.head()"
   ]
  },
  {
   "cell_type": "code",
   "execution_count": 77,
   "metadata": {},
   "outputs": [
    {
     "data": {
      "text/html": [
       "<div>\n",
       "<style scoped>\n",
       "    .dataframe tbody tr th:only-of-type {\n",
       "        vertical-align: middle;\n",
       "    }\n",
       "\n",
       "    .dataframe tbody tr th {\n",
       "        vertical-align: top;\n",
       "    }\n",
       "\n",
       "    .dataframe thead th {\n",
       "        text-align: right;\n",
       "    }\n",
       "</style>\n",
       "<table border=\"1\" class=\"dataframe\">\n",
       "  <thead>\n",
       "    <tr style=\"text-align: right;\">\n",
       "      <th></th>\n",
       "      <th>Date</th>\n",
       "      <th>OAS</th>\n",
       "      <th>Total Return % 1-mo-LOC</th>\n",
       "      <th>Agg Returns</th>\n",
       "      <th>Excess Return % 1-mo (Treasury)</th>\n",
       "      <th>Excess Return % 1-mo (Agg)</th>\n",
       "      <th>Quadrant</th>\n",
       "      <th>Excess Return % 2-mo (Treasury_)</th>\n",
       "      <th>Excess Return % 3-mo (Treasury_)</th>\n",
       "      <th>Excess Return % 4-mo (Treasury_)</th>\n",
       "      <th>...</th>\n",
       "      <th>Excess Return % 27-mo (Agg_)</th>\n",
       "      <th>Excess Return % 28-mo (Agg_)</th>\n",
       "      <th>Excess Return % 29-mo (Agg_)</th>\n",
       "      <th>Excess Return % 30-mo (Agg_)</th>\n",
       "      <th>Excess Return % 31-mo (Agg_)</th>\n",
       "      <th>Excess Return % 32-mo (Agg_)</th>\n",
       "      <th>Excess Return % 33-mo (Agg_)</th>\n",
       "      <th>Excess Return % 34-mo (Agg_)</th>\n",
       "      <th>Excess Return % 35-mo (Agg_)</th>\n",
       "      <th>Excess Return % 36-mo (Agg_)</th>\n",
       "    </tr>\n",
       "  </thead>\n",
       "  <tbody>\n",
       "    <tr>\n",
       "      <th>0</th>\n",
       "      <td>1997-01-31</td>\n",
       "      <td>61</td>\n",
       "      <td>0.142</td>\n",
       "      <td>0.3062</td>\n",
       "      <td>0.102</td>\n",
       "      <td>-0.1642</td>\n",
       "      <td>4</td>\n",
       "      <td>0.336</td>\n",
       "      <td>0.437</td>\n",
       "      <td>0.331</td>\n",
       "      <td>...</td>\n",
       "      <td>0.6234</td>\n",
       "      <td>0.6536</td>\n",
       "      <td>0.0825</td>\n",
       "      <td>-0.0919</td>\n",
       "      <td>-0.2512</td>\n",
       "      <td>-0.4573</td>\n",
       "      <td>-0.4842</td>\n",
       "      <td>-0.5422</td>\n",
       "      <td>-0.3970</td>\n",
       "      <td>-0.2728</td>\n",
       "    </tr>\n",
       "    <tr>\n",
       "      <th>1</th>\n",
       "      <td>1997-02-28</td>\n",
       "      <td>59</td>\n",
       "      <td>0.255</td>\n",
       "      <td>0.2488</td>\n",
       "      <td>0.234</td>\n",
       "      <td>0.0062</td>\n",
       "      <td>4</td>\n",
       "      <td>0.335</td>\n",
       "      <td>0.229</td>\n",
       "      <td>0.188</td>\n",
       "      <td>...</td>\n",
       "      <td>0.8178</td>\n",
       "      <td>0.2467</td>\n",
       "      <td>0.0723</td>\n",
       "      <td>-0.0870</td>\n",
       "      <td>-0.2931</td>\n",
       "      <td>-0.3200</td>\n",
       "      <td>-0.3780</td>\n",
       "      <td>-0.2328</td>\n",
       "      <td>-0.1086</td>\n",
       "      <td>-0.1162</td>\n",
       "    </tr>\n",
       "    <tr>\n",
       "      <th>2</th>\n",
       "      <td>1997-03-31</td>\n",
       "      <td>57</td>\n",
       "      <td>-1.250</td>\n",
       "      <td>-1.1082</td>\n",
       "      <td>0.101</td>\n",
       "      <td>-0.1418</td>\n",
       "      <td>4</td>\n",
       "      <td>-0.005</td>\n",
       "      <td>-0.046</td>\n",
       "      <td>0.211</td>\n",
       "      <td>...</td>\n",
       "      <td>0.2405</td>\n",
       "      <td>0.0661</td>\n",
       "      <td>-0.0932</td>\n",
       "      <td>-0.2993</td>\n",
       "      <td>-0.3262</td>\n",
       "      <td>-0.3842</td>\n",
       "      <td>-0.2390</td>\n",
       "      <td>-0.1148</td>\n",
       "      <td>-0.1224</td>\n",
       "      <td>-0.5578</td>\n",
       "    </tr>\n",
       "    <tr>\n",
       "      <th>3</th>\n",
       "      <td>1997-04-30</td>\n",
       "      <td>59</td>\n",
       "      <td>1.617</td>\n",
       "      <td>1.4969</td>\n",
       "      <td>-0.106</td>\n",
       "      <td>0.1201</td>\n",
       "      <td>4</td>\n",
       "      <td>-0.147</td>\n",
       "      <td>0.110</td>\n",
       "      <td>0.278</td>\n",
       "      <td>...</td>\n",
       "      <td>0.2079</td>\n",
       "      <td>0.0486</td>\n",
       "      <td>-0.1575</td>\n",
       "      <td>-0.1844</td>\n",
       "      <td>-0.2424</td>\n",
       "      <td>-0.0972</td>\n",
       "      <td>0.0270</td>\n",
       "      <td>0.0194</td>\n",
       "      <td>-0.4160</td>\n",
       "      <td>-0.6244</td>\n",
       "    </tr>\n",
       "    <tr>\n",
       "      <th>4</th>\n",
       "      <td>1997-05-31</td>\n",
       "      <td>61</td>\n",
       "      <td>0.916</td>\n",
       "      <td>0.9453</td>\n",
       "      <td>-0.041</td>\n",
       "      <td>-0.0293</td>\n",
       "      <td>4</td>\n",
       "      <td>0.216</td>\n",
       "      <td>0.384</td>\n",
       "      <td>0.338</td>\n",
       "      <td>...</td>\n",
       "      <td>-0.0715</td>\n",
       "      <td>-0.2776</td>\n",
       "      <td>-0.3045</td>\n",
       "      <td>-0.3625</td>\n",
       "      <td>-0.2173</td>\n",
       "      <td>-0.0931</td>\n",
       "      <td>-0.1007</td>\n",
       "      <td>-0.5361</td>\n",
       "      <td>-0.7445</td>\n",
       "      <td>-1.6942</td>\n",
       "    </tr>\n",
       "  </tbody>\n",
       "</table>\n",
       "<p>5 rows × 77 columns</p>\n",
       "</div>"
      ],
      "text/plain": [
       "        Date  OAS  Total Return % 1-mo-LOC  Agg Returns  \\\n",
       "0 1997-01-31   61                    0.142       0.3062   \n",
       "1 1997-02-28   59                    0.255       0.2488   \n",
       "2 1997-03-31   57                   -1.250      -1.1082   \n",
       "3 1997-04-30   59                    1.617       1.4969   \n",
       "4 1997-05-31   61                    0.916       0.9453   \n",
       "\n",
       "   Excess Return % 1-mo (Treasury)  Excess Return % 1-mo (Agg)  Quadrant  \\\n",
       "0                            0.102                     -0.1642         4   \n",
       "1                            0.234                      0.0062         4   \n",
       "2                            0.101                     -0.1418         4   \n",
       "3                           -0.106                      0.1201         4   \n",
       "4                           -0.041                     -0.0293         4   \n",
       "\n",
       "   Excess Return % 2-mo (Treasury_)  Excess Return % 3-mo (Treasury_)  \\\n",
       "0                             0.336                             0.437   \n",
       "1                             0.335                             0.229   \n",
       "2                            -0.005                            -0.046   \n",
       "3                            -0.147                             0.110   \n",
       "4                             0.216                             0.384   \n",
       "\n",
       "   Excess Return % 4-mo (Treasury_)  ...  Excess Return % 27-mo (Agg_)  \\\n",
       "0                             0.331  ...                        0.6234   \n",
       "1                             0.188  ...                        0.8178   \n",
       "2                             0.211  ...                        0.2405   \n",
       "3                             0.278  ...                        0.2079   \n",
       "4                             0.338  ...                       -0.0715   \n",
       "\n",
       "   Excess Return % 28-mo (Agg_)  Excess Return % 29-mo (Agg_)  \\\n",
       "0                        0.6536                        0.0825   \n",
       "1                        0.2467                        0.0723   \n",
       "2                        0.0661                       -0.0932   \n",
       "3                        0.0486                       -0.1575   \n",
       "4                       -0.2776                       -0.3045   \n",
       "\n",
       "   Excess Return % 30-mo (Agg_)  Excess Return % 31-mo (Agg_)  \\\n",
       "0                       -0.0919                       -0.2512   \n",
       "1                       -0.0870                       -0.2931   \n",
       "2                       -0.2993                       -0.3262   \n",
       "3                       -0.1844                       -0.2424   \n",
       "4                       -0.3625                       -0.2173   \n",
       "\n",
       "   Excess Return % 32-mo (Agg_)  Excess Return % 33-mo (Agg_)  \\\n",
       "0                       -0.4573                       -0.4842   \n",
       "1                       -0.3200                       -0.3780   \n",
       "2                       -0.3842                       -0.2390   \n",
       "3                       -0.0972                        0.0270   \n",
       "4                       -0.0931                       -0.1007   \n",
       "\n",
       "   Excess Return % 34-mo (Agg_)  Excess Return % 35-mo (Agg_)  \\\n",
       "0                       -0.5422                       -0.3970   \n",
       "1                       -0.2328                       -0.1086   \n",
       "2                       -0.1148                       -0.1224   \n",
       "3                        0.0194                       -0.4160   \n",
       "4                       -0.5361                       -0.7445   \n",
       "\n",
       "   Excess Return % 36-mo (Agg_)  \n",
       "0                       -0.2728  \n",
       "1                       -0.1162  \n",
       "2                       -0.5578  \n",
       "3                       -0.6244  \n",
       "4                       -1.6942  \n",
       "\n",
       "[5 rows x 77 columns]"
      ]
     },
     "execution_count": 77,
     "metadata": {},
     "output_type": "execute_result"
    }
   ],
   "source": [
    "df_IG = df_IG.drop(columns = ['Excess Return % 3-mo (Treasury)','Excess Return % 3-mo (Agg)','Excess Return % 6-mo (Treasury)','Excess Return % 6-mo (Agg)','Excess Return % 9-mo (Treasury)','Excess Return % 9-mo (Agg)','Excess Return % 12-mo (Treasury)','Excess Return % 12-mo (Agg)','Excess Return % 24-mo (Treasury)','Excess Return % 24-mo (Agg)','Excess Return % 36-mo (Treasury)','Excess Return % 36-mo (Agg)'])\n",
    "df_IG.head()"
   ]
  },
  {
   "cell_type": "code",
   "execution_count": 78,
   "metadata": {
    "scrolled": false
   },
   "outputs": [
    {
     "name": "stdout",
     "output_type": "stream",
     "text": [
      "<class 'pandas.core.frame.DataFrame'>\n",
      "RangeIndex: 279 entries, 0 to 278\n",
      "Data columns (total 77 columns):\n",
      " #   Column                             Non-Null Count  Dtype         \n",
      "---  ------                             --------------  -----         \n",
      " 0   Date                               279 non-null    datetime64[ns]\n",
      " 1   OAS                                279 non-null    int64         \n",
      " 2   Total Return % 1-mo-LOC            279 non-null    float64       \n",
      " 3   Agg Returns                        279 non-null    float64       \n",
      " 4   Excess Return % 1-mo (Treasury)    279 non-null    float64       \n",
      " 5   Excess Return % 1-mo (Agg)         279 non-null    float64       \n",
      " 6   Quadrant                           279 non-null    int64         \n",
      " 7   Excess Return % 2-mo (Treasury_)   278 non-null    float64       \n",
      " 8   Excess Return % 3-mo (Treasury_)   277 non-null    float64       \n",
      " 9   Excess Return % 4-mo (Treasury_)   276 non-null    float64       \n",
      " 10  Excess Return % 5-mo (Treasury_)   275 non-null    float64       \n",
      " 11  Excess Return % 6-mo (Treasury_)   274 non-null    float64       \n",
      " 12  Excess Return % 7-mo (Treasury_)   273 non-null    float64       \n",
      " 13  Excess Return % 8-mo (Treasury_)   272 non-null    float64       \n",
      " 14  Excess Return % 9-mo (Treasury_)   271 non-null    float64       \n",
      " 15  Excess Return % 10-mo (Treasury_)  270 non-null    float64       \n",
      " 16  Excess Return % 11-mo (Treasury_)  269 non-null    float64       \n",
      " 17  Excess Return % 12-mo (Treasury_)  268 non-null    float64       \n",
      " 18  Excess Return % 13-mo (Treasury_)  267 non-null    float64       \n",
      " 19  Excess Return % 14-mo (Treasury_)  266 non-null    float64       \n",
      " 20  Excess Return % 15-mo (Treasury_)  265 non-null    float64       \n",
      " 21  Excess Return % 16-mo (Treasury_)  264 non-null    float64       \n",
      " 22  Excess Return % 17-mo (Treasury_)  263 non-null    float64       \n",
      " 23  Excess Return % 18-mo (Treasury_)  262 non-null    float64       \n",
      " 24  Excess Return % 19-mo (Treasury_)  261 non-null    float64       \n",
      " 25  Excess Return % 20-mo (Treasury_)  260 non-null    float64       \n",
      " 26  Excess Return % 21-mo (Treasury_)  259 non-null    float64       \n",
      " 27  Excess Return % 22-mo (Treasury_)  258 non-null    float64       \n",
      " 28  Excess Return % 23-mo (Treasury_)  257 non-null    float64       \n",
      " 29  Excess Return % 24-mo (Treasury_)  256 non-null    float64       \n",
      " 30  Excess Return % 25-mo (Treasury_)  255 non-null    float64       \n",
      " 31  Excess Return % 26-mo (Treasury_)  254 non-null    float64       \n",
      " 32  Excess Return % 27-mo (Treasury_)  253 non-null    float64       \n",
      " 33  Excess Return % 28-mo (Treasury_)  252 non-null    float64       \n",
      " 34  Excess Return % 29-mo (Treasury_)  251 non-null    float64       \n",
      " 35  Excess Return % 30-mo (Treasury_)  250 non-null    float64       \n",
      " 36  Excess Return % 31-mo (Treasury_)  249 non-null    float64       \n",
      " 37  Excess Return % 32-mo (Treasury_)  248 non-null    float64       \n",
      " 38  Excess Return % 33-mo (Treasury_)  247 non-null    float64       \n",
      " 39  Excess Return % 34-mo (Treasury_)  246 non-null    float64       \n",
      " 40  Excess Return % 35-mo (Treasury_)  245 non-null    float64       \n",
      " 41  Excess Return % 36-mo (Treasury_)  244 non-null    float64       \n",
      " 42  Excess Return % 2-mo (Agg_)        278 non-null    float64       \n",
      " 43  Excess Return % 3-mo (Agg_)        277 non-null    float64       \n",
      " 44  Excess Return % 4-mo (Agg_)        276 non-null    float64       \n",
      " 45  Excess Return % 5-mo (Agg_)        275 non-null    float64       \n",
      " 46  Excess Return % 6-mo (Agg_)        274 non-null    float64       \n",
      " 47  Excess Return % 7-mo (Agg_)        273 non-null    float64       \n",
      " 48  Excess Return % 8-mo (Agg_)        272 non-null    float64       \n",
      " 49  Excess Return % 9-mo (Agg_)        271 non-null    float64       \n",
      " 50  Excess Return % 10-mo (Agg_)       270 non-null    float64       \n",
      " 51  Excess Return % 11-mo (Agg_)       269 non-null    float64       \n",
      " 52  Excess Return % 12-mo (Agg_)       268 non-null    float64       \n",
      " 53  Excess Return % 13-mo (Agg_)       267 non-null    float64       \n",
      " 54  Excess Return % 14-mo (Agg_)       266 non-null    float64       \n",
      " 55  Excess Return % 15-mo (Agg_)       265 non-null    float64       \n",
      " 56  Excess Return % 16-mo (Agg_)       264 non-null    float64       \n",
      " 57  Excess Return % 17-mo (Agg_)       263 non-null    float64       \n",
      " 58  Excess Return % 18-mo (Agg_)       262 non-null    float64       \n",
      " 59  Excess Return % 19-mo (Agg_)       261 non-null    float64       \n",
      " 60  Excess Return % 20-mo (Agg_)       260 non-null    float64       \n",
      " 61  Excess Return % 21-mo (Agg_)       259 non-null    float64       \n",
      " 62  Excess Return % 22-mo (Agg_)       258 non-null    float64       \n",
      " 63  Excess Return % 23-mo (Agg_)       257 non-null    float64       \n",
      " 64  Excess Return % 24-mo (Agg_)       256 non-null    float64       \n",
      " 65  Excess Return % 25-mo (Agg_)       255 non-null    float64       \n",
      " 66  Excess Return % 26-mo (Agg_)       254 non-null    float64       \n",
      " 67  Excess Return % 27-mo (Agg_)       253 non-null    float64       \n",
      " 68  Excess Return % 28-mo (Agg_)       252 non-null    float64       \n",
      " 69  Excess Return % 29-mo (Agg_)       251 non-null    float64       \n",
      " 70  Excess Return % 30-mo (Agg_)       250 non-null    float64       \n",
      " 71  Excess Return % 31-mo (Agg_)       249 non-null    float64       \n",
      " 72  Excess Return % 32-mo (Agg_)       248 non-null    float64       \n",
      " 73  Excess Return % 33-mo (Agg_)       247 non-null    float64       \n",
      " 74  Excess Return % 34-mo (Agg_)       246 non-null    float64       \n",
      " 75  Excess Return % 35-mo (Agg_)       245 non-null    float64       \n",
      " 76  Excess Return % 36-mo (Agg_)       244 non-null    float64       \n",
      "dtypes: datetime64[ns](1), float64(74), int64(2)\n",
      "memory usage: 168.0 KB\n"
     ]
    }
   ],
   "source": [
    "df_IG.info() #"
   ]
  },
  {
   "cell_type": "markdown",
   "metadata": {},
   "source": [
    "# Now, lets get rid of outliers"
   ]
  },
  {
   "cell_type": "code",
   "execution_count": 79,
   "metadata": {},
   "outputs": [],
   "source": [
    "# OAS Outlier Adjustment\n",
    "#q1 = df_IG[\"OAS\"].quantile(0.25)\n",
    "#q3 = df_IG[\"OAS\"].quantile(0.75)\n",
    "\n",
    "#iqr = q3 - q1\n",
    "\n",
    "#lower_bound = q1 -(1.5 * iqr) \n",
    "#upper_bound = q3 +(1.5 * iqr)\n",
    "\n",
    "#df_IG = df_IG[(df_IG['OAS'] > lower_bound) & (df_IG['OAS'] < upper_bound)] # gets rid of outliers"
   ]
  },
  {
   "cell_type": "code",
   "execution_count": 80,
   "metadata": {},
   "outputs": [],
   "source": [
    "#print(lower_bound) # any value less than this will not be in the sample"
   ]
  },
  {
   "cell_type": "code",
   "execution_count": 81,
   "metadata": {
    "scrolled": true
   },
   "outputs": [],
   "source": [
    "#print(upper_bound) # any value greater than this will not be in the sample"
   ]
  },
  {
   "cell_type": "code",
   "execution_count": 82,
   "metadata": {},
   "outputs": [],
   "source": [
    "#df_IG.describe()"
   ]
  },
  {
   "cell_type": "code",
   "execution_count": 83,
   "metadata": {},
   "outputs": [],
   "source": [
    "#df_IG.describe()"
   ]
  },
  {
   "cell_type": "code",
   "execution_count": 84,
   "metadata": {},
   "outputs": [],
   "source": [
    "#df_IG.head()"
   ]
  },
  {
   "cell_type": "markdown",
   "metadata": {},
   "source": [
    "# Time to Normalize our data, we use min/max scale"
   ]
  },
  {
   "cell_type": "code",
   "execution_count": 85,
   "metadata": {},
   "outputs": [
    {
     "name": "stdout",
     "output_type": "stream",
     "text": [
      "<class 'pandas.core.frame.DataFrame'>\n",
      "RangeIndex: 279 entries, 0 to 278\n",
      "Data columns (total 77 columns):\n",
      " #   Column                             Non-Null Count  Dtype         \n",
      "---  ------                             --------------  -----         \n",
      " 0   Date                               279 non-null    datetime64[ns]\n",
      " 1   OAS                                279 non-null    int64         \n",
      " 2   Total Return % 1-mo-LOC            279 non-null    float64       \n",
      " 3   Agg Returns                        279 non-null    float64       \n",
      " 4   Excess Return % 1-mo (Treasury)    279 non-null    float64       \n",
      " 5   Excess Return % 1-mo (Agg)         279 non-null    float64       \n",
      " 6   Quadrant                           279 non-null    int64         \n",
      " 7   Excess Return % 2-mo (Treasury_)   278 non-null    float64       \n",
      " 8   Excess Return % 3-mo (Treasury_)   277 non-null    float64       \n",
      " 9   Excess Return % 4-mo (Treasury_)   276 non-null    float64       \n",
      " 10  Excess Return % 5-mo (Treasury_)   275 non-null    float64       \n",
      " 11  Excess Return % 6-mo (Treasury_)   274 non-null    float64       \n",
      " 12  Excess Return % 7-mo (Treasury_)   273 non-null    float64       \n",
      " 13  Excess Return % 8-mo (Treasury_)   272 non-null    float64       \n",
      " 14  Excess Return % 9-mo (Treasury_)   271 non-null    float64       \n",
      " 15  Excess Return % 10-mo (Treasury_)  270 non-null    float64       \n",
      " 16  Excess Return % 11-mo (Treasury_)  269 non-null    float64       \n",
      " 17  Excess Return % 12-mo (Treasury_)  268 non-null    float64       \n",
      " 18  Excess Return % 13-mo (Treasury_)  267 non-null    float64       \n",
      " 19  Excess Return % 14-mo (Treasury_)  266 non-null    float64       \n",
      " 20  Excess Return % 15-mo (Treasury_)  265 non-null    float64       \n",
      " 21  Excess Return % 16-mo (Treasury_)  264 non-null    float64       \n",
      " 22  Excess Return % 17-mo (Treasury_)  263 non-null    float64       \n",
      " 23  Excess Return % 18-mo (Treasury_)  262 non-null    float64       \n",
      " 24  Excess Return % 19-mo (Treasury_)  261 non-null    float64       \n",
      " 25  Excess Return % 20-mo (Treasury_)  260 non-null    float64       \n",
      " 26  Excess Return % 21-mo (Treasury_)  259 non-null    float64       \n",
      " 27  Excess Return % 22-mo (Treasury_)  258 non-null    float64       \n",
      " 28  Excess Return % 23-mo (Treasury_)  257 non-null    float64       \n",
      " 29  Excess Return % 24-mo (Treasury_)  256 non-null    float64       \n",
      " 30  Excess Return % 25-mo (Treasury_)  255 non-null    float64       \n",
      " 31  Excess Return % 26-mo (Treasury_)  254 non-null    float64       \n",
      " 32  Excess Return % 27-mo (Treasury_)  253 non-null    float64       \n",
      " 33  Excess Return % 28-mo (Treasury_)  252 non-null    float64       \n",
      " 34  Excess Return % 29-mo (Treasury_)  251 non-null    float64       \n",
      " 35  Excess Return % 30-mo (Treasury_)  250 non-null    float64       \n",
      " 36  Excess Return % 31-mo (Treasury_)  249 non-null    float64       \n",
      " 37  Excess Return % 32-mo (Treasury_)  248 non-null    float64       \n",
      " 38  Excess Return % 33-mo (Treasury_)  247 non-null    float64       \n",
      " 39  Excess Return % 34-mo (Treasury_)  246 non-null    float64       \n",
      " 40  Excess Return % 35-mo (Treasury_)  245 non-null    float64       \n",
      " 41  Excess Return % 36-mo (Treasury_)  244 non-null    float64       \n",
      " 42  Excess Return % 2-mo (Agg_)        278 non-null    float64       \n",
      " 43  Excess Return % 3-mo (Agg_)        277 non-null    float64       \n",
      " 44  Excess Return % 4-mo (Agg_)        276 non-null    float64       \n",
      " 45  Excess Return % 5-mo (Agg_)        275 non-null    float64       \n",
      " 46  Excess Return % 6-mo (Agg_)        274 non-null    float64       \n",
      " 47  Excess Return % 7-mo (Agg_)        273 non-null    float64       \n",
      " 48  Excess Return % 8-mo (Agg_)        272 non-null    float64       \n",
      " 49  Excess Return % 9-mo (Agg_)        271 non-null    float64       \n",
      " 50  Excess Return % 10-mo (Agg_)       270 non-null    float64       \n",
      " 51  Excess Return % 11-mo (Agg_)       269 non-null    float64       \n",
      " 52  Excess Return % 12-mo (Agg_)       268 non-null    float64       \n",
      " 53  Excess Return % 13-mo (Agg_)       267 non-null    float64       \n",
      " 54  Excess Return % 14-mo (Agg_)       266 non-null    float64       \n",
      " 55  Excess Return % 15-mo (Agg_)       265 non-null    float64       \n",
      " 56  Excess Return % 16-mo (Agg_)       264 non-null    float64       \n",
      " 57  Excess Return % 17-mo (Agg_)       263 non-null    float64       \n",
      " 58  Excess Return % 18-mo (Agg_)       262 non-null    float64       \n",
      " 59  Excess Return % 19-mo (Agg_)       261 non-null    float64       \n",
      " 60  Excess Return % 20-mo (Agg_)       260 non-null    float64       \n",
      " 61  Excess Return % 21-mo (Agg_)       259 non-null    float64       \n",
      " 62  Excess Return % 22-mo (Agg_)       258 non-null    float64       \n",
      " 63  Excess Return % 23-mo (Agg_)       257 non-null    float64       \n",
      " 64  Excess Return % 24-mo (Agg_)       256 non-null    float64       \n",
      " 65  Excess Return % 25-mo (Agg_)       255 non-null    float64       \n",
      " 66  Excess Return % 26-mo (Agg_)       254 non-null    float64       \n",
      " 67  Excess Return % 27-mo (Agg_)       253 non-null    float64       \n",
      " 68  Excess Return % 28-mo (Agg_)       252 non-null    float64       \n",
      " 69  Excess Return % 29-mo (Agg_)       251 non-null    float64       \n",
      " 70  Excess Return % 30-mo (Agg_)       250 non-null    float64       \n",
      " 71  Excess Return % 31-mo (Agg_)       249 non-null    float64       \n",
      " 72  Excess Return % 32-mo (Agg_)       248 non-null    float64       \n",
      " 73  Excess Return % 33-mo (Agg_)       247 non-null    float64       \n",
      " 74  Excess Return % 34-mo (Agg_)       246 non-null    float64       \n",
      " 75  Excess Return % 35-mo (Agg_)       245 non-null    float64       \n",
      " 76  Excess Return % 36-mo (Agg_)       244 non-null    float64       \n",
      "dtypes: datetime64[ns](1), float64(74), int64(2)\n",
      "memory usage: 168.0 KB\n"
     ]
    }
   ],
   "source": [
    "df_IG['OAS'] = pd.to_numeric(df_IG['OAS'],errors='coerce') # converting back to float64 for normalize\n",
    "\n",
    "#df_IG = df_IG.drop(columns = ['Date','Quadrant']) # dropping these so we can normalize (all variables must be floats)\n",
    "\n",
    "df_IG.info()"
   ]
  },
  {
   "cell_type": "code",
   "execution_count": 86,
   "metadata": {},
   "outputs": [
    {
     "data": {
      "text/html": [
       "<div>\n",
       "<style scoped>\n",
       "    .dataframe tbody tr th:only-of-type {\n",
       "        vertical-align: middle;\n",
       "    }\n",
       "\n",
       "    .dataframe tbody tr th {\n",
       "        vertical-align: top;\n",
       "    }\n",
       "\n",
       "    .dataframe thead th {\n",
       "        text-align: right;\n",
       "    }\n",
       "</style>\n",
       "<table border=\"1\" class=\"dataframe\">\n",
       "  <thead>\n",
       "    <tr style=\"text-align: right;\">\n",
       "      <th></th>\n",
       "      <th>Date</th>\n",
       "      <th>OAS</th>\n",
       "      <th>Total Return % 1-mo-LOC</th>\n",
       "      <th>Agg Returns</th>\n",
       "      <th>Excess Return % 1-mo (Treasury)</th>\n",
       "      <th>Excess Return % 1-mo (Agg)</th>\n",
       "      <th>Quadrant</th>\n",
       "      <th>Excess Return % 2-mo (Treasury_)</th>\n",
       "      <th>Excess Return % 3-mo (Treasury_)</th>\n",
       "      <th>Excess Return % 4-mo (Treasury_)</th>\n",
       "      <th>...</th>\n",
       "      <th>Excess Return % 27-mo (Agg_)</th>\n",
       "      <th>Excess Return % 28-mo (Agg_)</th>\n",
       "      <th>Excess Return % 29-mo (Agg_)</th>\n",
       "      <th>Excess Return % 30-mo (Agg_)</th>\n",
       "      <th>Excess Return % 31-mo (Agg_)</th>\n",
       "      <th>Excess Return % 32-mo (Agg_)</th>\n",
       "      <th>Excess Return % 33-mo (Agg_)</th>\n",
       "      <th>Excess Return % 34-mo (Agg_)</th>\n",
       "      <th>Excess Return % 35-mo (Agg_)</th>\n",
       "      <th>Excess Return % 36-mo (Agg_)</th>\n",
       "    </tr>\n",
       "  </thead>\n",
       "  <tbody>\n",
       "    <tr>\n",
       "      <th>0</th>\n",
       "      <td>1997-01-31</td>\n",
       "      <td>61</td>\n",
       "      <td>0.142</td>\n",
       "      <td>0.3062</td>\n",
       "      <td>0.102</td>\n",
       "      <td>-0.1642</td>\n",
       "      <td>4</td>\n",
       "      <td>0.336</td>\n",
       "      <td>0.437</td>\n",
       "      <td>0.331</td>\n",
       "      <td>...</td>\n",
       "      <td>0.6234</td>\n",
       "      <td>0.6536</td>\n",
       "      <td>0.0825</td>\n",
       "      <td>-0.0919</td>\n",
       "      <td>-0.2512</td>\n",
       "      <td>-0.4573</td>\n",
       "      <td>-0.4842</td>\n",
       "      <td>-0.5422</td>\n",
       "      <td>-0.3970</td>\n",
       "      <td>-0.2728</td>\n",
       "    </tr>\n",
       "    <tr>\n",
       "      <th>1</th>\n",
       "      <td>1997-02-28</td>\n",
       "      <td>59</td>\n",
       "      <td>0.255</td>\n",
       "      <td>0.2488</td>\n",
       "      <td>0.234</td>\n",
       "      <td>0.0062</td>\n",
       "      <td>4</td>\n",
       "      <td>0.335</td>\n",
       "      <td>0.229</td>\n",
       "      <td>0.188</td>\n",
       "      <td>...</td>\n",
       "      <td>0.8178</td>\n",
       "      <td>0.2467</td>\n",
       "      <td>0.0723</td>\n",
       "      <td>-0.0870</td>\n",
       "      <td>-0.2931</td>\n",
       "      <td>-0.3200</td>\n",
       "      <td>-0.3780</td>\n",
       "      <td>-0.2328</td>\n",
       "      <td>-0.1086</td>\n",
       "      <td>-0.1162</td>\n",
       "    </tr>\n",
       "    <tr>\n",
       "      <th>2</th>\n",
       "      <td>1997-03-31</td>\n",
       "      <td>57</td>\n",
       "      <td>-1.250</td>\n",
       "      <td>-1.1082</td>\n",
       "      <td>0.101</td>\n",
       "      <td>-0.1418</td>\n",
       "      <td>4</td>\n",
       "      <td>-0.005</td>\n",
       "      <td>-0.046</td>\n",
       "      <td>0.211</td>\n",
       "      <td>...</td>\n",
       "      <td>0.2405</td>\n",
       "      <td>0.0661</td>\n",
       "      <td>-0.0932</td>\n",
       "      <td>-0.2993</td>\n",
       "      <td>-0.3262</td>\n",
       "      <td>-0.3842</td>\n",
       "      <td>-0.2390</td>\n",
       "      <td>-0.1148</td>\n",
       "      <td>-0.1224</td>\n",
       "      <td>-0.5578</td>\n",
       "    </tr>\n",
       "    <tr>\n",
       "      <th>3</th>\n",
       "      <td>1997-04-30</td>\n",
       "      <td>59</td>\n",
       "      <td>1.617</td>\n",
       "      <td>1.4969</td>\n",
       "      <td>-0.106</td>\n",
       "      <td>0.1201</td>\n",
       "      <td>4</td>\n",
       "      <td>-0.147</td>\n",
       "      <td>0.110</td>\n",
       "      <td>0.278</td>\n",
       "      <td>...</td>\n",
       "      <td>0.2079</td>\n",
       "      <td>0.0486</td>\n",
       "      <td>-0.1575</td>\n",
       "      <td>-0.1844</td>\n",
       "      <td>-0.2424</td>\n",
       "      <td>-0.0972</td>\n",
       "      <td>0.0270</td>\n",
       "      <td>0.0194</td>\n",
       "      <td>-0.4160</td>\n",
       "      <td>-0.6244</td>\n",
       "    </tr>\n",
       "    <tr>\n",
       "      <th>4</th>\n",
       "      <td>1997-05-31</td>\n",
       "      <td>61</td>\n",
       "      <td>0.916</td>\n",
       "      <td>0.9453</td>\n",
       "      <td>-0.041</td>\n",
       "      <td>-0.0293</td>\n",
       "      <td>4</td>\n",
       "      <td>0.216</td>\n",
       "      <td>0.384</td>\n",
       "      <td>0.338</td>\n",
       "      <td>...</td>\n",
       "      <td>-0.0715</td>\n",
       "      <td>-0.2776</td>\n",
       "      <td>-0.3045</td>\n",
       "      <td>-0.3625</td>\n",
       "      <td>-0.2173</td>\n",
       "      <td>-0.0931</td>\n",
       "      <td>-0.1007</td>\n",
       "      <td>-0.5361</td>\n",
       "      <td>-0.7445</td>\n",
       "      <td>-1.6942</td>\n",
       "    </tr>\n",
       "  </tbody>\n",
       "</table>\n",
       "<p>5 rows × 77 columns</p>\n",
       "</div>"
      ],
      "text/plain": [
       "        Date  OAS  Total Return % 1-mo-LOC  Agg Returns  \\\n",
       "0 1997-01-31   61                    0.142       0.3062   \n",
       "1 1997-02-28   59                    0.255       0.2488   \n",
       "2 1997-03-31   57                   -1.250      -1.1082   \n",
       "3 1997-04-30   59                    1.617       1.4969   \n",
       "4 1997-05-31   61                    0.916       0.9453   \n",
       "\n",
       "   Excess Return % 1-mo (Treasury)  Excess Return % 1-mo (Agg)  Quadrant  \\\n",
       "0                            0.102                     -0.1642         4   \n",
       "1                            0.234                      0.0062         4   \n",
       "2                            0.101                     -0.1418         4   \n",
       "3                           -0.106                      0.1201         4   \n",
       "4                           -0.041                     -0.0293         4   \n",
       "\n",
       "   Excess Return % 2-mo (Treasury_)  Excess Return % 3-mo (Treasury_)  \\\n",
       "0                             0.336                             0.437   \n",
       "1                             0.335                             0.229   \n",
       "2                            -0.005                            -0.046   \n",
       "3                            -0.147                             0.110   \n",
       "4                             0.216                             0.384   \n",
       "\n",
       "   Excess Return % 4-mo (Treasury_)  ...  Excess Return % 27-mo (Agg_)  \\\n",
       "0                             0.331  ...                        0.6234   \n",
       "1                             0.188  ...                        0.8178   \n",
       "2                             0.211  ...                        0.2405   \n",
       "3                             0.278  ...                        0.2079   \n",
       "4                             0.338  ...                       -0.0715   \n",
       "\n",
       "   Excess Return % 28-mo (Agg_)  Excess Return % 29-mo (Agg_)  \\\n",
       "0                        0.6536                        0.0825   \n",
       "1                        0.2467                        0.0723   \n",
       "2                        0.0661                       -0.0932   \n",
       "3                        0.0486                       -0.1575   \n",
       "4                       -0.2776                       -0.3045   \n",
       "\n",
       "   Excess Return % 30-mo (Agg_)  Excess Return % 31-mo (Agg_)  \\\n",
       "0                       -0.0919                       -0.2512   \n",
       "1                       -0.0870                       -0.2931   \n",
       "2                       -0.2993                       -0.3262   \n",
       "3                       -0.1844                       -0.2424   \n",
       "4                       -0.3625                       -0.2173   \n",
       "\n",
       "   Excess Return % 32-mo (Agg_)  Excess Return % 33-mo (Agg_)  \\\n",
       "0                       -0.4573                       -0.4842   \n",
       "1                       -0.3200                       -0.3780   \n",
       "2                       -0.3842                       -0.2390   \n",
       "3                       -0.0972                        0.0270   \n",
       "4                       -0.0931                       -0.1007   \n",
       "\n",
       "   Excess Return % 34-mo (Agg_)  Excess Return % 35-mo (Agg_)  \\\n",
       "0                       -0.5422                       -0.3970   \n",
       "1                       -0.2328                       -0.1086   \n",
       "2                       -0.1148                       -0.1224   \n",
       "3                        0.0194                       -0.4160   \n",
       "4                       -0.5361                       -0.7445   \n",
       "\n",
       "   Excess Return % 36-mo (Agg_)  \n",
       "0                       -0.2728  \n",
       "1                       -0.1162  \n",
       "2                       -0.5578  \n",
       "3                       -0.6244  \n",
       "4                       -1.6942  \n",
       "\n",
       "[5 rows x 77 columns]"
      ]
     },
     "execution_count": 86,
     "metadata": {},
     "output_type": "execute_result"
    }
   ],
   "source": [
    "df_IG.head()"
   ]
  },
  {
   "cell_type": "code",
   "execution_count": 87,
   "metadata": {
    "scrolled": false
   },
   "outputs": [
    {
     "name": "stdout",
     "output_type": "stream",
     "text": [
      "OAS                                  6.250000\n",
      "Excess Return % 1-mo (Treasury)     -1.581250\n",
      "Excess Return % 1-mo (Agg)          -1.126500\n",
      "Excess Return % 2-mo (Treasury_)    -2.588375\n",
      "Excess Return % 3-mo (Treasury_)    -3.362000\n",
      "                                      ...    \n",
      "Excess Return % 32-mo (Agg_)        -9.306600\n",
      "Excess Return % 33-mo (Agg_)        -9.641275\n",
      "Excess Return % 34-mo (Agg_)        -9.640963\n",
      "Excess Return % 35-mo (Agg_)       -10.413300\n",
      "Excess Return % 36-mo (Agg_)       -10.655862\n",
      "Length: 73, dtype: float64\n",
      "OAS                                 272.250000\n",
      "Excess Return % 1-mo (Treasury)       1.708750\n",
      "Excess Return % 1-mo (Agg)            1.302300\n",
      "Excess Return % 2-mo (Treasury_)      2.930625\n",
      "Excess Return % 3-mo (Treasury_)      3.894000\n",
      "                                       ...    \n",
      "Excess Return % 32-mo (Agg_)         13.844000\n",
      "Excess Return % 33-mo (Agg_)         14.051325\n",
      "Excess Return % 34-mo (Agg_)         14.173738\n",
      "Excess Return % 35-mo (Agg_)         15.286700\n",
      "Excess Return % 36-mo (Agg_)         15.564837\n",
      "Length: 73, dtype: float64\n"
     ]
    }
   ],
   "source": [
    "# For P-value analysis we don't need these\n",
    "df_IG = df_IG.drop(columns = ['Date', 'Quadrant', 'Agg Returns', 'Total Return % 1-mo-LOC'])\n",
    "\n",
    "q1 = df_IG.quantile(0.25)\n",
    "q3 = df_IG.quantile(0.75)\n",
    "\n",
    "iqr = q3 - q1\n",
    "\n",
    "lower_bound = q1 -(1.5 * iqr) \n",
    "upper_bound = q3 +(1.5 * iqr)\n",
    "\n",
    "print(lower_bound)\n",
    "print(upper_bound)\n",
    "\n",
    "df_IG = df_IG[(df_IG > lower_bound) & (df_IG < upper_bound)] # gets rid of outliers on both return side and OAS side"
   ]
  },
  {
   "cell_type": "code",
   "execution_count": 88,
   "metadata": {},
   "outputs": [
    {
     "data": {
      "text/html": [
       "<div>\n",
       "<style scoped>\n",
       "    .dataframe tbody tr th:only-of-type {\n",
       "        vertical-align: middle;\n",
       "    }\n",
       "\n",
       "    .dataframe tbody tr th {\n",
       "        vertical-align: top;\n",
       "    }\n",
       "\n",
       "    .dataframe thead th {\n",
       "        text-align: right;\n",
       "    }\n",
       "</style>\n",
       "<table border=\"1\" class=\"dataframe\">\n",
       "  <thead>\n",
       "    <tr style=\"text-align: right;\">\n",
       "      <th></th>\n",
       "      <th>OAS</th>\n",
       "      <th>Excess Return % 1-mo (Treasury)</th>\n",
       "      <th>Excess Return % 1-mo (Agg)</th>\n",
       "      <th>Excess Return % 2-mo (Treasury_)</th>\n",
       "      <th>Excess Return % 3-mo (Treasury_)</th>\n",
       "      <th>Excess Return % 4-mo (Treasury_)</th>\n",
       "      <th>Excess Return % 5-mo (Treasury_)</th>\n",
       "      <th>Excess Return % 6-mo (Treasury_)</th>\n",
       "      <th>Excess Return % 7-mo (Treasury_)</th>\n",
       "      <th>Excess Return % 8-mo (Treasury_)</th>\n",
       "      <th>...</th>\n",
       "      <th>Excess Return % 27-mo (Agg_)</th>\n",
       "      <th>Excess Return % 28-mo (Agg_)</th>\n",
       "      <th>Excess Return % 29-mo (Agg_)</th>\n",
       "      <th>Excess Return % 30-mo (Agg_)</th>\n",
       "      <th>Excess Return % 31-mo (Agg_)</th>\n",
       "      <th>Excess Return % 32-mo (Agg_)</th>\n",
       "      <th>Excess Return % 33-mo (Agg_)</th>\n",
       "      <th>Excess Return % 34-mo (Agg_)</th>\n",
       "      <th>Excess Return % 35-mo (Agg_)</th>\n",
       "      <th>Excess Return % 36-mo (Agg_)</th>\n",
       "    </tr>\n",
       "  </thead>\n",
       "  <tbody>\n",
       "    <tr>\n",
       "      <th>0</th>\n",
       "      <td>61.0</td>\n",
       "      <td>0.102</td>\n",
       "      <td>-0.1642</td>\n",
       "      <td>0.336</td>\n",
       "      <td>0.437</td>\n",
       "      <td>0.331</td>\n",
       "      <td>0.290</td>\n",
       "      <td>0.547</td>\n",
       "      <td>0.715</td>\n",
       "      <td>0.669</td>\n",
       "      <td>...</td>\n",
       "      <td>0.6234</td>\n",
       "      <td>0.6536</td>\n",
       "      <td>0.0825</td>\n",
       "      <td>-0.0919</td>\n",
       "      <td>-0.2512</td>\n",
       "      <td>-0.4573</td>\n",
       "      <td>-0.4842</td>\n",
       "      <td>-0.5422</td>\n",
       "      <td>-0.3970</td>\n",
       "      <td>-0.2728</td>\n",
       "    </tr>\n",
       "    <tr>\n",
       "      <th>1</th>\n",
       "      <td>59.0</td>\n",
       "      <td>0.234</td>\n",
       "      <td>0.0062</td>\n",
       "      <td>0.335</td>\n",
       "      <td>0.229</td>\n",
       "      <td>0.188</td>\n",
       "      <td>0.445</td>\n",
       "      <td>0.613</td>\n",
       "      <td>0.567</td>\n",
       "      <td>0.576</td>\n",
       "      <td>...</td>\n",
       "      <td>0.8178</td>\n",
       "      <td>0.2467</td>\n",
       "      <td>0.0723</td>\n",
       "      <td>-0.0870</td>\n",
       "      <td>-0.2931</td>\n",
       "      <td>-0.3200</td>\n",
       "      <td>-0.3780</td>\n",
       "      <td>-0.2328</td>\n",
       "      <td>-0.1086</td>\n",
       "      <td>-0.1162</td>\n",
       "    </tr>\n",
       "    <tr>\n",
       "      <th>2</th>\n",
       "      <td>57.0</td>\n",
       "      <td>0.101</td>\n",
       "      <td>-0.1418</td>\n",
       "      <td>-0.005</td>\n",
       "      <td>-0.046</td>\n",
       "      <td>0.211</td>\n",
       "      <td>0.379</td>\n",
       "      <td>0.333</td>\n",
       "      <td>0.342</td>\n",
       "      <td>-0.266</td>\n",
       "      <td>...</td>\n",
       "      <td>0.2405</td>\n",
       "      <td>0.0661</td>\n",
       "      <td>-0.0932</td>\n",
       "      <td>-0.2993</td>\n",
       "      <td>-0.3262</td>\n",
       "      <td>-0.3842</td>\n",
       "      <td>-0.2390</td>\n",
       "      <td>-0.1148</td>\n",
       "      <td>-0.1224</td>\n",
       "      <td>-0.5578</td>\n",
       "    </tr>\n",
       "    <tr>\n",
       "      <th>3</th>\n",
       "      <td>59.0</td>\n",
       "      <td>-0.106</td>\n",
       "      <td>0.1201</td>\n",
       "      <td>-0.147</td>\n",
       "      <td>0.110</td>\n",
       "      <td>0.278</td>\n",
       "      <td>0.232</td>\n",
       "      <td>0.241</td>\n",
       "      <td>-0.367</td>\n",
       "      <td>-0.580</td>\n",
       "      <td>...</td>\n",
       "      <td>0.2079</td>\n",
       "      <td>0.0486</td>\n",
       "      <td>-0.1575</td>\n",
       "      <td>-0.1844</td>\n",
       "      <td>-0.2424</td>\n",
       "      <td>-0.0972</td>\n",
       "      <td>0.0270</td>\n",
       "      <td>0.0194</td>\n",
       "      <td>-0.4160</td>\n",
       "      <td>-0.6244</td>\n",
       "    </tr>\n",
       "    <tr>\n",
       "      <th>4</th>\n",
       "      <td>61.0</td>\n",
       "      <td>-0.041</td>\n",
       "      <td>-0.0293</td>\n",
       "      <td>0.216</td>\n",
       "      <td>0.384</td>\n",
       "      <td>0.338</td>\n",
       "      <td>0.347</td>\n",
       "      <td>-0.261</td>\n",
       "      <td>-0.474</td>\n",
       "      <td>-0.612</td>\n",
       "      <td>...</td>\n",
       "      <td>-0.0715</td>\n",
       "      <td>-0.2776</td>\n",
       "      <td>-0.3045</td>\n",
       "      <td>-0.3625</td>\n",
       "      <td>-0.2173</td>\n",
       "      <td>-0.0931</td>\n",
       "      <td>-0.1007</td>\n",
       "      <td>-0.5361</td>\n",
       "      <td>-0.7445</td>\n",
       "      <td>-1.6942</td>\n",
       "    </tr>\n",
       "  </tbody>\n",
       "</table>\n",
       "<p>5 rows × 73 columns</p>\n",
       "</div>"
      ],
      "text/plain": [
       "    OAS  Excess Return % 1-mo (Treasury)  Excess Return % 1-mo (Agg)  \\\n",
       "0  61.0                            0.102                     -0.1642   \n",
       "1  59.0                            0.234                      0.0062   \n",
       "2  57.0                            0.101                     -0.1418   \n",
       "3  59.0                           -0.106                      0.1201   \n",
       "4  61.0                           -0.041                     -0.0293   \n",
       "\n",
       "   Excess Return % 2-mo (Treasury_)  Excess Return % 3-mo (Treasury_)  \\\n",
       "0                             0.336                             0.437   \n",
       "1                             0.335                             0.229   \n",
       "2                            -0.005                            -0.046   \n",
       "3                            -0.147                             0.110   \n",
       "4                             0.216                             0.384   \n",
       "\n",
       "   Excess Return % 4-mo (Treasury_)  Excess Return % 5-mo (Treasury_)  \\\n",
       "0                             0.331                             0.290   \n",
       "1                             0.188                             0.445   \n",
       "2                             0.211                             0.379   \n",
       "3                             0.278                             0.232   \n",
       "4                             0.338                             0.347   \n",
       "\n",
       "   Excess Return % 6-mo (Treasury_)  Excess Return % 7-mo (Treasury_)  \\\n",
       "0                             0.547                             0.715   \n",
       "1                             0.613                             0.567   \n",
       "2                             0.333                             0.342   \n",
       "3                             0.241                            -0.367   \n",
       "4                            -0.261                            -0.474   \n",
       "\n",
       "   Excess Return % 8-mo (Treasury_)  ...  Excess Return % 27-mo (Agg_)  \\\n",
       "0                             0.669  ...                        0.6234   \n",
       "1                             0.576  ...                        0.8178   \n",
       "2                            -0.266  ...                        0.2405   \n",
       "3                            -0.580  ...                        0.2079   \n",
       "4                            -0.612  ...                       -0.0715   \n",
       "\n",
       "   Excess Return % 28-mo (Agg_)  Excess Return % 29-mo (Agg_)  \\\n",
       "0                        0.6536                        0.0825   \n",
       "1                        0.2467                        0.0723   \n",
       "2                        0.0661                       -0.0932   \n",
       "3                        0.0486                       -0.1575   \n",
       "4                       -0.2776                       -0.3045   \n",
       "\n",
       "   Excess Return % 30-mo (Agg_)  Excess Return % 31-mo (Agg_)  \\\n",
       "0                       -0.0919                       -0.2512   \n",
       "1                       -0.0870                       -0.2931   \n",
       "2                       -0.2993                       -0.3262   \n",
       "3                       -0.1844                       -0.2424   \n",
       "4                       -0.3625                       -0.2173   \n",
       "\n",
       "   Excess Return % 32-mo (Agg_)  Excess Return % 33-mo (Agg_)  \\\n",
       "0                       -0.4573                       -0.4842   \n",
       "1                       -0.3200                       -0.3780   \n",
       "2                       -0.3842                       -0.2390   \n",
       "3                       -0.0972                        0.0270   \n",
       "4                       -0.0931                       -0.1007   \n",
       "\n",
       "   Excess Return % 34-mo (Agg_)  Excess Return % 35-mo (Agg_)  \\\n",
       "0                       -0.5422                       -0.3970   \n",
       "1                       -0.2328                       -0.1086   \n",
       "2                       -0.1148                       -0.1224   \n",
       "3                        0.0194                       -0.4160   \n",
       "4                       -0.5361                       -0.7445   \n",
       "\n",
       "   Excess Return % 36-mo (Agg_)  \n",
       "0                       -0.2728  \n",
       "1                       -0.1162  \n",
       "2                       -0.5578  \n",
       "3                       -0.6244  \n",
       "4                       -1.6942  \n",
       "\n",
       "[5 rows x 73 columns]"
      ]
     },
     "execution_count": 88,
     "metadata": {},
     "output_type": "execute_result"
    }
   ],
   "source": [
    "df_IG.head()"
   ]
  },
  {
   "cell_type": "code",
   "execution_count": 89,
   "metadata": {},
   "outputs": [
    {
     "name": "stdout",
     "output_type": "stream",
     "text": [
      "<class 'pandas.core.frame.DataFrame'>\n",
      "RangeIndex: 279 entries, 0 to 278\n",
      "Data columns (total 73 columns):\n",
      " #   Column                             Non-Null Count  Dtype  \n",
      "---  ------                             --------------  -----  \n",
      " 0   OAS                                265 non-null    float64\n",
      " 1   Excess Return % 1-mo (Treasury)    249 non-null    float64\n",
      " 2   Excess Return % 1-mo (Agg)         256 non-null    float64\n",
      " 3   Excess Return % 2-mo (Treasury_)   254 non-null    float64\n",
      " 4   Excess Return % 3-mo (Treasury_)   252 non-null    float64\n",
      " 5   Excess Return % 4-mo (Treasury_)   257 non-null    float64\n",
      " 6   Excess Return % 5-mo (Treasury_)   253 non-null    float64\n",
      " 7   Excess Return % 6-mo (Treasury_)   253 non-null    float64\n",
      " 8   Excess Return % 7-mo (Treasury_)   253 non-null    float64\n",
      " 9   Excess Return % 8-mo (Treasury_)   251 non-null    float64\n",
      " 10  Excess Return % 9-mo (Treasury_)   250 non-null    float64\n",
      " 11  Excess Return % 10-mo (Treasury_)  248 non-null    float64\n",
      " 12  Excess Return % 11-mo (Treasury_)  249 non-null    float64\n",
      " 13  Excess Return % 12-mo (Treasury_)  249 non-null    float64\n",
      " 14  Excess Return % 13-mo (Treasury_)  247 non-null    float64\n",
      " 15  Excess Return % 14-mo (Treasury_)  245 non-null    float64\n",
      " 16  Excess Return % 15-mo (Treasury_)  245 non-null    float64\n",
      " 17  Excess Return % 16-mo (Treasury_)  243 non-null    float64\n",
      " 18  Excess Return % 17-mo (Treasury_)  241 non-null    float64\n",
      " 19  Excess Return % 18-mo (Treasury_)  241 non-null    float64\n",
      " 20  Excess Return % 19-mo (Treasury_)  241 non-null    float64\n",
      " 21  Excess Return % 20-mo (Treasury_)  240 non-null    float64\n",
      " 22  Excess Return % 21-mo (Treasury_)  238 non-null    float64\n",
      " 23  Excess Return % 22-mo (Treasury_)  236 non-null    float64\n",
      " 24  Excess Return % 23-mo (Treasury_)  235 non-null    float64\n",
      " 25  Excess Return % 24-mo (Treasury_)  235 non-null    float64\n",
      " 26  Excess Return % 25-mo (Treasury_)  235 non-null    float64\n",
      " 27  Excess Return % 26-mo (Treasury_)  234 non-null    float64\n",
      " 28  Excess Return % 27-mo (Treasury_)  234 non-null    float64\n",
      " 29  Excess Return % 28-mo (Treasury_)  232 non-null    float64\n",
      " 30  Excess Return % 29-mo (Treasury_)  232 non-null    float64\n",
      " 31  Excess Return % 30-mo (Treasury_)  232 non-null    float64\n",
      " 32  Excess Return % 31-mo (Treasury_)  232 non-null    float64\n",
      " 33  Excess Return % 32-mo (Treasury_)  233 non-null    float64\n",
      " 34  Excess Return % 33-mo (Treasury_)  230 non-null    float64\n",
      " 35  Excess Return % 34-mo (Treasury_)  230 non-null    float64\n",
      " 36  Excess Return % 35-mo (Treasury_)  230 non-null    float64\n",
      " 37  Excess Return % 36-mo (Treasury_)  228 non-null    float64\n",
      " 38  Excess Return % 2-mo (Agg_)        260 non-null    float64\n",
      " 39  Excess Return % 3-mo (Agg_)        264 non-null    float64\n",
      " 40  Excess Return % 4-mo (Agg_)        262 non-null    float64\n",
      " 41  Excess Return % 5-mo (Agg_)        260 non-null    float64\n",
      " 42  Excess Return % 6-mo (Agg_)        256 non-null    float64\n",
      " 43  Excess Return % 7-mo (Agg_)        255 non-null    float64\n",
      " 44  Excess Return % 8-mo (Agg_)        253 non-null    float64\n",
      " 45  Excess Return % 9-mo (Agg_)        254 non-null    float64\n",
      " 46  Excess Return % 10-mo (Agg_)       252 non-null    float64\n",
      " 47  Excess Return % 11-mo (Agg_)       252 non-null    float64\n",
      " 48  Excess Return % 12-mo (Agg_)       251 non-null    float64\n",
      " 49  Excess Return % 13-mo (Agg_)       250 non-null    float64\n",
      " 50  Excess Return % 14-mo (Agg_)       248 non-null    float64\n",
      " 51  Excess Return % 15-mo (Agg_)       246 non-null    float64\n",
      " 52  Excess Return % 16-mo (Agg_)       245 non-null    float64\n",
      " 53  Excess Return % 17-mo (Agg_)       245 non-null    float64\n",
      " 54  Excess Return % 18-mo (Agg_)       244 non-null    float64\n",
      " 55  Excess Return % 19-mo (Agg_)       243 non-null    float64\n",
      " 56  Excess Return % 20-mo (Agg_)       242 non-null    float64\n",
      " 57  Excess Return % 21-mo (Agg_)       241 non-null    float64\n",
      " 58  Excess Return % 22-mo (Agg_)       240 non-null    float64\n",
      " 59  Excess Return % 23-mo (Agg_)       239 non-null    float64\n",
      " 60  Excess Return % 24-mo (Agg_)       238 non-null    float64\n",
      " 61  Excess Return % 25-mo (Agg_)       238 non-null    float64\n",
      " 62  Excess Return % 26-mo (Agg_)       236 non-null    float64\n",
      " 63  Excess Return % 27-mo (Agg_)       236 non-null    float64\n",
      " 64  Excess Return % 28-mo (Agg_)       235 non-null    float64\n",
      " 65  Excess Return % 29-mo (Agg_)       234 non-null    float64\n",
      " 66  Excess Return % 30-mo (Agg_)       234 non-null    float64\n",
      " 67  Excess Return % 31-mo (Agg_)       233 non-null    float64\n",
      " 68  Excess Return % 32-mo (Agg_)       233 non-null    float64\n",
      " 69  Excess Return % 33-mo (Agg_)       232 non-null    float64\n",
      " 70  Excess Return % 34-mo (Agg_)       232 non-null    float64\n",
      " 71  Excess Return % 35-mo (Agg_)       232 non-null    float64\n",
      " 72  Excess Return % 36-mo (Agg_)       231 non-null    float64\n",
      "dtypes: float64(73)\n",
      "memory usage: 159.2 KB\n"
     ]
    }
   ],
   "source": [
    "df_IG.info()"
   ]
  },
  {
   "cell_type": "markdown",
   "metadata": {},
   "source": [
    "# We now will normalize our data with Min/Max scaling"
   ]
  },
  {
   "cell_type": "code",
   "execution_count": 90,
   "metadata": {},
   "outputs": [
    {
     "data": {
      "text/html": [
       "<div>\n",
       "<style scoped>\n",
       "    .dataframe tbody tr th:only-of-type {\n",
       "        vertical-align: middle;\n",
       "    }\n",
       "\n",
       "    .dataframe tbody tr th {\n",
       "        vertical-align: top;\n",
       "    }\n",
       "\n",
       "    .dataframe thead th {\n",
       "        text-align: right;\n",
       "    }\n",
       "</style>\n",
       "<table border=\"1\" class=\"dataframe\">\n",
       "  <thead>\n",
       "    <tr style=\"text-align: right;\">\n",
       "      <th></th>\n",
       "      <th>OAS</th>\n",
       "      <th>Excess Return % 1-mo (Treasury)</th>\n",
       "      <th>Excess Return % 1-mo (Agg)</th>\n",
       "      <th>Excess Return % 2-mo (Treasury_)</th>\n",
       "      <th>Excess Return % 3-mo (Treasury_)</th>\n",
       "      <th>Excess Return % 4-mo (Treasury_)</th>\n",
       "      <th>Excess Return % 5-mo (Treasury_)</th>\n",
       "      <th>Excess Return % 6-mo (Treasury_)</th>\n",
       "      <th>Excess Return % 7-mo (Treasury_)</th>\n",
       "      <th>Excess Return % 8-mo (Treasury_)</th>\n",
       "      <th>...</th>\n",
       "      <th>Excess Return % 27-mo (Agg_)</th>\n",
       "      <th>Excess Return % 28-mo (Agg_)</th>\n",
       "      <th>Excess Return % 29-mo (Agg_)</th>\n",
       "      <th>Excess Return % 30-mo (Agg_)</th>\n",
       "      <th>Excess Return % 31-mo (Agg_)</th>\n",
       "      <th>Excess Return % 32-mo (Agg_)</th>\n",
       "      <th>Excess Return % 33-mo (Agg_)</th>\n",
       "      <th>Excess Return % 34-mo (Agg_)</th>\n",
       "      <th>Excess Return % 35-mo (Agg_)</th>\n",
       "      <th>Excess Return % 36-mo (Agg_)</th>\n",
       "    </tr>\n",
       "  </thead>\n",
       "  <tbody>\n",
       "    <tr>\n",
       "      <th>count</th>\n",
       "      <td>265.000000</td>\n",
       "      <td>249.000000</td>\n",
       "      <td>256.000000</td>\n",
       "      <td>254.000000</td>\n",
       "      <td>252.000000</td>\n",
       "      <td>257.000000</td>\n",
       "      <td>253.000000</td>\n",
       "      <td>253.000000</td>\n",
       "      <td>253.000000</td>\n",
       "      <td>251.000000</td>\n",
       "      <td>...</td>\n",
       "      <td>236.000000</td>\n",
       "      <td>235.000000</td>\n",
       "      <td>234.000000</td>\n",
       "      <td>234.000000</td>\n",
       "      <td>233.000000</td>\n",
       "      <td>233.000000</td>\n",
       "      <td>232.000000</td>\n",
       "      <td>232.000000</td>\n",
       "      <td>232.000000</td>\n",
       "      <td>231.000000</td>\n",
       "    </tr>\n",
       "    <tr>\n",
       "      <th>mean</th>\n",
       "      <td>0.400322</td>\n",
       "      <td>0.509477</td>\n",
       "      <td>0.480734</td>\n",
       "      <td>0.507307</td>\n",
       "      <td>0.499083</td>\n",
       "      <td>0.504676</td>\n",
       "      <td>0.515373</td>\n",
       "      <td>0.509209</td>\n",
       "      <td>0.536031</td>\n",
       "      <td>0.519001</td>\n",
       "      <td>...</td>\n",
       "      <td>0.503443</td>\n",
       "      <td>0.548171</td>\n",
       "      <td>0.490763</td>\n",
       "      <td>0.447970</td>\n",
       "      <td>0.463401</td>\n",
       "      <td>0.514846</td>\n",
       "      <td>0.510771</td>\n",
       "      <td>0.493191</td>\n",
       "      <td>0.491403</td>\n",
       "      <td>0.478865</td>\n",
       "    </tr>\n",
       "    <tr>\n",
       "      <th>std</th>\n",
       "      <td>0.215516</td>\n",
       "      <td>0.194349</td>\n",
       "      <td>0.207234</td>\n",
       "      <td>0.193341</td>\n",
       "      <td>0.192868</td>\n",
       "      <td>0.181551</td>\n",
       "      <td>0.192925</td>\n",
       "      <td>0.192404</td>\n",
       "      <td>0.196399</td>\n",
       "      <td>0.198520</td>\n",
       "      <td>...</td>\n",
       "      <td>0.178685</td>\n",
       "      <td>0.187768</td>\n",
       "      <td>0.181019</td>\n",
       "      <td>0.170950</td>\n",
       "      <td>0.173533</td>\n",
       "      <td>0.164916</td>\n",
       "      <td>0.168189</td>\n",
       "      <td>0.169889</td>\n",
       "      <td>0.173559</td>\n",
       "      <td>0.167888</td>\n",
       "    </tr>\n",
       "    <tr>\n",
       "      <th>min</th>\n",
       "      <td>0.000000</td>\n",
       "      <td>0.000000</td>\n",
       "      <td>0.000000</td>\n",
       "      <td>0.000000</td>\n",
       "      <td>0.000000</td>\n",
       "      <td>0.000000</td>\n",
       "      <td>0.000000</td>\n",
       "      <td>0.000000</td>\n",
       "      <td>0.000000</td>\n",
       "      <td>0.000000</td>\n",
       "      <td>...</td>\n",
       "      <td>0.000000</td>\n",
       "      <td>0.000000</td>\n",
       "      <td>0.000000</td>\n",
       "      <td>0.000000</td>\n",
       "      <td>0.000000</td>\n",
       "      <td>0.000000</td>\n",
       "      <td>0.000000</td>\n",
       "      <td>0.000000</td>\n",
       "      <td>0.000000</td>\n",
       "      <td>0.000000</td>\n",
       "    </tr>\n",
       "    <tr>\n",
       "      <th>25%</th>\n",
       "      <td>0.222749</td>\n",
       "      <td>0.387691</td>\n",
       "      <td>0.347067</td>\n",
       "      <td>0.415392</td>\n",
       "      <td>0.392751</td>\n",
       "      <td>0.404670</td>\n",
       "      <td>0.404567</td>\n",
       "      <td>0.401629</td>\n",
       "      <td>0.428740</td>\n",
       "      <td>0.397086</td>\n",
       "      <td>...</td>\n",
       "      <td>0.370659</td>\n",
       "      <td>0.407163</td>\n",
       "      <td>0.351410</td>\n",
       "      <td>0.314903</td>\n",
       "      <td>0.328916</td>\n",
       "      <td>0.383030</td>\n",
       "      <td>0.373051</td>\n",
       "      <td>0.357067</td>\n",
       "      <td>0.348538</td>\n",
       "      <td>0.337948</td>\n",
       "    </tr>\n",
       "    <tr>\n",
       "      <th>50%</th>\n",
       "      <td>0.369668</td>\n",
       "      <td>0.518276</td>\n",
       "      <td>0.483626</td>\n",
       "      <td>0.525239</td>\n",
       "      <td>0.518775</td>\n",
       "      <td>0.510789</td>\n",
       "      <td>0.511524</td>\n",
       "      <td>0.499908</td>\n",
       "      <td>0.528512</td>\n",
       "      <td>0.518854</td>\n",
       "      <td>...</td>\n",
       "      <td>0.500425</td>\n",
       "      <td>0.559808</td>\n",
       "      <td>0.500088</td>\n",
       "      <td>0.454633</td>\n",
       "      <td>0.471482</td>\n",
       "      <td>0.540417</td>\n",
       "      <td>0.545833</td>\n",
       "      <td>0.534765</td>\n",
       "      <td>0.529842</td>\n",
       "      <td>0.509541</td>\n",
       "    </tr>\n",
       "    <tr>\n",
       "      <th>75%</th>\n",
       "      <td>0.535545</td>\n",
       "      <td>0.614808</td>\n",
       "      <td>0.605820</td>\n",
       "      <td>0.617723</td>\n",
       "      <td>0.620064</td>\n",
       "      <td>0.622884</td>\n",
       "      <td>0.652151</td>\n",
       "      <td>0.644308</td>\n",
       "      <td>0.679142</td>\n",
       "      <td>0.661436</td>\n",
       "      <td>...</td>\n",
       "      <td>0.643003</td>\n",
       "      <td>0.700574</td>\n",
       "      <td>0.633737</td>\n",
       "      <td>0.581695</td>\n",
       "      <td>0.598178</td>\n",
       "      <td>0.632227</td>\n",
       "      <td>0.628474</td>\n",
       "      <td>0.601289</td>\n",
       "      <td>0.612371</td>\n",
       "      <td>0.594232</td>\n",
       "    </tr>\n",
       "    <tr>\n",
       "      <th>max</th>\n",
       "      <td>1.000000</td>\n",
       "      <td>1.000000</td>\n",
       "      <td>1.000000</td>\n",
       "      <td>1.000000</td>\n",
       "      <td>1.000000</td>\n",
       "      <td>1.000000</td>\n",
       "      <td>1.000000</td>\n",
       "      <td>1.000000</td>\n",
       "      <td>1.000000</td>\n",
       "      <td>1.000000</td>\n",
       "      <td>...</td>\n",
       "      <td>1.000000</td>\n",
       "      <td>1.000000</td>\n",
       "      <td>1.000000</td>\n",
       "      <td>1.000000</td>\n",
       "      <td>1.000000</td>\n",
       "      <td>1.000000</td>\n",
       "      <td>1.000000</td>\n",
       "      <td>1.000000</td>\n",
       "      <td>1.000000</td>\n",
       "      <td>1.000000</td>\n",
       "    </tr>\n",
       "  </tbody>\n",
       "</table>\n",
       "<p>8 rows × 73 columns</p>\n",
       "</div>"
      ],
      "text/plain": [
       "              OAS  Excess Return % 1-mo (Treasury)  \\\n",
       "count  265.000000                       249.000000   \n",
       "mean     0.400322                         0.509477   \n",
       "std      0.215516                         0.194349   \n",
       "min      0.000000                         0.000000   \n",
       "25%      0.222749                         0.387691   \n",
       "50%      0.369668                         0.518276   \n",
       "75%      0.535545                         0.614808   \n",
       "max      1.000000                         1.000000   \n",
       "\n",
       "       Excess Return % 1-mo (Agg)  Excess Return % 2-mo (Treasury_)  \\\n",
       "count                  256.000000                        254.000000   \n",
       "mean                     0.480734                          0.507307   \n",
       "std                      0.207234                          0.193341   \n",
       "min                      0.000000                          0.000000   \n",
       "25%                      0.347067                          0.415392   \n",
       "50%                      0.483626                          0.525239   \n",
       "75%                      0.605820                          0.617723   \n",
       "max                      1.000000                          1.000000   \n",
       "\n",
       "       Excess Return % 3-mo (Treasury_)  Excess Return % 4-mo (Treasury_)  \\\n",
       "count                        252.000000                        257.000000   \n",
       "mean                           0.499083                          0.504676   \n",
       "std                            0.192868                          0.181551   \n",
       "min                            0.000000                          0.000000   \n",
       "25%                            0.392751                          0.404670   \n",
       "50%                            0.518775                          0.510789   \n",
       "75%                            0.620064                          0.622884   \n",
       "max                            1.000000                          1.000000   \n",
       "\n",
       "       Excess Return % 5-mo (Treasury_)  Excess Return % 6-mo (Treasury_)  \\\n",
       "count                        253.000000                        253.000000   \n",
       "mean                           0.515373                          0.509209   \n",
       "std                            0.192925                          0.192404   \n",
       "min                            0.000000                          0.000000   \n",
       "25%                            0.404567                          0.401629   \n",
       "50%                            0.511524                          0.499908   \n",
       "75%                            0.652151                          0.644308   \n",
       "max                            1.000000                          1.000000   \n",
       "\n",
       "       Excess Return % 7-mo (Treasury_)  Excess Return % 8-mo (Treasury_)  \\\n",
       "count                        253.000000                        251.000000   \n",
       "mean                           0.536031                          0.519001   \n",
       "std                            0.196399                          0.198520   \n",
       "min                            0.000000                          0.000000   \n",
       "25%                            0.428740                          0.397086   \n",
       "50%                            0.528512                          0.518854   \n",
       "75%                            0.679142                          0.661436   \n",
       "max                            1.000000                          1.000000   \n",
       "\n",
       "       ...  Excess Return % 27-mo (Agg_)  Excess Return % 28-mo (Agg_)  \\\n",
       "count  ...                    236.000000                    235.000000   \n",
       "mean   ...                      0.503443                      0.548171   \n",
       "std    ...                      0.178685                      0.187768   \n",
       "min    ...                      0.000000                      0.000000   \n",
       "25%    ...                      0.370659                      0.407163   \n",
       "50%    ...                      0.500425                      0.559808   \n",
       "75%    ...                      0.643003                      0.700574   \n",
       "max    ...                      1.000000                      1.000000   \n",
       "\n",
       "       Excess Return % 29-mo (Agg_)  Excess Return % 30-mo (Agg_)  \\\n",
       "count                    234.000000                    234.000000   \n",
       "mean                       0.490763                      0.447970   \n",
       "std                        0.181019                      0.170950   \n",
       "min                        0.000000                      0.000000   \n",
       "25%                        0.351410                      0.314903   \n",
       "50%                        0.500088                      0.454633   \n",
       "75%                        0.633737                      0.581695   \n",
       "max                        1.000000                      1.000000   \n",
       "\n",
       "       Excess Return % 31-mo (Agg_)  Excess Return % 32-mo (Agg_)  \\\n",
       "count                    233.000000                    233.000000   \n",
       "mean                       0.463401                      0.514846   \n",
       "std                        0.173533                      0.164916   \n",
       "min                        0.000000                      0.000000   \n",
       "25%                        0.328916                      0.383030   \n",
       "50%                        0.471482                      0.540417   \n",
       "75%                        0.598178                      0.632227   \n",
       "max                        1.000000                      1.000000   \n",
       "\n",
       "       Excess Return % 33-mo (Agg_)  Excess Return % 34-mo (Agg_)  \\\n",
       "count                    232.000000                    232.000000   \n",
       "mean                       0.510771                      0.493191   \n",
       "std                        0.168189                      0.169889   \n",
       "min                        0.000000                      0.000000   \n",
       "25%                        0.373051                      0.357067   \n",
       "50%                        0.545833                      0.534765   \n",
       "75%                        0.628474                      0.601289   \n",
       "max                        1.000000                      1.000000   \n",
       "\n",
       "       Excess Return % 35-mo (Agg_)  Excess Return % 36-mo (Agg_)  \n",
       "count                    232.000000                    231.000000  \n",
       "mean                       0.491403                      0.478865  \n",
       "std                        0.173559                      0.167888  \n",
       "min                        0.000000                      0.000000  \n",
       "25%                        0.348538                      0.337948  \n",
       "50%                        0.529842                      0.509541  \n",
       "75%                        0.612371                      0.594232  \n",
       "max                        1.000000                      1.000000  \n",
       "\n",
       "[8 rows x 73 columns]"
      ]
     },
     "execution_count": 90,
     "metadata": {},
     "output_type": "execute_result"
    }
   ],
   "source": [
    "# Now lets normalize our data\n",
    "column_maxes = df_IG.max()\n",
    "df_max = column_maxes\n",
    "column_mins = df_IG.min()\n",
    "df_min = column_mins\n",
    "normalized_df = (df_IG - df_min) / (df_max - df_min)\n",
    "\n",
    "normalized_df.describe()"
   ]
  },
  {
   "cell_type": "code",
   "execution_count": 91,
   "metadata": {},
   "outputs": [
    {
     "data": {
      "text/html": [
       "<div>\n",
       "<style scoped>\n",
       "    .dataframe tbody tr th:only-of-type {\n",
       "        vertical-align: middle;\n",
       "    }\n",
       "\n",
       "    .dataframe tbody tr th {\n",
       "        vertical-align: top;\n",
       "    }\n",
       "\n",
       "    .dataframe thead th {\n",
       "        text-align: right;\n",
       "    }\n",
       "</style>\n",
       "<table border=\"1\" class=\"dataframe\">\n",
       "  <thead>\n",
       "    <tr style=\"text-align: right;\">\n",
       "      <th></th>\n",
       "      <th>OAS</th>\n",
       "      <th>Excess Return % 1-mo (Treasury)</th>\n",
       "      <th>Excess Return % 1-mo (Agg)</th>\n",
       "      <th>Excess Return % 2-mo (Treasury_)</th>\n",
       "      <th>Excess Return % 3-mo (Treasury_)</th>\n",
       "      <th>Excess Return % 4-mo (Treasury_)</th>\n",
       "      <th>Excess Return % 5-mo (Treasury_)</th>\n",
       "      <th>Excess Return % 6-mo (Treasury_)</th>\n",
       "      <th>Excess Return % 7-mo (Treasury_)</th>\n",
       "      <th>Excess Return % 8-mo (Treasury_)</th>\n",
       "      <th>...</th>\n",
       "      <th>Excess Return % 27-mo (Agg_)</th>\n",
       "      <th>Excess Return % 28-mo (Agg_)</th>\n",
       "      <th>Excess Return % 29-mo (Agg_)</th>\n",
       "      <th>Excess Return % 30-mo (Agg_)</th>\n",
       "      <th>Excess Return % 31-mo (Agg_)</th>\n",
       "      <th>Excess Return % 32-mo (Agg_)</th>\n",
       "      <th>Excess Return % 33-mo (Agg_)</th>\n",
       "      <th>Excess Return % 34-mo (Agg_)</th>\n",
       "      <th>Excess Return % 35-mo (Agg_)</th>\n",
       "      <th>Excess Return % 36-mo (Agg_)</th>\n",
       "    </tr>\n",
       "  </thead>\n",
       "  <tbody>\n",
       "    <tr>\n",
       "      <th>0</th>\n",
       "      <td>0.033175</td>\n",
       "      <td>0.500156</td>\n",
       "      <td>0.362818</td>\n",
       "      <td>0.525239</td>\n",
       "      <td>0.520042</td>\n",
       "      <td>0.499059</td>\n",
       "      <td>0.502071</td>\n",
       "      <td>0.515739</td>\n",
       "      <td>0.558081</td>\n",
       "      <td>0.529421</td>\n",
       "      <td>...</td>\n",
       "      <td>0.422108</td>\n",
       "      <td>0.462112</td>\n",
       "      <td>0.373938</td>\n",
       "      <td>0.326673</td>\n",
       "      <td>0.330995</td>\n",
       "      <td>0.383030</td>\n",
       "      <td>0.373307</td>\n",
       "      <td>0.349486</td>\n",
       "      <td>0.348749</td>\n",
       "      <td>0.344246</td>\n",
       "    </tr>\n",
       "    <tr>\n",
       "      <th>1</th>\n",
       "      <td>0.023697</td>\n",
       "      <td>0.541393</td>\n",
       "      <td>0.441524</td>\n",
       "      <td>0.525055</td>\n",
       "      <td>0.489048</td>\n",
       "      <td>0.483236</td>\n",
       "      <td>0.518534</td>\n",
       "      <td>0.521779</td>\n",
       "      <td>0.545577</td>\n",
       "      <td>0.521976</td>\n",
       "      <td>...</td>\n",
       "      <td>0.433347</td>\n",
       "      <td>0.438071</td>\n",
       "      <td>0.373374</td>\n",
       "      <td>0.326919</td>\n",
       "      <td>0.328916</td>\n",
       "      <td>0.389235</td>\n",
       "      <td>0.378118</td>\n",
       "      <td>0.363273</td>\n",
       "      <td>0.361548</td>\n",
       "      <td>0.350885</td>\n",
       "    </tr>\n",
       "    <tr>\n",
       "      <th>2</th>\n",
       "      <td>0.014218</td>\n",
       "      <td>0.499844</td>\n",
       "      <td>0.373164</td>\n",
       "      <td>0.462417</td>\n",
       "      <td>0.448070</td>\n",
       "      <td>0.485781</td>\n",
       "      <td>0.511524</td>\n",
       "      <td>0.496157</td>\n",
       "      <td>0.526569</td>\n",
       "      <td>0.454567</td>\n",
       "      <td>...</td>\n",
       "      <td>0.399970</td>\n",
       "      <td>0.427400</td>\n",
       "      <td>0.364222</td>\n",
       "      <td>0.316272</td>\n",
       "      <td>0.327274</td>\n",
       "      <td>0.386333</td>\n",
       "      <td>0.384415</td>\n",
       "      <td>0.368531</td>\n",
       "      <td>0.360935</td>\n",
       "      <td>0.332163</td>\n",
       "    </tr>\n",
       "    <tr>\n",
       "      <th>3</th>\n",
       "      <td>0.023697</td>\n",
       "      <td>0.435177</td>\n",
       "      <td>0.494134</td>\n",
       "      <td>0.436256</td>\n",
       "      <td>0.471316</td>\n",
       "      <td>0.493195</td>\n",
       "      <td>0.495911</td>\n",
       "      <td>0.487738</td>\n",
       "      <td>0.466672</td>\n",
       "      <td>0.429429</td>\n",
       "      <td>...</td>\n",
       "      <td>0.398085</td>\n",
       "      <td>0.426366</td>\n",
       "      <td>0.360666</td>\n",
       "      <td>0.322034</td>\n",
       "      <td>0.331432</td>\n",
       "      <td>0.399303</td>\n",
       "      <td>0.396465</td>\n",
       "      <td>0.374511</td>\n",
       "      <td>0.347906</td>\n",
       "      <td>0.329340</td>\n",
       "    </tr>\n",
       "    <tr>\n",
       "      <th>4</th>\n",
       "      <td>0.033175</td>\n",
       "      <td>0.455483</td>\n",
       "      <td>0.425127</td>\n",
       "      <td>0.503132</td>\n",
       "      <td>0.512144</td>\n",
       "      <td>0.499834</td>\n",
       "      <td>0.508125</td>\n",
       "      <td>0.441801</td>\n",
       "      <td>0.457633</td>\n",
       "      <td>0.426867</td>\n",
       "      <td>...</td>\n",
       "      <td>0.381931</td>\n",
       "      <td>0.407093</td>\n",
       "      <td>0.352537</td>\n",
       "      <td>0.313102</td>\n",
       "      <td>0.332677</td>\n",
       "      <td>0.399488</td>\n",
       "      <td>0.390680</td>\n",
       "      <td>0.349758</td>\n",
       "      <td>0.333327</td>\n",
       "      <td>0.283984</td>\n",
       "    </tr>\n",
       "    <tr>\n",
       "      <th>5</th>\n",
       "      <td>0.018957</td>\n",
       "      <td>0.548579</td>\n",
       "      <td>0.598060</td>\n",
       "      <td>0.541636</td>\n",
       "      <td>0.511399</td>\n",
       "      <td>0.505367</td>\n",
       "      <td>0.447902</td>\n",
       "      <td>0.426061</td>\n",
       "      <td>0.449438</td>\n",
       "      <td>0.397566</td>\n",
       "      <td>...</td>\n",
       "      <td>0.371710</td>\n",
       "      <td>0.407234</td>\n",
       "      <td>0.350950</td>\n",
       "      <td>0.321854</td>\n",
       "      <td>0.340292</td>\n",
       "      <td>0.400469</td>\n",
       "      <td>0.372283</td>\n",
       "      <td>0.341777</td>\n",
       "      <td>0.292481</td>\n",
       "      <td>0.263515</td>\n",
       "    </tr>\n",
       "    <tr>\n",
       "      <th>6</th>\n",
       "      <td>0.009479</td>\n",
       "      <td>0.520775</td>\n",
       "      <td>0.902725</td>\n",
       "      <td>0.485814</td>\n",
       "      <td>0.474445</td>\n",
       "      <td>0.409649</td>\n",
       "      <td>0.397982</td>\n",
       "      <td>0.389916</td>\n",
       "      <td>0.393343</td>\n",
       "      <td>0.396606</td>\n",
       "      <td>...</td>\n",
       "      <td>0.350202</td>\n",
       "      <td>0.383417</td>\n",
       "      <td>0.339895</td>\n",
       "      <td>0.310775</td>\n",
       "      <td>0.322795</td>\n",
       "      <td>0.365198</td>\n",
       "      <td>0.347208</td>\n",
       "      <td>0.284081</td>\n",
       "      <td>0.254440</td>\n",
       "      <td>0.266372</td>\n",
       "    </tr>\n",
       "    <tr>\n",
       "      <th>7</th>\n",
       "      <td>0.014218</td>\n",
       "      <td>0.453921</td>\n",
       "      <td>0.149792</td>\n",
       "      <td>0.456522</td>\n",
       "      <td>0.358814</td>\n",
       "      <td>0.367489</td>\n",
       "      <td>0.365481</td>\n",
       "      <td>0.337299</td>\n",
       "      <td>0.399848</td>\n",
       "      <td>0.404291</td>\n",
       "      <td>...</td>\n",
       "      <td>0.288761</td>\n",
       "      <td>0.332634</td>\n",
       "      <td>0.291205</td>\n",
       "      <td>0.260007</td>\n",
       "      <td>0.251353</td>\n",
       "      <td>0.310376</td>\n",
       "      <td>0.258669</td>\n",
       "      <td>0.216493</td>\n",
       "      <td>0.228159</td>\n",
       "      <td>0.235448</td>\n",
       "    </tr>\n",
       "    <tr>\n",
       "      <th>8</th>\n",
       "      <td>0.000000</td>\n",
       "      <td>0.471103</td>\n",
       "      <td>0.599954</td>\n",
       "      <td>0.352985</td>\n",
       "      <td>0.333929</td>\n",
       "      <td>0.357309</td>\n",
       "      <td>0.327138</td>\n",
       "      <td>0.363928</td>\n",
       "      <td>0.426037</td>\n",
       "      <td>0.415980</td>\n",
       "      <td>...</td>\n",
       "      <td>0.333314</td>\n",
       "      <td>0.376924</td>\n",
       "      <td>0.325368</td>\n",
       "      <td>0.269535</td>\n",
       "      <td>0.272040</td>\n",
       "      <td>0.295721</td>\n",
       "      <td>0.263801</td>\n",
       "      <td>0.262742</td>\n",
       "      <td>0.268131</td>\n",
       "      <td>0.255417</td>\n",
       "    </tr>\n",
       "    <tr>\n",
       "      <th>9</th>\n",
       "      <td>0.061611</td>\n",
       "      <td>0.278351</td>\n",
       "      <td>0.423095</td>\n",
       "      <td>0.312085</td>\n",
       "      <td>0.312025</td>\n",
       "      <td>0.311276</td>\n",
       "      <td>0.352204</td>\n",
       "      <td>0.387262</td>\n",
       "      <td>0.433725</td>\n",
       "      <td>0.424946</td>\n",
       "      <td>...</td>\n",
       "      <td>0.320305</td>\n",
       "      <td>0.355843</td>\n",
       "      <td>0.281981</td>\n",
       "      <td>0.241571</td>\n",
       "      <td>0.207603</td>\n",
       "      <td>0.256798</td>\n",
       "      <td>0.266669</td>\n",
       "      <td>0.259449</td>\n",
       "      <td>0.245782</td>\n",
       "      <td>0.247281</td>\n",
       "    </tr>\n",
       "    <tr>\n",
       "      <th>10</th>\n",
       "      <td>0.085308</td>\n",
       "      <td>0.401749</td>\n",
       "      <td>0.364988</td>\n",
       "      <td>0.398674</td>\n",
       "      <td>0.341976</td>\n",
       "      <td>0.405666</td>\n",
       "      <td>0.444822</td>\n",
       "      <td>0.452050</td>\n",
       "      <td>0.495311</td>\n",
       "      <td>0.452966</td>\n",
       "      <td>...</td>\n",
       "      <td>0.321814</td>\n",
       "      <td>0.332108</td>\n",
       "      <td>0.272320</td>\n",
       "      <td>0.195632</td>\n",
       "      <td>0.183870</td>\n",
       "      <td>0.276962</td>\n",
       "      <td>0.280668</td>\n",
       "      <td>0.254071</td>\n",
       "      <td>0.254258</td>\n",
       "      <td>0.218452</td>\n",
       "    </tr>\n",
       "    <tr>\n",
       "      <th>11</th>\n",
       "      <td>0.075829</td>\n",
       "      <td>0.425180</td>\n",
       "      <td>0.459076</td>\n",
       "      <td>0.362933</td>\n",
       "      <td>0.410222</td>\n",
       "      <td>0.458449</td>\n",
       "      <td>0.478067</td>\n",
       "      <td>0.482613</td>\n",
       "      <td>0.491510</td>\n",
       "      <td>0.442078</td>\n",
       "      <td>...</td>\n",
       "      <td>0.305863</td>\n",
       "      <td>0.329219</td>\n",
       "      <td>0.228623</td>\n",
       "      <td>0.177948</td>\n",
       "      <td>0.212246</td>\n",
       "      <td>0.296611</td>\n",
       "      <td>0.280899</td>\n",
       "      <td>0.268187</td>\n",
       "      <td>0.229664</td>\n",
       "      <td>0.216264</td>\n",
       "    </tr>\n",
       "    <tr>\n",
       "      <th>12</th>\n",
       "      <td>0.113744</td>\n",
       "      <td>0.341143</td>\n",
       "      <td>0.454919</td>\n",
       "      <td>0.433493</td>\n",
       "      <td>0.470124</td>\n",
       "      <td>0.484785</td>\n",
       "      <td>0.505576</td>\n",
       "      <td>0.471633</td>\n",
       "      <td>0.473684</td>\n",
       "      <td>0.212953</td>\n",
       "      <td>...</td>\n",
       "      <td>0.291259</td>\n",
       "      <td>0.270495</td>\n",
       "      <td>0.197860</td>\n",
       "      <td>0.196419</td>\n",
       "      <td>0.223711</td>\n",
       "      <td>0.287636</td>\n",
       "      <td>0.286022</td>\n",
       "      <td>0.234415</td>\n",
       "      <td>0.218334</td>\n",
       "      <td>0.218672</td>\n",
       "    </tr>\n",
       "    <tr>\n",
       "      <th>13</th>\n",
       "      <td>0.104265</td>\n",
       "      <td>0.544830</td>\n",
       "      <td>0.403233</td>\n",
       "      <td>0.557111</td>\n",
       "      <td>0.545671</td>\n",
       "      <td>0.543211</td>\n",
       "      <td>0.521402</td>\n",
       "      <td>0.476940</td>\n",
       "      <td>0.254625</td>\n",
       "      <td>0.240974</td>\n",
       "      <td>...</td>\n",
       "      <td>0.234316</td>\n",
       "      <td>0.238158</td>\n",
       "      <td>0.218724</td>\n",
       "      <td>0.208461</td>\n",
       "      <td>0.214305</td>\n",
       "      <td>0.293154</td>\n",
       "      <td>0.252095</td>\n",
       "      <td>0.223440</td>\n",
       "      <td>0.221254</td>\n",
       "      <td>0.259602</td>\n",
       "    </tr>\n",
       "    <tr>\n",
       "      <th>14</th>\n",
       "      <td>0.085308</td>\n",
       "      <td>0.550765</td>\n",
       "      <td>0.509053</td>\n",
       "      <td>0.530398</td>\n",
       "      <td>0.527194</td>\n",
       "      <td>0.487551</td>\n",
       "      <td>0.458311</td>\n",
       "      <td>0.179996</td>\n",
       "      <td>0.229112</td>\n",
       "      <td>0.159475</td>\n",
       "      <td>...</td>\n",
       "      <td>0.209143</td>\n",
       "      <td>0.267062</td>\n",
       "      <td>0.238190</td>\n",
       "      <td>0.204564</td>\n",
       "      <td>0.225914</td>\n",
       "      <td>0.264367</td>\n",
       "      <td>0.246007</td>\n",
       "      <td>0.231358</td>\n",
       "      <td>0.269063</td>\n",
       "      <td>0.267513</td>\n",
       "    </tr>\n",
       "    <tr>\n",
       "      <th>15</th>\n",
       "      <td>0.085308</td>\n",
       "      <td>0.499531</td>\n",
       "      <td>0.433580</td>\n",
       "      <td>0.504053</td>\n",
       "      <td>0.449411</td>\n",
       "      <td>0.419719</td>\n",
       "      <td>0.111630</td>\n",
       "      <td>0.150622</td>\n",
       "      <td>0.141505</td>\n",
       "      <td>0.271395</td>\n",
       "      <td>...</td>\n",
       "      <td>0.224181</td>\n",
       "      <td>0.274324</td>\n",
       "      <td>0.221224</td>\n",
       "      <td>0.204810</td>\n",
       "      <td>0.182947</td>\n",
       "      <td>0.247940</td>\n",
       "      <td>0.243678</td>\n",
       "      <td>0.269154</td>\n",
       "      <td>0.267177</td>\n",
       "      <td>0.272626</td>\n",
       "    </tr>\n",
       "    <tr>\n",
       "      <th>16</th>\n",
       "      <td>0.080569</td>\n",
       "      <td>0.506092</td>\n",
       "      <td>0.584804</td>\n",
       "      <td>0.438099</td>\n",
       "      <td>0.382506</td>\n",
       "      <td>0.076685</td>\n",
       "      <td>0.094955</td>\n",
       "      <td>0.070736</td>\n",
       "      <td>0.273465</td>\n",
       "      <td>0.295012</td>\n",
       "      <td>...</td>\n",
       "      <td>0.240734</td>\n",
       "      <td>0.265851</td>\n",
       "      <td>0.230531</td>\n",
       "      <td>0.169568</td>\n",
       "      <td>0.173021</td>\n",
       "      <td>0.253002</td>\n",
       "      <td>0.289506</td>\n",
       "      <td>0.274541</td>\n",
       "      <td>0.279780</td>\n",
       "      <td>0.268471</td>\n",
       "    </tr>\n",
       "    <tr>\n",
       "      <th>17</th>\n",
       "      <td>0.099526</td>\n",
       "      <td>0.387691</td>\n",
       "      <td>0.445081</td>\n",
       "      <td>0.351511</td>\n",
       "      <td>NaN</td>\n",
       "      <td>0.056988</td>\n",
       "      <td>0.000000</td>\n",
       "      <td>0.211750</td>\n",
       "      <td>0.296612</td>\n",
       "      <td>0.310864</td>\n",
       "      <td>...</td>\n",
       "      <td>0.213514</td>\n",
       "      <td>0.256451</td>\n",
       "      <td>0.173567</td>\n",
       "      <td>0.143113</td>\n",
       "      <td>0.162335</td>\n",
       "      <td>0.283921</td>\n",
       "      <td>0.280151</td>\n",
       "      <td>0.272607</td>\n",
       "      <td>0.260902</td>\n",
       "      <td>0.272812</td>\n",
       "    </tr>\n",
       "    <tr>\n",
       "      <th>18</th>\n",
       "      <td>0.132701</td>\n",
       "      <td>0.359263</td>\n",
       "      <td>0.303002</td>\n",
       "      <td>NaN</td>\n",
       "      <td>NaN</td>\n",
       "      <td>0.000000</td>\n",
       "      <td>0.203930</td>\n",
       "      <td>0.271504</td>\n",
       "      <td>0.345358</td>\n",
       "      <td>0.368265</td>\n",
       "      <td>...</td>\n",
       "      <td>0.221805</td>\n",
       "      <td>0.213461</td>\n",
       "      <td>0.161125</td>\n",
       "      <td>0.147481</td>\n",
       "      <td>0.211284</td>\n",
       "      <td>0.288260</td>\n",
       "      <td>0.291889</td>\n",
       "      <td>0.267131</td>\n",
       "      <td>0.278870</td>\n",
       "      <td>0.275369</td>\n",
       "    </tr>\n",
       "    <tr>\n",
       "      <th>19</th>\n",
       "      <td>0.345972</td>\n",
       "      <td>NaN</td>\n",
       "      <td>NaN</td>\n",
       "      <td>NaN</td>\n",
       "      <td>NaN</td>\n",
       "      <td>0.222530</td>\n",
       "      <td>0.282953</td>\n",
       "      <td>0.332632</td>\n",
       "      <td>0.413618</td>\n",
       "      <td>0.431271</td>\n",
       "      <td>...</td>\n",
       "      <td>0.197522</td>\n",
       "      <td>0.218341</td>\n",
       "      <td>0.182951</td>\n",
       "      <td>0.212392</td>\n",
       "      <td>0.231306</td>\n",
       "      <td>0.313870</td>\n",
       "      <td>0.300256</td>\n",
       "      <td>0.298880</td>\n",
       "      <td>0.295197</td>\n",
       "      <td>0.311787</td>\n",
       "    </tr>\n",
       "    <tr>\n",
       "      <th>20</th>\n",
       "      <td>0.369668</td>\n",
       "      <td>0.450484</td>\n",
       "      <td>0.791732</td>\n",
       "      <td>0.310427</td>\n",
       "      <td>0.578900</td>\n",
       "      <td>0.598207</td>\n",
       "      <td>0.635475</td>\n",
       "      <td>0.649158</td>\n",
       "      <td>0.704064</td>\n",
       "      <td>0.671523</td>\n",
       "      <td>...</td>\n",
       "      <td>0.271197</td>\n",
       "      <td>0.312073</td>\n",
       "      <td>0.320425</td>\n",
       "      <td>0.292400</td>\n",
       "      <td>0.318538</td>\n",
       "      <td>0.376070</td>\n",
       "      <td>0.386522</td>\n",
       "      <td>0.368375</td>\n",
       "      <td>0.386204</td>\n",
       "      <td>0.372215</td>\n",
       "    </tr>\n",
       "    <tr>\n",
       "      <th>21</th>\n",
       "      <td>0.445498</td>\n",
       "      <td>0.226804</td>\n",
       "      <td>0.149284</td>\n",
       "      <td>0.627119</td>\n",
       "      <td>0.646252</td>\n",
       "      <td>0.639814</td>\n",
       "      <td>0.690281</td>\n",
       "      <td>0.694455</td>\n",
       "      <td>0.708963</td>\n",
       "      <td>0.660716</td>\n",
       "      <td>...</td>\n",
       "      <td>0.232842</td>\n",
       "      <td>0.326029</td>\n",
       "      <td>0.284231</td>\n",
       "      <td>0.267755</td>\n",
       "      <td>0.275210</td>\n",
       "      <td>0.360452</td>\n",
       "      <td>0.355254</td>\n",
       "      <td>0.359503</td>\n",
       "      <td>0.349614</td>\n",
       "      <td>0.302104</td>\n",
       "    </tr>\n",
       "    <tr>\n",
       "      <th>22</th>\n",
       "      <td>0.327014</td>\n",
       "      <td>0.987504</td>\n",
       "      <td>0.889330</td>\n",
       "      <td>0.842299</td>\n",
       "      <td>0.808970</td>\n",
       "      <td>0.776143</td>\n",
       "      <td>0.818906</td>\n",
       "      <td>0.765282</td>\n",
       "      <td>0.758047</td>\n",
       "      <td>0.696421</td>\n",
       "      <td>...</td>\n",
       "      <td>0.326914</td>\n",
       "      <td>0.369538</td>\n",
       "      <td>0.333973</td>\n",
       "      <td>0.293708</td>\n",
       "      <td>0.327066</td>\n",
       "      <td>0.392118</td>\n",
       "      <td>0.409245</td>\n",
       "      <td>0.384742</td>\n",
       "      <td>0.337952</td>\n",
       "      <td>0.333049</td>\n",
       "    </tr>\n",
       "    <tr>\n",
       "      <th>23</th>\n",
       "      <td>0.308057</td>\n",
       "      <td>0.591690</td>\n",
       "      <td>0.574596</td>\n",
       "      <td>0.594878</td>\n",
       "      <td>0.629712</td>\n",
       "      <td>0.640699</td>\n",
       "      <td>0.642485</td>\n",
       "      <td>0.595626</td>\n",
       "      <td>0.590014</td>\n",
       "      <td>0.536947</td>\n",
       "      <td>...</td>\n",
       "      <td>0.276857</td>\n",
       "      <td>0.328020</td>\n",
       "      <td>0.273990</td>\n",
       "      <td>0.265779</td>\n",
       "      <td>0.282344</td>\n",
       "      <td>0.373571</td>\n",
       "      <td>0.362321</td>\n",
       "      <td>0.301638</td>\n",
       "      <td>0.299240</td>\n",
       "      <td>0.315370</td>\n",
       "    </tr>\n",
       "    <tr>\n",
       "      <th>24</th>\n",
       "      <td>0.293839</td>\n",
       "      <td>0.567948</td>\n",
       "      <td>0.581062</td>\n",
       "      <td>0.606669</td>\n",
       "      <td>0.636120</td>\n",
       "      <td>0.597101</td>\n",
       "      <td>0.580138</td>\n",
       "      <td>0.529557</td>\n",
       "      <td>0.528766</td>\n",
       "      <td>0.482107</td>\n",
       "      <td>...</td>\n",
       "      <td>0.275625</td>\n",
       "      <td>0.304191</td>\n",
       "      <td>0.280875</td>\n",
       "      <td>0.254741</td>\n",
       "      <td>0.295788</td>\n",
       "      <td>0.357556</td>\n",
       "      <td>0.308701</td>\n",
       "      <td>0.293132</td>\n",
       "      <td>0.310974</td>\n",
       "      <td>0.304843</td>\n",
       "    </tr>\n",
       "    <tr>\n",
       "      <th>25</th>\n",
       "      <td>0.260664</td>\n",
       "      <td>0.611684</td>\n",
       "      <td>0.062540</td>\n",
       "      <td>0.628592</td>\n",
       "      <td>0.588735</td>\n",
       "      <td>0.540555</td>\n",
       "      <td>0.511524</td>\n",
       "      <td>0.470168</td>\n",
       "      <td>0.477317</td>\n",
       "      <td>0.485309</td>\n",
       "      <td>...</td>\n",
       "      <td>0.251499</td>\n",
       "      <td>0.310720</td>\n",
       "      <td>0.267929</td>\n",
       "      <td>0.267630</td>\n",
       "      <td>0.277512</td>\n",
       "      <td>0.303435</td>\n",
       "      <td>0.299418</td>\n",
       "      <td>0.304289</td>\n",
       "      <td>0.299333</td>\n",
       "      <td>0.279371</td>\n",
       "    </tr>\n",
       "    <tr>\n",
       "      <th>26</th>\n",
       "      <td>0.251185</td>\n",
       "      <td>0.605123</td>\n",
       "      <td>0.602540</td>\n",
       "      <td>0.544215</td>\n",
       "      <td>0.491730</td>\n",
       "      <td>0.453580</td>\n",
       "      <td>0.427722</td>\n",
       "      <td>0.401629</td>\n",
       "      <td>0.468869</td>\n",
       "      <td>0.468417</td>\n",
       "      <td>...</td>\n",
       "      <td>0.322792</td>\n",
       "      <td>0.363216</td>\n",
       "      <td>0.344220</td>\n",
       "      <td>0.305454</td>\n",
       "      <td>0.273791</td>\n",
       "      <td>0.344907</td>\n",
       "      <td>0.361619</td>\n",
       "      <td>0.342624</td>\n",
       "      <td>0.322490</td>\n",
       "      <td>0.304775</td>\n",
       "    </tr>\n",
       "    <tr>\n",
       "      <th>27</th>\n",
       "      <td>0.251185</td>\n",
       "      <td>0.468604</td>\n",
       "      <td>0.452610</td>\n",
       "      <td>0.428150</td>\n",
       "      <td>0.377738</td>\n",
       "      <td>0.368596</td>\n",
       "      <td>0.350398</td>\n",
       "      <td>0.394400</td>\n",
       "      <td>0.452817</td>\n",
       "      <td>0.474502</td>\n",
       "      <td>...</td>\n",
       "      <td>0.306568</td>\n",
       "      <td>0.375654</td>\n",
       "      <td>0.321276</td>\n",
       "      <td>0.243060</td>\n",
       "      <td>0.261319</td>\n",
       "      <td>0.354121</td>\n",
       "      <td>0.347629</td>\n",
       "      <td>0.313781</td>\n",
       "      <td>0.297199</td>\n",
       "      <td>0.281237</td>\n",
       "    </tr>\n",
       "    <tr>\n",
       "      <th>28</th>\n",
       "      <td>0.260664</td>\n",
       "      <td>0.408310</td>\n",
       "      <td>0.174873</td>\n",
       "      <td>0.367723</td>\n",
       "      <td>0.328416</td>\n",
       "      <td>0.336395</td>\n",
       "      <td>0.388423</td>\n",
       "      <td>0.417002</td>\n",
       "      <td>0.496156</td>\n",
       "      <td>0.489472</td>\n",
       "      <td>...</td>\n",
       "      <td>0.337506</td>\n",
       "      <td>0.370318</td>\n",
       "      <td>0.270429</td>\n",
       "      <td>0.246731</td>\n",
       "      <td>0.287538</td>\n",
       "      <td>0.354835</td>\n",
       "      <td>0.333010</td>\n",
       "      <td>0.302850</td>\n",
       "      <td>0.286965</td>\n",
       "      <td>0.252729</td>\n",
       "    </tr>\n",
       "    <tr>\n",
       "      <th>29</th>\n",
       "      <td>0.289100</td>\n",
       "      <td>0.366136</td>\n",
       "      <td>0.358106</td>\n",
       "      <td>0.342299</td>\n",
       "      <td>0.313813</td>\n",
       "      <td>0.397366</td>\n",
       "      <td>0.435157</td>\n",
       "      <td>0.481607</td>\n",
       "      <td>0.528259</td>\n",
       "      <td>0.468417</td>\n",
       "      <td>...</td>\n",
       "      <td>0.367050</td>\n",
       "      <td>0.351518</td>\n",
       "      <td>0.307728</td>\n",
       "      <td>0.303393</td>\n",
       "      <td>0.318151</td>\n",
       "      <td>0.367425</td>\n",
       "      <td>0.349138</td>\n",
       "      <td>0.319368</td>\n",
       "      <td>0.283810</td>\n",
       "      <td>0.295567</td>\n",
       "    </tr>\n",
       "  </tbody>\n",
       "</table>\n",
       "<p>30 rows × 73 columns</p>\n",
       "</div>"
      ],
      "text/plain": [
       "         OAS  Excess Return % 1-mo (Treasury)  Excess Return % 1-mo (Agg)  \\\n",
       "0   0.033175                         0.500156                    0.362818   \n",
       "1   0.023697                         0.541393                    0.441524   \n",
       "2   0.014218                         0.499844                    0.373164   \n",
       "3   0.023697                         0.435177                    0.494134   \n",
       "4   0.033175                         0.455483                    0.425127   \n",
       "5   0.018957                         0.548579                    0.598060   \n",
       "6   0.009479                         0.520775                    0.902725   \n",
       "7   0.014218                         0.453921                    0.149792   \n",
       "8   0.000000                         0.471103                    0.599954   \n",
       "9   0.061611                         0.278351                    0.423095   \n",
       "10  0.085308                         0.401749                    0.364988   \n",
       "11  0.075829                         0.425180                    0.459076   \n",
       "12  0.113744                         0.341143                    0.454919   \n",
       "13  0.104265                         0.544830                    0.403233   \n",
       "14  0.085308                         0.550765                    0.509053   \n",
       "15  0.085308                         0.499531                    0.433580   \n",
       "16  0.080569                         0.506092                    0.584804   \n",
       "17  0.099526                         0.387691                    0.445081   \n",
       "18  0.132701                         0.359263                    0.303002   \n",
       "19  0.345972                              NaN                         NaN   \n",
       "20  0.369668                         0.450484                    0.791732   \n",
       "21  0.445498                         0.226804                    0.149284   \n",
       "22  0.327014                         0.987504                    0.889330   \n",
       "23  0.308057                         0.591690                    0.574596   \n",
       "24  0.293839                         0.567948                    0.581062   \n",
       "25  0.260664                         0.611684                    0.062540   \n",
       "26  0.251185                         0.605123                    0.602540   \n",
       "27  0.251185                         0.468604                    0.452610   \n",
       "28  0.260664                         0.408310                    0.174873   \n",
       "29  0.289100                         0.366136                    0.358106   \n",
       "\n",
       "    Excess Return % 2-mo (Treasury_)  Excess Return % 3-mo (Treasury_)  \\\n",
       "0                           0.525239                          0.520042   \n",
       "1                           0.525055                          0.489048   \n",
       "2                           0.462417                          0.448070   \n",
       "3                           0.436256                          0.471316   \n",
       "4                           0.503132                          0.512144   \n",
       "5                           0.541636                          0.511399   \n",
       "6                           0.485814                          0.474445   \n",
       "7                           0.456522                          0.358814   \n",
       "8                           0.352985                          0.333929   \n",
       "9                           0.312085                          0.312025   \n",
       "10                          0.398674                          0.341976   \n",
       "11                          0.362933                          0.410222   \n",
       "12                          0.433493                          0.470124   \n",
       "13                          0.557111                          0.545671   \n",
       "14                          0.530398                          0.527194   \n",
       "15                          0.504053                          0.449411   \n",
       "16                          0.438099                          0.382506   \n",
       "17                          0.351511                               NaN   \n",
       "18                               NaN                               NaN   \n",
       "19                               NaN                               NaN   \n",
       "20                          0.310427                          0.578900   \n",
       "21                          0.627119                          0.646252   \n",
       "22                          0.842299                          0.808970   \n",
       "23                          0.594878                          0.629712   \n",
       "24                          0.606669                          0.636120   \n",
       "25                          0.628592                          0.588735   \n",
       "26                          0.544215                          0.491730   \n",
       "27                          0.428150                          0.377738   \n",
       "28                          0.367723                          0.328416   \n",
       "29                          0.342299                          0.313813   \n",
       "\n",
       "    Excess Return % 4-mo (Treasury_)  Excess Return % 5-mo (Treasury_)  \\\n",
       "0                           0.499059                          0.502071   \n",
       "1                           0.483236                          0.518534   \n",
       "2                           0.485781                          0.511524   \n",
       "3                           0.493195                          0.495911   \n",
       "4                           0.499834                          0.508125   \n",
       "5                           0.505367                          0.447902   \n",
       "6                           0.409649                          0.397982   \n",
       "7                           0.367489                          0.365481   \n",
       "8                           0.357309                          0.327138   \n",
       "9                           0.311276                          0.352204   \n",
       "10                          0.405666                          0.444822   \n",
       "11                          0.458449                          0.478067   \n",
       "12                          0.484785                          0.505576   \n",
       "13                          0.543211                          0.521402   \n",
       "14                          0.487551                          0.458311   \n",
       "15                          0.419719                          0.111630   \n",
       "16                          0.076685                          0.094955   \n",
       "17                          0.056988                          0.000000   \n",
       "18                          0.000000                          0.203930   \n",
       "19                          0.222530                          0.282953   \n",
       "20                          0.598207                          0.635475   \n",
       "21                          0.639814                          0.690281   \n",
       "22                          0.776143                          0.818906   \n",
       "23                          0.640699                          0.642485   \n",
       "24                          0.597101                          0.580138   \n",
       "25                          0.540555                          0.511524   \n",
       "26                          0.453580                          0.427722   \n",
       "27                          0.368596                          0.350398   \n",
       "28                          0.336395                          0.388423   \n",
       "29                          0.397366                          0.435157   \n",
       "\n",
       "    Excess Return % 6-mo (Treasury_)  Excess Return % 7-mo (Treasury_)  \\\n",
       "0                           0.515739                          0.558081   \n",
       "1                           0.521779                          0.545577   \n",
       "2                           0.496157                          0.526569   \n",
       "3                           0.487738                          0.466672   \n",
       "4                           0.441801                          0.457633   \n",
       "5                           0.426061                          0.449438   \n",
       "6                           0.389916                          0.393343   \n",
       "7                           0.337299                          0.399848   \n",
       "8                           0.363928                          0.426037   \n",
       "9                           0.387262                          0.433725   \n",
       "10                          0.452050                          0.495311   \n",
       "11                          0.482613                          0.491510   \n",
       "12                          0.471633                          0.473684   \n",
       "13                          0.476940                          0.254625   \n",
       "14                          0.179996                          0.229112   \n",
       "15                          0.150622                          0.141505   \n",
       "16                          0.070736                          0.273465   \n",
       "17                          0.211750                          0.296612   \n",
       "18                          0.271504                          0.345358   \n",
       "19                          0.332632                          0.413618   \n",
       "20                          0.649158                          0.704064   \n",
       "21                          0.694455                          0.708963   \n",
       "22                          0.765282                          0.758047   \n",
       "23                          0.595626                          0.590014   \n",
       "24                          0.529557                          0.528766   \n",
       "25                          0.470168                          0.477317   \n",
       "26                          0.401629                          0.468869   \n",
       "27                          0.394400                          0.452817   \n",
       "28                          0.417002                          0.496156   \n",
       "29                          0.481607                          0.528259   \n",
       "\n",
       "    Excess Return % 8-mo (Treasury_)  ...  Excess Return % 27-mo (Agg_)  \\\n",
       "0                           0.529421  ...                      0.422108   \n",
       "1                           0.521976  ...                      0.433347   \n",
       "2                           0.454567  ...                      0.399970   \n",
       "3                           0.429429  ...                      0.398085   \n",
       "4                           0.426867  ...                      0.381931   \n",
       "5                           0.397566  ...                      0.371710   \n",
       "6                           0.396606  ...                      0.350202   \n",
       "7                           0.404291  ...                      0.288761   \n",
       "8                           0.415980  ...                      0.333314   \n",
       "9                           0.424946  ...                      0.320305   \n",
       "10                          0.452966  ...                      0.321814   \n",
       "11                          0.442078  ...                      0.305863   \n",
       "12                          0.212953  ...                      0.291259   \n",
       "13                          0.240974  ...                      0.234316   \n",
       "14                          0.159475  ...                      0.209143   \n",
       "15                          0.271395  ...                      0.224181   \n",
       "16                          0.295012  ...                      0.240734   \n",
       "17                          0.310864  ...                      0.213514   \n",
       "18                          0.368265  ...                      0.221805   \n",
       "19                          0.431271  ...                      0.197522   \n",
       "20                          0.671523  ...                      0.271197   \n",
       "21                          0.660716  ...                      0.232842   \n",
       "22                          0.696421  ...                      0.326914   \n",
       "23                          0.536947  ...                      0.276857   \n",
       "24                          0.482107  ...                      0.275625   \n",
       "25                          0.485309  ...                      0.251499   \n",
       "26                          0.468417  ...                      0.322792   \n",
       "27                          0.474502  ...                      0.306568   \n",
       "28                          0.489472  ...                      0.337506   \n",
       "29                          0.468417  ...                      0.367050   \n",
       "\n",
       "    Excess Return % 28-mo (Agg_)  Excess Return % 29-mo (Agg_)  \\\n",
       "0                       0.462112                      0.373938   \n",
       "1                       0.438071                      0.373374   \n",
       "2                       0.427400                      0.364222   \n",
       "3                       0.426366                      0.360666   \n",
       "4                       0.407093                      0.352537   \n",
       "5                       0.407234                      0.350950   \n",
       "6                       0.383417                      0.339895   \n",
       "7                       0.332634                      0.291205   \n",
       "8                       0.376924                      0.325368   \n",
       "9                       0.355843                      0.281981   \n",
       "10                      0.332108                      0.272320   \n",
       "11                      0.329219                      0.228623   \n",
       "12                      0.270495                      0.197860   \n",
       "13                      0.238158                      0.218724   \n",
       "14                      0.267062                      0.238190   \n",
       "15                      0.274324                      0.221224   \n",
       "16                      0.265851                      0.230531   \n",
       "17                      0.256451                      0.173567   \n",
       "18                      0.213461                      0.161125   \n",
       "19                      0.218341                      0.182951   \n",
       "20                      0.312073                      0.320425   \n",
       "21                      0.326029                      0.284231   \n",
       "22                      0.369538                      0.333973   \n",
       "23                      0.328020                      0.273990   \n",
       "24                      0.304191                      0.280875   \n",
       "25                      0.310720                      0.267929   \n",
       "26                      0.363216                      0.344220   \n",
       "27                      0.375654                      0.321276   \n",
       "28                      0.370318                      0.270429   \n",
       "29                      0.351518                      0.307728   \n",
       "\n",
       "    Excess Return % 30-mo (Agg_)  Excess Return % 31-mo (Agg_)  \\\n",
       "0                       0.326673                      0.330995   \n",
       "1                       0.326919                      0.328916   \n",
       "2                       0.316272                      0.327274   \n",
       "3                       0.322034                      0.331432   \n",
       "4                       0.313102                      0.332677   \n",
       "5                       0.321854                      0.340292   \n",
       "6                       0.310775                      0.322795   \n",
       "7                       0.260007                      0.251353   \n",
       "8                       0.269535                      0.272040   \n",
       "9                       0.241571                      0.207603   \n",
       "10                      0.195632                      0.183870   \n",
       "11                      0.177948                      0.212246   \n",
       "12                      0.196419                      0.223711   \n",
       "13                      0.208461                      0.214305   \n",
       "14                      0.204564                      0.225914   \n",
       "15                      0.204810                      0.182947   \n",
       "16                      0.169568                      0.173021   \n",
       "17                      0.143113                      0.162335   \n",
       "18                      0.147481                      0.211284   \n",
       "19                      0.212392                      0.231306   \n",
       "20                      0.292400                      0.318538   \n",
       "21                      0.267755                      0.275210   \n",
       "22                      0.293708                      0.327066   \n",
       "23                      0.265779                      0.282344   \n",
       "24                      0.254741                      0.295788   \n",
       "25                      0.267630                      0.277512   \n",
       "26                      0.305454                      0.273791   \n",
       "27                      0.243060                      0.261319   \n",
       "28                      0.246731                      0.287538   \n",
       "29                      0.303393                      0.318151   \n",
       "\n",
       "    Excess Return % 32-mo (Agg_)  Excess Return % 33-mo (Agg_)  \\\n",
       "0                       0.383030                      0.373307   \n",
       "1                       0.389235                      0.378118   \n",
       "2                       0.386333                      0.384415   \n",
       "3                       0.399303                      0.396465   \n",
       "4                       0.399488                      0.390680   \n",
       "5                       0.400469                      0.372283   \n",
       "6                       0.365198                      0.347208   \n",
       "7                       0.310376                      0.258669   \n",
       "8                       0.295721                      0.263801   \n",
       "9                       0.256798                      0.266669   \n",
       "10                      0.276962                      0.280668   \n",
       "11                      0.296611                      0.280899   \n",
       "12                      0.287636                      0.286022   \n",
       "13                      0.293154                      0.252095   \n",
       "14                      0.264367                      0.246007   \n",
       "15                      0.247940                      0.243678   \n",
       "16                      0.253002                      0.289506   \n",
       "17                      0.283921                      0.280151   \n",
       "18                      0.288260                      0.291889   \n",
       "19                      0.313870                      0.300256   \n",
       "20                      0.376070                      0.386522   \n",
       "21                      0.360452                      0.355254   \n",
       "22                      0.392118                      0.409245   \n",
       "23                      0.373571                      0.362321   \n",
       "24                      0.357556                      0.308701   \n",
       "25                      0.303435                      0.299418   \n",
       "26                      0.344907                      0.361619   \n",
       "27                      0.354121                      0.347629   \n",
       "28                      0.354835                      0.333010   \n",
       "29                      0.367425                      0.349138   \n",
       "\n",
       "    Excess Return % 34-mo (Agg_)  Excess Return % 35-mo (Agg_)  \\\n",
       "0                       0.349486                      0.348749   \n",
       "1                       0.363273                      0.361548   \n",
       "2                       0.368531                      0.360935   \n",
       "3                       0.374511                      0.347906   \n",
       "4                       0.349758                      0.333327   \n",
       "5                       0.341777                      0.292481   \n",
       "6                       0.284081                      0.254440   \n",
       "7                       0.216493                      0.228159   \n",
       "8                       0.262742                      0.268131   \n",
       "9                       0.259449                      0.245782   \n",
       "10                      0.254071                      0.254258   \n",
       "11                      0.268187                      0.229664   \n",
       "12                      0.234415                      0.218334   \n",
       "13                      0.223440                      0.221254   \n",
       "14                      0.231358                      0.269063   \n",
       "15                      0.269154                      0.267177   \n",
       "16                      0.274541                      0.279780   \n",
       "17                      0.272607                      0.260902   \n",
       "18                      0.267131                      0.278870   \n",
       "19                      0.298880                      0.295197   \n",
       "20                      0.368375                      0.386204   \n",
       "21                      0.359503                      0.349614   \n",
       "22                      0.384742                      0.337952   \n",
       "23                      0.301638                      0.299240   \n",
       "24                      0.293132                      0.310974   \n",
       "25                      0.304289                      0.299333   \n",
       "26                      0.342624                      0.322490   \n",
       "27                      0.313781                      0.297199   \n",
       "28                      0.302850                      0.286965   \n",
       "29                      0.319368                      0.283810   \n",
       "\n",
       "    Excess Return % 36-mo (Agg_)  \n",
       "0                       0.344246  \n",
       "1                       0.350885  \n",
       "2                       0.332163  \n",
       "3                       0.329340  \n",
       "4                       0.283984  \n",
       "5                       0.263515  \n",
       "6                       0.266372  \n",
       "7                       0.235448  \n",
       "8                       0.255417  \n",
       "9                       0.247281  \n",
       "10                      0.218452  \n",
       "11                      0.216264  \n",
       "12                      0.218672  \n",
       "13                      0.259602  \n",
       "14                      0.267513  \n",
       "15                      0.272626  \n",
       "16                      0.268471  \n",
       "17                      0.272812  \n",
       "18                      0.275369  \n",
       "19                      0.311787  \n",
       "20                      0.372215  \n",
       "21                      0.302104  \n",
       "22                      0.333049  \n",
       "23                      0.315370  \n",
       "24                      0.304843  \n",
       "25                      0.279371  \n",
       "26                      0.304775  \n",
       "27                      0.281237  \n",
       "28                      0.252729  \n",
       "29                      0.295567  \n",
       "\n",
       "[30 rows x 73 columns]"
      ]
     },
     "execution_count": 91,
     "metadata": {},
     "output_type": "execute_result"
    }
   ],
   "source": [
    "# You will notice returns and OAS that are blank (NAN) are simply outliers!!\n",
    "normalized_df.head(30)"
   ]
  },
  {
   "cell_type": "code",
   "execution_count": 92,
   "metadata": {},
   "outputs": [],
   "source": [
    "# Output to excel for better sanity check \n",
    "normalized_df.to_excel(\"output.xlsx\",\n",
    "             sheet_name='Sheet_name_1')\n",
    "\n",
    "normalized_df1 = normalized_df.copy() # Making copy to use for hypothesis test"
   ]
  },
  {
   "cell_type": "markdown",
   "metadata": {},
   "source": [
    "# Now we move on to our Hypothesis Testing Segment\n",
    "\n",
    "## Our hypothesis is that spreads that are in the 80th percentile have higher excess returns than average case. "
   ]
  },
  {
   "cell_type": "code",
   "execution_count": 93,
   "metadata": {},
   "outputs": [
    {
     "name": "stdout",
     "output_type": "stream",
     "text": [
      "0.5734597156398105\n"
     ]
    }
   ],
   "source": [
    "# Selecting \n",
    "highspread = normalized_df[\"OAS\"].quantile(.80) # every data point over the 75th percentile\n",
    "print(highspread)\n",
    "\n",
    "# pandas version of the SQL function \n",
    "normalized_df = normalized_df[(normalized_df['OAS'] > highspread)]"
   ]
  },
  {
   "cell_type": "markdown",
   "metadata": {},
   "source": [
    "# Below we have two dataframes\n",
    "\n",
    "### normalized_df = a sample of spreads from the populaton that are above the 80th percentile\n",
    "\n",
    "### normalized_df1 = the whole population, all spreads included.\n",
    "\n",
    "## Our goal is to compare the excess returns of \"high spreads\" to all spreads.\n",
    "\n",
    "## I will go over our actual hypothesis test parameters next."
   ]
  },
  {
   "cell_type": "code",
   "execution_count": 94,
   "metadata": {},
   "outputs": [
    {
     "data": {
      "text/html": [
       "<div>\n",
       "<style scoped>\n",
       "    .dataframe tbody tr th:only-of-type {\n",
       "        vertical-align: middle;\n",
       "    }\n",
       "\n",
       "    .dataframe tbody tr th {\n",
       "        vertical-align: top;\n",
       "    }\n",
       "\n",
       "    .dataframe thead th {\n",
       "        text-align: right;\n",
       "    }\n",
       "</style>\n",
       "<table border=\"1\" class=\"dataframe\">\n",
       "  <thead>\n",
       "    <tr style=\"text-align: right;\">\n",
       "      <th></th>\n",
       "      <th>OAS</th>\n",
       "      <th>Excess Return % 1-mo (Treasury)</th>\n",
       "      <th>Excess Return % 1-mo (Agg)</th>\n",
       "      <th>Excess Return % 2-mo (Treasury_)</th>\n",
       "      <th>Excess Return % 3-mo (Treasury_)</th>\n",
       "      <th>Excess Return % 4-mo (Treasury_)</th>\n",
       "      <th>Excess Return % 5-mo (Treasury_)</th>\n",
       "      <th>Excess Return % 6-mo (Treasury_)</th>\n",
       "      <th>Excess Return % 7-mo (Treasury_)</th>\n",
       "      <th>Excess Return % 8-mo (Treasury_)</th>\n",
       "      <th>...</th>\n",
       "      <th>Excess Return % 27-mo (Agg_)</th>\n",
       "      <th>Excess Return % 28-mo (Agg_)</th>\n",
       "      <th>Excess Return % 29-mo (Agg_)</th>\n",
       "      <th>Excess Return % 30-mo (Agg_)</th>\n",
       "      <th>Excess Return % 31-mo (Agg_)</th>\n",
       "      <th>Excess Return % 32-mo (Agg_)</th>\n",
       "      <th>Excess Return % 33-mo (Agg_)</th>\n",
       "      <th>Excess Return % 34-mo (Agg_)</th>\n",
       "      <th>Excess Return % 35-mo (Agg_)</th>\n",
       "      <th>Excess Return % 36-mo (Agg_)</th>\n",
       "    </tr>\n",
       "  </thead>\n",
       "  <tbody>\n",
       "    <tr>\n",
       "      <th>count</th>\n",
       "      <td>51.000000</td>\n",
       "      <td>36.000000</td>\n",
       "      <td>42.000000</td>\n",
       "      <td>41.000000</td>\n",
       "      <td>44.000000</td>\n",
       "      <td>44.000000</td>\n",
       "      <td>44.000000</td>\n",
       "      <td>47.000000</td>\n",
       "      <td>47.000000</td>\n",
       "      <td>46.000000</td>\n",
       "      <td>...</td>\n",
       "      <td>51.000000</td>\n",
       "      <td>51.000000</td>\n",
       "      <td>51.000000</td>\n",
       "      <td>51.000000</td>\n",
       "      <td>51.000000</td>\n",
       "      <td>51.000000</td>\n",
       "      <td>51.000000</td>\n",
       "      <td>51.000000</td>\n",
       "      <td>51.000000</td>\n",
       "      <td>51.000000</td>\n",
       "    </tr>\n",
       "    <tr>\n",
       "      <th>mean</th>\n",
       "      <td>0.733296</td>\n",
       "      <td>0.493327</td>\n",
       "      <td>0.463613</td>\n",
       "      <td>0.551117</td>\n",
       "      <td>0.548309</td>\n",
       "      <td>0.616018</td>\n",
       "      <td>0.633054</td>\n",
       "      <td>0.603930</td>\n",
       "      <td>0.648313</td>\n",
       "      <td>0.645446</td>\n",
       "      <td>...</td>\n",
       "      <td>0.678038</td>\n",
       "      <td>0.737439</td>\n",
       "      <td>0.672826</td>\n",
       "      <td>0.615440</td>\n",
       "      <td>0.633898</td>\n",
       "      <td>0.675419</td>\n",
       "      <td>0.672928</td>\n",
       "      <td>0.648917</td>\n",
       "      <td>0.645132</td>\n",
       "      <td>0.627428</td>\n",
       "    </tr>\n",
       "    <tr>\n",
       "      <th>std</th>\n",
       "      <td>0.121372</td>\n",
       "      <td>0.274534</td>\n",
       "      <td>0.287512</td>\n",
       "      <td>0.283524</td>\n",
       "      <td>0.280502</td>\n",
       "      <td>0.219004</td>\n",
       "      <td>0.228887</td>\n",
       "      <td>0.262478</td>\n",
       "      <td>0.256442</td>\n",
       "      <td>0.253361</td>\n",
       "      <td>...</td>\n",
       "      <td>0.117189</td>\n",
       "      <td>0.117478</td>\n",
       "      <td>0.105772</td>\n",
       "      <td>0.099661</td>\n",
       "      <td>0.094814</td>\n",
       "      <td>0.081513</td>\n",
       "      <td>0.078203</td>\n",
       "      <td>0.076957</td>\n",
       "      <td>0.078140</td>\n",
       "      <td>0.074523</td>\n",
       "    </tr>\n",
       "    <tr>\n",
       "      <th>min</th>\n",
       "      <td>0.578199</td>\n",
       "      <td>0.000000</td>\n",
       "      <td>0.005958</td>\n",
       "      <td>0.029661</td>\n",
       "      <td>0.027567</td>\n",
       "      <td>0.111652</td>\n",
       "      <td>0.029846</td>\n",
       "      <td>0.000000</td>\n",
       "      <td>0.048745</td>\n",
       "      <td>0.000000</td>\n",
       "      <td>...</td>\n",
       "      <td>0.301140</td>\n",
       "      <td>0.393107</td>\n",
       "      <td>0.358542</td>\n",
       "      <td>0.280258</td>\n",
       "      <td>0.344097</td>\n",
       "      <td>0.426418</td>\n",
       "      <td>0.462422</td>\n",
       "      <td>0.479926</td>\n",
       "      <td>0.479648</td>\n",
       "      <td>0.471232</td>\n",
       "    </tr>\n",
       "    <tr>\n",
       "      <th>25%</th>\n",
       "      <td>0.635071</td>\n",
       "      <td>0.311153</td>\n",
       "      <td>0.284330</td>\n",
       "      <td>0.343036</td>\n",
       "      <td>0.343876</td>\n",
       "      <td>0.458117</td>\n",
       "      <td>0.488078</td>\n",
       "      <td>0.426885</td>\n",
       "      <td>0.501901</td>\n",
       "      <td>0.538928</td>\n",
       "      <td>...</td>\n",
       "      <td>0.622668</td>\n",
       "      <td>0.692988</td>\n",
       "      <td>0.641485</td>\n",
       "      <td>0.590080</td>\n",
       "      <td>0.601140</td>\n",
       "      <td>0.630945</td>\n",
       "      <td>0.625173</td>\n",
       "      <td>0.591552</td>\n",
       "      <td>0.595352</td>\n",
       "      <td>0.585253</td>\n",
       "    </tr>\n",
       "    <tr>\n",
       "      <th>50%</th>\n",
       "      <td>0.696682</td>\n",
       "      <td>0.436114</td>\n",
       "      <td>0.467852</td>\n",
       "      <td>0.556006</td>\n",
       "      <td>0.591343</td>\n",
       "      <td>0.637435</td>\n",
       "      <td>0.689963</td>\n",
       "      <td>0.664623</td>\n",
       "      <td>0.735997</td>\n",
       "      <td>0.696582</td>\n",
       "      <td>...</td>\n",
       "      <td>0.697340</td>\n",
       "      <td>0.755473</td>\n",
       "      <td>0.685752</td>\n",
       "      <td>0.628531</td>\n",
       "      <td>0.637860</td>\n",
       "      <td>0.676749</td>\n",
       "      <td>0.672943</td>\n",
       "      <td>0.649164</td>\n",
       "      <td>0.649383</td>\n",
       "      <td>0.626971</td>\n",
       "    </tr>\n",
       "    <tr>\n",
       "      <th>75%</th>\n",
       "      <td>0.810427</td>\n",
       "      <td>0.703218</td>\n",
       "      <td>0.664192</td>\n",
       "      <td>0.808585</td>\n",
       "      <td>0.728133</td>\n",
       "      <td>0.751798</td>\n",
       "      <td>0.800398</td>\n",
       "      <td>0.788113</td>\n",
       "      <td>0.812621</td>\n",
       "      <td>0.829297</td>\n",
       "      <td>...</td>\n",
       "      <td>0.764013</td>\n",
       "      <td>0.809003</td>\n",
       "      <td>0.735425</td>\n",
       "      <td>0.677788</td>\n",
       "      <td>0.688476</td>\n",
       "      <td>0.719011</td>\n",
       "      <td>0.722245</td>\n",
       "      <td>0.705168</td>\n",
       "      <td>0.701106</td>\n",
       "      <td>0.671517</td>\n",
       "    </tr>\n",
       "    <tr>\n",
       "      <th>max</th>\n",
       "      <td>1.000000</td>\n",
       "      <td>1.000000</td>\n",
       "      <td>0.959492</td>\n",
       "      <td>1.000000</td>\n",
       "      <td>1.000000</td>\n",
       "      <td>1.000000</td>\n",
       "      <td>1.000000</td>\n",
       "      <td>1.000000</td>\n",
       "      <td>1.000000</td>\n",
       "      <td>1.000000</td>\n",
       "      <td>...</td>\n",
       "      <td>0.856385</td>\n",
       "      <td>0.951574</td>\n",
       "      <td>0.850377</td>\n",
       "      <td>0.787096</td>\n",
       "      <td>0.804338</td>\n",
       "      <td>0.862940</td>\n",
       "      <td>0.853713</td>\n",
       "      <td>0.832059</td>\n",
       "      <td>0.808458</td>\n",
       "      <td>0.797650</td>\n",
       "    </tr>\n",
       "  </tbody>\n",
       "</table>\n",
       "<p>8 rows × 73 columns</p>\n",
       "</div>"
      ],
      "text/plain": [
       "             OAS  Excess Return % 1-mo (Treasury)  Excess Return % 1-mo (Agg)  \\\n",
       "count  51.000000                        36.000000                   42.000000   \n",
       "mean    0.733296                         0.493327                    0.463613   \n",
       "std     0.121372                         0.274534                    0.287512   \n",
       "min     0.578199                         0.000000                    0.005958   \n",
       "25%     0.635071                         0.311153                    0.284330   \n",
       "50%     0.696682                         0.436114                    0.467852   \n",
       "75%     0.810427                         0.703218                    0.664192   \n",
       "max     1.000000                         1.000000                    0.959492   \n",
       "\n",
       "       Excess Return % 2-mo (Treasury_)  Excess Return % 3-mo (Treasury_)  \\\n",
       "count                         41.000000                         44.000000   \n",
       "mean                           0.551117                          0.548309   \n",
       "std                            0.283524                          0.280502   \n",
       "min                            0.029661                          0.027567   \n",
       "25%                            0.343036                          0.343876   \n",
       "50%                            0.556006                          0.591343   \n",
       "75%                            0.808585                          0.728133   \n",
       "max                            1.000000                          1.000000   \n",
       "\n",
       "       Excess Return % 4-mo (Treasury_)  Excess Return % 5-mo (Treasury_)  \\\n",
       "count                         44.000000                         44.000000   \n",
       "mean                           0.616018                          0.633054   \n",
       "std                            0.219004                          0.228887   \n",
       "min                            0.111652                          0.029846   \n",
       "25%                            0.458117                          0.488078   \n",
       "50%                            0.637435                          0.689963   \n",
       "75%                            0.751798                          0.800398   \n",
       "max                            1.000000                          1.000000   \n",
       "\n",
       "       Excess Return % 6-mo (Treasury_)  Excess Return % 7-mo (Treasury_)  \\\n",
       "count                         47.000000                         47.000000   \n",
       "mean                           0.603930                          0.648313   \n",
       "std                            0.262478                          0.256442   \n",
       "min                            0.000000                          0.048745   \n",
       "25%                            0.426885                          0.501901   \n",
       "50%                            0.664623                          0.735997   \n",
       "75%                            0.788113                          0.812621   \n",
       "max                            1.000000                          1.000000   \n",
       "\n",
       "       Excess Return % 8-mo (Treasury_)  ...  Excess Return % 27-mo (Agg_)  \\\n",
       "count                         46.000000  ...                     51.000000   \n",
       "mean                           0.645446  ...                      0.678038   \n",
       "std                            0.253361  ...                      0.117189   \n",
       "min                            0.000000  ...                      0.301140   \n",
       "25%                            0.538928  ...                      0.622668   \n",
       "50%                            0.696582  ...                      0.697340   \n",
       "75%                            0.829297  ...                      0.764013   \n",
       "max                            1.000000  ...                      0.856385   \n",
       "\n",
       "       Excess Return % 28-mo (Agg_)  Excess Return % 29-mo (Agg_)  \\\n",
       "count                     51.000000                     51.000000   \n",
       "mean                       0.737439                      0.672826   \n",
       "std                        0.117478                      0.105772   \n",
       "min                        0.393107                      0.358542   \n",
       "25%                        0.692988                      0.641485   \n",
       "50%                        0.755473                      0.685752   \n",
       "75%                        0.809003                      0.735425   \n",
       "max                        0.951574                      0.850377   \n",
       "\n",
       "       Excess Return % 30-mo (Agg_)  Excess Return % 31-mo (Agg_)  \\\n",
       "count                     51.000000                     51.000000   \n",
       "mean                       0.615440                      0.633898   \n",
       "std                        0.099661                      0.094814   \n",
       "min                        0.280258                      0.344097   \n",
       "25%                        0.590080                      0.601140   \n",
       "50%                        0.628531                      0.637860   \n",
       "75%                        0.677788                      0.688476   \n",
       "max                        0.787096                      0.804338   \n",
       "\n",
       "       Excess Return % 32-mo (Agg_)  Excess Return % 33-mo (Agg_)  \\\n",
       "count                     51.000000                     51.000000   \n",
       "mean                       0.675419                      0.672928   \n",
       "std                        0.081513                      0.078203   \n",
       "min                        0.426418                      0.462422   \n",
       "25%                        0.630945                      0.625173   \n",
       "50%                        0.676749                      0.672943   \n",
       "75%                        0.719011                      0.722245   \n",
       "max                        0.862940                      0.853713   \n",
       "\n",
       "       Excess Return % 34-mo (Agg_)  Excess Return % 35-mo (Agg_)  \\\n",
       "count                     51.000000                     51.000000   \n",
       "mean                       0.648917                      0.645132   \n",
       "std                        0.076957                      0.078140   \n",
       "min                        0.479926                      0.479648   \n",
       "25%                        0.591552                      0.595352   \n",
       "50%                        0.649164                      0.649383   \n",
       "75%                        0.705168                      0.701106   \n",
       "max                        0.832059                      0.808458   \n",
       "\n",
       "       Excess Return % 36-mo (Agg_)  \n",
       "count                     51.000000  \n",
       "mean                       0.627428  \n",
       "std                        0.074523  \n",
       "min                        0.471232  \n",
       "25%                        0.585253  \n",
       "50%                        0.626971  \n",
       "75%                        0.671517  \n",
       "max                        0.797650  \n",
       "\n",
       "[8 rows x 73 columns]"
      ]
     },
     "execution_count": 94,
     "metadata": {},
     "output_type": "execute_result"
    }
   ],
   "source": [
    "normalized_df.describe() # Subset of the population, aka sample of Spreads > 80th percentile"
   ]
  },
  {
   "cell_type": "code",
   "execution_count": 95,
   "metadata": {},
   "outputs": [
    {
     "data": {
      "text/html": [
       "<div>\n",
       "<style scoped>\n",
       "    .dataframe tbody tr th:only-of-type {\n",
       "        vertical-align: middle;\n",
       "    }\n",
       "\n",
       "    .dataframe tbody tr th {\n",
       "        vertical-align: top;\n",
       "    }\n",
       "\n",
       "    .dataframe thead th {\n",
       "        text-align: right;\n",
       "    }\n",
       "</style>\n",
       "<table border=\"1\" class=\"dataframe\">\n",
       "  <thead>\n",
       "    <tr style=\"text-align: right;\">\n",
       "      <th></th>\n",
       "      <th>OAS</th>\n",
       "      <th>Excess Return % 1-mo (Treasury)</th>\n",
       "      <th>Excess Return % 1-mo (Agg)</th>\n",
       "      <th>Excess Return % 2-mo (Treasury_)</th>\n",
       "      <th>Excess Return % 3-mo (Treasury_)</th>\n",
       "      <th>Excess Return % 4-mo (Treasury_)</th>\n",
       "      <th>Excess Return % 5-mo (Treasury_)</th>\n",
       "      <th>Excess Return % 6-mo (Treasury_)</th>\n",
       "      <th>Excess Return % 7-mo (Treasury_)</th>\n",
       "      <th>Excess Return % 8-mo (Treasury_)</th>\n",
       "      <th>...</th>\n",
       "      <th>Excess Return % 27-mo (Agg_)</th>\n",
       "      <th>Excess Return % 28-mo (Agg_)</th>\n",
       "      <th>Excess Return % 29-mo (Agg_)</th>\n",
       "      <th>Excess Return % 30-mo (Agg_)</th>\n",
       "      <th>Excess Return % 31-mo (Agg_)</th>\n",
       "      <th>Excess Return % 32-mo (Agg_)</th>\n",
       "      <th>Excess Return % 33-mo (Agg_)</th>\n",
       "      <th>Excess Return % 34-mo (Agg_)</th>\n",
       "      <th>Excess Return % 35-mo (Agg_)</th>\n",
       "      <th>Excess Return % 36-mo (Agg_)</th>\n",
       "    </tr>\n",
       "  </thead>\n",
       "  <tbody>\n",
       "    <tr>\n",
       "      <th>count</th>\n",
       "      <td>265.000000</td>\n",
       "      <td>249.000000</td>\n",
       "      <td>256.000000</td>\n",
       "      <td>254.000000</td>\n",
       "      <td>252.000000</td>\n",
       "      <td>257.000000</td>\n",
       "      <td>253.000000</td>\n",
       "      <td>253.000000</td>\n",
       "      <td>253.000000</td>\n",
       "      <td>251.000000</td>\n",
       "      <td>...</td>\n",
       "      <td>236.000000</td>\n",
       "      <td>235.000000</td>\n",
       "      <td>234.000000</td>\n",
       "      <td>234.000000</td>\n",
       "      <td>233.000000</td>\n",
       "      <td>233.000000</td>\n",
       "      <td>232.000000</td>\n",
       "      <td>232.000000</td>\n",
       "      <td>232.000000</td>\n",
       "      <td>231.000000</td>\n",
       "    </tr>\n",
       "    <tr>\n",
       "      <th>mean</th>\n",
       "      <td>0.400322</td>\n",
       "      <td>0.509477</td>\n",
       "      <td>0.480734</td>\n",
       "      <td>0.507307</td>\n",
       "      <td>0.499083</td>\n",
       "      <td>0.504676</td>\n",
       "      <td>0.515373</td>\n",
       "      <td>0.509209</td>\n",
       "      <td>0.536031</td>\n",
       "      <td>0.519001</td>\n",
       "      <td>...</td>\n",
       "      <td>0.503443</td>\n",
       "      <td>0.548171</td>\n",
       "      <td>0.490763</td>\n",
       "      <td>0.447970</td>\n",
       "      <td>0.463401</td>\n",
       "      <td>0.514846</td>\n",
       "      <td>0.510771</td>\n",
       "      <td>0.493191</td>\n",
       "      <td>0.491403</td>\n",
       "      <td>0.478865</td>\n",
       "    </tr>\n",
       "    <tr>\n",
       "      <th>std</th>\n",
       "      <td>0.215516</td>\n",
       "      <td>0.194349</td>\n",
       "      <td>0.207234</td>\n",
       "      <td>0.193341</td>\n",
       "      <td>0.192868</td>\n",
       "      <td>0.181551</td>\n",
       "      <td>0.192925</td>\n",
       "      <td>0.192404</td>\n",
       "      <td>0.196399</td>\n",
       "      <td>0.198520</td>\n",
       "      <td>...</td>\n",
       "      <td>0.178685</td>\n",
       "      <td>0.187768</td>\n",
       "      <td>0.181019</td>\n",
       "      <td>0.170950</td>\n",
       "      <td>0.173533</td>\n",
       "      <td>0.164916</td>\n",
       "      <td>0.168189</td>\n",
       "      <td>0.169889</td>\n",
       "      <td>0.173559</td>\n",
       "      <td>0.167888</td>\n",
       "    </tr>\n",
       "    <tr>\n",
       "      <th>min</th>\n",
       "      <td>0.000000</td>\n",
       "      <td>0.000000</td>\n",
       "      <td>0.000000</td>\n",
       "      <td>0.000000</td>\n",
       "      <td>0.000000</td>\n",
       "      <td>0.000000</td>\n",
       "      <td>0.000000</td>\n",
       "      <td>0.000000</td>\n",
       "      <td>0.000000</td>\n",
       "      <td>0.000000</td>\n",
       "      <td>...</td>\n",
       "      <td>0.000000</td>\n",
       "      <td>0.000000</td>\n",
       "      <td>0.000000</td>\n",
       "      <td>0.000000</td>\n",
       "      <td>0.000000</td>\n",
       "      <td>0.000000</td>\n",
       "      <td>0.000000</td>\n",
       "      <td>0.000000</td>\n",
       "      <td>0.000000</td>\n",
       "      <td>0.000000</td>\n",
       "    </tr>\n",
       "    <tr>\n",
       "      <th>25%</th>\n",
       "      <td>0.222749</td>\n",
       "      <td>0.387691</td>\n",
       "      <td>0.347067</td>\n",
       "      <td>0.415392</td>\n",
       "      <td>0.392751</td>\n",
       "      <td>0.404670</td>\n",
       "      <td>0.404567</td>\n",
       "      <td>0.401629</td>\n",
       "      <td>0.428740</td>\n",
       "      <td>0.397086</td>\n",
       "      <td>...</td>\n",
       "      <td>0.370659</td>\n",
       "      <td>0.407163</td>\n",
       "      <td>0.351410</td>\n",
       "      <td>0.314903</td>\n",
       "      <td>0.328916</td>\n",
       "      <td>0.383030</td>\n",
       "      <td>0.373051</td>\n",
       "      <td>0.357067</td>\n",
       "      <td>0.348538</td>\n",
       "      <td>0.337948</td>\n",
       "    </tr>\n",
       "    <tr>\n",
       "      <th>50%</th>\n",
       "      <td>0.369668</td>\n",
       "      <td>0.518276</td>\n",
       "      <td>0.483626</td>\n",
       "      <td>0.525239</td>\n",
       "      <td>0.518775</td>\n",
       "      <td>0.510789</td>\n",
       "      <td>0.511524</td>\n",
       "      <td>0.499908</td>\n",
       "      <td>0.528512</td>\n",
       "      <td>0.518854</td>\n",
       "      <td>...</td>\n",
       "      <td>0.500425</td>\n",
       "      <td>0.559808</td>\n",
       "      <td>0.500088</td>\n",
       "      <td>0.454633</td>\n",
       "      <td>0.471482</td>\n",
       "      <td>0.540417</td>\n",
       "      <td>0.545833</td>\n",
       "      <td>0.534765</td>\n",
       "      <td>0.529842</td>\n",
       "      <td>0.509541</td>\n",
       "    </tr>\n",
       "    <tr>\n",
       "      <th>75%</th>\n",
       "      <td>0.535545</td>\n",
       "      <td>0.614808</td>\n",
       "      <td>0.605820</td>\n",
       "      <td>0.617723</td>\n",
       "      <td>0.620064</td>\n",
       "      <td>0.622884</td>\n",
       "      <td>0.652151</td>\n",
       "      <td>0.644308</td>\n",
       "      <td>0.679142</td>\n",
       "      <td>0.661436</td>\n",
       "      <td>...</td>\n",
       "      <td>0.643003</td>\n",
       "      <td>0.700574</td>\n",
       "      <td>0.633737</td>\n",
       "      <td>0.581695</td>\n",
       "      <td>0.598178</td>\n",
       "      <td>0.632227</td>\n",
       "      <td>0.628474</td>\n",
       "      <td>0.601289</td>\n",
       "      <td>0.612371</td>\n",
       "      <td>0.594232</td>\n",
       "    </tr>\n",
       "    <tr>\n",
       "      <th>max</th>\n",
       "      <td>1.000000</td>\n",
       "      <td>1.000000</td>\n",
       "      <td>1.000000</td>\n",
       "      <td>1.000000</td>\n",
       "      <td>1.000000</td>\n",
       "      <td>1.000000</td>\n",
       "      <td>1.000000</td>\n",
       "      <td>1.000000</td>\n",
       "      <td>1.000000</td>\n",
       "      <td>1.000000</td>\n",
       "      <td>...</td>\n",
       "      <td>1.000000</td>\n",
       "      <td>1.000000</td>\n",
       "      <td>1.000000</td>\n",
       "      <td>1.000000</td>\n",
       "      <td>1.000000</td>\n",
       "      <td>1.000000</td>\n",
       "      <td>1.000000</td>\n",
       "      <td>1.000000</td>\n",
       "      <td>1.000000</td>\n",
       "      <td>1.000000</td>\n",
       "    </tr>\n",
       "  </tbody>\n",
       "</table>\n",
       "<p>8 rows × 73 columns</p>\n",
       "</div>"
      ],
      "text/plain": [
       "              OAS  Excess Return % 1-mo (Treasury)  \\\n",
       "count  265.000000                       249.000000   \n",
       "mean     0.400322                         0.509477   \n",
       "std      0.215516                         0.194349   \n",
       "min      0.000000                         0.000000   \n",
       "25%      0.222749                         0.387691   \n",
       "50%      0.369668                         0.518276   \n",
       "75%      0.535545                         0.614808   \n",
       "max      1.000000                         1.000000   \n",
       "\n",
       "       Excess Return % 1-mo (Agg)  Excess Return % 2-mo (Treasury_)  \\\n",
       "count                  256.000000                        254.000000   \n",
       "mean                     0.480734                          0.507307   \n",
       "std                      0.207234                          0.193341   \n",
       "min                      0.000000                          0.000000   \n",
       "25%                      0.347067                          0.415392   \n",
       "50%                      0.483626                          0.525239   \n",
       "75%                      0.605820                          0.617723   \n",
       "max                      1.000000                          1.000000   \n",
       "\n",
       "       Excess Return % 3-mo (Treasury_)  Excess Return % 4-mo (Treasury_)  \\\n",
       "count                        252.000000                        257.000000   \n",
       "mean                           0.499083                          0.504676   \n",
       "std                            0.192868                          0.181551   \n",
       "min                            0.000000                          0.000000   \n",
       "25%                            0.392751                          0.404670   \n",
       "50%                            0.518775                          0.510789   \n",
       "75%                            0.620064                          0.622884   \n",
       "max                            1.000000                          1.000000   \n",
       "\n",
       "       Excess Return % 5-mo (Treasury_)  Excess Return % 6-mo (Treasury_)  \\\n",
       "count                        253.000000                        253.000000   \n",
       "mean                           0.515373                          0.509209   \n",
       "std                            0.192925                          0.192404   \n",
       "min                            0.000000                          0.000000   \n",
       "25%                            0.404567                          0.401629   \n",
       "50%                            0.511524                          0.499908   \n",
       "75%                            0.652151                          0.644308   \n",
       "max                            1.000000                          1.000000   \n",
       "\n",
       "       Excess Return % 7-mo (Treasury_)  Excess Return % 8-mo (Treasury_)  \\\n",
       "count                        253.000000                        251.000000   \n",
       "mean                           0.536031                          0.519001   \n",
       "std                            0.196399                          0.198520   \n",
       "min                            0.000000                          0.000000   \n",
       "25%                            0.428740                          0.397086   \n",
       "50%                            0.528512                          0.518854   \n",
       "75%                            0.679142                          0.661436   \n",
       "max                            1.000000                          1.000000   \n",
       "\n",
       "       ...  Excess Return % 27-mo (Agg_)  Excess Return % 28-mo (Agg_)  \\\n",
       "count  ...                    236.000000                    235.000000   \n",
       "mean   ...                      0.503443                      0.548171   \n",
       "std    ...                      0.178685                      0.187768   \n",
       "min    ...                      0.000000                      0.000000   \n",
       "25%    ...                      0.370659                      0.407163   \n",
       "50%    ...                      0.500425                      0.559808   \n",
       "75%    ...                      0.643003                      0.700574   \n",
       "max    ...                      1.000000                      1.000000   \n",
       "\n",
       "       Excess Return % 29-mo (Agg_)  Excess Return % 30-mo (Agg_)  \\\n",
       "count                    234.000000                    234.000000   \n",
       "mean                       0.490763                      0.447970   \n",
       "std                        0.181019                      0.170950   \n",
       "min                        0.000000                      0.000000   \n",
       "25%                        0.351410                      0.314903   \n",
       "50%                        0.500088                      0.454633   \n",
       "75%                        0.633737                      0.581695   \n",
       "max                        1.000000                      1.000000   \n",
       "\n",
       "       Excess Return % 31-mo (Agg_)  Excess Return % 32-mo (Agg_)  \\\n",
       "count                    233.000000                    233.000000   \n",
       "mean                       0.463401                      0.514846   \n",
       "std                        0.173533                      0.164916   \n",
       "min                        0.000000                      0.000000   \n",
       "25%                        0.328916                      0.383030   \n",
       "50%                        0.471482                      0.540417   \n",
       "75%                        0.598178                      0.632227   \n",
       "max                        1.000000                      1.000000   \n",
       "\n",
       "       Excess Return % 33-mo (Agg_)  Excess Return % 34-mo (Agg_)  \\\n",
       "count                    232.000000                    232.000000   \n",
       "mean                       0.510771                      0.493191   \n",
       "std                        0.168189                      0.169889   \n",
       "min                        0.000000                      0.000000   \n",
       "25%                        0.373051                      0.357067   \n",
       "50%                        0.545833                      0.534765   \n",
       "75%                        0.628474                      0.601289   \n",
       "max                        1.000000                      1.000000   \n",
       "\n",
       "       Excess Return % 35-mo (Agg_)  Excess Return % 36-mo (Agg_)  \n",
       "count                    232.000000                    231.000000  \n",
       "mean                       0.491403                      0.478865  \n",
       "std                        0.173559                      0.167888  \n",
       "min                        0.000000                      0.000000  \n",
       "25%                        0.348538                      0.337948  \n",
       "50%                        0.529842                      0.509541  \n",
       "75%                        0.612371                      0.594232  \n",
       "max                        1.000000                      1.000000  \n",
       "\n",
       "[8 rows x 73 columns]"
      ]
     },
     "execution_count": 95,
     "metadata": {},
     "output_type": "execute_result"
    }
   ],
   "source": [
    "normalized_df1.describe()"
   ]
  },
  {
   "cell_type": "markdown",
   "metadata": {},
   "source": [
    "# Our Hypothesis Test\n",
    "\\begin{equation*}\n",
    "\\mu1 = the \\ mean \\  Excess \\ Return \\ for \\ 80th \\ percentile \\ spreads\n",
    "\\end{equation*}\n",
    "\n",
    "\\begin{equation*}\n",
    "\\mu2 = the \\ mean \\ Excess \\ Return \\ for \\ all \\ spreads \n",
    "\\end{equation*}\n",
    "\n",
    "\\begin{equation*}\n",
    " H_0 = \\mu1 - \\mu2 = 0\n",
    "\\end{equation*}\n",
    "\n",
    "\\begin{equation*}\n",
    " H_a = \\mu1 - \\mu2 > 0\n",
    "\\end{equation*}\n",
    "### We would like to ideally see if higher spreads result in higher returns or vice versa\n"
   ]
  },
  {
   "cell_type": "code",
   "execution_count": 96,
   "metadata": {},
   "outputs": [],
   "source": [
    "import researchpy # for t-test stuff! "
   ]
  },
  {
   "cell_type": "code",
   "execution_count": 97,
   "metadata": {},
   "outputs": [
    {
     "data": {
      "text/plain": [
       "(                          Variable      N      Mean        SD        SE  \\\n",
       " 0  Excess Return % 1-mo (Treasury)   36.0  0.493327  0.274534  0.045756   \n",
       " 1  Excess Return % 1-mo (Treasury)  249.0  0.509477  0.194349  0.012316   \n",
       " 2                         combined  285.0  0.507437  0.205672  0.012183   \n",
       " \n",
       "    95% Conf.  Interval  \n",
       " 0   0.400438  0.586216  \n",
       " 1   0.485219  0.533735  \n",
       " 2   0.483456  0.531417  ,\n",
       "                                   Independent t-test   results\n",
       " 0  Difference (Excess Return % 1-mo (Treasury) - ...   -0.0162\n",
       " 1                              Degrees of freedom =   283.0000\n",
       " 2                                               t =    -0.4398\n",
       " 3                           Two side test p value =     0.6605\n",
       " 4                          Difference < 0 p value =     0.3302\n",
       " 5                          Difference > 0 p value =     0.6698\n",
       " 6                                       Cohen's d =    -0.0784\n",
       " 7                                       Hedge's g =    -0.0782\n",
       " 8                                   Glass's delta =    -0.0588\n",
       " 9                                               r =     0.0261)"
      ]
     },
     "execution_count": 97,
     "metadata": {},
     "output_type": "execute_result"
    }
   ],
   "source": [
    "# start with Treasuries\n",
    "\n",
    "des, res = researchpy.ttest(normalized_df['Excess Return % 1-mo (Treasury)'], normalized_df1['Excess Return % 1-mo (Treasury)'])\n",
    "\n",
    "des, res"
   ]
  },
  {
   "cell_type": "code",
   "execution_count": 98,
   "metadata": {},
   "outputs": [
    {
     "data": {
      "text/plain": [
       "(                           Variable      N      Mean        SD        SE  \\\n",
       " 0  Excess Return % 2-mo (Treasury_)   41.0  0.551117  0.283524  0.044279   \n",
       " 1  Excess Return % 2-mo (Treasury_)  254.0  0.507307  0.193341  0.012131   \n",
       " 2                          combined  295.0  0.513396  0.208171  0.012120   \n",
       " \n",
       "    95% Conf.  Interval  \n",
       " 0   0.461626  0.640608  \n",
       " 1   0.483416  0.531198  \n",
       " 2   0.489542  0.537249  ,\n",
       "                                   Independent t-test   results\n",
       " 0  Difference (Excess Return % 2-mo (Treasury_) -...    0.0438\n",
       " 1                              Degrees of freedom =   293.0000\n",
       " 2                                               t =     1.2516\n",
       " 3                           Two side test p value =     0.2117\n",
       " 4                          Difference < 0 p value =     0.8941\n",
       " 5                          Difference > 0 p value =     0.1059\n",
       " 6                                       Cohen's d =     0.2107\n",
       " 7                                       Hedge's g =     0.2101\n",
       " 8                                   Glass's delta =     0.1545\n",
       " 9                                               r =     0.0729)"
      ]
     },
     "execution_count": 98,
     "metadata": {},
     "output_type": "execute_result"
    }
   ],
   "source": [
    "des, res = researchpy.ttest(normalized_df['Excess Return % 2-mo (Treasury_)'], normalized_df1['Excess Return % 2-mo (Treasury_)'])\n",
    "\n",
    "des, res"
   ]
  },
  {
   "cell_type": "code",
   "execution_count": 99,
   "metadata": {},
   "outputs": [
    {
     "data": {
      "text/plain": [
       "(                           Variable      N      Mean        SD        SE  \\\n",
       " 0  Excess Return % 3-mo (Treasury_)   44.0  0.548309  0.280502  0.042287   \n",
       " 1  Excess Return % 3-mo (Treasury_)  252.0  0.499083  0.192868  0.012150   \n",
       " 2                          combined  296.0  0.506401  0.208390  0.012112   \n",
       " \n",
       "    95% Conf.  Interval  \n",
       " 0   0.463029  0.633590  \n",
       " 1   0.475155  0.523012  \n",
       " 2   0.482563  0.530239  ,\n",
       "                                   Independent t-test   results\n",
       " 0  Difference (Excess Return % 3-mo (Treasury_) -...    0.0492\n",
       " 1                              Degrees of freedom =   294.0000\n",
       " 2                                               t =     1.4485\n",
       " 3                           Two side test p value =     0.1486\n",
       " 4                          Difference < 0 p value =     0.9257\n",
       " 5                          Difference > 0 p value =     0.0743\n",
       " 6                                       Cohen's d =     0.2367\n",
       " 7                                       Hedge's g =     0.2361\n",
       " 8                                   Glass's delta =     0.1755\n",
       " 9                                               r =     0.0842)"
      ]
     },
     "execution_count": 99,
     "metadata": {},
     "output_type": "execute_result"
    }
   ],
   "source": [
    "des, res = researchpy.ttest(normalized_df['Excess Return % 3-mo (Treasury_)'], normalized_df1['Excess Return % 3-mo (Treasury_)'])\n",
    "\n",
    "des, res"
   ]
  },
  {
   "cell_type": "code",
   "execution_count": 100,
   "metadata": {},
   "outputs": [
    {
     "data": {
      "text/plain": [
       "(                           Variable      N      Mean        SD        SE  \\\n",
       " 0  Excess Return % 4-mo (Treasury_)   44.0  0.616018  0.219004  0.033016   \n",
       " 1  Excess Return % 4-mo (Treasury_)  257.0  0.504676  0.181551  0.011325   \n",
       " 2                          combined  301.0  0.520952  0.191190  0.011020   \n",
       " \n",
       "    95% Conf.  Interval  \n",
       " 0   0.549435  0.682601  \n",
       " 1   0.482374  0.526978  \n",
       " 2   0.499266  0.542638  ,\n",
       "                                   Independent t-test   results\n",
       " 0  Difference (Excess Return % 4-mo (Treasury_) -...    0.1113\n",
       " 1                              Degrees of freedom =   299.0000\n",
       " 2                                               t =     3.6417\n",
       " 3                           Two side test p value =     0.0003\n",
       " 4                          Difference < 0 p value =     0.9998\n",
       " 5                          Difference > 0 p value =     0.0002\n",
       " 6                                       Cohen's d =     0.5941\n",
       " 7                                       Hedge's g =     0.5927\n",
       " 8                                   Glass's delta =     0.5084\n",
       " 9                                               r =     0.2061)"
      ]
     },
     "execution_count": 100,
     "metadata": {},
     "output_type": "execute_result"
    }
   ],
   "source": [
    "des, res = researchpy.ttest(normalized_df['Excess Return % 4-mo (Treasury_)'], normalized_df1['Excess Return % 4-mo (Treasury_)'])\n",
    "\n",
    "des, res"
   ]
  },
  {
   "cell_type": "code",
   "execution_count": 101,
   "metadata": {},
   "outputs": [
    {
     "data": {
      "text/plain": [
       "(                           Variable      N      Mean        SD        SE  \\\n",
       " 0  Excess Return % 5-mo (Treasury_)   44.0  0.633054  0.228887  0.034506   \n",
       " 1  Excess Return % 5-mo (Treasury_)  253.0  0.515373  0.192925  0.012129   \n",
       " 2                          combined  297.0  0.532807  0.202612  0.011757   \n",
       " \n",
       "    95% Conf.  Interval  \n",
       " 0   0.563466  0.702642  \n",
       " 1   0.491486  0.539260  \n",
       " 2   0.509670  0.555945  ,\n",
       "                                   Independent t-test   results\n",
       " 0  Difference (Excess Return % 5-mo (Treasury_) -...    0.1177\n",
       " 1                              Degrees of freedom =   295.0000\n",
       " 2                                               t =     3.6282\n",
       " 3                           Two side test p value =     0.0003\n",
       " 4                          Difference < 0 p value =     0.9998\n",
       " 5                          Difference > 0 p value =     0.0002\n",
       " 6                                       Cohen's d =     0.5926\n",
       " 7                                       Hedge's g =     0.5911\n",
       " 8                                   Glass's delta =     0.5141\n",
       " 9                                               r =     0.2067)"
      ]
     },
     "execution_count": 101,
     "metadata": {},
     "output_type": "execute_result"
    }
   ],
   "source": [
    "des, res = researchpy.ttest(normalized_df['Excess Return % 5-mo (Treasury_)'], normalized_df1['Excess Return % 5-mo (Treasury_)'])\n",
    "\n",
    "des, res"
   ]
  },
  {
   "cell_type": "code",
   "execution_count": 102,
   "metadata": {},
   "outputs": [
    {
     "data": {
      "text/plain": [
       "(                           Variable      N      Mean        SD        SE  \\\n",
       " 0  Excess Return % 6-mo (Treasury_)   47.0  0.603930  0.262478  0.038286   \n",
       " 1  Excess Return % 6-mo (Treasury_)  253.0  0.509209  0.192404  0.012096   \n",
       " 2                          combined  300.0  0.524048  0.207337  0.011971   \n",
       " \n",
       "    95% Conf.  Interval  \n",
       " 0   0.526863  0.680996  \n",
       " 1   0.485386  0.533031  \n",
       " 2   0.500491  0.547606  ,\n",
       "                                   Independent t-test   results\n",
       " 0  Difference (Excess Return % 6-mo (Treasury_) -...    0.0947\n",
       " 1                              Degrees of freedom =   298.0000\n",
       " 2                                               t =     2.9119\n",
       " 3                           Two side test p value =     0.0039\n",
       " 4                          Difference < 0 p value =     0.9981\n",
       " 5                          Difference > 0 p value =     0.0019\n",
       " 6                                       Cohen's d =     0.4625\n",
       " 7                                       Hedge's g =     0.4614\n",
       " 8                                   Glass's delta =     0.3609\n",
       " 9                                               r =     0.1663)"
      ]
     },
     "execution_count": 102,
     "metadata": {},
     "output_type": "execute_result"
    }
   ],
   "source": [
    "des, res = researchpy.ttest(normalized_df['Excess Return % 6-mo (Treasury_)'], normalized_df1['Excess Return % 6-mo (Treasury_)'])\n",
    "\n",
    "des, res"
   ]
  },
  {
   "cell_type": "code",
   "execution_count": 103,
   "metadata": {},
   "outputs": [
    {
     "data": {
      "text/plain": [
       "(                           Variable      N      Mean        SD        SE  \\\n",
       " 0  Excess Return % 7-mo (Treasury_)   47.0  0.648313  0.256442  0.037406   \n",
       " 1  Excess Return % 7-mo (Treasury_)  253.0  0.536031  0.196399  0.012348   \n",
       " 2                          combined  300.0  0.553622  0.210471  0.012152   \n",
       " \n",
       "    95% Conf.  Interval  \n",
       " 0   0.573019  0.723608  \n",
       " 1   0.511713  0.560348  \n",
       " 2   0.529708  0.577535  ,\n",
       "                                   Independent t-test   results\n",
       " 0  Difference (Excess Return % 7-mo (Treasury_) -...    0.1123\n",
       " 1                              Degrees of freedom =   298.0000\n",
       " 2                                               t =     3.4182\n",
       " 3                           Two side test p value =     0.0007\n",
       " 4                          Difference < 0 p value =     0.9996\n",
       " 5                          Difference > 0 p value =     0.0004\n",
       " 6                                       Cohen's d =     0.5429\n",
       " 7                                       Hedge's g =     0.5416\n",
       " 8                                   Glass's delta =     0.4378\n",
       " 9                                               r =     0.1942)"
      ]
     },
     "execution_count": 103,
     "metadata": {},
     "output_type": "execute_result"
    }
   ],
   "source": [
    "des, res = researchpy.ttest(normalized_df['Excess Return % 7-mo (Treasury_)'], normalized_df1['Excess Return % 7-mo (Treasury_)'])\n",
    "\n",
    "des, res"
   ]
  },
  {
   "cell_type": "code",
   "execution_count": 104,
   "metadata": {},
   "outputs": [
    {
     "data": {
      "text/plain": [
       "(                           Variable      N      Mean        SD        SE  \\\n",
       " 0  Excess Return % 8-mo (Treasury_)   46.0  0.645446  0.253361  0.037356   \n",
       " 1  Excess Return % 8-mo (Treasury_)  251.0  0.519001  0.198520  0.012530   \n",
       " 2                          combined  297.0  0.538585  0.212472  0.012329   \n",
       " \n",
       "    95% Conf.  Interval  \n",
       " 0   0.570207  0.720684  \n",
       " 1   0.494322  0.543679  \n",
       " 2   0.514321  0.562848  ,\n",
       "                                   Independent t-test   results\n",
       " 0  Difference (Excess Return % 8-mo (Treasury_) -...    0.1264\n",
       " 1                              Degrees of freedom =   295.0000\n",
       " 2                                               t =     3.7936\n",
       " 3                           Two side test p value =     0.0002\n",
       " 4                          Difference < 0 p value =     0.9999\n",
       " 5                          Difference > 0 p value =     0.0001\n",
       " 6                                       Cohen's d =     0.6084\n",
       " 7                                       Hedge's g =     0.6069\n",
       " 8                                   Glass's delta =     0.4991\n",
       " 9                                               r =     0.2157)"
      ]
     },
     "execution_count": 104,
     "metadata": {},
     "output_type": "execute_result"
    }
   ],
   "source": [
    "des, res = researchpy.ttest(normalized_df['Excess Return % 8-mo (Treasury_)'], normalized_df1['Excess Return % 8-mo (Treasury_)'])\n",
    "\n",
    "des, res"
   ]
  },
  {
   "cell_type": "code",
   "execution_count": 105,
   "metadata": {},
   "outputs": [
    {
     "data": {
      "text/plain": [
       "(                           Variable      N      Mean        SD        SE  \\\n",
       " 0  Excess Return % 9-mo (Treasury_)   44.0  0.681225  0.212119  0.031978   \n",
       " 1  Excess Return % 9-mo (Treasury_)  250.0  0.531162  0.192795  0.012193   \n",
       " 2                          combined  294.0  0.553620  0.202650  0.011819   \n",
       " \n",
       "    95% Conf.  Interval  \n",
       " 0   0.616735  0.745715  \n",
       " 1   0.507146  0.555177  \n",
       " 2   0.530360  0.576881  ,\n",
       "                                   Independent t-test   results\n",
       " 0  Difference (Excess Return % 9-mo (Treasury_) -...    0.1501\n",
       " 1                              Degrees of freedom =   292.0000\n",
       " 2                                               t =     4.6889\n",
       " 3                           Two side test p value =     0.0000\n",
       " 4                          Difference < 0 p value =     1.0000\n",
       " 5                          Difference > 0 p value =     0.0000\n",
       " 6                                       Cohen's d =     0.7666\n",
       " 7                                       Hedge's g =     0.7646\n",
       " 8                                   Glass's delta =     0.7075\n",
       " 9                                               r =     0.2646)"
      ]
     },
     "execution_count": 105,
     "metadata": {},
     "output_type": "execute_result"
    }
   ],
   "source": [
    "des, res = researchpy.ttest(normalized_df['Excess Return % 9-mo (Treasury_)'], normalized_df1['Excess Return % 9-mo (Treasury_)'])\n",
    "\n",
    "des, res"
   ]
  },
  {
   "cell_type": "code",
   "execution_count": 106,
   "metadata": {},
   "outputs": [
    {
     "data": {
      "text/plain": [
       "(                            Variable      N      Mean        SD        SE  \\\n",
       " 0  Excess Return % 10-mo (Treasury_)   43.0  0.681443  0.188010  0.028671   \n",
       " 1  Excess Return % 10-mo (Treasury_)  248.0  0.527276  0.185015  0.011748   \n",
       " 2                           combined  291.0  0.550056  0.193074  0.011318   \n",
       " \n",
       "    95% Conf.  Interval  \n",
       " 0   0.623582  0.739304  \n",
       " 1   0.504136  0.550416  \n",
       " 2   0.527780  0.572333  ,\n",
       "                                   Independent t-test   results\n",
       " 0  Difference (Excess Return % 10-mo (Treasury_) ...    0.1542\n",
       " 1                              Degrees of freedom =   289.0000\n",
       " 2                                               t =     5.0324\n",
       " 3                           Two side test p value =     0.0000\n",
       " 4                          Difference < 0 p value =     1.0000\n",
       " 5                          Difference > 0 p value =     0.0000\n",
       " 6                                       Cohen's d =     0.8313\n",
       " 7                                       Hedge's g =     0.8291\n",
       " 8                                   Glass's delta =     0.8200\n",
       " 9                                               r =     0.2838)"
      ]
     },
     "execution_count": 106,
     "metadata": {},
     "output_type": "execute_result"
    }
   ],
   "source": [
    "des, res = researchpy.ttest(normalized_df['Excess Return % 10-mo (Treasury_)'], normalized_df1['Excess Return % 10-mo (Treasury_)'])\n",
    "\n",
    "des, res"
   ]
  },
  {
   "cell_type": "code",
   "execution_count": 107,
   "metadata": {},
   "outputs": [
    {
     "data": {
      "text/plain": [
       "(                            Variable      N      Mean        SD        SE  \\\n",
       " 0  Excess Return % 11-mo (Treasury_)   44.0  0.669274  0.191859  0.028924   \n",
       " 1  Excess Return % 11-mo (Treasury_)  249.0  0.512020  0.186079  0.011792   \n",
       " 2                           combined  293.0  0.535635  0.194924  0.011388   \n",
       " \n",
       "    95% Conf.  Interval  \n",
       " 0   0.610943  0.727604  \n",
       " 1   0.488794  0.535245  \n",
       " 2   0.513222  0.558047  ,\n",
       "                                   Independent t-test   results\n",
       " 0  Difference (Excess Return % 11-mo (Treasury_) ...    0.1573\n",
       " 1                              Degrees of freedom =   291.0000\n",
       " 2                                               t =     5.1438\n",
       " 3                           Two side test p value =     0.0000\n",
       " 4                          Difference < 0 p value =     1.0000\n",
       " 5                          Difference > 0 p value =     0.0000\n",
       " 6                                       Cohen's d =     0.8412\n",
       " 7                                       Hedge's g =     0.8390\n",
       " 8                                   Glass's delta =     0.8196\n",
       " 9                                               r =     0.2887)"
      ]
     },
     "execution_count": 107,
     "metadata": {},
     "output_type": "execute_result"
    }
   ],
   "source": [
    "des, res = researchpy.ttest(normalized_df['Excess Return % 11-mo (Treasury_)'], normalized_df1['Excess Return % 11-mo (Treasury_)'])\n",
    "\n",
    "des, res"
   ]
  },
  {
   "cell_type": "code",
   "execution_count": 108,
   "metadata": {},
   "outputs": [
    {
     "data": {
      "text/plain": [
       "(                            Variable      N      Mean        SD        SE  \\\n",
       " 0  Excess Return % 12-mo (Treasury_)   45.0  0.712949  0.215450  0.032117   \n",
       " 1  Excess Return % 12-mo (Treasury_)  249.0  0.555873  0.199131  0.012619   \n",
       " 2                           combined  294.0  0.579915  0.209148  0.012198   \n",
       " \n",
       "    95% Conf.  Interval  \n",
       " 0   0.648221  0.777678  \n",
       " 1   0.531018  0.580728  \n",
       " 2   0.555909  0.603921  ,\n",
       "                                   Independent t-test   results\n",
       " 0  Difference (Excess Return % 12-mo (Treasury_) ...    0.1571\n",
       " 1                              Degrees of freedom =   292.0000\n",
       " 2                                               t =     4.8083\n",
       " 3                           Two side test p value =     0.0000\n",
       " 4                          Difference < 0 p value =     1.0000\n",
       " 5                          Difference > 0 p value =     0.0000\n",
       " 6                                       Cohen's d =     0.7789\n",
       " 7                                       Hedge's g =     0.7769\n",
       " 8                                   Glass's delta =     0.7291\n",
       " 9                                               r =     0.2709)"
      ]
     },
     "execution_count": 108,
     "metadata": {},
     "output_type": "execute_result"
    }
   ],
   "source": [
    "des, res = researchpy.ttest(normalized_df['Excess Return % 12-mo (Treasury_)'], normalized_df1['Excess Return % 12-mo (Treasury_)'])\n",
    "\n",
    "des, res"
   ]
  },
  {
   "cell_type": "code",
   "execution_count": 109,
   "metadata": {},
   "outputs": [
    {
     "data": {
      "text/plain": [
       "(                            Variable      N      Mean        SD        SE  \\\n",
       " 0  Excess Return % 13-mo (Treasury_)   46.0  0.663569  0.221616  0.032675   \n",
       " 1  Excess Return % 13-mo (Treasury_)  247.0  0.532016  0.185162  0.011782   \n",
       " 2                           combined  293.0  0.552669  0.196853  0.011500   \n",
       " \n",
       "    95% Conf.  Interval  \n",
       " 0   0.597757  0.729381  \n",
       " 1   0.508810  0.555221  \n",
       " 2   0.530035  0.575303  ,\n",
       "                                   Independent t-test   results\n",
       " 0  Difference (Excess Return % 13-mo (Treasury_) ...    0.1316\n",
       " 1                              Degrees of freedom =   291.0000\n",
       " 2                                               t =     4.2834\n",
       " 3                           Two side test p value =     0.0000\n",
       " 4                          Difference < 0 p value =     1.0000\n",
       " 5                          Difference > 0 p value =     0.0000\n",
       " 6                                       Cohen's d =     0.6878\n",
       " 7                                       Hedge's g =     0.6861\n",
       " 8                                   Glass's delta =     0.5936\n",
       " 9                                               r =     0.2435)"
      ]
     },
     "execution_count": 109,
     "metadata": {},
     "output_type": "execute_result"
    }
   ],
   "source": [
    "des, res = researchpy.ttest(normalized_df['Excess Return % 13-mo (Treasury_)'], normalized_df1['Excess Return % 13-mo (Treasury_)'])\n",
    "\n",
    "des, res"
   ]
  },
  {
   "cell_type": "code",
   "execution_count": 110,
   "metadata": {},
   "outputs": [
    {
     "data": {
      "text/plain": [
       "(                            Variable      N      Mean        SD        SE  \\\n",
       " 0  Excess Return % 14-mo (Treasury_)   47.0  0.679759  0.215000  0.031361   \n",
       " 1  Excess Return % 14-mo (Treasury_)  245.0  0.539898  0.189350  0.012097   \n",
       " 2                           combined  292.0  0.562410  0.200051  0.011707   \n",
       " \n",
       "    95% Conf.  Interval  \n",
       " 0   0.616633  0.742885  \n",
       " 1   0.516069  0.563726  \n",
       " 2   0.539368  0.585451  ,\n",
       "                                   Independent t-test   results\n",
       " 0  Difference (Excess Return % 14-mo (Treasury_) ...    0.1399\n",
       " 1                              Degrees of freedom =   290.0000\n",
       " 2                                               t =     4.5356\n",
       " 3                           Two side test p value =     0.0000\n",
       " 4                          Difference < 0 p value =     1.0000\n",
       " 5                          Difference > 0 p value =     0.0000\n",
       " 6                                       Cohen's d =     0.7223\n",
       " 7                                       Hedge's g =     0.7204\n",
       " 8                                   Glass's delta =     0.6505\n",
       " 9                                               r =     0.2574)"
      ]
     },
     "execution_count": 110,
     "metadata": {},
     "output_type": "execute_result"
    }
   ],
   "source": [
    "des, res = researchpy.ttest(normalized_df['Excess Return % 14-mo (Treasury_)'], normalized_df1['Excess Return % 14-mo (Treasury_)'])\n",
    "\n",
    "des, res"
   ]
  },
  {
   "cell_type": "code",
   "execution_count": 111,
   "metadata": {},
   "outputs": [
    {
     "data": {
      "text/plain": [
       "(                            Variable      N      Mean        SD        SE  \\\n",
       " 0  Excess Return % 15-mo (Treasury_)   47.0  0.678378  0.190978  0.027857   \n",
       " 1  Excess Return % 15-mo (Treasury_)  245.0  0.522941  0.191878  0.012259   \n",
       " 2                           combined  292.0  0.547960  0.199776  0.011691   \n",
       " \n",
       "    95% Conf.  Interval  \n",
       " 0   0.622305  0.734452  \n",
       " 1   0.498794  0.547087  \n",
       " 2   0.524950  0.570969  ,\n",
       "                                   Independent t-test   results\n",
       " 0  Difference (Excess Return % 15-mo (Treasury_) ...    0.1554\n",
       " 1                              Degrees of freedom =   290.0000\n",
       " 2                                               t =     5.0909\n",
       " 3                           Two side test p value =     0.0000\n",
       " 4                          Difference < 0 p value =     1.0000\n",
       " 5                          Difference > 0 p value =     0.0000\n",
       " 6                                       Cohen's d =     0.8107\n",
       " 7                                       Hedge's g =     0.8086\n",
       " 8                                   Glass's delta =     0.8139\n",
       " 9                                               r =     0.2864)"
      ]
     },
     "execution_count": 111,
     "metadata": {},
     "output_type": "execute_result"
    }
   ],
   "source": [
    "des, res = researchpy.ttest(normalized_df['Excess Return % 15-mo (Treasury_)'], normalized_df1['Excess Return % 15-mo (Treasury_)'])\n",
    "\n",
    "des, res"
   ]
  },
  {
   "cell_type": "code",
   "execution_count": 112,
   "metadata": {},
   "outputs": [
    {
     "data": {
      "text/plain": [
       "(                            Variable      N      Mean        SD        SE  \\\n",
       " 0  Excess Return % 16-mo (Treasury_)   48.0  0.660672  0.205061  0.029598   \n",
       " 1  Excess Return % 16-mo (Treasury_)  243.0  0.519159  0.185461  0.011897   \n",
       " 2                           combined  291.0  0.542501  0.195667  0.011470   \n",
       " \n",
       "    95% Conf.  Interval  \n",
       " 0   0.601129  0.720216  \n",
       " 1   0.495723  0.542594  \n",
       " 2   0.519926  0.565076  ,\n",
       "                                   Independent t-test   results\n",
       " 0  Difference (Excess Return % 16-mo (Treasury_) ...    0.1415\n",
       " 1                              Degrees of freedom =   289.0000\n",
       " 2                                               t =     4.7457\n",
       " 3                           Two side test p value =     0.0000\n",
       " 4                          Difference < 0 p value =     1.0000\n",
       " 5                          Difference > 0 p value =     0.0000\n",
       " 6                                       Cohen's d =     0.7496\n",
       " 7                                       Hedge's g =     0.7476\n",
       " 8                                   Glass's delta =     0.6901\n",
       " 9                                               r =     0.2689)"
      ]
     },
     "execution_count": 112,
     "metadata": {},
     "output_type": "execute_result"
    }
   ],
   "source": [
    "des, res = researchpy.ttest(normalized_df['Excess Return % 16-mo (Treasury_)'], normalized_df1['Excess Return % 16-mo (Treasury_)'])\n",
    "\n",
    "des, res"
   ]
  },
  {
   "cell_type": "code",
   "execution_count": 113,
   "metadata": {},
   "outputs": [
    {
     "data": {
      "text/plain": [
       "(                            Variable      N      Mean        SD        SE  \\\n",
       " 0  Excess Return % 17-mo (Treasury_)   48.0  0.676970  0.201110  0.029028   \n",
       " 1  Excess Return % 17-mo (Treasury_)  241.0  0.525780  0.188456  0.012140   \n",
       " 2                           combined  289.0  0.550891  0.198429  0.011672   \n",
       " \n",
       "    95% Conf.  Interval  \n",
       " 0   0.618574  0.735367  \n",
       " 1   0.501866  0.549693  \n",
       " 2   0.527917  0.573865  ,\n",
       "                                   Independent t-test   results\n",
       " 0  Difference (Excess Return % 17-mo (Treasury_) ...    0.1512\n",
       " 1                              Degrees of freedom =   287.0000\n",
       " 2                                               t =     5.0190\n",
       " 3                           Two side test p value =     0.0000\n",
       " 4                          Difference < 0 p value =     1.0000\n",
       " 5                          Difference > 0 p value =     0.0000\n",
       " 6                                       Cohen's d =     0.7933\n",
       " 7                                       Hedge's g =     0.7912\n",
       " 8                                   Glass's delta =     0.7518\n",
       " 9                                               r =     0.2841)"
      ]
     },
     "execution_count": 113,
     "metadata": {},
     "output_type": "execute_result"
    }
   ],
   "source": [
    "des, res = researchpy.ttest(normalized_df['Excess Return % 17-mo (Treasury_)'], normalized_df1['Excess Return % 17-mo (Treasury_)'])\n",
    "\n",
    "des, res"
   ]
  },
  {
   "cell_type": "code",
   "execution_count": 114,
   "metadata": {},
   "outputs": [
    {
     "data": {
      "text/plain": [
       "(                            Variable      N      Mean        SD        SE  \\\n",
       " 0  Excess Return % 18-mo (Treasury_)   49.0  0.651516  0.190371  0.027196   \n",
       " 1  Excess Return % 18-mo (Treasury_)  241.0  0.512477  0.176697  0.011382   \n",
       " 2                           combined  290.0  0.535970  0.186202  0.010934   \n",
       " \n",
       "    95% Conf.  Interval  \n",
       " 0   0.596835  0.706197  \n",
       " 1   0.490056  0.534899  \n",
       " 2   0.514449  0.557491  ,\n",
       "                                   Independent t-test   results\n",
       " 0  Difference (Excess Return % 18-mo (Treasury_) ...    0.1390\n",
       " 1                              Degrees of freedom =   288.0000\n",
       " 2                                               t =     4.9553\n",
       " 3                           Two side test p value =     0.0000\n",
       " 4                          Difference < 0 p value =     1.0000\n",
       " 5                          Difference > 0 p value =     0.0000\n",
       " 6                                       Cohen's d =     0.7765\n",
       " 7                                       Hedge's g =     0.7745\n",
       " 8                                   Glass's delta =     0.7304\n",
       " 9                                               r =     0.2803)"
      ]
     },
     "execution_count": 114,
     "metadata": {},
     "output_type": "execute_result"
    }
   ],
   "source": [
    "des, res = researchpy.ttest(normalized_df['Excess Return % 18-mo (Treasury_)'], normalized_df1['Excess Return % 18-mo (Treasury_)'])\n",
    "\n",
    "des, res"
   ]
  },
  {
   "cell_type": "code",
   "execution_count": 115,
   "metadata": {},
   "outputs": [
    {
     "data": {
      "text/plain": [
       "(                            Variable      N      Mean        SD        SE  \\\n",
       " 0  Excess Return % 19-mo (Treasury_)   50.0  0.647868  0.189109  0.026744   \n",
       " 1  Excess Return % 19-mo (Treasury_)  241.0  0.511522  0.176925  0.011397   \n",
       " 2                           combined  291.0  0.534949  0.186018  0.010905   \n",
       " \n",
       "    95% Conf.  Interval  \n",
       " 0   0.594124  0.701613  \n",
       " 1   0.489072  0.533973  \n",
       " 2   0.513487  0.556412  ,\n",
       "                                   Independent t-test   results\n",
       " 0  Difference (Excess Return % 19-mo (Treasury_) ...    0.1363\n",
       " 1                              Degrees of freedom =   289.0000\n",
       " 2                                               t =     4.9002\n",
       " 3                           Two side test p value =     0.0000\n",
       " 4                          Difference < 0 p value =     1.0000\n",
       " 5                          Difference > 0 p value =     0.0000\n",
       " 6                                       Cohen's d =     0.7615\n",
       " 7                                       Hedge's g =     0.7595\n",
       " 8                                   Glass's delta =     0.7210\n",
       " 9                                               r =     0.2770)"
      ]
     },
     "execution_count": 115,
     "metadata": {},
     "output_type": "execute_result"
    }
   ],
   "source": [
    "des, res = researchpy.ttest(normalized_df['Excess Return % 19-mo (Treasury_)'], normalized_df1['Excess Return % 19-mo (Treasury_)'])\n",
    "\n",
    "des, res"
   ]
  },
  {
   "cell_type": "code",
   "execution_count": 116,
   "metadata": {},
   "outputs": [
    {
     "data": {
      "text/plain": [
       "(                            Variable      N      Mean        SD        SE  \\\n",
       " 0  Excess Return % 20-mo (Treasury_)   51.0  0.630974  0.193320  0.027070   \n",
       " 1  Excess Return % 20-mo (Treasury_)  240.0  0.500645  0.175321  0.011317   \n",
       " 2                           combined  291.0  0.523486  0.185038  0.010847   \n",
       " \n",
       "    95% Conf.  Interval  \n",
       " 0   0.576601  0.685346  \n",
       " 1   0.478351  0.522938  \n",
       " 2   0.502137  0.544835  ,\n",
       "                                   Independent t-test   results\n",
       " 0  Difference (Excess Return % 20-mo (Treasury_) ...    0.1303\n",
       " 1                              Degrees of freedom =   289.0000\n",
       " 2                                               t =     4.7336\n",
       " 3                           Two side test p value =     0.0000\n",
       " 4                          Difference < 0 p value =     1.0000\n",
       " 5                          Difference > 0 p value =     0.0000\n",
       " 6                                       Cohen's d =     0.7299\n",
       " 7                                       Hedge's g =     0.7280\n",
       " 8                                   Glass's delta =     0.6742\n",
       " 9                                               r =     0.2682)"
      ]
     },
     "execution_count": 116,
     "metadata": {},
     "output_type": "execute_result"
    }
   ],
   "source": [
    "des, res = researchpy.ttest(normalized_df['Excess Return % 20-mo (Treasury_)'], normalized_df1['Excess Return % 20-mo (Treasury_)'])\n",
    "\n",
    "des, res"
   ]
  },
  {
   "cell_type": "code",
   "execution_count": 117,
   "metadata": {},
   "outputs": [
    {
     "data": {
      "text/plain": [
       "(                            Variable      N      Mean        SD        SE  \\\n",
       " 0  Excess Return % 21-mo (Treasury_)   50.0  0.697977  0.199563  0.028223   \n",
       " 1  Excess Return % 21-mo (Treasury_)  238.0  0.549221  0.194539  0.012610   \n",
       " 2                           combined  288.0  0.575047  0.203070  0.011966   \n",
       " \n",
       "    95% Conf.  Interval  \n",
       " 0   0.641262  0.754693  \n",
       " 1   0.524379  0.574063  \n",
       " 2   0.551495  0.598599  ,\n",
       "                                   Independent t-test   results\n",
       " 0  Difference (Excess Return % 21-mo (Treasury_) ...    0.1488\n",
       " 1                              Degrees of freedom =   286.0000\n",
       " 2                                               t =     4.8934\n",
       " 3                           Two side test p value =     0.0000\n",
       " 4                          Difference < 0 p value =     1.0000\n",
       " 5                          Difference > 0 p value =     0.0000\n",
       " 6                                       Cohen's d =     0.7613\n",
       " 7                                       Hedge's g =     0.7593\n",
       " 8                                   Glass's delta =     0.7454\n",
       " 9                                               r =     0.2779)"
      ]
     },
     "execution_count": 117,
     "metadata": {},
     "output_type": "execute_result"
    }
   ],
   "source": [
    "des, res = researchpy.ttest(normalized_df['Excess Return % 21-mo (Treasury_)'], normalized_df1['Excess Return % 21-mo (Treasury_)'])\n",
    "\n",
    "des, res"
   ]
  },
  {
   "cell_type": "code",
   "execution_count": 118,
   "metadata": {},
   "outputs": [
    {
     "data": {
      "text/plain": [
       "(                            Variable      N      Mean        SD        SE  \\\n",
       " 0  Excess Return % 22-mo (Treasury_)   50.0  0.684096  0.195677  0.027673   \n",
       " 1  Excess Return % 22-mo (Treasury_)  236.0  0.537302  0.190586  0.012406   \n",
       " 2                           combined  286.0  0.562965  0.199131  0.011775   \n",
       " \n",
       "    95% Conf.  Interval  \n",
       " 0   0.628485  0.739706  \n",
       " 1   0.512860  0.561743  \n",
       " 2   0.539788  0.586142  ,\n",
       "                                   Independent t-test   results\n",
       " 0  Difference (Excess Return % 22-mo (Treasury_) ...    0.1468\n",
       " 1                              Degrees of freedom =   284.0000\n",
       " 2                                               t =     4.9244\n",
       " 3                           Two side test p value =     0.0000\n",
       " 4                          Difference < 0 p value =     1.0000\n",
       " 5                          Difference > 0 p value =     0.0000\n",
       " 6                                       Cohen's d =     0.7667\n",
       " 7                                       Hedge's g =     0.7646\n",
       " 8                                   Glass's delta =     0.7502\n",
       " 9                                               r =     0.2805)"
      ]
     },
     "execution_count": 118,
     "metadata": {},
     "output_type": "execute_result"
    }
   ],
   "source": [
    "des, res = researchpy.ttest(normalized_df['Excess Return % 22-mo (Treasury_)'], normalized_df1['Excess Return % 22-mo (Treasury_)'])\n",
    "\n",
    "des, res"
   ]
  },
  {
   "cell_type": "code",
   "execution_count": 119,
   "metadata": {},
   "outputs": [
    {
     "data": {
      "text/plain": [
       "(                            Variable      N      Mean        SD        SE  \\\n",
       " 0  Excess Return % 23-mo (Treasury_)   50.0  0.671541  0.185910  0.026292   \n",
       " 1  Excess Return % 23-mo (Treasury_)  235.0  0.524036  0.184020  0.012004   \n",
       " 2                           combined  285.0  0.549914  0.192414  0.011398   \n",
       " \n",
       "    95% Conf.  Interval  \n",
       " 0   0.618706  0.724376  \n",
       " 1   0.500386  0.547686  \n",
       " 2   0.527479  0.572348  ,\n",
       "                                   Independent t-test   results\n",
       " 0  Difference (Excess Return % 23-mo (Treasury_) ...    0.1475\n",
       " 1                              Degrees of freedom =   283.0000\n",
       " 2                                               t =     5.1377\n",
       " 3                           Two side test p value =     0.0000\n",
       " 4                          Difference < 0 p value =     1.0000\n",
       " 5                          Difference > 0 p value =     0.0000\n",
       " 6                                       Cohen's d =     0.8001\n",
       " 7                                       Hedge's g =     0.7980\n",
       " 8                                   Glass's delta =     0.7934\n",
       " 9                                               r =     0.2921)"
      ]
     },
     "execution_count": 119,
     "metadata": {},
     "output_type": "execute_result"
    }
   ],
   "source": [
    "des, res = researchpy.ttest(normalized_df['Excess Return % 23-mo (Treasury_)'], normalized_df1['Excess Return % 23-mo (Treasury_)'])\n",
    "\n",
    "des, res"
   ]
  },
  {
   "cell_type": "code",
   "execution_count": 120,
   "metadata": {},
   "outputs": [
    {
     "data": {
      "text/plain": [
       "(                            Variable      N      Mean        SD        SE  \\\n",
       " 0  Excess Return % 24-mo (Treasury_)   51.0  0.664740  0.188343  0.026373   \n",
       " 1  Excess Return % 24-mo (Treasury_)  235.0  0.511670  0.184954  0.012065   \n",
       " 2                           combined  286.0  0.538966  0.194306  0.011490   \n",
       " \n",
       "    95% Conf.  Interval  \n",
       " 0   0.611768  0.717713  \n",
       " 1   0.487900  0.535440  \n",
       " 2   0.516351  0.561581  ,\n",
       "                                   Independent t-test   results\n",
       " 0  Difference (Excess Return % 24-mo (Treasury_) ...    0.1531\n",
       " 1                              Degrees of freedom =   284.0000\n",
       " 2                                               t =     5.3402\n",
       " 3                           Two side test p value =     0.0000\n",
       " 4                          Difference < 0 p value =     1.0000\n",
       " 5                          Difference > 0 p value =     0.0000\n",
       " 6                                       Cohen's d =     0.8249\n",
       " 7                                       Hedge's g =     0.8228\n",
       " 8                                   Glass's delta =     0.8127\n",
       " 9                                               r =     0.3021)"
      ]
     },
     "execution_count": 120,
     "metadata": {},
     "output_type": "execute_result"
    }
   ],
   "source": [
    "des, res = researchpy.ttest(normalized_df['Excess Return % 24-mo (Treasury_)'], normalized_df1['Excess Return % 24-mo (Treasury_)'])\n",
    "\n",
    "des, res"
   ]
  },
  {
   "cell_type": "code",
   "execution_count": 121,
   "metadata": {},
   "outputs": [
    {
     "data": {
      "text/plain": [
       "(                            Variable      N      Mean        SD        SE  \\\n",
       " 0  Excess Return % 25-mo (Treasury_)   51.0  0.672516  0.183167  0.025648   \n",
       " 1  Excess Return % 25-mo (Treasury_)  235.0  0.516236  0.187164  0.012209   \n",
       " 2                           combined  286.0  0.544104  0.195548  0.011563   \n",
       " \n",
       "    95% Conf.  Interval  \n",
       " 0   0.620999  0.724032  \n",
       " 1   0.492182  0.540290  \n",
       " 2   0.521344  0.566864  ,\n",
       "                                   Independent t-test   results\n",
       " 0  Difference (Excess Return % 25-mo (Treasury_) ...    0.1563\n",
       " 1                              Degrees of freedom =   284.0000\n",
       " 2                                               t =     5.4255\n",
       " 3                           Two side test p value =     0.0000\n",
       " 4                          Difference < 0 p value =     1.0000\n",
       " 5                          Difference > 0 p value =     0.0000\n",
       " 6                                       Cohen's d =     0.8381\n",
       " 7                                       Hedge's g =     0.8359\n",
       " 8                                   Glass's delta =     0.8532\n",
       " 9                                               r =     0.3065)"
      ]
     },
     "execution_count": 121,
     "metadata": {},
     "output_type": "execute_result"
    }
   ],
   "source": [
    "des, res = researchpy.ttest(normalized_df['Excess Return % 25-mo (Treasury_)'], normalized_df1['Excess Return % 25-mo (Treasury_)'])\n",
    "\n",
    "des, res"
   ]
  },
  {
   "cell_type": "code",
   "execution_count": 122,
   "metadata": {},
   "outputs": [
    {
     "data": {
      "text/plain": [
       "(                            Variable      N      Mean        SD        SE  \\\n",
       " 0  Excess Return % 26-mo (Treasury_)   51.0  0.718290  0.175955  0.024639   \n",
       " 1  Excess Return % 26-mo (Treasury_)  234.0  0.544064  0.199846  0.013064   \n",
       " 2                           combined  285.0  0.575242  0.206622  0.012239   \n",
       " \n",
       "    95% Conf.  Interval  \n",
       " 0   0.668802  0.767778  \n",
       " 1   0.518325  0.569804  \n",
       " 2   0.551150  0.599333  ,\n",
       "                                   Independent t-test   results\n",
       " 0  Difference (Excess Return % 26-mo (Treasury_) ...    0.1742\n",
       " 1                              Degrees of freedom =   283.0000\n",
       " 2                                               t =     5.7569\n",
       " 3                           Two side test p value =     0.0000\n",
       " 4                          Difference < 0 p value =     1.0000\n",
       " 5                          Difference > 0 p value =     0.0000\n",
       " 6                                       Cohen's d =     0.8896\n",
       " 7                                       Hedge's g =     0.8873\n",
       " 8                                   Glass's delta =     0.9902\n",
       " 9                                               r =     0.3238)"
      ]
     },
     "execution_count": 122,
     "metadata": {},
     "output_type": "execute_result"
    }
   ],
   "source": [
    "des, res = researchpy.ttest(normalized_df['Excess Return % 26-mo (Treasury_)'], normalized_df1['Excess Return % 26-mo (Treasury_)'])\n",
    "\n",
    "des, res"
   ]
  },
  {
   "cell_type": "code",
   "execution_count": 123,
   "metadata": {},
   "outputs": [
    {
     "data": {
      "text/plain": [
       "(                            Variable      N      Mean        SD        SE  \\\n",
       " 0  Excess Return % 27-mo (Treasury_)   51.0  0.703002  0.160931  0.022535   \n",
       " 1  Excess Return % 27-mo (Treasury_)  234.0  0.531042  0.193336  0.012639   \n",
       " 2                           combined  285.0  0.561814  0.198962  0.011786   \n",
       " \n",
       "    95% Conf.  Interval  \n",
       " 0   0.657740  0.748265  \n",
       " 1   0.506141  0.555943  \n",
       " 2   0.538616  0.585012  ,\n",
       "                                   Independent t-test   results\n",
       " 0  Difference (Excess Return % 27-mo (Treasury_) ...    0.1720\n",
       " 1                              Degrees of freedom =   283.0000\n",
       " 2                                               t =     5.9183\n",
       " 3                           Two side test p value =     0.0000\n",
       " 4                          Difference < 0 p value =     1.0000\n",
       " 5                          Difference > 0 p value =     0.0000\n",
       " 6                                       Cohen's d =     0.9146\n",
       " 7                                       Hedge's g =     0.9122\n",
       " 8                                   Glass's delta =     1.0685\n",
       " 9                                               r =     0.3319)"
      ]
     },
     "execution_count": 123,
     "metadata": {},
     "output_type": "execute_result"
    }
   ],
   "source": [
    "des, res = researchpy.ttest(normalized_df['Excess Return % 27-mo (Treasury_)'], normalized_df1['Excess Return % 27-mo (Treasury_)'])\n",
    "\n",
    "des, res"
   ]
  },
  {
   "cell_type": "code",
   "execution_count": 124,
   "metadata": {},
   "outputs": [
    {
     "data": {
      "text/plain": [
       "(                            Variable      N      Mean        SD        SE  \\\n",
       " 0  Excess Return % 28-mo (Treasury_)   51.0  0.703923  0.162183  0.022710   \n",
       " 1  Excess Return % 28-mo (Treasury_)  232.0  0.520445  0.199855  0.013121   \n",
       " 2                           combined  283.0  0.553510  0.205847  0.012236   \n",
       " \n",
       "    95% Conf.  Interval  \n",
       " 0   0.658308  0.749537  \n",
       " 1   0.494592  0.546297  \n",
       " 2   0.529424  0.577596  ,\n",
       "                                   Independent t-test   results\n",
       " 0  Difference (Excess Return % 28-mo (Treasury_) ...    0.1835\n",
       " 1                              Degrees of freedom =   281.0000\n",
       " 2                                               t =     6.1252\n",
       " 3                           Two side test p value =     0.0000\n",
       " 4                          Difference < 0 p value =     1.0000\n",
       " 5                          Difference > 0 p value =     0.0000\n",
       " 6                                       Cohen's d =     0.9473\n",
       " 7                                       Hedge's g =     0.9448\n",
       " 8                                   Glass's delta =     1.1313\n",
       " 9                                               r =     0.3432)"
      ]
     },
     "execution_count": 124,
     "metadata": {},
     "output_type": "execute_result"
    }
   ],
   "source": [
    "des, res = researchpy.ttest(normalized_df['Excess Return % 28-mo (Treasury_)'], normalized_df1['Excess Return % 28-mo (Treasury_)'])\n",
    "\n",
    "des, res"
   ]
  },
  {
   "cell_type": "code",
   "execution_count": 125,
   "metadata": {},
   "outputs": [
    {
     "data": {
      "text/plain": [
       "(                            Variable      N      Mean        SD        SE  \\\n",
       " 0  Excess Return % 29-mo (Treasury_)   51.0  0.704157  0.148317  0.020769   \n",
       " 1  Excess Return % 29-mo (Treasury_)  232.0  0.525755  0.197138  0.012943   \n",
       " 2                           combined  283.0  0.557906  0.201132  0.011956   \n",
       " \n",
       "    95% Conf.  Interval  \n",
       " 0   0.662442  0.745872  \n",
       " 1   0.500254  0.551256  \n",
       " 2   0.534371  0.581440  ,\n",
       "                                   Independent t-test   results\n",
       " 0  Difference (Excess Return % 29-mo (Treasury_) ...    0.1784\n",
       " 1                              Degrees of freedom =   281.0000\n",
       " 2                                               t =     6.0914\n",
       " 3                           Two side test p value =     0.0000\n",
       " 4                          Difference < 0 p value =     1.0000\n",
       " 5                          Difference > 0 p value =     0.0000\n",
       " 6                                       Cohen's d =     0.9421\n",
       " 7                                       Hedge's g =     0.9395\n",
       " 8                                   Glass's delta =     1.2028\n",
       " 9                                               r =     0.3415)"
      ]
     },
     "execution_count": 125,
     "metadata": {},
     "output_type": "execute_result"
    }
   ],
   "source": [
    "des, res = researchpy.ttest(normalized_df['Excess Return % 29-mo (Treasury_)'], normalized_df1['Excess Return % 29-mo (Treasury_)'])\n",
    "\n",
    "des, res"
   ]
  },
  {
   "cell_type": "code",
   "execution_count": 126,
   "metadata": {},
   "outputs": [
    {
     "data": {
      "text/plain": [
       "(                            Variable      N      Mean        SD        SE  \\\n",
       " 0  Excess Return % 30-mo (Treasury_)   51.0  0.713081  0.142768  0.019992   \n",
       " 1  Excess Return % 30-mo (Treasury_)  232.0  0.536532  0.196046  0.012871   \n",
       " 2                           combined  283.0  0.568348  0.199294  0.011847   \n",
       " \n",
       "    95% Conf.  Interval  \n",
       " 0   0.672927  0.753235  \n",
       " 1   0.511172  0.561891  \n",
       " 2   0.545029  0.591668  ,\n",
       "                                   Independent t-test   results\n",
       " 0  Difference (Excess Return % 30-mo (Treasury_) ...    0.1765\n",
       " 1                              Degrees of freedom =   281.0000\n",
       " 2                                               t =     6.0827\n",
       " 3                           Two side test p value =     0.0000\n",
       " 4                          Difference < 0 p value =     1.0000\n",
       " 5                          Difference > 0 p value =     0.0000\n",
       " 6                                       Cohen's d =     0.9407\n",
       " 7                                       Hedge's g =     0.9382\n",
       " 8                                   Glass's delta =     1.2366\n",
       " 9                                               r =     0.3411)"
      ]
     },
     "execution_count": 126,
     "metadata": {},
     "output_type": "execute_result"
    }
   ],
   "source": [
    "des, res = researchpy.ttest(normalized_df['Excess Return % 30-mo (Treasury_)'], normalized_df1['Excess Return % 30-mo (Treasury_)'])\n",
    "\n",
    "des, res"
   ]
  },
  {
   "cell_type": "code",
   "execution_count": 127,
   "metadata": {},
   "outputs": [
    {
     "data": {
      "text/plain": [
       "(                            Variable      N      Mean        SD        SE  \\\n",
       " 0  Excess Return % 31-mo (Treasury_)   51.0  0.637654  0.129774  0.018172   \n",
       " 1  Excess Return % 31-mo (Treasury_)  232.0  0.472432  0.189649  0.012451   \n",
       " 2                           combined  283.0  0.502207  0.191037  0.011356   \n",
       " \n",
       "    95% Conf.  Interval  \n",
       " 0   0.601155  0.674154  \n",
       " 1   0.447900  0.496964  \n",
       " 2   0.479854  0.524560  ,\n",
       "                                   Independent t-test   results\n",
       " 0  Difference (Excess Return % 31-mo (Treasury_) ...    0.1652\n",
       " 1                              Degrees of freedom =   281.0000\n",
       " 2                                               t =     5.9202\n",
       " 3                           Two side test p value =     0.0000\n",
       " 4                          Difference < 0 p value =     1.0000\n",
       " 5                          Difference > 0 p value =     0.0000\n",
       " 6                                       Cohen's d =     0.9156\n",
       " 7                                       Hedge's g =     0.9131\n",
       " 8                                   Glass's delta =     1.2732\n",
       " 9                                               r =     0.3330)"
      ]
     },
     "execution_count": 127,
     "metadata": {},
     "output_type": "execute_result"
    }
   ],
   "source": [
    "des, res = researchpy.ttest(normalized_df['Excess Return % 31-mo (Treasury_)'], normalized_df1['Excess Return % 31-mo (Treasury_)'])\n",
    "\n",
    "des, res"
   ]
  },
  {
   "cell_type": "code",
   "execution_count": 128,
   "metadata": {},
   "outputs": [
    {
     "data": {
      "text/plain": [
       "(                            Variable      N      Mean        SD        SE  \\\n",
       " 0  Excess Return % 32-mo (Treasury_)   51.0  0.634770  0.111262  0.015580   \n",
       " 1  Excess Return % 32-mo (Treasury_)  233.0  0.488360  0.175408  0.011491   \n",
       " 2                           combined  284.0  0.514652  0.174870  0.010377   \n",
       " \n",
       "    95% Conf.  Interval  \n",
       " 0   0.603477  0.666063  \n",
       " 1   0.465719  0.511000  \n",
       " 2   0.494226  0.535077  ,\n",
       "                                   Independent t-test   results\n",
       " 0  Difference (Excess Return % 32-mo (Treasury_) ...    0.1464\n",
       " 1                              Degrees of freedom =   282.0000\n",
       " 2                                               t =     5.7102\n",
       " 3                           Two side test p value =     0.0000\n",
       " 4                          Difference < 0 p value =     1.0000\n",
       " 5                          Difference > 0 p value =     0.0000\n",
       " 6                                       Cohen's d =     0.8828\n",
       " 7                                       Hedge's g =     0.8804\n",
       " 8                                   Glass's delta =     1.3159\n",
       " 9                                               r =     0.3219)"
      ]
     },
     "execution_count": 128,
     "metadata": {},
     "output_type": "execute_result"
    }
   ],
   "source": [
    "des, res = researchpy.ttest(normalized_df['Excess Return % 32-mo (Treasury_)'], normalized_df1['Excess Return % 32-mo (Treasury_)'])\n",
    "\n",
    "des, res"
   ]
  },
  {
   "cell_type": "code",
   "execution_count": 129,
   "metadata": {},
   "outputs": [
    {
     "data": {
      "text/plain": [
       "(                            Variable      N      Mean        SD        SE  \\\n",
       " 0  Excess Return % 33-mo (Treasury_)   51.0  0.706684  0.117552  0.016461   \n",
       " 1  Excess Return % 33-mo (Treasury_)  230.0  0.534400  0.192694  0.012706   \n",
       " 2                           combined  281.0  0.565669  0.193030  0.011515   \n",
       " \n",
       "    95% Conf.  Interval  \n",
       " 0   0.673622  0.739746  \n",
       " 1   0.509364  0.559435  \n",
       " 2   0.543001  0.588336  ,\n",
       "                                   Independent t-test   results\n",
       " 0  Difference (Excess Return % 33-mo (Treasury_) ...    0.1723\n",
       " 1                              Degrees of freedom =   279.0000\n",
       " 2                                               t =     6.1319\n",
       " 3                           Two side test p value =     0.0000\n",
       " 4                          Difference < 0 p value =     1.0000\n",
       " 5                          Difference > 0 p value =     0.0000\n",
       " 6                                       Cohen's d =     0.9491\n",
       " 7                                       Hedge's g =     0.9465\n",
       " 8                                   Glass's delta =     1.4656\n",
       " 9                                               r =     0.3446)"
      ]
     },
     "execution_count": 129,
     "metadata": {},
     "output_type": "execute_result"
    }
   ],
   "source": [
    "des, res = researchpy.ttest(normalized_df['Excess Return % 33-mo (Treasury_)'], normalized_df1['Excess Return % 33-mo (Treasury_)'])\n",
    "\n",
    "des, res"
   ]
  },
  {
   "cell_type": "code",
   "execution_count": 130,
   "metadata": {},
   "outputs": [
    {
     "data": {
      "text/plain": [
       "(                            Variable      N      Mean        SD        SE  \\\n",
       " 0  Excess Return % 34-mo (Treasury_)   51.0  0.639365  0.101671  0.014237   \n",
       " 1  Excess Return % 34-mo (Treasury_)  230.0  0.487625  0.179276  0.011821   \n",
       " 2                           combined  281.0  0.515165  0.177664  0.010599   \n",
       " \n",
       "    95% Conf.  Interval  \n",
       " 0   0.610770  0.667961  \n",
       " 1   0.464333  0.510917  \n",
       " 2   0.494302  0.536028  ,\n",
       "                                   Independent t-test   results\n",
       " 0  Difference (Excess Return % 34-mo (Treasury_) ...    0.1517\n",
       " 1                              Degrees of freedom =   279.0000\n",
       " 2                                               t =     5.8347\n",
       " 3                           Two side test p value =     0.0000\n",
       " 4                          Difference < 0 p value =     1.0000\n",
       " 5                          Difference > 0 p value =     0.0000\n",
       " 6                                       Cohen's d =     0.9031\n",
       " 7                                       Hedge's g =     0.9006\n",
       " 8                                   Glass's delta =     1.4925\n",
       " 9                                               r =     0.3298)"
      ]
     },
     "execution_count": 130,
     "metadata": {},
     "output_type": "execute_result"
    }
   ],
   "source": [
    "des, res = researchpy.ttest(normalized_df['Excess Return % 34-mo (Treasury_)'], normalized_df1['Excess Return % 34-mo (Treasury_)'])\n",
    "\n",
    "des, res"
   ]
  },
  {
   "cell_type": "code",
   "execution_count": 131,
   "metadata": {},
   "outputs": [
    {
     "data": {
      "text/plain": [
       "(                            Variable      N      Mean        SD        SE  \\\n",
       " 0  Excess Return % 35-mo (Treasury_)   51.0  0.623184  0.092455  0.012946   \n",
       " 1  Excess Return % 35-mo (Treasury_)  230.0  0.474814  0.178701  0.011783   \n",
       " 2                           combined  281.0  0.501742  0.175858  0.010491   \n",
       " \n",
       "    95% Conf.  Interval  \n",
       " 0   0.597181  0.649188  \n",
       " 1   0.451596  0.498031  \n",
       " 2   0.481091  0.522393  ,\n",
       "                                   Independent t-test   results\n",
       " 0  Difference (Excess Return % 35-mo (Treasury_) ...    0.1484\n",
       " 1                              Degrees of freedom =   279.0000\n",
       " 2                                               t =     5.7553\n",
       " 3                           Two side test p value =     0.0000\n",
       " 4                          Difference < 0 p value =     1.0000\n",
       " 5                          Difference > 0 p value =     0.0000\n",
       " 6                                       Cohen's d =     0.8908\n",
       " 7                                       Hedge's g =     0.8884\n",
       " 8                                   Glass's delta =     1.6048\n",
       " 9                                               r =     0.3258)"
      ]
     },
     "execution_count": 131,
     "metadata": {},
     "output_type": "execute_result"
    }
   ],
   "source": [
    "des, res = researchpy.ttest(normalized_df['Excess Return % 35-mo (Treasury_)'], normalized_df1['Excess Return % 35-mo (Treasury_)'])\n",
    "\n",
    "des, res"
   ]
  },
  {
   "cell_type": "code",
   "execution_count": 132,
   "metadata": {
    "scrolled": true
   },
   "outputs": [
    {
     "data": {
      "text/plain": [
       "(                            Variable      N      Mean        SD        SE  \\\n",
       " 0  Excess Return % 36-mo (Treasury_)   51.0  0.733600  0.100966  0.014138   \n",
       " 1  Excess Return % 36-mo (Treasury_)  228.0  0.551702  0.206441  0.013672   \n",
       " 2                           combined  279.0  0.584952  0.203945  0.012210   \n",
       " \n",
       "    95% Conf.  Interval  \n",
       " 0   0.705203  0.761997  \n",
       " 1   0.524762  0.578642  \n",
       " 2   0.560916  0.608987  ,\n",
       "                                   Independent t-test   results\n",
       " 0  Difference (Excess Return % 36-mo (Treasury_) ...    0.1819\n",
       " 1                              Degrees of freedom =   277.0000\n",
       " 2                                               t =     6.1244\n",
       " 3                           Two side test p value =     0.0000\n",
       " 4                          Difference < 0 p value =     1.0000\n",
       " 5                          Difference > 0 p value =     0.0000\n",
       " 6                                       Cohen's d =     0.9487\n",
       " 7                                       Hedge's g =     0.9461\n",
       " 8                                   Glass's delta =     1.8016\n",
       " 9                                               r =     0.3453)"
      ]
     },
     "execution_count": 132,
     "metadata": {},
     "output_type": "execute_result"
    }
   ],
   "source": [
    "des, res = researchpy.ttest(normalized_df['Excess Return % 36-mo (Treasury_)'], normalized_df1['Excess Return % 36-mo (Treasury_)'])\n",
    "\n",
    "des, res"
   ]
  },
  {
   "cell_type": "markdown",
   "metadata": {},
   "source": [
    "### Now the same thing but with AGG as benchmark"
   ]
  },
  {
   "cell_type": "code",
   "execution_count": 133,
   "metadata": {},
   "outputs": [
    {
     "data": {
      "text/plain": [
       "(                          Variable      N      Mean        SD        SE  \\\n",
       " 0  Excess Return % 1-mo (Treasury)   36.0  0.493327  0.274534  0.045756   \n",
       " 1  Excess Return % 1-mo (Treasury)  249.0  0.509477  0.194349  0.012316   \n",
       " 2                         combined  285.0  0.507437  0.205672  0.012183   \n",
       " \n",
       "    95% Conf.  Interval  \n",
       " 0   0.400438  0.586216  \n",
       " 1   0.485219  0.533735  \n",
       " 2   0.483456  0.531417  ,\n",
       "                                   Independent t-test   results\n",
       " 0  Difference (Excess Return % 1-mo (Treasury) - ...   -0.0162\n",
       " 1                              Degrees of freedom =   283.0000\n",
       " 2                                               t =    -0.4398\n",
       " 3                           Two side test p value =     0.6605\n",
       " 4                          Difference < 0 p value =     0.3302\n",
       " 5                          Difference > 0 p value =     0.6698\n",
       " 6                                       Cohen's d =    -0.0784\n",
       " 7                                       Hedge's g =    -0.0782\n",
       " 8                                   Glass's delta =    -0.0588\n",
       " 9                                               r =     0.0261)"
      ]
     },
     "execution_count": 133,
     "metadata": {},
     "output_type": "execute_result"
    }
   ],
   "source": [
    "des, res = researchpy.ttest(normalized_df['Excess Return % 1-mo (Treasury)'], normalized_df1['Excess Return % 1-mo (Treasury)'])\n",
    "\n",
    "des, res"
   ]
  },
  {
   "cell_type": "code",
   "execution_count": 134,
   "metadata": {},
   "outputs": [
    {
     "data": {
      "text/plain": [
       "(                      Variable      N      Mean        SD        SE  \\\n",
       " 0  Excess Return % 2-mo (Agg_)   45.0  0.534295  0.252070  0.037576   \n",
       " 1  Excess Return % 2-mo (Agg_)  260.0  0.494664  0.181011  0.011226   \n",
       " 2                     combined  305.0  0.500511  0.193157  0.011060   \n",
       " \n",
       "    95% Conf.  Interval  \n",
       " 0   0.458565  0.610025  \n",
       " 1   0.472558  0.516769  \n",
       " 2   0.478747  0.522275  ,\n",
       "                                   Independent t-test   results\n",
       " 0  Difference (Excess Return % 2-mo (Agg_) - Exce...    0.0396\n",
       " 1                              Degrees of freedom =   303.0000\n",
       " 2                                               t =     1.2721\n",
       " 3                           Two side test p value =     0.2043\n",
       " 4                          Difference < 0 p value =     0.8978\n",
       " 5                          Difference > 0 p value =     0.1022\n",
       " 6                                       Cohen's d =     0.2054\n",
       " 7                                       Hedge's g =     0.2049\n",
       " 8                                   Glass's delta =     0.1572\n",
       " 9                                               r =     0.0729)"
      ]
     },
     "execution_count": 134,
     "metadata": {},
     "output_type": "execute_result"
    }
   ],
   "source": [
    "des, res = researchpy.ttest(normalized_df['Excess Return % 2-mo (Agg_)'], normalized_df1['Excess Return % 2-mo (Agg_)'])\n",
    "\n",
    "des, res"
   ]
  },
  {
   "cell_type": "code",
   "execution_count": 135,
   "metadata": {},
   "outputs": [
    {
     "data": {
      "text/plain": [
       "(                      Variable      N      Mean        SD        SE  \\\n",
       " 0  Excess Return % 3-mo (Agg_)   48.0  0.553961  0.252216  0.036404   \n",
       " 1  Excess Return % 3-mo (Agg_)  264.0  0.494330  0.189307  0.011651   \n",
       " 2                     combined  312.0  0.503504  0.200958  0.011377   \n",
       " \n",
       "    95% Conf.  Interval  \n",
       " 0   0.480725  0.627197  \n",
       " 1   0.471389  0.517271  \n",
       " 2   0.481118  0.525889  ,\n",
       "                                   Independent t-test   results\n",
       " 0  Difference (Excess Return % 3-mo (Agg_) - Exce...    0.0596\n",
       " 1                              Degrees of freedom =   310.0000\n",
       " 2                                               t =     1.8990\n",
       " 3                           Two side test p value =     0.0585\n",
       " 4                          Difference < 0 p value =     0.9708\n",
       " 5                          Difference > 0 p value =     0.0292\n",
       " 6                                       Cohen's d =     0.2980\n",
       " 7                                       Hedge's g =     0.2973\n",
       " 8                                   Glass's delta =     0.2364\n",
       " 9                                               r =     0.1072)"
      ]
     },
     "execution_count": 135,
     "metadata": {},
     "output_type": "execute_result"
    }
   ],
   "source": [
    "des, res = researchpy.ttest(normalized_df['Excess Return % 3-mo (Agg_)'], normalized_df1['Excess Return % 3-mo (Agg_)'])\n",
    "\n",
    "des, res"
   ]
  },
  {
   "cell_type": "code",
   "execution_count": 136,
   "metadata": {},
   "outputs": [
    {
     "data": {
      "text/plain": [
       "(                      Variable      N      Mean        SD        SE  \\\n",
       " 0  Excess Return % 4-mo (Agg_)   47.0  0.584769  0.264496  0.038581   \n",
       " 1  Excess Return % 4-mo (Agg_)  262.0  0.504475  0.193086  0.011929   \n",
       " 2                     combined  309.0  0.516688  0.207064  0.011779   \n",
       " \n",
       "    95% Conf.  Interval  \n",
       " 0   0.507110  0.662427  \n",
       " 1   0.480986  0.527964  \n",
       " 2   0.493509  0.539866  ,\n",
       "                                   Independent t-test   results\n",
       " 0  Difference (Excess Return % 4-mo (Agg_) - Exce...    0.0803\n",
       " 1                              Degrees of freedom =   307.0000\n",
       " 2                                               t =     2.4681\n",
       " 3                           Two side test p value =     0.0141\n",
       " 4                          Difference < 0 p value =     0.9929\n",
       " 5                          Difference > 0 p value =     0.0071\n",
       " 6                                       Cohen's d =     0.3910\n",
       " 7                                       Hedge's g =     0.3900\n",
       " 8                                   Glass's delta =     0.3036\n",
       " 9                                               r =     0.1395)"
      ]
     },
     "execution_count": 136,
     "metadata": {},
     "output_type": "execute_result"
    }
   ],
   "source": [
    "des, res = researchpy.ttest(normalized_df['Excess Return % 4-mo (Agg_)'], normalized_df1['Excess Return % 4-mo (Agg_)'])\n",
    "\n",
    "des, res"
   ]
  },
  {
   "cell_type": "code",
   "execution_count": 137,
   "metadata": {},
   "outputs": [
    {
     "data": {
      "text/plain": [
       "(                      Variable      N      Mean        SD        SE  \\\n",
       " 0  Excess Return % 5-mo (Agg_)   46.0  0.574146  0.245256  0.036161   \n",
       " 1  Excess Return % 5-mo (Agg_)  260.0  0.454491  0.196546  0.012189   \n",
       " 2                     combined  306.0  0.472478  0.208599  0.011925   \n",
       " \n",
       "    95% Conf.  Interval  \n",
       " 0   0.501314  0.646978  \n",
       " 1   0.430488  0.478493  \n",
       " 2   0.449013  0.495944  ,\n",
       "                                   Independent t-test   results\n",
       " 0  Difference (Excess Return % 5-mo (Agg_) - Exce...    0.1197\n",
       " 1                              Degrees of freedom =   304.0000\n",
       " 2                                               t =     3.6582\n",
       " 3                           Two side test p value =     0.0003\n",
       " 4                          Difference < 0 p value =     0.9999\n",
       " 5                          Difference > 0 p value =     0.0001\n",
       " 6                                       Cohen's d =     0.5851\n",
       " 7                                       Hedge's g =     0.5837\n",
       " 8                                   Glass's delta =     0.4879\n",
       " 9                                               r =     0.2053)"
      ]
     },
     "execution_count": 137,
     "metadata": {},
     "output_type": "execute_result"
    }
   ],
   "source": [
    "des, res = researchpy.ttest(normalized_df['Excess Return % 5-mo (Agg_)'], normalized_df1['Excess Return % 5-mo (Agg_)'])\n",
    "\n",
    "des, res"
   ]
  },
  {
   "cell_type": "code",
   "execution_count": 138,
   "metadata": {},
   "outputs": [
    {
     "data": {
      "text/plain": [
       "(                      Variable      N      Mean        SD        SE  \\\n",
       " 0  Excess Return % 6-mo (Agg_)   45.0  0.604543  0.237390  0.035388   \n",
       " 1  Excess Return % 6-mo (Agg_)  256.0  0.492468  0.184444  0.011528   \n",
       " 2                     combined  301.0  0.509224  0.196938  0.011351   \n",
       " \n",
       "    95% Conf.  Interval  \n",
       " 0   0.533223  0.675863  \n",
       " 1   0.469767  0.515170  \n",
       " 2   0.486885  0.531562  ,\n",
       "                                   Independent t-test   results\n",
       " 0  Difference (Excess Return % 6-mo (Agg_) - Exce...    0.1121\n",
       " 1                              Degrees of freedom =   299.0000\n",
       " 2                                               t =     3.5897\n",
       " 3                           Two side test p value =     0.0004\n",
       " 4                          Difference < 0 p value =     0.9998\n",
       " 5                          Difference > 0 p value =     0.0002\n",
       " 6                                       Cohen's d =     0.5803\n",
       " 7                                       Hedge's g =     0.5788\n",
       " 8                                   Glass's delta =     0.4721\n",
       " 9                                               r =     0.2033)"
      ]
     },
     "execution_count": 138,
     "metadata": {},
     "output_type": "execute_result"
    }
   ],
   "source": [
    "des, res = researchpy.ttest(normalized_df['Excess Return % 6-mo (Agg_)'], normalized_df1['Excess Return % 6-mo (Agg_)'])\n",
    "\n",
    "des, res"
   ]
  },
  {
   "cell_type": "code",
   "execution_count": 139,
   "metadata": {},
   "outputs": [
    {
     "data": {
      "text/plain": [
       "(                      Variable      N      Mean        SD        SE  \\\n",
       " 0  Excess Return % 7-mo (Agg_)   46.0  0.624677  0.248535  0.036644   \n",
       " 1  Excess Return % 7-mo (Agg_)  255.0  0.493249  0.192122  0.012031   \n",
       " 2                     combined  301.0  0.513334  0.206786  0.011919   \n",
       " \n",
       "    95% Conf.  Interval  \n",
       " 0   0.550871  0.698482  \n",
       " 1   0.469555  0.516942  \n",
       " 2   0.489879  0.536789  ,\n",
       "                                   Independent t-test   results\n",
       " 0  Difference (Excess Return % 7-mo (Agg_) - Exce...    0.1314\n",
       " 1                              Degrees of freedom =   299.0000\n",
       " 2                                               t =     4.0692\n",
       " 3                           Two side test p value =     0.0001\n",
       " 4                          Difference < 0 p value =     1.0000\n",
       " 5                          Difference > 0 p value =     0.0000\n",
       " 6                                       Cohen's d =     0.6518\n",
       " 7                                       Hedge's g =     0.6502\n",
       " 8                                   Glass's delta =     0.5288\n",
       " 9                                               r =     0.2291)"
      ]
     },
     "execution_count": 139,
     "metadata": {},
     "output_type": "execute_result"
    }
   ],
   "source": [
    "des, res = researchpy.ttest(normalized_df['Excess Return % 7-mo (Agg_)'], normalized_df1['Excess Return % 7-mo (Agg_)'])\n",
    "\n",
    "des, res"
   ]
  },
  {
   "cell_type": "code",
   "execution_count": 140,
   "metadata": {},
   "outputs": [
    {
     "data": {
      "text/plain": [
       "(                      Variable      N      Mean        SD        SE  \\\n",
       " 0  Excess Return % 8-mo (Agg_)   45.0  0.630833  0.235972  0.035177   \n",
       " 1  Excess Return % 8-mo (Agg_)  253.0  0.485864  0.190766  0.011993   \n",
       " 2                     combined  298.0  0.507755  0.204525  0.011848   \n",
       " \n",
       "    95% Conf.  Interval  \n",
       " 0   0.559939  0.701727  \n",
       " 1   0.462244  0.509484  \n",
       " 2   0.484439  0.531072  ,\n",
       "                                   Independent t-test   results\n",
       " 0  Difference (Excess Return % 8-mo (Agg_) - Exce...    0.1450\n",
       " 1                              Degrees of freedom =   296.0000\n",
       " 2                                               t =     4.5223\n",
       " 3                           Two side test p value =     0.0000\n",
       " 4                          Difference < 0 p value =     1.0000\n",
       " 5                          Difference > 0 p value =     0.0000\n",
       " 6                                       Cohen's d =     0.7317\n",
       " 7                                       Hedge's g =     0.7298\n",
       " 8                                   Glass's delta =     0.6143\n",
       " 9                                               r =     0.2542)"
      ]
     },
     "execution_count": 140,
     "metadata": {},
     "output_type": "execute_result"
    }
   ],
   "source": [
    "des, res = researchpy.ttest(normalized_df['Excess Return % 8-mo (Agg_)'], normalized_df1['Excess Return % 8-mo (Agg_)'])\n",
    "\n",
    "des, res"
   ]
  },
  {
   "cell_type": "code",
   "execution_count": 141,
   "metadata": {},
   "outputs": [
    {
     "data": {
      "text/plain": [
       "(                      Variable      N      Mean        SD        SE  \\\n",
       " 0  Excess Return % 9-mo (Agg_)   46.0  0.626622  0.210166  0.030987   \n",
       " 1  Excess Return % 9-mo (Agg_)  254.0  0.466675  0.178608  0.011207   \n",
       " 2                     combined  300.0  0.491201  0.192283  0.011101   \n",
       " \n",
       "    95% Conf.  Interval  \n",
       " 0   0.564210  0.689033  \n",
       " 1   0.444605  0.488746  \n",
       " 2   0.469354  0.513047  ,\n",
       "                                   Independent t-test   results\n",
       " 0  Difference (Excess Return % 9-mo (Agg_) - Exce...    0.1599\n",
       " 1                              Degrees of freedom =   298.0000\n",
       " 2                                               t =     5.4331\n",
       " 3                           Two side test p value =     0.0000\n",
       " 4                          Difference < 0 p value =     1.0000\n",
       " 5                          Difference > 0 p value =     0.0000\n",
       " 6                                       Cohen's d =     0.8706\n",
       " 7                                       Hedge's g =     0.8684\n",
       " 8                                   Glass's delta =     0.7610\n",
       " 9                                               r =     0.3002)"
      ]
     },
     "execution_count": 141,
     "metadata": {},
     "output_type": "execute_result"
    }
   ],
   "source": [
    "des, res = researchpy.ttest(normalized_df['Excess Return % 9-mo (Agg_)'], normalized_df1['Excess Return % 9-mo (Agg_)'])\n",
    "\n",
    "des, res"
   ]
  },
  {
   "cell_type": "code",
   "execution_count": 142,
   "metadata": {},
   "outputs": [
    {
     "data": {
      "text/plain": [
       "(                       Variable      N      Mean        SD        SE  \\\n",
       " 0  Excess Return % 10-mo (Agg_)   44.0  0.648071  0.203331  0.030653   \n",
       " 1  Excess Return % 10-mo (Agg_)  252.0  0.473550  0.183496  0.011559   \n",
       " 2                      combined  296.0  0.499492  0.196322  0.011411   \n",
       " \n",
       "    95% Conf.  Interval  \n",
       " 0   0.586253  0.709889  \n",
       " 1   0.450785  0.496315  \n",
       " 2   0.477035  0.521950  ,\n",
       "                                   Independent t-test   results\n",
       " 0  Difference (Excess Return % 10-mo (Agg_) - Exc...    0.1745\n",
       " 1                              Degrees of freedom =   294.0000\n",
       " 2                                               t =     5.7264\n",
       " 3                           Two side test p value =     0.0000\n",
       " 4                          Difference < 0 p value =     1.0000\n",
       " 5                          Difference > 0 p value =     0.0000\n",
       " 6                                       Cohen's d =     0.9356\n",
       " 7                                       Hedge's g =     0.9332\n",
       " 8                                   Glass's delta =     0.8583\n",
       " 9                                               r =     0.3168)"
      ]
     },
     "execution_count": 142,
     "metadata": {},
     "output_type": "execute_result"
    }
   ],
   "source": [
    "des, res = researchpy.ttest(normalized_df['Excess Return % 10-mo (Agg_)'], normalized_df1['Excess Return % 10-mo (Agg_)'])\n",
    "\n",
    "des, res"
   ]
  },
  {
   "cell_type": "code",
   "execution_count": 143,
   "metadata": {},
   "outputs": [
    {
     "data": {
      "text/plain": [
       "(                       Variable      N      Mean        SD        SE  \\\n",
       " 0  Excess Return % 11-mo (Agg_)   44.0  0.682678  0.180070  0.027147   \n",
       " 1  Excess Return % 11-mo (Agg_)  252.0  0.489268  0.182918  0.011523   \n",
       " 2                      combined  296.0  0.518018  0.194795  0.011322   \n",
       " \n",
       "    95% Conf.  Interval  \n",
       " 0   0.627932  0.737424  \n",
       " 1   0.466574  0.511962  \n",
       " 2   0.495736  0.540301  ,\n",
       "                                   Independent t-test   results\n",
       " 0  Difference (Excess Return % 11-mo (Agg_) - Exc...    0.1934\n",
       " 1                              Degrees of freedom =   294.0000\n",
       " 2                                               t =     6.4861\n",
       " 3                           Two side test p value =     0.0000\n",
       " 4                          Difference < 0 p value =     1.0000\n",
       " 5                          Difference > 0 p value =     0.0000\n",
       " 6                                       Cohen's d =     1.0598\n",
       " 7                                       Hedge's g =     1.0571\n",
       " 8                                   Glass's delta =     1.0741\n",
       " 9                                               r =     0.3538)"
      ]
     },
     "execution_count": 143,
     "metadata": {},
     "output_type": "execute_result"
    }
   ],
   "source": [
    "des, res = researchpy.ttest(normalized_df['Excess Return % 11-mo (Agg_)'], normalized_df1['Excess Return % 11-mo (Agg_)'])\n",
    "\n",
    "des, res"
   ]
  },
  {
   "cell_type": "code",
   "execution_count": 144,
   "metadata": {},
   "outputs": [
    {
     "data": {
      "text/plain": [
       "(                       Variable      N      Mean        SD        SE  \\\n",
       " 0  Excess Return % 12-mo (Agg_)   45.0  0.708652  0.202132  0.030132   \n",
       " 1  Excess Return % 12-mo (Agg_)  251.0  0.519007  0.189336  0.011951   \n",
       " 2                      combined  296.0  0.547838  0.202795  0.011787   \n",
       " \n",
       "    95% Conf.  Interval  \n",
       " 0   0.647924  0.769379  \n",
       " 1   0.495470  0.542544  \n",
       " 2   0.524640  0.571036  ,\n",
       "                                   Independent t-test   results\n",
       " 0  Difference (Excess Return % 12-mo (Agg_) - Exc...    0.1896\n",
       " 1                              Degrees of freedom =   294.0000\n",
       " 2                                               t =     6.1236\n",
       " 3                           Two side test p value =     0.0000\n",
       " 4                          Difference < 0 p value =     1.0000\n",
       " 5                          Difference > 0 p value =     0.0000\n",
       " 6                                       Cohen's d =     0.9913\n",
       " 7                                       Hedge's g =     0.9888\n",
       " 8                                   Glass's delta =     0.9382\n",
       " 9                                               r =     0.3363)"
      ]
     },
     "execution_count": 144,
     "metadata": {},
     "output_type": "execute_result"
    }
   ],
   "source": [
    "des, res = researchpy.ttest(normalized_df['Excess Return % 12-mo (Agg_)'], normalized_df1['Excess Return % 12-mo (Agg_)'])\n",
    "\n",
    "des, res"
   ]
  },
  {
   "cell_type": "code",
   "execution_count": 145,
   "metadata": {},
   "outputs": [
    {
     "data": {
      "text/plain": [
       "(                       Variable      N      Mean        SD        SE  \\\n",
       " 0  Excess Return % 13-mo (Agg_)   46.0  0.671563  0.214683  0.031653   \n",
       " 1  Excess Return % 13-mo (Agg_)  250.0  0.505510  0.183961  0.011635   \n",
       " 2                      combined  296.0  0.531316  0.198057  0.011512   \n",
       " \n",
       "    95% Conf.  Interval  \n",
       " 0   0.607811  0.735316  \n",
       " 1   0.482595  0.528425  \n",
       " 2   0.508660  0.553971  ,\n",
       "                                   Independent t-test   results\n",
       " 0  Difference (Excess Return % 13-mo (Agg_) - Exc...    0.1661\n",
       " 1                              Degrees of freedom =   294.0000\n",
       " 2                                               t =     5.4767\n",
       " 3                           Two side test p value =     0.0000\n",
       " 4                          Difference < 0 p value =     1.0000\n",
       " 5                          Difference > 0 p value =     0.0000\n",
       " 6                                       Cohen's d =     0.8786\n",
       " 7                                       Hedge's g =     0.8764\n",
       " 8                                   Glass's delta =     0.7735\n",
       " 9                                               r =     0.3043)"
      ]
     },
     "execution_count": 145,
     "metadata": {},
     "output_type": "execute_result"
    }
   ],
   "source": [
    "des, res = researchpy.ttest(normalized_df['Excess Return % 13-mo (Agg_)'], normalized_df1['Excess Return % 13-mo (Agg_)'])\n",
    "\n",
    "des, res"
   ]
  },
  {
   "cell_type": "code",
   "execution_count": 146,
   "metadata": {},
   "outputs": [
    {
     "data": {
      "text/plain": [
       "(                       Variable      N      Mean        SD        SE  \\\n",
       " 0  Excess Return % 14-mo (Agg_)   46.0  0.685924  0.226941  0.033461   \n",
       " 1  Excess Return % 14-mo (Agg_)  248.0  0.514400  0.199524  0.012670   \n",
       " 2                      combined  294.0  0.541237  0.212992  0.012422   \n",
       " \n",
       "    95% Conf.  Interval  \n",
       " 0   0.618530  0.753317  \n",
       " 1   0.489446  0.539355  \n",
       " 2   0.516790  0.565685  ,\n",
       "                                   Independent t-test   results\n",
       " 0  Difference (Excess Return % 14-mo (Agg_) - Exc...    0.1715\n",
       " 1                              Degrees of freedom =   292.0000\n",
       " 2                                               t =     5.2378\n",
       " 3                           Two side test p value =     0.0000\n",
       " 4                          Difference < 0 p value =     1.0000\n",
       " 5                          Difference > 0 p value =     0.0000\n",
       " 6                                       Cohen's d =     0.8408\n",
       " 7                                       Hedge's g =     0.8387\n",
       " 8                                   Glass's delta =     0.7558\n",
       " 9                                               r =     0.2931)"
      ]
     },
     "execution_count": 146,
     "metadata": {},
     "output_type": "execute_result"
    }
   ],
   "source": [
    "des, res = researchpy.ttest(normalized_df['Excess Return % 14-mo (Agg_)'], normalized_df1['Excess Return % 14-mo (Agg_)'])\n",
    "\n",
    "des, res"
   ]
  },
  {
   "cell_type": "code",
   "execution_count": 147,
   "metadata": {},
   "outputs": [
    {
     "data": {
      "text/plain": [
       "(                       Variable      N      Mean        SD        SE  \\\n",
       " 0  Excess Return % 15-mo (Agg_)   46.0  0.701706  0.192019  0.028312   \n",
       " 1  Excess Return % 15-mo (Agg_)  246.0  0.522368  0.192676  0.012285   \n",
       " 2                      combined  292.0  0.550620  0.203077  0.011884   \n",
       " \n",
       "    95% Conf.  Interval  \n",
       " 0   0.644683  0.758728  \n",
       " 1   0.498171  0.546565  \n",
       " 2   0.527230  0.574010  ,\n",
       "                                   Independent t-test   results\n",
       " 0  Difference (Excess Return % 15-mo (Agg_) - Exc...    0.1793\n",
       " 1                              Degrees of freedom =   290.0000\n",
       " 2                                               t =     5.7973\n",
       " 3                           Two side test p value =     0.0000\n",
       " 4                          Difference < 0 p value =     1.0000\n",
       " 5                          Difference > 0 p value =     0.0000\n",
       " 6                                       Cohen's d =     0.9313\n",
       " 7                                       Hedge's g =     0.9289\n",
       " 8                                   Glass's delta =     0.9340\n",
       " 9                                               r =     0.3223)"
      ]
     },
     "execution_count": 147,
     "metadata": {},
     "output_type": "execute_result"
    }
   ],
   "source": [
    "des, res = researchpy.ttest(normalized_df['Excess Return % 15-mo (Agg_)'], normalized_df1['Excess Return % 15-mo (Agg_)'])\n",
    "\n",
    "des, res"
   ]
  },
  {
   "cell_type": "code",
   "execution_count": 148,
   "metadata": {},
   "outputs": [
    {
     "data": {
      "text/plain": [
       "(                       Variable      N      Mean        SD        SE  \\\n",
       " 0  Excess Return % 16-mo (Agg_)   46.0  0.719041  0.174349  0.025706   \n",
       " 1  Excess Return % 16-mo (Agg_)  245.0  0.534030  0.191842  0.012256   \n",
       " 2                      combined  291.0  0.563276  0.200633  0.011761   \n",
       " \n",
       "    95% Conf.  Interval  \n",
       " 0   0.667265  0.770816  \n",
       " 1   0.509889  0.558172  \n",
       " 2   0.540128  0.586424  ,\n",
       "                                   Independent t-test   results\n",
       " 0  Difference (Excess Return % 16-mo (Agg_) - Exc...    0.1850\n",
       " 1                              Degrees of freedom =   289.0000\n",
       " 2                                               t =     6.0846\n",
       " 3                           Two side test p value =     0.0000\n",
       " 4                          Difference < 0 p value =     1.0000\n",
       " 5                          Difference > 0 p value =     0.0000\n",
       " 6                                       Cohen's d =     0.9777\n",
       " 7                                       Hedge's g =     0.9752\n",
       " 8                                   Glass's delta =     1.0611\n",
       " 9                                               r =     0.3370)"
      ]
     },
     "execution_count": 148,
     "metadata": {},
     "output_type": "execute_result"
    }
   ],
   "source": [
    "des, res = researchpy.ttest(normalized_df['Excess Return % 16-mo (Agg_)'], normalized_df1['Excess Return % 16-mo (Agg_)'])\n",
    "\n",
    "des, res"
   ]
  },
  {
   "cell_type": "code",
   "execution_count": 149,
   "metadata": {},
   "outputs": [
    {
     "data": {
      "text/plain": [
       "(                       Variable      N      Mean        SD        SE  \\\n",
       " 0  Excess Return % 17-mo (Agg_)   48.0  0.658853  0.181541  0.026203   \n",
       " 1  Excess Return % 17-mo (Agg_)  245.0  0.494742  0.180409  0.011526   \n",
       " 2                      combined  293.0  0.521627  0.190273  0.011116   \n",
       " \n",
       "    95% Conf.  Interval  \n",
       " 0   0.606138  0.711567  \n",
       " 1   0.472039  0.517445  \n",
       " 2   0.499749  0.543504  ,\n",
       "                                   Independent t-test   results\n",
       " 0  Difference (Excess Return % 17-mo (Agg_) - Exc...    0.1641\n",
       " 1                              Degrees of freedom =   291.0000\n",
       " 2                                               t =     5.7572\n",
       " 3                           Two side test p value =     0.0000\n",
       " 4                          Difference < 0 p value =     1.0000\n",
       " 5                          Difference > 0 p value =     0.0000\n",
       " 6                                       Cohen's d =     0.9087\n",
       " 7                                       Hedge's g =     0.9064\n",
       " 8                                   Glass's delta =     0.9040\n",
       " 9                                               r =     0.3198)"
      ]
     },
     "execution_count": 149,
     "metadata": {},
     "output_type": "execute_result"
    }
   ],
   "source": [
    "des, res = researchpy.ttest(normalized_df['Excess Return % 17-mo (Agg_)'], normalized_df1['Excess Return % 17-mo (Agg_)'])\n",
    "\n",
    "des, res"
   ]
  },
  {
   "cell_type": "code",
   "execution_count": 150,
   "metadata": {},
   "outputs": [
    {
     "data": {
      "text/plain": [
       "(                       Variable      N      Mean        SD        SE  \\\n",
       " 0  Excess Return % 18-mo (Agg_)   49.0  0.661686  0.181792  0.025970   \n",
       " 1  Excess Return % 18-mo (Agg_)  244.0  0.504221  0.178713  0.011441   \n",
       " 2                      combined  293.0  0.530554  0.188352  0.011004   \n",
       " \n",
       "    95% Conf.  Interval  \n",
       " 0   0.609470  0.713903  \n",
       " 1   0.481685  0.526757  \n",
       " 2   0.508898  0.552211  ,\n",
       "                                   Independent t-test   results\n",
       " 0  Difference (Excess Return % 18-mo (Agg_) - Exc...    0.1575\n",
       " 1                              Degrees of freedom =   291.0000\n",
       " 2                                               t =     5.6124\n",
       " 3                           Two side test p value =     0.0000\n",
       " 4                          Difference < 0 p value =     1.0000\n",
       " 5                          Difference > 0 p value =     0.0000\n",
       " 6                                       Cohen's d =     0.8786\n",
       " 7                                       Hedge's g =     0.8763\n",
       " 8                                   Glass's delta =     0.8662\n",
       " 9                                               r =     0.3125)"
      ]
     },
     "execution_count": 150,
     "metadata": {},
     "output_type": "execute_result"
    }
   ],
   "source": [
    "des, res = researchpy.ttest(normalized_df['Excess Return % 18-mo (Agg_)'], normalized_df1['Excess Return % 18-mo (Agg_)'])\n",
    "\n",
    "des, res"
   ]
  },
  {
   "cell_type": "code",
   "execution_count": 151,
   "metadata": {},
   "outputs": [
    {
     "data": {
      "text/plain": [
       "(                       Variable      N      Mean        SD        SE  \\\n",
       " 0  Excess Return % 19-mo (Agg_)   50.0  0.645141  0.190983  0.027009   \n",
       " 1  Excess Return % 19-mo (Agg_)  243.0  0.487594  0.187036  0.011998   \n",
       " 2                      combined  293.0  0.514479  0.196565  0.011483   \n",
       " \n",
       "    95% Conf.  Interval  \n",
       " 0   0.590864  0.699417  \n",
       " 1   0.463959  0.511228  \n",
       " 2   0.491878  0.537080  ,\n",
       "                                   Independent t-test   results\n",
       " 0  Difference (Excess Return % 19-mo (Agg_) - Exc...    0.1575\n",
       " 1                              Degrees of freedom =   291.0000\n",
       " 2                                               t =     5.4049\n",
       " 3                           Two side test p value =     0.0000\n",
       " 4                          Difference < 0 p value =     1.0000\n",
       " 5                          Difference > 0 p value =     0.0000\n",
       " 6                                       Cohen's d =     0.8393\n",
       " 7                                       Hedge's g =     0.8372\n",
       " 8                                   Glass's delta =     0.8249\n",
       " 9                                               r =     0.3020)"
      ]
     },
     "execution_count": 151,
     "metadata": {},
     "output_type": "execute_result"
    }
   ],
   "source": [
    "des, res = researchpy.ttest(normalized_df['Excess Return % 19-mo (Agg_)'], normalized_df1['Excess Return % 19-mo (Agg_)'])\n",
    "\n",
    "des, res"
   ]
  },
  {
   "cell_type": "code",
   "execution_count": 152,
   "metadata": {},
   "outputs": [
    {
     "data": {
      "text/plain": [
       "(                       Variable      N      Mean        SD        SE  \\\n",
       " 0  Excess Return % 20-mo (Agg_)   51.0  0.642628  0.186550  0.026122   \n",
       " 1  Excess Return % 20-mo (Agg_)  242.0  0.492528  0.180111  0.011578   \n",
       " 2                      combined  293.0  0.518655  0.189693  0.011082   \n",
       " \n",
       "    95% Conf.  Interval  \n",
       " 0   0.590160  0.695096  \n",
       " 1   0.469721  0.515335  \n",
       " 2   0.496844  0.540466  ,\n",
       "                                   Independent t-test   results\n",
       " 0  Difference (Excess Return % 20-mo (Agg_) - Exc...    0.1501\n",
       " 1                              Degrees of freedom =   291.0000\n",
       " 2                                               t =     5.3753\n",
       " 3                           Two side test p value =     0.0000\n",
       " 4                          Difference < 0 p value =     1.0000\n",
       " 5                          Difference > 0 p value =     0.0000\n",
       " 6                                       Cohen's d =     0.8282\n",
       " 7                                       Hedge's g =     0.8261\n",
       " 8                                   Glass's delta =     0.8046\n",
       " 9                                               r =     0.3005)"
      ]
     },
     "execution_count": 152,
     "metadata": {},
     "output_type": "execute_result"
    }
   ],
   "source": [
    "des, res = researchpy.ttest(normalized_df['Excess Return % 20-mo (Agg_)'], normalized_df1['Excess Return % 20-mo (Agg_)'])\n",
    "\n",
    "des, res"
   ]
  },
  {
   "cell_type": "code",
   "execution_count": 153,
   "metadata": {},
   "outputs": [
    {
     "data": {
      "text/plain": [
       "(                       Variable      N      Mean        SD        SE  \\\n",
       " 0  Excess Return % 21-mo (Agg_)   51.0  0.654006  0.174392  0.024420   \n",
       " 1  Excess Return % 21-mo (Agg_)  241.0  0.491964  0.184622  0.011893   \n",
       " 2                      combined  292.0  0.520266  0.192705  0.011277   \n",
       " \n",
       "    95% Conf.  Interval  \n",
       " 0   0.604958  0.703055  \n",
       " 1   0.468537  0.515391  \n",
       " 2   0.498070  0.542461  ,\n",
       "                                   Independent t-test   results\n",
       " 0  Difference (Excess Return % 21-mo (Agg_) - Exc...    0.1620\n",
       " 1                              Degrees of freedom =   290.0000\n",
       " 2                                               t =     5.7480\n",
       " 3                           Two side test p value =     0.0000\n",
       " 4                          Difference < 0 p value =     1.0000\n",
       " 5                          Difference > 0 p value =     0.0000\n",
       " 6                                       Cohen's d =     0.8860\n",
       " 7                                       Hedge's g =     0.8837\n",
       " 8                                   Glass's delta =     0.9292\n",
       " 9                                               r =     0.3198)"
      ]
     },
     "execution_count": 153,
     "metadata": {},
     "output_type": "execute_result"
    }
   ],
   "source": [
    "des, res = researchpy.ttest(normalized_df['Excess Return % 21-mo (Agg_)'], normalized_df1['Excess Return % 21-mo (Agg_)'])\n",
    "\n",
    "des, res"
   ]
  },
  {
   "cell_type": "code",
   "execution_count": 154,
   "metadata": {},
   "outputs": [
    {
     "data": {
      "text/plain": [
       "(                       Variable      N      Mean        SD        SE  \\\n",
       " 0  Excess Return % 22-mo (Agg_)   51.0  0.649001  0.158386  0.022178   \n",
       " 1  Excess Return % 22-mo (Agg_)  240.0  0.489286  0.180160  0.011629   \n",
       " 2                      combined  291.0  0.517277  0.186480  0.010932   \n",
       " \n",
       "    95% Conf.  Interval  \n",
       " 0   0.604455  0.693548  \n",
       " 1   0.466377  0.512195  \n",
       " 2   0.495762  0.538792  ,\n",
       "                                   Independent t-test   results\n",
       " 0  Difference (Excess Return % 22-mo (Agg_) - Exc...    0.1597\n",
       " 1                              Degrees of freedom =   289.0000\n",
       " 2                                               t =     5.8659\n",
       " 3                           Two side test p value =     0.0000\n",
       " 4                          Difference < 0 p value =     1.0000\n",
       " 5                          Difference > 0 p value =     0.0000\n",
       " 6                                       Cohen's d =     0.9045\n",
       " 7                                       Hedge's g =     0.9021\n",
       " 8                                   Glass's delta =     1.0084\n",
       " 9                                               r =     0.3262)"
      ]
     },
     "execution_count": 154,
     "metadata": {},
     "output_type": "execute_result"
    }
   ],
   "source": [
    "des, res = researchpy.ttest(normalized_df['Excess Return % 22-mo (Agg_)'], normalized_df1['Excess Return % 22-mo (Agg_)'])\n",
    "\n",
    "des, res"
   ]
  },
  {
   "cell_type": "code",
   "execution_count": 155,
   "metadata": {},
   "outputs": [
    {
     "data": {
      "text/plain": [
       "(                       Variable      N      Mean        SD        SE  \\\n",
       " 0  Excess Return % 23-mo (Agg_)   51.0  0.660906  0.148835  0.020841   \n",
       " 1  Excess Return % 23-mo (Agg_)  239.0  0.498264  0.179493  0.011610   \n",
       " 2                      combined  290.0  0.526867  0.184964  0.010861   \n",
       " \n",
       "    95% Conf.  Interval  \n",
       " 0   0.619046  0.702767  \n",
       " 1   0.475392  0.521136  \n",
       " 2   0.505489  0.548244  ,\n",
       "                                   Independent t-test   results\n",
       " 0  Difference (Excess Return % 23-mo (Agg_) - Exc...    0.1626\n",
       " 1                              Degrees of freedom =   288.0000\n",
       " 2                                               t =     6.0406\n",
       " 3                           Two side test p value =     0.0000\n",
       " 4                          Difference < 0 p value =     1.0000\n",
       " 5                          Difference > 0 p value =     0.0000\n",
       " 6                                       Cohen's d =     0.9317\n",
       " 7                                       Hedge's g =     0.9293\n",
       " 8                                   Glass's delta =     1.0928\n",
       " 9                                               r =     0.3353)"
      ]
     },
     "execution_count": 155,
     "metadata": {},
     "output_type": "execute_result"
    }
   ],
   "source": [
    "des, res = researchpy.ttest(normalized_df['Excess Return % 23-mo (Agg_)'], normalized_df1['Excess Return % 23-mo (Agg_)'])\n",
    "\n",
    "des, res"
   ]
  },
  {
   "cell_type": "code",
   "execution_count": 156,
   "metadata": {},
   "outputs": [
    {
     "data": {
      "text/plain": [
       "(                       Variable      N      Mean        SD        SE  \\\n",
       " 0  Excess Return % 24-mo (Agg_)   51.0  0.707990  0.147516  0.020656   \n",
       " 1  Excess Return % 24-mo (Agg_)  238.0  0.538788  0.183405  0.011888   \n",
       " 2                      combined  289.0  0.568647  0.188769  0.011104   \n",
       " \n",
       "    95% Conf.  Interval  \n",
       " 0   0.666501  0.749480  \n",
       " 1   0.515367  0.562208  \n",
       " 2   0.546792  0.590502  ,\n",
       "                                   Independent t-test   results\n",
       " 0  Difference (Excess Return % 24-mo (Agg_) - Exc...    0.1692\n",
       " 1                              Degrees of freedom =   287.0000\n",
       " 2                                               t =     6.1717\n",
       " 3                           Two side test p value =     0.0000\n",
       " 4                          Difference < 0 p value =     1.0000\n",
       " 5                          Difference > 0 p value =     0.0000\n",
       " 6                                       Cohen's d =     0.9523\n",
       " 7                                       Hedge's g =     0.9498\n",
       " 8                                   Glass's delta =     1.1470\n",
       " 9                                               r =     0.3423)"
      ]
     },
     "execution_count": 156,
     "metadata": {},
     "output_type": "execute_result"
    }
   ],
   "source": [
    "des, res = researchpy.ttest(normalized_df['Excess Return % 24-mo (Agg_)'], normalized_df1['Excess Return % 24-mo (Agg_)'])\n",
    "\n",
    "des, res"
   ]
  },
  {
   "cell_type": "code",
   "execution_count": 157,
   "metadata": {},
   "outputs": [
    {
     "data": {
      "text/plain": [
       "(                       Variable      N      Mean        SD        SE  \\\n",
       " 0  Excess Return % 25-mo (Agg_)   51.0  0.624408  0.123025  0.017227   \n",
       " 1  Excess Return % 25-mo (Agg_)  238.0  0.475862  0.164326  0.010652   \n",
       " 2                      combined  289.0  0.502076  0.167532  0.009855   \n",
       " \n",
       "    95% Conf.  Interval  \n",
       " 0   0.589807  0.659009  \n",
       " 1   0.454878  0.496846  \n",
       " 2   0.482679  0.521472  ,\n",
       "                                   Independent t-test   results\n",
       " 0  Difference (Excess Return % 25-mo (Agg_) - Exc...    0.1485\n",
       " 1                              Degrees of freedom =   287.0000\n",
       " 2                                               t =     6.0965\n",
       " 3                           Two side test p value =     0.0000\n",
       " 4                          Difference < 0 p value =     1.0000\n",
       " 5                          Difference > 0 p value =     0.0000\n",
       " 6                                       Cohen's d =     0.9407\n",
       " 7                                       Hedge's g =     0.9382\n",
       " 8                                   Glass's delta =     1.2075\n",
       " 9                                               r =     0.3386)"
      ]
     },
     "execution_count": 157,
     "metadata": {},
     "output_type": "execute_result"
    }
   ],
   "source": [
    "des, res = researchpy.ttest(normalized_df['Excess Return % 25-mo (Agg_)'], normalized_df1['Excess Return % 25-mo (Agg_)'])\n",
    "\n",
    "des, res"
   ]
  },
  {
   "cell_type": "code",
   "execution_count": 158,
   "metadata": {},
   "outputs": [
    {
     "data": {
      "text/plain": [
       "(                       Variable      N      Mean        SD        SE  \\\n",
       " 0  Excess Return % 26-mo (Agg_)   51.0  0.774304  0.138929  0.019454   \n",
       " 1  Excess Return % 26-mo (Agg_)  236.0  0.584736  0.197134  0.012832   \n",
       " 2                      combined  287.0  0.618422  0.201434  0.011890   \n",
       " \n",
       "    95% Conf.  Interval  \n",
       " 0   0.735230  0.813379  \n",
       " 1   0.559455  0.610017  \n",
       " 2   0.595019  0.641826  ,\n",
       "                                   Independent t-test   results\n",
       " 0  Difference (Excess Return % 26-mo (Agg_) - Exc...    0.1896\n",
       " 1                              Degrees of freedom =   285.0000\n",
       " 2                                               t =     6.5220\n",
       " 3                           Two side test p value =     0.0000\n",
       " 4                          Difference < 0 p value =     1.0000\n",
       " 5                          Difference > 0 p value =     0.0000\n",
       " 6                                       Cohen's d =     1.0071\n",
       " 7                                       Hedge's g =     1.0045\n",
       " 8                                   Glass's delta =     1.3645\n",
       " 9                                               r =     0.3604)"
      ]
     },
     "execution_count": 158,
     "metadata": {},
     "output_type": "execute_result"
    }
   ],
   "source": [
    "des, res = researchpy.ttest(normalized_df['Excess Return % 26-mo (Agg_)'], normalized_df1['Excess Return % 26-mo (Agg_)'])\n",
    "\n",
    "des, res"
   ]
  },
  {
   "cell_type": "code",
   "execution_count": 159,
   "metadata": {},
   "outputs": [
    {
     "data": {
      "text/plain": [
       "(                       Variable      N      Mean        SD        SE  \\\n",
       " 0  Excess Return % 27-mo (Agg_)   51.0  0.678038  0.117189  0.016410   \n",
       " 1  Excess Return % 27-mo (Agg_)  236.0  0.503443  0.178685  0.011631   \n",
       " 2                      combined  287.0  0.534469  0.181950  0.010740   \n",
       " \n",
       "    95% Conf.  Interval  \n",
       " 0   0.645078  0.710998  \n",
       " 1   0.480528  0.526359  \n",
       " 2   0.513329  0.555609  ,\n",
       "                                   Independent t-test   results\n",
       " 0  Difference (Excess Return % 27-mo (Agg_) - Exc...    0.1746\n",
       " 1                              Degrees of freedom =   285.0000\n",
       " 2                                               t =     6.6699\n",
       " 3                           Two side test p value =     0.0000\n",
       " 4                          Difference < 0 p value =     1.0000\n",
       " 5                          Difference > 0 p value =     0.0000\n",
       " 6                                       Cohen's d =     1.0300\n",
       " 7                                       Hedge's g =     1.0272\n",
       " 8                                   Glass's delta =     1.4899\n",
       " 9                                               r =     0.3674)"
      ]
     },
     "execution_count": 159,
     "metadata": {},
     "output_type": "execute_result"
    }
   ],
   "source": [
    "des, res = researchpy.ttest(normalized_df['Excess Return % 27-mo (Agg_)'], normalized_df1['Excess Return % 27-mo (Agg_)'])\n",
    "\n",
    "des, res"
   ]
  },
  {
   "cell_type": "code",
   "execution_count": 160,
   "metadata": {},
   "outputs": [
    {
     "data": {
      "text/plain": [
       "(                       Variable      N      Mean        SD        SE  \\\n",
       " 0  Excess Return % 28-mo (Agg_)   51.0  0.737439  0.117478  0.016450   \n",
       " 1  Excess Return % 28-mo (Agg_)  235.0  0.548171  0.187768  0.012249   \n",
       " 2                      combined  286.0  0.581922  0.191406  0.011318   \n",
       " \n",
       "    95% Conf.  Interval  \n",
       " 0   0.704398  0.770480  \n",
       " 1   0.524040  0.572303  \n",
       " 2   0.559644  0.604199  ,\n",
       "                                   Independent t-test   results\n",
       " 0  Difference (Excess Return % 28-mo (Agg_) - Exc...    0.1893\n",
       " 1                              Degrees of freedom =   284.0000\n",
       " 2                                               t =     6.9056\n",
       " 3                           Two side test p value =     0.0000\n",
       " 4                          Difference < 0 p value =     1.0000\n",
       " 5                          Difference > 0 p value =     0.0000\n",
       " 6                                       Cohen's d =     1.0668\n",
       " 7                                       Hedge's g =     1.0639\n",
       " 8                                   Glass's delta =     1.6111\n",
       " 9                                               r =     0.3792)"
      ]
     },
     "execution_count": 160,
     "metadata": {},
     "output_type": "execute_result"
    }
   ],
   "source": [
    "des, res = researchpy.ttest(normalized_df['Excess Return % 28-mo (Agg_)'], normalized_df1['Excess Return % 28-mo (Agg_)'])\n",
    "\n",
    "des, res"
   ]
  },
  {
   "cell_type": "code",
   "execution_count": 161,
   "metadata": {},
   "outputs": [
    {
     "data": {
      "text/plain": [
       "(                       Variable      N      Mean        SD        SE  \\\n",
       " 0  Excess Return % 29-mo (Agg_)   51.0  0.672826  0.105772  0.014811   \n",
       " 1  Excess Return % 29-mo (Agg_)  234.0  0.490763  0.181019  0.011834   \n",
       " 2                      combined  285.0  0.523343  0.183686  0.010881   \n",
       " \n",
       "    95% Conf.  Interval  \n",
       " 0   0.643078  0.702575  \n",
       " 1   0.467449  0.514078  \n",
       " 2   0.501926  0.544760  ,\n",
       "                                   Independent t-test   results\n",
       " 0  Difference (Excess Return % 29-mo (Agg_) - Exc...    0.1821\n",
       " 1                              Degrees of freedom =   283.0000\n",
       " 2                                               t =     6.9236\n",
       " 3                           Two side test p value =     0.0000\n",
       " 4                          Difference < 0 p value =     1.0000\n",
       " 5                          Difference > 0 p value =     0.0000\n",
       " 6                                       Cohen's d =     1.0699\n",
       " 7                                       Hedge's g =     1.0671\n",
       " 8                                   Glass's delta =     1.7213\n",
       " 9                                               r =     0.3806)"
      ]
     },
     "execution_count": 161,
     "metadata": {},
     "output_type": "execute_result"
    }
   ],
   "source": [
    "des, res = researchpy.ttest(normalized_df['Excess Return % 29-mo (Agg_)'], normalized_df1['Excess Return % 29-mo (Agg_)'])\n",
    "\n",
    "des, res"
   ]
  },
  {
   "cell_type": "code",
   "execution_count": 162,
   "metadata": {},
   "outputs": [
    {
     "data": {
      "text/plain": [
       "(                       Variable      N      Mean        SD        SE  \\\n",
       " 0  Excess Return % 30-mo (Agg_)   51.0  0.615440  0.099661  0.013955   \n",
       " 1  Excess Return % 30-mo (Agg_)  234.0  0.447970  0.170950  0.011175   \n",
       " 2                      combined  285.0  0.477939  0.172800  0.010236   \n",
       " \n",
       "    95% Conf.  Interval  \n",
       " 0   0.587410  0.643470  \n",
       " 1   0.425953  0.469988  \n",
       " 2   0.457791  0.498086  ,\n",
       "                                   Independent t-test   results\n",
       " 0  Difference (Excess Return % 30-mo (Agg_) - Exc...    0.1675\n",
       " 1                              Degrees of freedom =   283.0000\n",
       " 2                                               t =     6.7448\n",
       " 3                           Two side test p value =     0.0000\n",
       " 4                          Difference < 0 p value =     1.0000\n",
       " 5                          Difference > 0 p value =     0.0000\n",
       " 6                                       Cohen's d =     1.0423\n",
       " 7                                       Hedge's g =     1.0395\n",
       " 8                                   Glass's delta =     1.6804\n",
       " 9                                               r =     0.3721)"
      ]
     },
     "execution_count": 162,
     "metadata": {},
     "output_type": "execute_result"
    }
   ],
   "source": [
    "des, res = researchpy.ttest(normalized_df['Excess Return % 30-mo (Agg_)'], normalized_df1['Excess Return % 30-mo (Agg_)'])\n",
    "\n",
    "des, res"
   ]
  },
  {
   "cell_type": "code",
   "execution_count": 163,
   "metadata": {},
   "outputs": [
    {
     "data": {
      "text/plain": [
       "(                       Variable      N      Mean        SD        SE  \\\n",
       " 0  Excess Return % 31-mo (Agg_)   51.0  0.633898  0.094814  0.013277   \n",
       " 1  Excess Return % 31-mo (Agg_)  233.0  0.463401  0.173533  0.011369   \n",
       " 2                      combined  284.0  0.494019  0.174852  0.010376   \n",
       " \n",
       "    95% Conf.  Interval  \n",
       " 0   0.607231  0.660565  \n",
       " 1   0.441003  0.485800  \n",
       " 2   0.473596  0.514442  ,\n",
       "                                   Independent t-test   results\n",
       " 0  Difference (Excess Return % 31-mo (Agg_) - Exc...    0.1705\n",
       " 1                              Degrees of freedom =   282.0000\n",
       " 2                                               t =     6.7917\n",
       " 3                           Two side test p value =     0.0000\n",
       " 4                          Difference < 0 p value =     1.0000\n",
       " 5                          Difference > 0 p value =     0.0000\n",
       " 6                                       Cohen's d =     1.0500\n",
       " 7                                       Hedge's g =     1.0472\n",
       " 8                                   Glass's delta =     1.7982\n",
       " 9                                               r =     0.3749)"
      ]
     },
     "execution_count": 163,
     "metadata": {},
     "output_type": "execute_result"
    }
   ],
   "source": [
    "des, res = researchpy.ttest(normalized_df['Excess Return % 31-mo (Agg_)'], normalized_df1['Excess Return % 31-mo (Agg_)'])\n",
    "\n",
    "des, res"
   ]
  },
  {
   "cell_type": "code",
   "execution_count": 164,
   "metadata": {},
   "outputs": [
    {
     "data": {
      "text/plain": [
       "(                       Variable      N      Mean        SD        SE  \\\n",
       " 0  Excess Return % 32-mo (Agg_)   51.0  0.675419  0.081513  0.011414   \n",
       " 1  Excess Return % 32-mo (Agg_)  233.0  0.514846  0.164916  0.010804   \n",
       " 2                      combined  284.0  0.543681  0.165173  0.009801   \n",
       " \n",
       "    95% Conf.  Interval  \n",
       " 0   0.652493  0.698345  \n",
       " 1   0.493559  0.536132  \n",
       " 2   0.524389  0.562974  ,\n",
       "                                   Independent t-test   results\n",
       " 0  Difference (Excess Return % 32-mo (Agg_) - Exc...    0.1606\n",
       " 1                              Degrees of freedom =   282.0000\n",
       " 2                                               t =     6.7679\n",
       " 3                           Two side test p value =     0.0000\n",
       " 4                          Difference < 0 p value =     1.0000\n",
       " 5                          Difference > 0 p value =     0.0000\n",
       " 6                                       Cohen's d =     1.0463\n",
       " 7                                       Hedge's g =     1.0435\n",
       " 8                                   Glass's delta =     1.9699\n",
       " 9                                               r =     0.3738)"
      ]
     },
     "execution_count": 164,
     "metadata": {},
     "output_type": "execute_result"
    }
   ],
   "source": [
    "des, res = researchpy.ttest(normalized_df['Excess Return % 32-mo (Agg_)'], normalized_df1['Excess Return % 32-mo (Agg_)'])\n",
    "\n",
    "des, res"
   ]
  },
  {
   "cell_type": "code",
   "execution_count": 165,
   "metadata": {},
   "outputs": [
    {
     "data": {
      "text/plain": [
       "(                       Variable      N      Mean        SD        SE  \\\n",
       " 0  Excess Return % 33-mo (Agg_)   51.0  0.672928  0.078203  0.010951   \n",
       " 1  Excess Return % 33-mo (Agg_)  232.0  0.510771  0.168189  0.011042   \n",
       " 2                      combined  283.0  0.539994  0.167793  0.009974   \n",
       " \n",
       "    95% Conf.  Interval  \n",
       " 0   0.650933  0.694923  \n",
       " 1   0.489015  0.532527  \n",
       " 2   0.520360  0.559627  ,\n",
       "                                   Independent t-test   results\n",
       " 0  Difference (Excess Return % 33-mo (Agg_) - Exc...    0.1622\n",
       " 1                              Degrees of freedom =   281.0000\n",
       " 2                                               t =     6.7203\n",
       " 3                           Two side test p value =     0.0000\n",
       " 4                          Difference < 0 p value =     1.0000\n",
       " 5                          Difference > 0 p value =     0.0000\n",
       " 6                                       Cohen's d =     1.0393\n",
       " 7                                       Hedge's g =     1.0366\n",
       " 8                                   Glass's delta =     2.0735\n",
       " 9                                               r =     0.3721)"
      ]
     },
     "execution_count": 165,
     "metadata": {},
     "output_type": "execute_result"
    }
   ],
   "source": [
    "des, res = researchpy.ttest(normalized_df['Excess Return % 33-mo (Agg_)'], normalized_df1['Excess Return % 33-mo (Agg_)'])\n",
    "\n",
    "des, res"
   ]
  },
  {
   "cell_type": "code",
   "execution_count": 166,
   "metadata": {},
   "outputs": [
    {
     "data": {
      "text/plain": [
       "(                       Variable      N      Mean        SD        SE  \\\n",
       " 0  Excess Return % 34-mo (Agg_)   51.0  0.648917  0.076957  0.010776   \n",
       " 1  Excess Return % 34-mo (Agg_)  232.0  0.493191  0.169889  0.011154   \n",
       " 2                      combined  283.0  0.521255  0.168190  0.009998   \n",
       " \n",
       "    95% Conf.  Interval  \n",
       " 0   0.627272  0.670561  \n",
       " 1   0.471215  0.515167  \n",
       " 2   0.501575  0.540935  ,\n",
       "                                   Independent t-test   results\n",
       " 0  Difference (Excess Return % 34-mo (Agg_) - Exc...    0.1557\n",
       " 1                              Degrees of freedom =   281.0000\n",
       " 2                                               t =     6.3965\n",
       " 3                           Two side test p value =     0.0000\n",
       " 4                          Difference < 0 p value =     1.0000\n",
       " 5                          Difference > 0 p value =     0.0000\n",
       " 6                                       Cohen's d =     0.9893\n",
       " 7                                       Hedge's g =     0.9866\n",
       " 8                                   Glass's delta =     2.0235\n",
       " 9                                               r =     0.3565)"
      ]
     },
     "execution_count": 166,
     "metadata": {},
     "output_type": "execute_result"
    }
   ],
   "source": [
    "des, res = researchpy.ttest(normalized_df['Excess Return % 34-mo (Agg_)'], normalized_df1['Excess Return % 34-mo (Agg_)'])\n",
    "\n",
    "des, res"
   ]
  },
  {
   "cell_type": "code",
   "execution_count": 167,
   "metadata": {},
   "outputs": [
    {
     "data": {
      "text/plain": [
       "(                       Variable      N      Mean        SD        SE  \\\n",
       " 0  Excess Return % 35-mo (Agg_)   51.0  0.645132  0.078140  0.010942   \n",
       " 1  Excess Return % 35-mo (Agg_)  232.0  0.491403  0.173559  0.011395   \n",
       " 2                      combined  283.0  0.519107  0.171060  0.010168   \n",
       " \n",
       "    95% Conf.  Interval  \n",
       " 0   0.623154  0.667109  \n",
       " 1   0.468952  0.513854  \n",
       " 2   0.499091  0.539123  ,\n",
       "                                   Independent t-test   results\n",
       " 0  Difference (Excess Return % 35-mo (Agg_) - Exc...    0.1537\n",
       " 1                              Degrees of freedom =   281.0000\n",
       " 2                                               t =     6.1825\n",
       " 3                           Two side test p value =     0.0000\n",
       " 4                          Difference < 0 p value =     1.0000\n",
       " 5                          Difference > 0 p value =     0.0000\n",
       " 6                                       Cohen's d =     0.9562\n",
       " 7                                       Hedge's g =     0.9536\n",
       " 8                                   Glass's delta =     1.9674\n",
       " 9                                               r =     0.3460)"
      ]
     },
     "execution_count": 167,
     "metadata": {},
     "output_type": "execute_result"
    }
   ],
   "source": [
    "des, res = researchpy.ttest(normalized_df['Excess Return % 35-mo (Agg_)'], normalized_df1['Excess Return % 35-mo (Agg_)'])\n",
    "\n",
    "des, res"
   ]
  },
  {
   "cell_type": "code",
   "execution_count": 168,
   "metadata": {
    "scrolled": false
   },
   "outputs": [
    {
     "data": {
      "text/plain": [
       "(                       Variable      N      Mean        SD        SE  \\\n",
       " 0  Excess Return % 36-mo (Agg_)   51.0  0.627428  0.074523  0.010435   \n",
       " 1  Excess Return % 36-mo (Agg_)  231.0  0.478865  0.167888  0.011046   \n",
       " 2                      combined  282.0  0.505733  0.165349  0.009846   \n",
       " \n",
       "    95% Conf.  Interval  \n",
       " 0   0.606468  0.648388  \n",
       " 1   0.457101  0.500630  \n",
       " 2   0.486351  0.525115  ,\n",
       "                                   Independent t-test   results\n",
       " 0  Difference (Excess Return % 36-mo (Agg_) - Exc...    0.1486\n",
       " 1                              Degrees of freedom =   280.0000\n",
       " 2                                               t =     6.1797\n",
       " 3                           Two side test p value =     0.0000\n",
       " 4                          Difference < 0 p value =     1.0000\n",
       " 5                          Difference > 0 p value =     0.0000\n",
       " 6                                       Cohen's d =     0.9561\n",
       " 7                                       Hedge's g =     0.9535\n",
       " 8                                   Glass's delta =     1.9935\n",
       " 9                                               r =     0.3464)"
      ]
     },
     "execution_count": 168,
     "metadata": {},
     "output_type": "execute_result"
    }
   ],
   "source": [
    "des, res = researchpy.ttest(normalized_df['Excess Return % 36-mo (Agg_)'], normalized_df1['Excess Return % 36-mo (Agg_)'])\n",
    "\n",
    "des, res"
   ]
  },
  {
   "cell_type": "markdown",
   "metadata": {},
   "source": [
    "# We now will export p-value and excess return mean data to excel and start the analysis in a new jupyter notebooks"
   ]
  },
  {
   "cell_type": "code",
   "execution_count": null,
   "metadata": {},
   "outputs": [],
   "source": []
  }
 ],
 "metadata": {
  "kernelspec": {
   "display_name": "Python 3",
   "language": "python",
   "name": "python3"
  },
  "language_info": {
   "codemirror_mode": {
    "name": "ipython",
    "version": 3
   },
   "file_extension": ".py",
   "mimetype": "text/x-python",
   "name": "python",
   "nbconvert_exporter": "python",
   "pygments_lexer": "ipython3",
   "version": "3.7.6"
  }
 },
 "nbformat": 4,
 "nbformat_minor": 4
}
