{
 "cells": [
  {
   "cell_type": "code",
   "execution_count": 1,
   "metadata": {},
   "outputs": [],
   "source": [
    "import numpy as np\n",
    "import pandas as pd"
   ]
  },
  {
   "cell_type": "code",
   "execution_count": 2,
   "metadata": {},
   "outputs": [],
   "source": [
    "df_IG = pd.read_excel('minmax_OAS_with_Returns.xlsx', sheet_name=\"IG\") "
   ]
  },
  {
   "cell_type": "code",
   "execution_count": 3,
   "metadata": {},
   "outputs": [
    {
     "data": {
      "text/html": [
       "<div>\n",
       "<style scoped>\n",
       "    .dataframe tbody tr th:only-of-type {\n",
       "        vertical-align: middle;\n",
       "    }\n",
       "\n",
       "    .dataframe tbody tr th {\n",
       "        vertical-align: top;\n",
       "    }\n",
       "\n",
       "    .dataframe thead th {\n",
       "        text-align: right;\n",
       "    }\n",
       "</style>\n",
       "<table border=\"1\" class=\"dataframe\">\n",
       "  <thead>\n",
       "    <tr style=\"text-align: right;\">\n",
       "      <th></th>\n",
       "      <th>Date</th>\n",
       "      <th>OAS</th>\n",
       "      <th>Total Return % 1-mo-LOC</th>\n",
       "      <th>Agg Returns</th>\n",
       "      <th>Excess Return % 1-mo (Treasury)</th>\n",
       "      <th>Excess Return % 1-mo (Agg)</th>\n",
       "      <th>Excess Return % 3-mo (Treasury)</th>\n",
       "      <th>Excess Return % 3-mo (Agg)</th>\n",
       "      <th>Excess Return % 6-mo (Treasury)</th>\n",
       "      <th>Excess Return % 6-mo (Agg)</th>\n",
       "      <th>...</th>\n",
       "      <th>Excess Return % 6-mo (Agg).1</th>\n",
       "      <th>Excess Return % 9-mo (Treasury).1</th>\n",
       "      <th>Excess Return % 9-mo (Agg).1</th>\n",
       "      <th>Excess Return % 12-mo (Treasury).1</th>\n",
       "      <th>Excess Return % 12-mo (Agg).1</th>\n",
       "      <th>Excess Return % 24-mo (Treasury).1</th>\n",
       "      <th>Excess Return % 24-mo (Agg).1</th>\n",
       "      <th>Excess Return % 36-mo (Treasury).1</th>\n",
       "      <th>Excess Return % 36-mo (Agg).1</th>\n",
       "      <th>Quadrant</th>\n",
       "    </tr>\n",
       "  </thead>\n",
       "  <tbody>\n",
       "    <tr>\n",
       "      <th>0</th>\n",
       "      <td>1997-01-31</td>\n",
       "      <td>61</td>\n",
       "      <td>0.142</td>\n",
       "      <td>0.3062</td>\n",
       "      <td>0.102</td>\n",
       "      <td>-0.1642</td>\n",
       "      <td>0.437</td>\n",
       "      <td>-0.2998</td>\n",
       "      <td>0.547</td>\n",
       "      <td>0.1361</td>\n",
       "      <td>...</td>\n",
       "      <td>0.494069</td>\n",
       "      <td>0.467788</td>\n",
       "      <td>0.524759</td>\n",
       "      <td>0.478103</td>\n",
       "      <td>0.533126</td>\n",
       "      <td>0.464146</td>\n",
       "      <td>0.497527</td>\n",
       "      <td>0.490230</td>\n",
       "      <td>0.451547</td>\n",
       "      <td>4</td>\n",
       "    </tr>\n",
       "    <tr>\n",
       "      <th>1</th>\n",
       "      <td>1997-02-28</td>\n",
       "      <td>59</td>\n",
       "      <td>0.255</td>\n",
       "      <td>0.2488</td>\n",
       "      <td>0.234</td>\n",
       "      <td>0.0062</td>\n",
       "      <td>0.229</td>\n",
       "      <td>-0.0155</td>\n",
       "      <td>0.613</td>\n",
       "      <td>1.3050</td>\n",
       "      <td>...</td>\n",
       "      <td>0.539697</td>\n",
       "      <td>0.457031</td>\n",
       "      <td>0.518750</td>\n",
       "      <td>0.478338</td>\n",
       "      <td>0.530388</td>\n",
       "      <td>0.468278</td>\n",
       "      <td>0.511348</td>\n",
       "      <td>0.479237</td>\n",
       "      <td>0.456050</td>\n",
       "      <td>4</td>\n",
       "    </tr>\n",
       "    <tr>\n",
       "      <th>2</th>\n",
       "      <td>1997-03-31</td>\n",
       "      <td>57</td>\n",
       "      <td>-1.250</td>\n",
       "      <td>-1.1082</td>\n",
       "      <td>0.101</td>\n",
       "      <td>-0.1418</td>\n",
       "      <td>-0.046</td>\n",
       "      <td>-0.0510</td>\n",
       "      <td>0.333</td>\n",
       "      <td>0.6734</td>\n",
       "      <td>...</td>\n",
       "      <td>0.515042</td>\n",
       "      <td>0.451279</td>\n",
       "      <td>0.525495</td>\n",
       "      <td>0.481818</td>\n",
       "      <td>0.540103</td>\n",
       "      <td>0.472562</td>\n",
       "      <td>0.487347</td>\n",
       "      <td>0.463190</td>\n",
       "      <td>0.443353</td>\n",
       "      <td>4</td>\n",
       "    </tr>\n",
       "    <tr>\n",
       "      <th>3</th>\n",
       "      <td>1997-04-30</td>\n",
       "      <td>59</td>\n",
       "      <td>1.617</td>\n",
       "      <td>1.4969</td>\n",
       "      <td>-0.106</td>\n",
       "      <td>0.1201</td>\n",
       "      <td>0.110</td>\n",
       "      <td>0.4359</td>\n",
       "      <td>0.241</td>\n",
       "      <td>1.1644</td>\n",
       "      <td>...</td>\n",
       "      <td>0.534209</td>\n",
       "      <td>0.444035</td>\n",
       "      <td>0.522416</td>\n",
       "      <td>0.486217</td>\n",
       "      <td>0.535774</td>\n",
       "      <td>0.478979</td>\n",
       "      <td>0.501874</td>\n",
       "      <td>0.439940</td>\n",
       "      <td>0.441438</td>\n",
       "      <td>4</td>\n",
       "    </tr>\n",
       "    <tr>\n",
       "      <th>4</th>\n",
       "      <td>1997-05-31</td>\n",
       "      <td>61</td>\n",
       "      <td>0.916</td>\n",
       "      <td>0.9453</td>\n",
       "      <td>-0.041</td>\n",
       "      <td>-0.0293</td>\n",
       "      <td>0.384</td>\n",
       "      <td>1.3205</td>\n",
       "      <td>-0.261</td>\n",
       "      <td>1.0106</td>\n",
       "      <td>...</td>\n",
       "      <td>0.528205</td>\n",
       "      <td>0.450918</td>\n",
       "      <td>0.520697</td>\n",
       "      <td>0.489676</td>\n",
       "      <td>0.547189</td>\n",
       "      <td>0.481016</td>\n",
       "      <td>0.499244</td>\n",
       "      <td>0.425512</td>\n",
       "      <td>0.410678</td>\n",
       "      <td>4</td>\n",
       "    </tr>\n",
       "  </tbody>\n",
       "</table>\n",
       "<p>5 rows × 38 columns</p>\n",
       "</div>"
      ],
      "text/plain": [
       "        Date  OAS  Total Return % 1-mo-LOC  Agg Returns  \\\n",
       "0 1997-01-31   61                    0.142       0.3062   \n",
       "1 1997-02-28   59                    0.255       0.2488   \n",
       "2 1997-03-31   57                   -1.250      -1.1082   \n",
       "3 1997-04-30   59                    1.617       1.4969   \n",
       "4 1997-05-31   61                    0.916       0.9453   \n",
       "\n",
       "   Excess Return % 1-mo (Treasury)  Excess Return % 1-mo (Agg)  \\\n",
       "0                            0.102                     -0.1642   \n",
       "1                            0.234                      0.0062   \n",
       "2                            0.101                     -0.1418   \n",
       "3                           -0.106                      0.1201   \n",
       "4                           -0.041                     -0.0293   \n",
       "\n",
       "   Excess Return % 3-mo (Treasury)  Excess Return % 3-mo (Agg)  \\\n",
       "0                            0.437                     -0.2998   \n",
       "1                            0.229                     -0.0155   \n",
       "2                           -0.046                     -0.0510   \n",
       "3                            0.110                      0.4359   \n",
       "4                            0.384                      1.3205   \n",
       "\n",
       "   Excess Return % 6-mo (Treasury)  Excess Return % 6-mo (Agg)  ...  \\\n",
       "0                            0.547                      0.1361  ...   \n",
       "1                            0.613                      1.3050  ...   \n",
       "2                            0.333                      0.6734  ...   \n",
       "3                            0.241                      1.1644  ...   \n",
       "4                           -0.261                      1.0106  ...   \n",
       "\n",
       "   Excess Return % 6-mo (Agg).1  Excess Return % 9-mo (Treasury).1  \\\n",
       "0                      0.494069                           0.467788   \n",
       "1                      0.539697                           0.457031   \n",
       "2                      0.515042                           0.451279   \n",
       "3                      0.534209                           0.444035   \n",
       "4                      0.528205                           0.450918   \n",
       "\n",
       "   Excess Return % 9-mo (Agg).1  Excess Return % 12-mo (Treasury).1  \\\n",
       "0                      0.524759                            0.478103   \n",
       "1                      0.518750                            0.478338   \n",
       "2                      0.525495                            0.481818   \n",
       "3                      0.522416                            0.486217   \n",
       "4                      0.520697                            0.489676   \n",
       "\n",
       "   Excess Return % 12-mo (Agg).1  Excess Return % 24-mo (Treasury).1  \\\n",
       "0                       0.533126                            0.464146   \n",
       "1                       0.530388                            0.468278   \n",
       "2                       0.540103                            0.472562   \n",
       "3                       0.535774                            0.478979   \n",
       "4                       0.547189                            0.481016   \n",
       "\n",
       "   Excess Return % 24-mo (Agg).1  Excess Return % 36-mo (Treasury).1  \\\n",
       "0                       0.497527                            0.490230   \n",
       "1                       0.511348                            0.479237   \n",
       "2                       0.487347                            0.463190   \n",
       "3                       0.501874                            0.439940   \n",
       "4                       0.499244                            0.425512   \n",
       "\n",
       "   Excess Return % 36-mo (Agg).1 Quadrant  \n",
       "0                       0.451547        4  \n",
       "1                       0.456050        4  \n",
       "2                       0.443353        4  \n",
       "3                       0.441438        4  \n",
       "4                       0.410678        4  \n",
       "\n",
       "[5 rows x 38 columns]"
      ]
     },
     "execution_count": 3,
     "metadata": {},
     "output_type": "execute_result"
    }
   ],
   "source": [
    "df_IG.head()"
   ]
  },
  {
   "cell_type": "code",
   "execution_count": 4,
   "metadata": {},
   "outputs": [
    {
     "data": {
      "text/html": [
       "<div>\n",
       "<style scoped>\n",
       "    .dataframe tbody tr th:only-of-type {\n",
       "        vertical-align: middle;\n",
       "    }\n",
       "\n",
       "    .dataframe tbody tr th {\n",
       "        vertical-align: top;\n",
       "    }\n",
       "\n",
       "    .dataframe thead th {\n",
       "        text-align: right;\n",
       "    }\n",
       "</style>\n",
       "<table border=\"1\" class=\"dataframe\">\n",
       "  <thead>\n",
       "    <tr style=\"text-align: right;\">\n",
       "      <th></th>\n",
       "      <th>Date</th>\n",
       "      <th>OAS</th>\n",
       "      <th>Total Return % 1-mo-LOC</th>\n",
       "      <th>Agg Returns</th>\n",
       "      <th>Excess Return % 1-mo (Treasury)</th>\n",
       "      <th>Excess Return % 1-mo (Agg)</th>\n",
       "      <th>Excess Return % 3-mo (Treasury)</th>\n",
       "      <th>Excess Return % 3-mo (Agg)</th>\n",
       "      <th>Excess Return % 6-mo (Treasury)</th>\n",
       "      <th>Excess Return % 6-mo (Agg)</th>\n",
       "      <th>Excess Return % 9-mo (Treasury)</th>\n",
       "      <th>Excess Return % 9-mo (Agg)</th>\n",
       "      <th>Excess Return % 12-mo (Treasury)</th>\n",
       "      <th>Excess Return % 12-mo (Agg)</th>\n",
       "      <th>Excess Return % 24-mo (Treasury)</th>\n",
       "      <th>Excess Return % 24-mo (Agg)</th>\n",
       "      <th>Excess Return % 36-mo (Treasury)</th>\n",
       "      <th>Excess Return % 36-mo (Agg)</th>\n",
       "      <th>Quadrant</th>\n",
       "    </tr>\n",
       "  </thead>\n",
       "  <tbody>\n",
       "    <tr>\n",
       "      <th>0</th>\n",
       "      <td>1997-01-31</td>\n",
       "      <td>61</td>\n",
       "      <td>0.142</td>\n",
       "      <td>0.3062</td>\n",
       "      <td>0.102</td>\n",
       "      <td>-0.1642</td>\n",
       "      <td>0.437</td>\n",
       "      <td>-0.2998</td>\n",
       "      <td>0.547</td>\n",
       "      <td>0.1361</td>\n",
       "      <td>-0.032</td>\n",
       "      <td>0.9951</td>\n",
       "      <td>-0.790</td>\n",
       "      <td>0.9150</td>\n",
       "      <td>-2.338</td>\n",
       "      <td>0.7746</td>\n",
       "      <td>-0.951</td>\n",
       "      <td>-0.2728</td>\n",
       "      <td>4</td>\n",
       "    </tr>\n",
       "    <tr>\n",
       "      <th>1</th>\n",
       "      <td>1997-02-28</td>\n",
       "      <td>59</td>\n",
       "      <td>0.255</td>\n",
       "      <td>0.2488</td>\n",
       "      <td>0.234</td>\n",
       "      <td>0.0062</td>\n",
       "      <td>0.229</td>\n",
       "      <td>-0.0155</td>\n",
       "      <td>0.613</td>\n",
       "      <td>1.3050</td>\n",
       "      <td>-0.479</td>\n",
       "      <td>0.8294</td>\n",
       "      <td>-0.779</td>\n",
       "      <td>0.8321</td>\n",
       "      <td>-2.121</td>\n",
       "      <td>1.2471</td>\n",
       "      <td>-1.508</td>\n",
       "      <td>-0.1162</td>\n",
       "      <td>4</td>\n",
       "    </tr>\n",
       "    <tr>\n",
       "      <th>2</th>\n",
       "      <td>1997-03-31</td>\n",
       "      <td>57</td>\n",
       "      <td>-1.250</td>\n",
       "      <td>-1.1082</td>\n",
       "      <td>0.101</td>\n",
       "      <td>-0.1418</td>\n",
       "      <td>-0.046</td>\n",
       "      <td>-0.0510</td>\n",
       "      <td>0.333</td>\n",
       "      <td>0.6734</td>\n",
       "      <td>-0.718</td>\n",
       "      <td>1.0154</td>\n",
       "      <td>-0.616</td>\n",
       "      <td>1.1263</td>\n",
       "      <td>-1.896</td>\n",
       "      <td>0.4266</td>\n",
       "      <td>-2.321</td>\n",
       "      <td>-0.5578</td>\n",
       "      <td>4</td>\n",
       "    </tr>\n",
       "    <tr>\n",
       "      <th>3</th>\n",
       "      <td>1997-04-30</td>\n",
       "      <td>59</td>\n",
       "      <td>1.617</td>\n",
       "      <td>1.4969</td>\n",
       "      <td>-0.106</td>\n",
       "      <td>0.1201</td>\n",
       "      <td>0.110</td>\n",
       "      <td>0.4359</td>\n",
       "      <td>0.241</td>\n",
       "      <td>1.1644</td>\n",
       "      <td>-1.019</td>\n",
       "      <td>0.9305</td>\n",
       "      <td>-0.410</td>\n",
       "      <td>0.9952</td>\n",
       "      <td>-1.559</td>\n",
       "      <td>0.9232</td>\n",
       "      <td>-3.499</td>\n",
       "      <td>-0.6244</td>\n",
       "      <td>4</td>\n",
       "    </tr>\n",
       "    <tr>\n",
       "      <th>4</th>\n",
       "      <td>1997-05-31</td>\n",
       "      <td>61</td>\n",
       "      <td>0.916</td>\n",
       "      <td>0.9453</td>\n",
       "      <td>-0.041</td>\n",
       "      <td>-0.0293</td>\n",
       "      <td>0.384</td>\n",
       "      <td>1.3205</td>\n",
       "      <td>-0.261</td>\n",
       "      <td>1.0106</td>\n",
       "      <td>-0.733</td>\n",
       "      <td>0.8831</td>\n",
       "      <td>-0.248</td>\n",
       "      <td>1.3409</td>\n",
       "      <td>-1.452</td>\n",
       "      <td>0.8333</td>\n",
       "      <td>-4.230</td>\n",
       "      <td>-1.6942</td>\n",
       "      <td>4</td>\n",
       "    </tr>\n",
       "    <tr>\n",
       "      <th>...</th>\n",
       "      <td>...</td>\n",
       "      <td>...</td>\n",
       "      <td>...</td>\n",
       "      <td>...</td>\n",
       "      <td>...</td>\n",
       "      <td>...</td>\n",
       "      <td>...</td>\n",
       "      <td>...</td>\n",
       "      <td>...</td>\n",
       "      <td>...</td>\n",
       "      <td>...</td>\n",
       "      <td>...</td>\n",
       "      <td>...</td>\n",
       "      <td>...</td>\n",
       "      <td>...</td>\n",
       "      <td>...</td>\n",
       "      <td>...</td>\n",
       "      <td>...</td>\n",
       "      <td>...</td>\n",
       "    </tr>\n",
       "    <tr>\n",
       "      <th>274</th>\n",
       "      <td>2019-11-30</td>\n",
       "      <td>111</td>\n",
       "      <td>0.217</td>\n",
       "      <td>-0.0512</td>\n",
       "      <td>0.622</td>\n",
       "      <td>0.2682</td>\n",
       "      <td>1.046</td>\n",
       "      <td>1.1043</td>\n",
       "      <td>NaN</td>\n",
       "      <td>NaN</td>\n",
       "      <td>NaN</td>\n",
       "      <td>NaN</td>\n",
       "      <td>NaN</td>\n",
       "      <td>NaN</td>\n",
       "      <td>NaN</td>\n",
       "      <td>NaN</td>\n",
       "      <td>NaN</td>\n",
       "      <td>NaN</td>\n",
       "      <td>2</td>\n",
       "    </tr>\n",
       "    <tr>\n",
       "      <th>275</th>\n",
       "      <td>2019-12-31</td>\n",
       "      <td>101</td>\n",
       "      <td>0.315</td>\n",
       "      <td>-0.0696</td>\n",
       "      <td>1.061</td>\n",
       "      <td>0.3846</td>\n",
       "      <td>-1.454</td>\n",
       "      <td>0.3261</td>\n",
       "      <td>NaN</td>\n",
       "      <td>NaN</td>\n",
       "      <td>NaN</td>\n",
       "      <td>NaN</td>\n",
       "      <td>NaN</td>\n",
       "      <td>NaN</td>\n",
       "      <td>NaN</td>\n",
       "      <td>NaN</td>\n",
       "      <td>NaN</td>\n",
       "      <td>NaN</td>\n",
       "      <td>2</td>\n",
       "    </tr>\n",
       "    <tr>\n",
       "      <th>276</th>\n",
       "      <td>2020-01-31</td>\n",
       "      <td>109</td>\n",
       "      <td>2.376</td>\n",
       "      <td>1.9245</td>\n",
       "      <td>-0.637</td>\n",
       "      <td>0.4515</td>\n",
       "      <td>-13.659</td>\n",
       "      <td>-7.0165</td>\n",
       "      <td>NaN</td>\n",
       "      <td>NaN</td>\n",
       "      <td>NaN</td>\n",
       "      <td>NaN</td>\n",
       "      <td>NaN</td>\n",
       "      <td>NaN</td>\n",
       "      <td>NaN</td>\n",
       "      <td>NaN</td>\n",
       "      <td>NaN</td>\n",
       "      <td>NaN</td>\n",
       "      <td>3</td>\n",
       "    </tr>\n",
       "    <tr>\n",
       "      <th>277</th>\n",
       "      <td>2020-02-29</td>\n",
       "      <td>130</td>\n",
       "      <td>1.290</td>\n",
       "      <td>1.8000</td>\n",
       "      <td>-1.878</td>\n",
       "      <td>-0.5100</td>\n",
       "      <td>NaN</td>\n",
       "      <td>NaN</td>\n",
       "      <td>NaN</td>\n",
       "      <td>NaN</td>\n",
       "      <td>NaN</td>\n",
       "      <td>NaN</td>\n",
       "      <td>NaN</td>\n",
       "      <td>NaN</td>\n",
       "      <td>NaN</td>\n",
       "      <td>NaN</td>\n",
       "      <td>NaN</td>\n",
       "      <td>NaN</td>\n",
       "      <td>3</td>\n",
       "    </tr>\n",
       "    <tr>\n",
       "      <th>278</th>\n",
       "      <td>2020-03-31</td>\n",
       "      <td>305</td>\n",
       "      <td>-7.474</td>\n",
       "      <td>-0.5160</td>\n",
       "      <td>-11.144</td>\n",
       "      <td>-6.9580</td>\n",
       "      <td>NaN</td>\n",
       "      <td>NaN</td>\n",
       "      <td>NaN</td>\n",
       "      <td>NaN</td>\n",
       "      <td>NaN</td>\n",
       "      <td>NaN</td>\n",
       "      <td>NaN</td>\n",
       "      <td>NaN</td>\n",
       "      <td>NaN</td>\n",
       "      <td>NaN</td>\n",
       "      <td>NaN</td>\n",
       "      <td>NaN</td>\n",
       "      <td>3</td>\n",
       "    </tr>\n",
       "  </tbody>\n",
       "</table>\n",
       "<p>279 rows × 19 columns</p>\n",
       "</div>"
      ],
      "text/plain": [
       "          Date  OAS  Total Return % 1-mo-LOC  Agg Returns  \\\n",
       "0   1997-01-31   61                    0.142       0.3062   \n",
       "1   1997-02-28   59                    0.255       0.2488   \n",
       "2   1997-03-31   57                   -1.250      -1.1082   \n",
       "3   1997-04-30   59                    1.617       1.4969   \n",
       "4   1997-05-31   61                    0.916       0.9453   \n",
       "..         ...  ...                      ...          ...   \n",
       "274 2019-11-30  111                    0.217      -0.0512   \n",
       "275 2019-12-31  101                    0.315      -0.0696   \n",
       "276 2020-01-31  109                    2.376       1.9245   \n",
       "277 2020-02-29  130                    1.290       1.8000   \n",
       "278 2020-03-31  305                   -7.474      -0.5160   \n",
       "\n",
       "     Excess Return % 1-mo (Treasury)  Excess Return % 1-mo (Agg)  \\\n",
       "0                              0.102                     -0.1642   \n",
       "1                              0.234                      0.0062   \n",
       "2                              0.101                     -0.1418   \n",
       "3                             -0.106                      0.1201   \n",
       "4                             -0.041                     -0.0293   \n",
       "..                               ...                         ...   \n",
       "274                            0.622                      0.2682   \n",
       "275                            1.061                      0.3846   \n",
       "276                           -0.637                      0.4515   \n",
       "277                           -1.878                     -0.5100   \n",
       "278                          -11.144                     -6.9580   \n",
       "\n",
       "     Excess Return % 3-mo (Treasury)  Excess Return % 3-mo (Agg)  \\\n",
       "0                              0.437                     -0.2998   \n",
       "1                              0.229                     -0.0155   \n",
       "2                             -0.046                     -0.0510   \n",
       "3                              0.110                      0.4359   \n",
       "4                              0.384                      1.3205   \n",
       "..                               ...                         ...   \n",
       "274                            1.046                      1.1043   \n",
       "275                           -1.454                      0.3261   \n",
       "276                          -13.659                     -7.0165   \n",
       "277                              NaN                         NaN   \n",
       "278                              NaN                         NaN   \n",
       "\n",
       "     Excess Return % 6-mo (Treasury)  Excess Return % 6-mo (Agg)  \\\n",
       "0                              0.547                      0.1361   \n",
       "1                              0.613                      1.3050   \n",
       "2                              0.333                      0.6734   \n",
       "3                              0.241                      1.1644   \n",
       "4                             -0.261                      1.0106   \n",
       "..                               ...                         ...   \n",
       "274                              NaN                         NaN   \n",
       "275                              NaN                         NaN   \n",
       "276                              NaN                         NaN   \n",
       "277                              NaN                         NaN   \n",
       "278                              NaN                         NaN   \n",
       "\n",
       "     Excess Return % 9-mo (Treasury)  Excess Return % 9-mo (Agg)  \\\n",
       "0                             -0.032                      0.9951   \n",
       "1                             -0.479                      0.8294   \n",
       "2                             -0.718                      1.0154   \n",
       "3                             -1.019                      0.9305   \n",
       "4                             -0.733                      0.8831   \n",
       "..                               ...                         ...   \n",
       "274                              NaN                         NaN   \n",
       "275                              NaN                         NaN   \n",
       "276                              NaN                         NaN   \n",
       "277                              NaN                         NaN   \n",
       "278                              NaN                         NaN   \n",
       "\n",
       "     Excess Return % 12-mo (Treasury)  Excess Return % 12-mo (Agg)  \\\n",
       "0                              -0.790                       0.9150   \n",
       "1                              -0.779                       0.8321   \n",
       "2                              -0.616                       1.1263   \n",
       "3                              -0.410                       0.9952   \n",
       "4                              -0.248                       1.3409   \n",
       "..                                ...                          ...   \n",
       "274                               NaN                          NaN   \n",
       "275                               NaN                          NaN   \n",
       "276                               NaN                          NaN   \n",
       "277                               NaN                          NaN   \n",
       "278                               NaN                          NaN   \n",
       "\n",
       "     Excess Return % 24-mo (Treasury)  Excess Return % 24-mo (Agg)  \\\n",
       "0                              -2.338                       0.7746   \n",
       "1                              -2.121                       1.2471   \n",
       "2                              -1.896                       0.4266   \n",
       "3                              -1.559                       0.9232   \n",
       "4                              -1.452                       0.8333   \n",
       "..                                ...                          ...   \n",
       "274                               NaN                          NaN   \n",
       "275                               NaN                          NaN   \n",
       "276                               NaN                          NaN   \n",
       "277                               NaN                          NaN   \n",
       "278                               NaN                          NaN   \n",
       "\n",
       "     Excess Return % 36-mo (Treasury)  Excess Return % 36-mo (Agg)  Quadrant  \n",
       "0                              -0.951                      -0.2728         4  \n",
       "1                              -1.508                      -0.1162         4  \n",
       "2                              -2.321                      -0.5578         4  \n",
       "3                              -3.499                      -0.6244         4  \n",
       "4                              -4.230                      -1.6942         4  \n",
       "..                                ...                          ...       ...  \n",
       "274                               NaN                          NaN         2  \n",
       "275                               NaN                          NaN         2  \n",
       "276                               NaN                          NaN         3  \n",
       "277                               NaN                          NaN         3  \n",
       "278                               NaN                          NaN         3  \n",
       "\n",
       "[279 rows x 19 columns]"
      ]
     },
     "execution_count": 4,
     "metadata": {},
     "output_type": "execute_result"
    }
   ],
   "source": [
    "# This is redundant so we are dropping them\n",
    "df_IG.drop(columns = ['Excess Return % 1-mo (Treasury).1','Excess Return % 1-mo (Agg).1','Excess Return % 3-mo (Treasury).1','Excess Return % 3-mo (Agg).1','Excess Return % 6-mo (Treasury).1','Excess Return % 6-mo (Agg).1','Excess Return % 9-mo (Treasury).1','Excess Return % 9-mo (Agg).1','Excess Return % 12-mo (Treasury).1','Excess Return % 12-mo (Agg).1','Excess Return % 24-mo (Treasury).1','Excess Return % 24-mo (Agg).1','Excess Return % 36-mo (Treasury).1','Excess Return % 36-mo (Agg).1','Unnamed: 18','Date.1','OAS.1','Total Return % 1-mo-LOC.1','Agg Returns.1'])\n"
   ]
  },
  {
   "cell_type": "code",
   "execution_count": 5,
   "metadata": {},
   "outputs": [
    {
     "data": {
      "text/plain": [
       "0    0.336\n",
       "1    0.335\n",
       "2   -0.005\n",
       "3   -0.147\n",
       "4    0.216\n",
       "Name: Excess Return % 2-mo (Treasury_), dtype: float64"
      ]
     },
     "execution_count": 5,
     "metadata": {},
     "output_type": "execute_result"
    }
   ],
   "source": [
    "df_IG['Excess Return % 2-mo (Treasury_)'] = df_IG['Excess Return % 1-mo (Treasury)'].rolling(2,win_type='boxcar',center=True).sum().shift(-1)\n",
    "df_IG[\"Excess Return % 2-mo (Treasury_)\"].head()"
   ]
  },
  {
   "cell_type": "code",
   "execution_count": 6,
   "metadata": {},
   "outputs": [
    {
     "data": {
      "text/plain": [
       "0    0.437\n",
       "1    0.229\n",
       "2   -0.046\n",
       "3    0.110\n",
       "4    0.384\n",
       "Name: Excess Return % 3-mo (Treasury_), dtype: float64"
      ]
     },
     "execution_count": 6,
     "metadata": {},
     "output_type": "execute_result"
    }
   ],
   "source": [
    "df_IG['Excess Return % 3-mo (Treasury_)'] = df_IG['Excess Return % 1-mo (Treasury)'].rolling(3,win_type='boxcar',center=True).sum().shift(-1)\n",
    "df_IG[\"Excess Return % 3-mo (Treasury_)\"].head()"
   ]
  },
  {
   "cell_type": "code",
   "execution_count": 7,
   "metadata": {},
   "outputs": [
    {
     "data": {
      "text/plain": [
       "0    0.331\n",
       "1    0.188\n",
       "2    0.211\n",
       "3    0.278\n",
       "4    0.338\n",
       "Name: Excess Return % 4-mo (Treasury_), dtype: float64"
      ]
     },
     "execution_count": 7,
     "metadata": {},
     "output_type": "execute_result"
    }
   ],
   "source": [
    "df_IG['Excess Return % 4-mo (Treasury_)'] = df_IG['Excess Return % 1-mo (Treasury)'].rolling(4,win_type='boxcar',center=True).sum().shift(-2)\n",
    "df_IG[\"Excess Return % 4-mo (Treasury_)\"].head()"
   ]
  },
  {
   "cell_type": "code",
   "execution_count": 10,
   "metadata": {},
   "outputs": [
    {
     "data": {
      "text/plain": [
       "0    0.290\n",
       "1    0.445\n",
       "2    0.379\n",
       "3    0.232\n",
       "4    0.347\n",
       "Name: Excess Return % 5-mo (Treasury_), dtype: float64"
      ]
     },
     "execution_count": 10,
     "metadata": {},
     "output_type": "execute_result"
    }
   ],
   "source": [
    "df_IG['Excess Return % 5-mo (Treasury_)'] = df_IG['Excess Return % 1-mo (Treasury)'].rolling(5,win_type='boxcar',center=True).sum().shift(-2)\n",
    "df_IG[\"Excess Return % 5-mo (Treasury_)\"].head()"
   ]
  },
  {
   "cell_type": "code",
   "execution_count": 12,
   "metadata": {},
   "outputs": [
    {
     "data": {
      "text/plain": [
       "0    0.547\n",
       "1    0.613\n",
       "2    0.333\n",
       "3    0.241\n",
       "4   -0.261\n",
       "Name: Excess Return % 6-mo (Treasury_), dtype: float64"
      ]
     },
     "execution_count": 12,
     "metadata": {},
     "output_type": "execute_result"
    }
   ],
   "source": [
    "df_IG['Excess Return % 6-mo (Treasury_)'] = df_IG['Excess Return % 1-mo (Treasury)'].rolling(6,win_type='boxcar',center=True).sum().shift(-3)\n",
    "df_IG[\"Excess Return % 6-mo (Treasury_)\"].head()"
   ]
  },
  {
   "cell_type": "code",
   "execution_count": 14,
   "metadata": {},
   "outputs": [
    {
     "data": {
      "text/plain": [
       "0    0.715\n",
       "1    0.567\n",
       "2    0.342\n",
       "3   -0.367\n",
       "4   -0.474\n",
       "Name: Excess Return % 7-mo (Treasury_), dtype: float64"
      ]
     },
     "execution_count": 14,
     "metadata": {},
     "output_type": "execute_result"
    }
   ],
   "source": [
    "df_IG['Excess Return % 7-mo (Treasury_)'] = df_IG['Excess Return % 1-mo (Treasury)'].rolling(7,win_type='boxcar',center=True).sum().shift(-3)\n",
    "df_IG[\"Excess Return % 7-mo (Treasury_)\"].head()"
   ]
  },
  {
   "cell_type": "code",
   "execution_count": 16,
   "metadata": {},
   "outputs": [
    {
     "data": {
      "text/plain": [
       "0    0.669\n",
       "1    0.576\n",
       "2   -0.266\n",
       "3   -0.580\n",
       "4   -0.612\n",
       "Name: Excess Return % 8-mo (Treasury_), dtype: float64"
      ]
     },
     "execution_count": 16,
     "metadata": {},
     "output_type": "execute_result"
    }
   ],
   "source": [
    "df_IG['Excess Return % 8-mo (Treasury_)'] = df_IG['Excess Return % 1-mo (Treasury)'].rolling(8,win_type='boxcar',center=True).sum().shift(-4)\n",
    "df_IG[\"Excess Return % 8-mo (Treasury_)\"].head()"
   ]
  },
  {
   "cell_type": "code",
   "execution_count": 22,
   "metadata": {},
   "outputs": [
    {
     "data": {
      "text/plain": [
       "0    0.678\n",
       "1   -0.032\n",
       "2   -0.479\n",
       "3   -0.718\n",
       "4   -1.019\n",
       "Name: Excess Return % 9-mo (Treasury_), dtype: float64"
      ]
     },
     "execution_count": 22,
     "metadata": {},
     "output_type": "execute_result"
    }
   ],
   "source": [
    "df_IG['Excess Return % 9-mo (Treasury_)'] = df_IG['Excess Return % 1-mo (Treasury)'].rolling(9,win_type='boxcar',center=True).sum().shift(-4)\n",
    "df_IG[\"Excess Return % 9-mo (Treasury_)\"].head()\n"
   ]
  },
  {
   "cell_type": "code",
   "execution_count": 24,
   "metadata": {},
   "outputs": [
    {
     "data": {
      "text/plain": [
       "0    0.070\n",
       "1   -0.245\n",
       "2   -0.617\n",
       "3   -1.125\n",
       "4   -0.774\n",
       "Name: Excess Return % 10-mo (Treasury_), dtype: float64"
      ]
     },
     "execution_count": 24,
     "metadata": {},
     "output_type": "execute_result"
    }
   ],
   "source": [
    "df_IG['Excess Return % 10-mo (Treasury_)'] = df_IG['Excess Return % 1-mo (Treasury)'].rolling(10,win_type='boxcar',center=True).sum().shift(-5)\n",
    "df_IG[\"Excess Return % 10-mo (Treasury_)\"].head()"
   ]
  },
  {
   "cell_type": "code",
   "execution_count": 25,
   "metadata": {},
   "outputs": [
    {
     "data": {
      "text/plain": [
       "0   -0.143\n",
       "1   -0.383\n",
       "2   -1.024\n",
       "3   -0.880\n",
       "4   -0.510\n",
       "Name: Excess Return % 11-mo (Treasury_), dtype: float64"
      ]
     },
     "execution_count": 25,
     "metadata": {},
     "output_type": "execute_result"
    }
   ],
   "source": [
    "df_IG['Excess Return % 11-mo (Treasury_)'] = df_IG['Excess Return % 1-mo (Treasury)'].rolling(11,win_type='boxcar',center=True).sum().shift(-5)\n",
    "df_IG[\"Excess Return % 11-mo (Treasury_)\"].head()"
   ]
  },
  {
   "cell_type": "code",
   "execution_count": 26,
   "metadata": {},
   "outputs": [
    {
     "data": {
      "text/plain": [
       "0   -0.281\n",
       "1   -0.790\n",
       "2   -0.779\n",
       "3   -0.616\n",
       "4   -0.410\n",
       "Name: Excess Return % 12-mo (Treasury_), dtype: float64"
      ]
     },
     "execution_count": 26,
     "metadata": {},
     "output_type": "execute_result"
    }
   ],
   "source": [
    "df_IG['Excess Return % 12-mo (Treasury_)'] = df_IG['Excess Return % 1-mo (Treasury)'].rolling(12,win_type='boxcar',center=True).sum().shift(-6)\n",
    "df_IG[\"Excess Return % 12-mo (Treasury_)\"].head()"
   ]
  },
  {
   "cell_type": "code",
   "execution_count": 27,
   "metadata": {},
   "outputs": [
    {
     "data": {
      "text/plain": [
       "0   -0.688\n",
       "1   -0.545\n",
       "2   -0.515\n",
       "3   -0.516\n",
       "4   -0.289\n",
       "Name: Excess Return % 13-mo (Treasury_), dtype: float64"
      ]
     },
     "execution_count": 27,
     "metadata": {},
     "output_type": "execute_result"
    }
   ],
   "source": [
    "df_IG['Excess Return % 13-mo (Treasury_)'] = df_IG['Excess Return % 1-mo (Treasury)'].rolling(13,win_type='boxcar',center=True).sum().shift(-6)\n",
    "df_IG[\"Excess Return % 13-mo (Treasury_)\"].head()"
   ]
  },
  {
   "cell_type": "code",
   "execution_count": 28,
   "metadata": {},
   "outputs": [
    {
     "data": {
      "text/plain": [
       "0   -0.443\n",
       "1   -0.281\n",
       "2   -0.415\n",
       "3   -0.395\n",
       "4   -0.547\n",
       "Name: Excess Return % 14-mo (Treasury_), dtype: float64"
      ]
     },
     "execution_count": 28,
     "metadata": {},
     "output_type": "execute_result"
    }
   ],
   "source": [
    "df_IG['Excess Return % 14-mo (Treasury_)'] = df_IG['Excess Return % 1-mo (Treasury)'].rolling(14,win_type='boxcar',center=True).sum().shift(-7)\n",
    "df_IG[\"Excess Return % 14-mo (Treasury_)\"].head()"
   ]
  },
  {
   "cell_type": "code",
   "execution_count": 29,
   "metadata": {},
   "outputs": [
    {
     "data": {
      "text/plain": [
       "0   -0.179\n",
       "1   -0.181\n",
       "2   -0.294\n",
       "3   -0.653\n",
       "4   -0.896\n",
       "Name: Excess Return % 15-mo (Treasury_), dtype: float64"
      ]
     },
     "execution_count": 29,
     "metadata": {},
     "output_type": "execute_result"
    }
   ],
   "source": [
    "df_IG['Excess Return % 15-mo (Treasury_)'] = df_IG['Excess Return % 1-mo (Treasury)'].rolling(15,win_type='boxcar',center=True).sum().shift(-7)\n",
    "df_IG[\"Excess Return % 15-mo (Treasury_)\"].head()"
   ]
  },
  {
   "cell_type": "code",
   "execution_count": 30,
   "metadata": {},
   "outputs": [
    {
     "data": {
      "text/plain": [
       "0   -0.079\n",
       "1   -0.060\n",
       "2   -0.552\n",
       "3   -1.002\n",
       "4   -3.896\n",
       "Name: Excess Return % 16-mo (Treasury_), dtype: float64"
      ]
     },
     "execution_count": 30,
     "metadata": {},
     "output_type": "execute_result"
    }
   ],
   "source": [
    "df_IG['Excess Return % 16-mo (Treasury_)'] = df_IG['Excess Return % 1-mo (Treasury)'].rolling(16,win_type='boxcar',center=True).sum().shift(-8)\n",
    "df_IG[\"Excess Return % 16-mo (Treasury_)\"].head()"
   ]
  },
  {
   "cell_type": "code",
   "execution_count": 31,
   "metadata": {},
   "outputs": [
    {
     "data": {
      "text/plain": [
       "0    0.042\n",
       "1   -0.318\n",
       "2   -0.901\n",
       "3   -4.002\n",
       "4   -3.953\n",
       "Name: Excess Return % 17-mo (Treasury_), dtype: float64"
      ]
     },
     "execution_count": 31,
     "metadata": {},
     "output_type": "execute_result"
    }
   ],
   "source": [
    "df_IG['Excess Return % 17-mo (Treasury_)'] = df_IG['Excess Return % 1-mo (Treasury)'].rolling(17,win_type='boxcar',center=True).sum().shift(-8)\n",
    "df_IG[\"Excess Return % 17-mo (Treasury_)\"].head()"
   ]
  },
  {
   "cell_type": "code",
   "execution_count": 32,
   "metadata": {},
   "outputs": [
    {
     "data": {
      "text/plain": [
       "0   -0.216\n",
       "1   -0.667\n",
       "2   -3.901\n",
       "3   -4.059\n",
       "4   -4.726\n",
       "Name: Excess Return % 18-mo (Treasury_), dtype: float64"
      ]
     },
     "execution_count": 32,
     "metadata": {},
     "output_type": "execute_result"
    }
   ],
   "source": [
    "df_IG['Excess Return % 18-mo (Treasury_)'] = df_IG['Excess Return % 1-mo (Treasury)'].rolling(18,win_type='boxcar',center=True).sum().shift(-9)\n",
    "df_IG[\"Excess Return % 18-mo (Treasury_)\"].head()"
   ]
  },
  {
   "cell_type": "code",
   "execution_count": 33,
   "metadata": {},
   "outputs": [
    {
     "data": {
      "text/plain": [
       "0   -0.565\n",
       "1   -3.667\n",
       "2   -3.958\n",
       "3   -4.832\n",
       "4   -3.064\n",
       "Name: Excess Return % 19-mo (Treasury_), dtype: float64"
      ]
     },
     "execution_count": 33,
     "metadata": {},
     "output_type": "execute_result"
    }
   ],
   "source": [
    "df_IG['Excess Return % 19-mo (Treasury_)'] = df_IG['Excess Return % 1-mo (Treasury)'].rolling(19,win_type='boxcar',center=True).sum().shift(-9)\n",
    "df_IG[\"Excess Return % 19-mo (Treasury_)\"].head()"
   ]
  },
  {
   "cell_type": "code",
   "execution_count": 34,
   "metadata": {},
   "outputs": [
    {
     "data": {
      "text/plain": [
       "0   -3.565\n",
       "1   -3.724\n",
       "2   -4.731\n",
       "3   -3.170\n",
       "4   -2.669\n",
       "Name: Excess Return % 20-mo (Treasury_), dtype: float64"
      ]
     },
     "execution_count": 34,
     "metadata": {},
     "output_type": "execute_result"
    }
   ],
   "source": [
    "df_IG['Excess Return % 20-mo (Treasury_)'] = df_IG['Excess Return % 1-mo (Treasury)'].rolling(20,win_type='boxcar',center=True).sum().shift(-10)\n",
    "df_IG[\"Excess Return % 20-mo (Treasury_)\"].head()"
   ]
  },
  {
   "cell_type": "code",
   "execution_count": 35,
   "metadata": {},
   "outputs": [
    {
     "data": {
      "text/plain": [
       "0   -3.622\n",
       "1   -4.497\n",
       "2   -3.069\n",
       "3   -2.775\n",
       "4   -2.350\n",
       "Name: Excess Return % 21-mo (Treasury_), dtype: float64"
      ]
     },
     "execution_count": 35,
     "metadata": {},
     "output_type": "execute_result"
    }
   ],
   "source": [
    "df_IG['Excess Return % 21-mo (Treasury_)'] = df_IG['Excess Return % 1-mo (Treasury)'].rolling(21,win_type='boxcar',center=True).sum().shift(-10)\n",
    "df_IG[\"Excess Return % 21-mo (Treasury_)\"].head()"
   ]
  },
  {
   "cell_type": "code",
   "execution_count": 36,
   "metadata": {},
   "outputs": [
    {
     "data": {
      "text/plain": [
       "0   -4.395\n",
       "1   -2.835\n",
       "2   -2.674\n",
       "3   -2.456\n",
       "4   -1.891\n",
       "Name: Excess Return % 22-mo (Treasury_), dtype: float64"
      ]
     },
     "execution_count": 36,
     "metadata": {},
     "output_type": "execute_result"
    }
   ],
   "source": [
    "df_IG['Excess Return % 22-mo (Treasury_)'] = df_IG['Excess Return % 1-mo (Treasury)'].rolling(22,win_type='boxcar',center=True).sum().shift(-11)\n",
    "df_IG[\"Excess Return % 22-mo (Treasury_)\"].head()"
   ]
  },
  {
   "cell_type": "code",
   "execution_count": 37,
   "metadata": {},
   "outputs": [
    {
     "data": {
      "text/plain": [
       "0   -2.733\n",
       "1   -2.440\n",
       "2   -2.355\n",
       "3   -1.997\n",
       "4   -1.453\n",
       "Name: Excess Return % 23-mo (Treasury_), dtype: float64"
      ]
     },
     "execution_count": 37,
     "metadata": {},
     "output_type": "execute_result"
    }
   ],
   "source": [
    "df_IG['Excess Return % 23-mo (Treasury_)'] = df_IG['Excess Return % 1-mo (Treasury)'].rolling(23,win_type='boxcar',center=True).sum().shift(-11)\n",
    "df_IG[\"Excess Return % 23-mo (Treasury_)\"].head()"
   ]
  },
  {
   "cell_type": "code",
   "execution_count": 38,
   "metadata": {},
   "outputs": [
    {
     "data": {
      "text/plain": [
       "0   -2.338\n",
       "1   -2.121\n",
       "2   -1.896\n",
       "3   -1.559\n",
       "4   -1.452\n",
       "Name: Excess Return % 24-mo (Treasury_), dtype: float64"
      ]
     },
     "execution_count": 38,
     "metadata": {},
     "output_type": "execute_result"
    }
   ],
   "source": [
    "df_IG['Excess Return % 24-mo (Treasury_)'] = df_IG['Excess Return % 1-mo (Treasury)'].rolling(24,win_type='boxcar',center=True).sum().shift(-12)\n",
    "df_IG[\"Excess Return % 24-mo (Treasury_)\"].head()"
   ]
  },
  {
   "cell_type": "code",
   "execution_count": 39,
   "metadata": {},
   "outputs": [
    {
     "data": {
      "text/plain": [
       "0   -2.019\n",
       "1   -1.662\n",
       "2   -1.458\n",
       "3   -1.558\n",
       "4   -1.644\n",
       "Name: Excess Return % 25-mo (Treasury_), dtype: float64"
      ]
     },
     "execution_count": 39,
     "metadata": {},
     "output_type": "execute_result"
    }
   ],
   "source": [
    "df_IG['Excess Return % 25-mo (Treasury_)'] = df_IG['Excess Return % 1-mo (Treasury)'].rolling(25,win_type='boxcar',center=True).sum().shift(-12)\n",
    "df_IG[\"Excess Return % 25-mo (Treasury_)\"].head()"
   ]
  },
  {
   "cell_type": "code",
   "execution_count": 40,
   "metadata": {},
   "outputs": [
    {
     "data": {
      "text/plain": [
       "0   -1.560\n",
       "1   -1.224\n",
       "2   -1.457\n",
       "3   -1.750\n",
       "4   -1.971\n",
       "Name: Excess Return % 26-mo (Treasury_), dtype: float64"
      ]
     },
     "execution_count": 40,
     "metadata": {},
     "output_type": "execute_result"
    }
   ],
   "source": [
    "df_IG['Excess Return % 26-mo (Treasury_)'] = df_IG['Excess Return % 1-mo (Treasury)'].rolling(26,win_type='boxcar',center=True).sum().shift(-13)\n",
    "df_IG[\"Excess Return % 26-mo (Treasury_)\"].head()"
   ]
  },
  {
   "cell_type": "code",
   "execution_count": 41,
   "metadata": {},
   "outputs": [
    {
     "data": {
      "text/plain": [
       "0   -1.122\n",
       "1   -1.223\n",
       "2   -1.649\n",
       "3   -2.077\n",
       "4   -2.301\n",
       "Name: Excess Return % 27-mo (Treasury_), dtype: float64"
      ]
     },
     "execution_count": 41,
     "metadata": {},
     "output_type": "execute_result"
    }
   ],
   "source": [
    "df_IG['Excess Return % 27-mo (Treasury_)'] = df_IG['Excess Return % 1-mo (Treasury)'].rolling(27,win_type='boxcar',center=True).sum().shift(-13)\n",
    "df_IG[\"Excess Return % 27-mo (Treasury_)\"].head()"
   ]
  },
  {
   "cell_type": "code",
   "execution_count": 42,
   "metadata": {},
   "outputs": [
    {
     "data": {
      "text/plain": [
       "0   -1.121\n",
       "1   -1.415\n",
       "2   -1.976\n",
       "3   -2.407\n",
       "4   -2.591\n",
       "Name: Excess Return % 28-mo (Treasury_), dtype: float64"
      ]
     },
     "execution_count": 42,
     "metadata": {},
     "output_type": "execute_result"
    }
   ],
   "source": [
    "df_IG['Excess Return % 28-mo (Treasury_)'] = df_IG['Excess Return % 1-mo (Treasury)'].rolling(28,win_type='boxcar',center=True).sum().shift(-14)\n",
    "df_IG[\"Excess Return % 28-mo (Treasury_)\"].head()"
   ]
  },
  {
   "cell_type": "code",
   "execution_count": 43,
   "metadata": {},
   "outputs": [
    {
     "data": {
      "text/plain": [
       "0   -1.313\n",
       "1   -1.742\n",
       "2   -2.306\n",
       "3   -2.697\n",
       "4   -2.232\n",
       "Name: Excess Return % 29-mo (Treasury_), dtype: float64"
      ]
     },
     "execution_count": 43,
     "metadata": {},
     "output_type": "execute_result"
    }
   ],
   "source": [
    "df_IG['Excess Return % 29-mo (Treasury_)'] = df_IG['Excess Return % 1-mo (Treasury)'].rolling(29,win_type='boxcar',center=True).sum().shift(-14)\n",
    "df_IG[\"Excess Return % 29-mo (Treasury_)\"].head()"
   ]
  },
  {
   "cell_type": "code",
   "execution_count": 44,
   "metadata": {},
   "outputs": [
    {
     "data": {
      "text/plain": [
       "0   -1.640\n",
       "1   -2.072\n",
       "2   -2.596\n",
       "3   -2.338\n",
       "4   -1.984\n",
       "Name: Excess Return % 30-mo (Treasury_), dtype: float64"
      ]
     },
     "execution_count": 44,
     "metadata": {},
     "output_type": "execute_result"
    }
   ],
   "source": [
    "df_IG['Excess Return % 30-mo (Treasury_)'] = df_IG['Excess Return % 1-mo (Treasury)'].rolling(30,win_type='boxcar',center=True).sum().shift(-15)\n",
    "df_IG[\"Excess Return % 30-mo (Treasury_)\"].head()"
   ]
  },
  {
   "cell_type": "code",
   "execution_count": 45,
   "metadata": {},
   "outputs": [
    {
     "data": {
      "text/plain": [
       "0   -1.970\n",
       "1   -2.362\n",
       "2   -2.237\n",
       "3   -2.090\n",
       "4   -1.470\n",
       "Name: Excess Return % 31-mo (Treasury_), dtype: float64"
      ]
     },
     "execution_count": 45,
     "metadata": {},
     "output_type": "execute_result"
    }
   ],
   "source": [
    "df_IG['Excess Return % 31-mo (Treasury_)'] = df_IG['Excess Return % 1-mo (Treasury)'].rolling(31,win_type='boxcar',center=True).sum().shift(-15)\n",
    "df_IG[\"Excess Return % 31-mo (Treasury_)\"].head()"
   ]
  },
  {
   "cell_type": "code",
   "execution_count": 46,
   "metadata": {},
   "outputs": [
    {
     "data": {
      "text/plain": [
       "0   -2.260\n",
       "1   -2.003\n",
       "2   -1.989\n",
       "3   -1.576\n",
       "4   -1.282\n",
       "Name: Excess Return % 32-mo (Treasury_), dtype: float64"
      ]
     },
     "execution_count": 46,
     "metadata": {},
     "output_type": "execute_result"
    }
   ],
   "source": [
    "df_IG['Excess Return % 32-mo (Treasury_)'] = df_IG['Excess Return % 1-mo (Treasury)'].rolling(32,win_type='boxcar',center=True).sum().shift(-16)\n",
    "df_IG[\"Excess Return % 32-mo (Treasury_)\"].head()"
   ]
  },
  {
   "cell_type": "code",
   "execution_count": 47,
   "metadata": {},
   "outputs": [
    {
     "data": {
      "text/plain": [
       "0   -1.901\n",
       "1   -1.755\n",
       "2   -1.475\n",
       "3   -1.388\n",
       "4   -1.737\n",
       "Name: Excess Return % 33-mo (Treasury_), dtype: float64"
      ]
     },
     "execution_count": 47,
     "metadata": {},
     "output_type": "execute_result"
    }
   ],
   "source": [
    "df_IG['Excess Return % 33-mo (Treasury_)'] = df_IG['Excess Return % 1-mo (Treasury)'].rolling(33,win_type='boxcar',center=True).sum().shift(-16)\n",
    "df_IG[\"Excess Return % 33-mo (Treasury_)\"].head()"
   ]
  },
  {
   "cell_type": "code",
   "execution_count": 48,
   "metadata": {},
   "outputs": [
    {
     "data": {
      "text/plain": [
       "0   -1.653\n",
       "1   -1.241\n",
       "2   -1.287\n",
       "3   -1.843\n",
       "4   -2.316\n",
       "Name: Excess Return % 34-mo (Treasury_), dtype: float64"
      ]
     },
     "execution_count": 48,
     "metadata": {},
     "output_type": "execute_result"
    }
   ],
   "source": [
    "df_IG['Excess Return % 34-mo (Treasury_)'] = df_IG['Excess Return % 1-mo (Treasury)'].rolling(34,win_type='boxcar',center=True).sum().shift(-17)\n",
    "df_IG[\"Excess Return % 34-mo (Treasury_)\"].head()"
   ]
  },
  {
   "cell_type": "code",
   "execution_count": 49,
   "metadata": {},
   "outputs": [
    {
     "data": {
      "text/plain": [
       "0   -1.139\n",
       "1   -1.053\n",
       "2   -1.742\n",
       "3   -2.422\n",
       "4   -3.393\n",
       "Name: Excess Return % 35-mo (Treasury_), dtype: float64"
      ]
     },
     "execution_count": 49,
     "metadata": {},
     "output_type": "execute_result"
    }
   ],
   "source": [
    "df_IG['Excess Return % 35-mo (Treasury_)'] = df_IG['Excess Return % 1-mo (Treasury)'].rolling(35,win_type='boxcar',center=True).sum().shift(-17)\n",
    "df_IG[\"Excess Return % 35-mo (Treasury_)\"].head()"
   ]
  },
  {
   "cell_type": "code",
   "execution_count": 50,
   "metadata": {},
   "outputs": [
    {
     "data": {
      "text/plain": [
       "0   -0.951\n",
       "1   -1.508\n",
       "2   -2.321\n",
       "3   -3.499\n",
       "4   -4.230\n",
       "Name: Excess Return % 36-mo (Treasury_), dtype: float64"
      ]
     },
     "execution_count": 50,
     "metadata": {},
     "output_type": "execute_result"
    }
   ],
   "source": [
    "df_IG['Excess Return % 36-mo (Treasury_)'] = df_IG['Excess Return % 1-mo (Treasury)'].rolling(36,win_type='boxcar',center=True).sum().shift(-18)\n",
    "df_IG[\"Excess Return % 36-mo (Treasury_)\"].head()"
   ]
  },
  {
   "cell_type": "code",
   "execution_count": null,
   "metadata": {},
   "outputs": [],
   "source": []
  }
 ],
 "metadata": {
  "kernelspec": {
   "display_name": "Python 3",
   "language": "python",
   "name": "python3"
  },
  "language_info": {
   "codemirror_mode": {
    "name": "ipython",
    "version": 3
   },
   "file_extension": ".py",
   "mimetype": "text/x-python",
   "name": "python",
   "nbconvert_exporter": "python",
   "pygments_lexer": "ipython3",
   "version": "3.7.6"
  }
 },
 "nbformat": 4,
 "nbformat_minor": 4
}
