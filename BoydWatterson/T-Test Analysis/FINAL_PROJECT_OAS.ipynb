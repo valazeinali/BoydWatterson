{
 "cells": [
  {
   "cell_type": "code",
   "execution_count": 1,
   "metadata": {},
   "outputs": [],
   "source": [
    "import numpy as np\n",
    "import pandas as pd"
   ]
  },
  {
   "cell_type": "code",
   "execution_count": 2,
   "metadata": {},
   "outputs": [],
   "source": [
    "df_IG = pd.read_excel('minmax_OAS_with_Returns.xlsx', sheet_name=\"IG\") "
   ]
  },
  {
   "cell_type": "code",
   "execution_count": 3,
   "metadata": {},
   "outputs": [
    {
     "data": {
      "text/html": [
       "<div>\n",
       "<style scoped>\n",
       "    .dataframe tbody tr th:only-of-type {\n",
       "        vertical-align: middle;\n",
       "    }\n",
       "\n",
       "    .dataframe tbody tr th {\n",
       "        vertical-align: top;\n",
       "    }\n",
       "\n",
       "    .dataframe thead th {\n",
       "        text-align: right;\n",
       "    }\n",
       "</style>\n",
       "<table border=\"1\" class=\"dataframe\">\n",
       "  <thead>\n",
       "    <tr style=\"text-align: right;\">\n",
       "      <th></th>\n",
       "      <th>OAS</th>\n",
       "      <th>Total Return % 1-mo-LOC</th>\n",
       "      <th>Agg Returns</th>\n",
       "      <th>Excess Return % 1-mo (Treasury)</th>\n",
       "      <th>Excess Return % 1-mo (Agg)</th>\n",
       "      <th>Excess Return % 3-mo (Treasury)</th>\n",
       "      <th>Excess Return % 3-mo (Agg)</th>\n",
       "      <th>Excess Return % 6-mo (Treasury)</th>\n",
       "      <th>Excess Return % 6-mo (Agg)</th>\n",
       "      <th>Excess Return % 9-mo (Treasury)</th>\n",
       "      <th>...</th>\n",
       "      <th>Excess Return % 6-mo (Agg).1</th>\n",
       "      <th>Excess Return % 9-mo (Treasury).1</th>\n",
       "      <th>Excess Return % 9-mo (Agg).1</th>\n",
       "      <th>Excess Return % 12-mo (Treasury).1</th>\n",
       "      <th>Excess Return % 12-mo (Agg).1</th>\n",
       "      <th>Excess Return % 24-mo (Treasury).1</th>\n",
       "      <th>Excess Return % 24-mo (Agg).1</th>\n",
       "      <th>Excess Return % 36-mo (Treasury).1</th>\n",
       "      <th>Excess Return % 36-mo (Agg).1</th>\n",
       "      <th>Quadrant</th>\n",
       "    </tr>\n",
       "  </thead>\n",
       "  <tbody>\n",
       "    <tr>\n",
       "      <th>count</th>\n",
       "      <td>279.000000</td>\n",
       "      <td>279.000000</td>\n",
       "      <td>279.000000</td>\n",
       "      <td>279.00000</td>\n",
       "      <td>279.000000</td>\n",
       "      <td>277.000000</td>\n",
       "      <td>277.000000</td>\n",
       "      <td>274.000000</td>\n",
       "      <td>274.000000</td>\n",
       "      <td>270.000000</td>\n",
       "      <td>...</td>\n",
       "      <td>274.000000</td>\n",
       "      <td>270.000000</td>\n",
       "      <td>270.000000</td>\n",
       "      <td>267.000000</td>\n",
       "      <td>267.000000</td>\n",
       "      <td>257.000000</td>\n",
       "      <td>257.000000</td>\n",
       "      <td>245.000000</td>\n",
       "      <td>245.000000</td>\n",
       "      <td>279.00000</td>\n",
       "    </tr>\n",
       "    <tr>\n",
       "      <th>mean</th>\n",
       "      <td>153.311828</td>\n",
       "      <td>0.479842</td>\n",
       "      <td>0.428779</td>\n",
       "      <td>0.01881</td>\n",
       "      <td>0.051063</td>\n",
       "      <td>0.142498</td>\n",
       "      <td>0.207539</td>\n",
       "      <td>0.337193</td>\n",
       "      <td>0.441347</td>\n",
       "      <td>0.518056</td>\n",
       "      <td>...</td>\n",
       "      <td>0.505984</td>\n",
       "      <td>0.481026</td>\n",
       "      <td>0.512701</td>\n",
       "      <td>0.510045</td>\n",
       "      <td>0.531783</td>\n",
       "      <td>0.536730</td>\n",
       "      <td>0.524591</td>\n",
       "      <td>0.555810</td>\n",
       "      <td>0.535684</td>\n",
       "      <td>2.55914</td>\n",
       "    </tr>\n",
       "    <tr>\n",
       "      <th>std</th>\n",
       "      <td>82.684933</td>\n",
       "      <td>1.539438</td>\n",
       "      <td>0.978524</td>\n",
       "      <td>1.40695</td>\n",
       "      <td>0.907811</td>\n",
       "      <td>2.719385</td>\n",
       "      <td>1.724687</td>\n",
       "      <td>4.019240</td>\n",
       "      <td>2.562217</td>\n",
       "      <td>5.008696</td>\n",
       "      <td>...</td>\n",
       "      <td>0.100017</td>\n",
       "      <td>0.120538</td>\n",
       "      <td>0.119355</td>\n",
       "      <td>0.120856</td>\n",
       "      <td>0.122997</td>\n",
       "      <td>0.134785</td>\n",
       "      <td>0.137815</td>\n",
       "      <td>0.144242</td>\n",
       "      <td>0.152340</td>\n",
       "      <td>1.08418</td>\n",
       "    </tr>\n",
       "    <tr>\n",
       "      <th>min</th>\n",
       "      <td>54.000000</td>\n",
       "      <td>-7.474000</td>\n",
       "      <td>-3.361900</td>\n",
       "      <td>-11.14400</td>\n",
       "      <td>-6.958000</td>\n",
       "      <td>-16.909000</td>\n",
       "      <td>-11.261500</td>\n",
       "      <td>-20.274000</td>\n",
       "      <td>-12.520800</td>\n",
       "      <td>-19.470000</td>\n",
       "      <td>...</td>\n",
       "      <td>0.000000</td>\n",
       "      <td>0.000000</td>\n",
       "      <td>0.000000</td>\n",
       "      <td>0.000000</td>\n",
       "      <td>0.000000</td>\n",
       "      <td>0.000000</td>\n",
       "      <td>0.000000</td>\n",
       "      <td>0.000000</td>\n",
       "      <td>0.000000</td>\n",
       "      <td>1.00000</td>\n",
       "    </tr>\n",
       "    <tr>\n",
       "      <th>25%</th>\n",
       "      <td>106.000000</td>\n",
       "      <td>-0.242500</td>\n",
       "      <td>-0.125750</td>\n",
       "      <td>-0.34750</td>\n",
       "      <td>-0.215700</td>\n",
       "      <td>-0.641000</td>\n",
       "      <td>-0.429300</td>\n",
       "      <td>-0.851250</td>\n",
       "      <td>-0.587950</td>\n",
       "      <td>-1.281500</td>\n",
       "      <td>...</td>\n",
       "      <td>0.465805</td>\n",
       "      <td>0.437718</td>\n",
       "      <td>0.460154</td>\n",
       "      <td>0.463808</td>\n",
       "      <td>0.476223</td>\n",
       "      <td>0.485529</td>\n",
       "      <td>0.463914</td>\n",
       "      <td>0.481230</td>\n",
       "      <td>0.436978</td>\n",
       "      <td>2.00000</td>\n",
       "    </tr>\n",
       "    <tr>\n",
       "      <th>50%</th>\n",
       "      <td>136.000000</td>\n",
       "      <td>0.536000</td>\n",
       "      <td>0.464200</td>\n",
       "      <td>0.13300</td>\n",
       "      <td>0.093700</td>\n",
       "      <td>0.389000</td>\n",
       "      <td>0.244300</td>\n",
       "      <td>0.320000</td>\n",
       "      <td>0.310550</td>\n",
       "      <td>0.656500</td>\n",
       "      <td>...</td>\n",
       "      <td>0.500878</td>\n",
       "      <td>0.484357</td>\n",
       "      <td>0.508119</td>\n",
       "      <td>0.514723</td>\n",
       "      <td>0.529275</td>\n",
       "      <td>0.536254</td>\n",
       "      <td>0.526679</td>\n",
       "      <td>0.575179</td>\n",
       "      <td>0.561777</td>\n",
       "      <td>3.00000</td>\n",
       "    </tr>\n",
       "    <tr>\n",
       "      <th>75%</th>\n",
       "      <td>172.500000</td>\n",
       "      <td>1.299000</td>\n",
       "      <td>1.056350</td>\n",
       "      <td>0.47500</td>\n",
       "      <td>0.391500</td>\n",
       "      <td>1.173000</td>\n",
       "      <td>0.860200</td>\n",
       "      <td>2.006500</td>\n",
       "      <td>1.465850</td>\n",
       "      <td>2.547250</td>\n",
       "      <td>...</td>\n",
       "      <td>0.545976</td>\n",
       "      <td>0.529859</td>\n",
       "      <td>0.566690</td>\n",
       "      <td>0.562349</td>\n",
       "      <td>0.583361</td>\n",
       "      <td>0.585171</td>\n",
       "      <td>0.597708</td>\n",
       "      <td>0.636482</td>\n",
       "      <td>0.624196</td>\n",
       "      <td>3.00000</td>\n",
       "    </tr>\n",
       "    <tr>\n",
       "      <th>max</th>\n",
       "      <td>608.000000</td>\n",
       "      <td>5.554000</td>\n",
       "      <td>3.730900</td>\n",
       "      <td>5.37600</td>\n",
       "      <td>3.609700</td>\n",
       "      <td>13.601000</td>\n",
       "      <td>8.681800</td>\n",
       "      <td>19.231000</td>\n",
       "      <td>13.096900</td>\n",
       "      <td>22.083000</td>\n",
       "      <td>...</td>\n",
       "      <td>1.000000</td>\n",
       "      <td>1.000000</td>\n",
       "      <td>1.000000</td>\n",
       "      <td>1.000000</td>\n",
       "      <td>1.000000</td>\n",
       "      <td>1.000000</td>\n",
       "      <td>1.000000</td>\n",
       "      <td>1.000000</td>\n",
       "      <td>1.000000</td>\n",
       "      <td>4.00000</td>\n",
       "    </tr>\n",
       "  </tbody>\n",
       "</table>\n",
       "<p>8 rows × 36 columns</p>\n",
       "</div>"
      ],
      "text/plain": [
       "              OAS  Total Return % 1-mo-LOC  Agg Returns  \\\n",
       "count  279.000000               279.000000   279.000000   \n",
       "mean   153.311828                 0.479842     0.428779   \n",
       "std     82.684933                 1.539438     0.978524   \n",
       "min     54.000000                -7.474000    -3.361900   \n",
       "25%    106.000000                -0.242500    -0.125750   \n",
       "50%    136.000000                 0.536000     0.464200   \n",
       "75%    172.500000                 1.299000     1.056350   \n",
       "max    608.000000                 5.554000     3.730900   \n",
       "\n",
       "       Excess Return % 1-mo (Treasury)  Excess Return % 1-mo (Agg)  \\\n",
       "count                        279.00000                  279.000000   \n",
       "mean                           0.01881                    0.051063   \n",
       "std                            1.40695                    0.907811   \n",
       "min                          -11.14400                   -6.958000   \n",
       "25%                           -0.34750                   -0.215700   \n",
       "50%                            0.13300                    0.093700   \n",
       "75%                            0.47500                    0.391500   \n",
       "max                            5.37600                    3.609700   \n",
       "\n",
       "       Excess Return % 3-mo (Treasury)  Excess Return % 3-mo (Agg)  \\\n",
       "count                       277.000000                  277.000000   \n",
       "mean                          0.142498                    0.207539   \n",
       "std                           2.719385                    1.724687   \n",
       "min                         -16.909000                  -11.261500   \n",
       "25%                          -0.641000                   -0.429300   \n",
       "50%                           0.389000                    0.244300   \n",
       "75%                           1.173000                    0.860200   \n",
       "max                          13.601000                    8.681800   \n",
       "\n",
       "       Excess Return % 6-mo (Treasury)  Excess Return % 6-mo (Agg)  \\\n",
       "count                       274.000000                  274.000000   \n",
       "mean                          0.337193                    0.441347   \n",
       "std                           4.019240                    2.562217   \n",
       "min                         -20.274000                  -12.520800   \n",
       "25%                          -0.851250                   -0.587950   \n",
       "50%                           0.320000                    0.310550   \n",
       "75%                           2.006500                    1.465850   \n",
       "max                          19.231000                   13.096900   \n",
       "\n",
       "       Excess Return % 9-mo (Treasury)  ...  Excess Return % 6-mo (Agg).1  \\\n",
       "count                       270.000000  ...                    274.000000   \n",
       "mean                          0.518056  ...                      0.505984   \n",
       "std                           5.008696  ...                      0.100017   \n",
       "min                         -19.470000  ...                      0.000000   \n",
       "25%                          -1.281500  ...                      0.465805   \n",
       "50%                           0.656500  ...                      0.500878   \n",
       "75%                           2.547250  ...                      0.545976   \n",
       "max                          22.083000  ...                      1.000000   \n",
       "\n",
       "       Excess Return % 9-mo (Treasury).1  Excess Return % 9-mo (Agg).1  \\\n",
       "count                         270.000000                    270.000000   \n",
       "mean                            0.481026                      0.512701   \n",
       "std                             0.120538                      0.119355   \n",
       "min                             0.000000                      0.000000   \n",
       "25%                             0.437718                      0.460154   \n",
       "50%                             0.484357                      0.508119   \n",
       "75%                             0.529859                      0.566690   \n",
       "max                             1.000000                      1.000000   \n",
       "\n",
       "       Excess Return % 12-mo (Treasury).1  Excess Return % 12-mo (Agg).1  \\\n",
       "count                          267.000000                     267.000000   \n",
       "mean                             0.510045                       0.531783   \n",
       "std                              0.120856                       0.122997   \n",
       "min                              0.000000                       0.000000   \n",
       "25%                              0.463808                       0.476223   \n",
       "50%                              0.514723                       0.529275   \n",
       "75%                              0.562349                       0.583361   \n",
       "max                              1.000000                       1.000000   \n",
       "\n",
       "       Excess Return % 24-mo (Treasury).1  Excess Return % 24-mo (Agg).1  \\\n",
       "count                          257.000000                     257.000000   \n",
       "mean                             0.536730                       0.524591   \n",
       "std                              0.134785                       0.137815   \n",
       "min                              0.000000                       0.000000   \n",
       "25%                              0.485529                       0.463914   \n",
       "50%                              0.536254                       0.526679   \n",
       "75%                              0.585171                       0.597708   \n",
       "max                              1.000000                       1.000000   \n",
       "\n",
       "       Excess Return % 36-mo (Treasury).1  Excess Return % 36-mo (Agg).1  \\\n",
       "count                          245.000000                     245.000000   \n",
       "mean                             0.555810                       0.535684   \n",
       "std                              0.144242                       0.152340   \n",
       "min                              0.000000                       0.000000   \n",
       "25%                              0.481230                       0.436978   \n",
       "50%                              0.575179                       0.561777   \n",
       "75%                              0.636482                       0.624196   \n",
       "max                              1.000000                       1.000000   \n",
       "\n",
       "        Quadrant  \n",
       "count  279.00000  \n",
       "mean     2.55914  \n",
       "std      1.08418  \n",
       "min      1.00000  \n",
       "25%      2.00000  \n",
       "50%      3.00000  \n",
       "75%      3.00000  \n",
       "max      4.00000  \n",
       "\n",
       "[8 rows x 36 columns]"
      ]
     },
     "execution_count": 3,
     "metadata": {},
     "output_type": "execute_result"
    }
   ],
   "source": [
    "df_IG.describe()"
   ]
  },
  {
   "cell_type": "code",
   "execution_count": 4,
   "metadata": {},
   "outputs": [],
   "source": [
    "# This is redundant so we are dropping them\n",
    "df_IG = df_IG.drop(columns = ['Excess Return % 1-mo (Treasury).1','Excess Return % 1-mo (Agg).1','Excess Return % 3-mo (Treasury).1','Excess Return % 3-mo (Agg).1','Excess Return % 6-mo (Treasury).1','Excess Return % 6-mo (Agg).1','Excess Return % 9-mo (Treasury).1','Excess Return % 9-mo (Agg).1','Excess Return % 12-mo (Treasury).1','Excess Return % 12-mo (Agg).1','Excess Return % 24-mo (Treasury).1','Excess Return % 24-mo (Agg).1','Excess Return % 36-mo (Treasury).1','Excess Return % 36-mo (Agg).1','Unnamed: 18','Date.1','OAS.1','Total Return % 1-mo-LOC.1','Agg Returns.1'])\n"
   ]
  },
  {
   "cell_type": "code",
   "execution_count": 5,
   "metadata": {},
   "outputs": [
    {
     "data": {
      "text/plain": [
       "0    0.336\n",
       "1    0.335\n",
       "2   -0.005\n",
       "3   -0.147\n",
       "4    0.216\n",
       "Name: Excess Return % 2-mo (Treasury_), dtype: float64"
      ]
     },
     "execution_count": 5,
     "metadata": {},
     "output_type": "execute_result"
    }
   ],
   "source": [
    "df_IG['Excess Return % 2-mo (Treasury_)'] = df_IG['Excess Return % 1-mo (Treasury)'].rolling(2,win_type='boxcar',center=True).sum().shift(-1)\n",
    "df_IG[\"Excess Return % 2-mo (Treasury_)\"].head()"
   ]
  },
  {
   "cell_type": "code",
   "execution_count": 6,
   "metadata": {},
   "outputs": [
    {
     "data": {
      "text/plain": [
       "0    0.437\n",
       "1    0.229\n",
       "2   -0.046\n",
       "3    0.110\n",
       "4    0.384\n",
       "Name: Excess Return % 3-mo (Treasury_), dtype: float64"
      ]
     },
     "execution_count": 6,
     "metadata": {},
     "output_type": "execute_result"
    }
   ],
   "source": [
    "df_IG['Excess Return % 3-mo (Treasury_)'] = df_IG['Excess Return % 1-mo (Treasury)'].rolling(3,win_type='boxcar',center=True).sum().shift(-1)\n",
    "df_IG[\"Excess Return % 3-mo (Treasury_)\"].head()"
   ]
  },
  {
   "cell_type": "code",
   "execution_count": 7,
   "metadata": {},
   "outputs": [
    {
     "data": {
      "text/plain": [
       "0    0.331\n",
       "1    0.188\n",
       "2    0.211\n",
       "3    0.278\n",
       "4    0.338\n",
       "Name: Excess Return % 4-mo (Treasury_), dtype: float64"
      ]
     },
     "execution_count": 7,
     "metadata": {},
     "output_type": "execute_result"
    }
   ],
   "source": [
    "df_IG['Excess Return % 4-mo (Treasury_)'] = df_IG['Excess Return % 1-mo (Treasury)'].rolling(4,win_type='boxcar',center=True).sum().shift(-2)\n",
    "df_IG[\"Excess Return % 4-mo (Treasury_)\"].head()"
   ]
  },
  {
   "cell_type": "code",
   "execution_count": 8,
   "metadata": {},
   "outputs": [
    {
     "data": {
      "text/plain": [
       "0    0.290\n",
       "1    0.445\n",
       "2    0.379\n",
       "3    0.232\n",
       "4    0.347\n",
       "Name: Excess Return % 5-mo (Treasury_), dtype: float64"
      ]
     },
     "execution_count": 8,
     "metadata": {},
     "output_type": "execute_result"
    }
   ],
   "source": [
    "df_IG['Excess Return % 5-mo (Treasury_)'] = df_IG['Excess Return % 1-mo (Treasury)'].rolling(5,win_type='boxcar',center=True).sum().shift(-2)\n",
    "df_IG[\"Excess Return % 5-mo (Treasury_)\"].head()"
   ]
  },
  {
   "cell_type": "code",
   "execution_count": 9,
   "metadata": {},
   "outputs": [
    {
     "data": {
      "text/plain": [
       "0    0.547\n",
       "1    0.613\n",
       "2    0.333\n",
       "3    0.241\n",
       "4   -0.261\n",
       "Name: Excess Return % 6-mo (Treasury_), dtype: float64"
      ]
     },
     "execution_count": 9,
     "metadata": {},
     "output_type": "execute_result"
    }
   ],
   "source": [
    "df_IG['Excess Return % 6-mo (Treasury_)'] = df_IG['Excess Return % 1-mo (Treasury)'].rolling(6,win_type='boxcar',center=True).sum().shift(-3)\n",
    "df_IG[\"Excess Return % 6-mo (Treasury_)\"].head()"
   ]
  },
  {
   "cell_type": "code",
   "execution_count": 10,
   "metadata": {},
   "outputs": [
    {
     "data": {
      "text/plain": [
       "0    0.715\n",
       "1    0.567\n",
       "2    0.342\n",
       "3   -0.367\n",
       "4   -0.474\n",
       "Name: Excess Return % 7-mo (Treasury_), dtype: float64"
      ]
     },
     "execution_count": 10,
     "metadata": {},
     "output_type": "execute_result"
    }
   ],
   "source": [
    "df_IG['Excess Return % 7-mo (Treasury_)'] = df_IG['Excess Return % 1-mo (Treasury)'].rolling(7,win_type='boxcar',center=True).sum().shift(-3)\n",
    "df_IG[\"Excess Return % 7-mo (Treasury_)\"].head()"
   ]
  },
  {
   "cell_type": "code",
   "execution_count": 11,
   "metadata": {},
   "outputs": [
    {
     "data": {
      "text/plain": [
       "0    0.669\n",
       "1    0.576\n",
       "2   -0.266\n",
       "3   -0.580\n",
       "4   -0.612\n",
       "Name: Excess Return % 8-mo (Treasury_), dtype: float64"
      ]
     },
     "execution_count": 11,
     "metadata": {},
     "output_type": "execute_result"
    }
   ],
   "source": [
    "df_IG['Excess Return % 8-mo (Treasury_)'] = df_IG['Excess Return % 1-mo (Treasury)'].rolling(8,win_type='boxcar',center=True).sum().shift(-4)\n",
    "df_IG[\"Excess Return % 8-mo (Treasury_)\"].head()"
   ]
  },
  {
   "cell_type": "code",
   "execution_count": 12,
   "metadata": {},
   "outputs": [
    {
     "data": {
      "text/plain": [
       "0    0.678\n",
       "1   -0.032\n",
       "2   -0.479\n",
       "3   -0.718\n",
       "4   -1.019\n",
       "Name: Excess Return % 9-mo (Treasury_), dtype: float64"
      ]
     },
     "execution_count": 12,
     "metadata": {},
     "output_type": "execute_result"
    }
   ],
   "source": [
    "df_IG['Excess Return % 9-mo (Treasury_)'] = df_IG['Excess Return % 1-mo (Treasury)'].rolling(9,win_type='boxcar',center=True).sum().shift(-4)\n",
    "df_IG[\"Excess Return % 9-mo (Treasury_)\"].head()\n"
   ]
  },
  {
   "cell_type": "code",
   "execution_count": 13,
   "metadata": {},
   "outputs": [
    {
     "data": {
      "text/plain": [
       "0    0.070\n",
       "1   -0.245\n",
       "2   -0.617\n",
       "3   -1.125\n",
       "4   -0.774\n",
       "Name: Excess Return % 10-mo (Treasury_), dtype: float64"
      ]
     },
     "execution_count": 13,
     "metadata": {},
     "output_type": "execute_result"
    }
   ],
   "source": [
    "df_IG['Excess Return % 10-mo (Treasury_)'] = df_IG['Excess Return % 1-mo (Treasury)'].rolling(10,win_type='boxcar',center=True).sum().shift(-5)\n",
    "df_IG[\"Excess Return % 10-mo (Treasury_)\"].head()"
   ]
  },
  {
   "cell_type": "code",
   "execution_count": 14,
   "metadata": {},
   "outputs": [
    {
     "data": {
      "text/plain": [
       "0   -0.143\n",
       "1   -0.383\n",
       "2   -1.024\n",
       "3   -0.880\n",
       "4   -0.510\n",
       "Name: Excess Return % 11-mo (Treasury_), dtype: float64"
      ]
     },
     "execution_count": 14,
     "metadata": {},
     "output_type": "execute_result"
    }
   ],
   "source": [
    "df_IG['Excess Return % 11-mo (Treasury_)'] = df_IG['Excess Return % 1-mo (Treasury)'].rolling(11,win_type='boxcar',center=True).sum().shift(-5)\n",
    "df_IG[\"Excess Return % 11-mo (Treasury_)\"].head()"
   ]
  },
  {
   "cell_type": "code",
   "execution_count": 15,
   "metadata": {},
   "outputs": [
    {
     "data": {
      "text/plain": [
       "0   -0.281\n",
       "1   -0.790\n",
       "2   -0.779\n",
       "3   -0.616\n",
       "4   -0.410\n",
       "Name: Excess Return % 12-mo (Treasury_), dtype: float64"
      ]
     },
     "execution_count": 15,
     "metadata": {},
     "output_type": "execute_result"
    }
   ],
   "source": [
    "df_IG['Excess Return % 12-mo (Treasury_)'] = df_IG['Excess Return % 1-mo (Treasury)'].rolling(12,win_type='boxcar',center=True).sum().shift(-6)\n",
    "df_IG[\"Excess Return % 12-mo (Treasury_)\"].head()"
   ]
  },
  {
   "cell_type": "code",
   "execution_count": 16,
   "metadata": {},
   "outputs": [
    {
     "data": {
      "text/plain": [
       "0   -0.688\n",
       "1   -0.545\n",
       "2   -0.515\n",
       "3   -0.516\n",
       "4   -0.289\n",
       "Name: Excess Return % 13-mo (Treasury_), dtype: float64"
      ]
     },
     "execution_count": 16,
     "metadata": {},
     "output_type": "execute_result"
    }
   ],
   "source": [
    "df_IG['Excess Return % 13-mo (Treasury_)'] = df_IG['Excess Return % 1-mo (Treasury)'].rolling(13,win_type='boxcar',center=True).sum().shift(-6)\n",
    "df_IG[\"Excess Return % 13-mo (Treasury_)\"].head()"
   ]
  },
  {
   "cell_type": "code",
   "execution_count": 17,
   "metadata": {},
   "outputs": [
    {
     "data": {
      "text/plain": [
       "0   -0.443\n",
       "1   -0.281\n",
       "2   -0.415\n",
       "3   -0.395\n",
       "4   -0.547\n",
       "Name: Excess Return % 14-mo (Treasury_), dtype: float64"
      ]
     },
     "execution_count": 17,
     "metadata": {},
     "output_type": "execute_result"
    }
   ],
   "source": [
    "df_IG['Excess Return % 14-mo (Treasury_)'] = df_IG['Excess Return % 1-mo (Treasury)'].rolling(14,win_type='boxcar',center=True).sum().shift(-7)\n",
    "df_IG[\"Excess Return % 14-mo (Treasury_)\"].head()"
   ]
  },
  {
   "cell_type": "code",
   "execution_count": 18,
   "metadata": {},
   "outputs": [
    {
     "data": {
      "text/plain": [
       "0   -0.179\n",
       "1   -0.181\n",
       "2   -0.294\n",
       "3   -0.653\n",
       "4   -0.896\n",
       "Name: Excess Return % 15-mo (Treasury_), dtype: float64"
      ]
     },
     "execution_count": 18,
     "metadata": {},
     "output_type": "execute_result"
    }
   ],
   "source": [
    "df_IG['Excess Return % 15-mo (Treasury_)'] = df_IG['Excess Return % 1-mo (Treasury)'].rolling(15,win_type='boxcar',center=True).sum().shift(-7)\n",
    "df_IG[\"Excess Return % 15-mo (Treasury_)\"].head()"
   ]
  },
  {
   "cell_type": "code",
   "execution_count": 19,
   "metadata": {},
   "outputs": [
    {
     "data": {
      "text/plain": [
       "0   -0.079\n",
       "1   -0.060\n",
       "2   -0.552\n",
       "3   -1.002\n",
       "4   -3.896\n",
       "Name: Excess Return % 16-mo (Treasury_), dtype: float64"
      ]
     },
     "execution_count": 19,
     "metadata": {},
     "output_type": "execute_result"
    }
   ],
   "source": [
    "df_IG['Excess Return % 16-mo (Treasury_)'] = df_IG['Excess Return % 1-mo (Treasury)'].rolling(16,win_type='boxcar',center=True).sum().shift(-8)\n",
    "df_IG[\"Excess Return % 16-mo (Treasury_)\"].head()"
   ]
  },
  {
   "cell_type": "code",
   "execution_count": 20,
   "metadata": {},
   "outputs": [
    {
     "data": {
      "text/plain": [
       "0    0.042\n",
       "1   -0.318\n",
       "2   -0.901\n",
       "3   -4.002\n",
       "4   -3.953\n",
       "Name: Excess Return % 17-mo (Treasury_), dtype: float64"
      ]
     },
     "execution_count": 20,
     "metadata": {},
     "output_type": "execute_result"
    }
   ],
   "source": [
    "df_IG['Excess Return % 17-mo (Treasury_)'] = df_IG['Excess Return % 1-mo (Treasury)'].rolling(17,win_type='boxcar',center=True).sum().shift(-8)\n",
    "df_IG[\"Excess Return % 17-mo (Treasury_)\"].head()"
   ]
  },
  {
   "cell_type": "code",
   "execution_count": 21,
   "metadata": {},
   "outputs": [
    {
     "data": {
      "text/plain": [
       "0   -0.216\n",
       "1   -0.667\n",
       "2   -3.901\n",
       "3   -4.059\n",
       "4   -4.726\n",
       "Name: Excess Return % 18-mo (Treasury_), dtype: float64"
      ]
     },
     "execution_count": 21,
     "metadata": {},
     "output_type": "execute_result"
    }
   ],
   "source": [
    "df_IG['Excess Return % 18-mo (Treasury_)'] = df_IG['Excess Return % 1-mo (Treasury)'].rolling(18,win_type='boxcar',center=True).sum().shift(-9)\n",
    "df_IG[\"Excess Return % 18-mo (Treasury_)\"].head()"
   ]
  },
  {
   "cell_type": "code",
   "execution_count": 22,
   "metadata": {},
   "outputs": [
    {
     "data": {
      "text/plain": [
       "0   -0.565\n",
       "1   -3.667\n",
       "2   -3.958\n",
       "3   -4.832\n",
       "4   -3.064\n",
       "Name: Excess Return % 19-mo (Treasury_), dtype: float64"
      ]
     },
     "execution_count": 22,
     "metadata": {},
     "output_type": "execute_result"
    }
   ],
   "source": [
    "df_IG['Excess Return % 19-mo (Treasury_)'] = df_IG['Excess Return % 1-mo (Treasury)'].rolling(19,win_type='boxcar',center=True).sum().shift(-9)\n",
    "df_IG[\"Excess Return % 19-mo (Treasury_)\"].head()"
   ]
  },
  {
   "cell_type": "code",
   "execution_count": 23,
   "metadata": {},
   "outputs": [
    {
     "data": {
      "text/plain": [
       "0   -3.565\n",
       "1   -3.724\n",
       "2   -4.731\n",
       "3   -3.170\n",
       "4   -2.669\n",
       "Name: Excess Return % 20-mo (Treasury_), dtype: float64"
      ]
     },
     "execution_count": 23,
     "metadata": {},
     "output_type": "execute_result"
    }
   ],
   "source": [
    "df_IG['Excess Return % 20-mo (Treasury_)'] = df_IG['Excess Return % 1-mo (Treasury)'].rolling(20,win_type='boxcar',center=True).sum().shift(-10)\n",
    "df_IG[\"Excess Return % 20-mo (Treasury_)\"].head()"
   ]
  },
  {
   "cell_type": "code",
   "execution_count": 24,
   "metadata": {},
   "outputs": [
    {
     "data": {
      "text/plain": [
       "0   -3.622\n",
       "1   -4.497\n",
       "2   -3.069\n",
       "3   -2.775\n",
       "4   -2.350\n",
       "Name: Excess Return % 21-mo (Treasury_), dtype: float64"
      ]
     },
     "execution_count": 24,
     "metadata": {},
     "output_type": "execute_result"
    }
   ],
   "source": [
    "df_IG['Excess Return % 21-mo (Treasury_)'] = df_IG['Excess Return % 1-mo (Treasury)'].rolling(21,win_type='boxcar',center=True).sum().shift(-10)\n",
    "df_IG[\"Excess Return % 21-mo (Treasury_)\"].head()"
   ]
  },
  {
   "cell_type": "code",
   "execution_count": 25,
   "metadata": {},
   "outputs": [
    {
     "data": {
      "text/plain": [
       "0   -4.395\n",
       "1   -2.835\n",
       "2   -2.674\n",
       "3   -2.456\n",
       "4   -1.891\n",
       "Name: Excess Return % 22-mo (Treasury_), dtype: float64"
      ]
     },
     "execution_count": 25,
     "metadata": {},
     "output_type": "execute_result"
    }
   ],
   "source": [
    "df_IG['Excess Return % 22-mo (Treasury_)'] = df_IG['Excess Return % 1-mo (Treasury)'].rolling(22,win_type='boxcar',center=True).sum().shift(-11)\n",
    "df_IG[\"Excess Return % 22-mo (Treasury_)\"].head()"
   ]
  },
  {
   "cell_type": "code",
   "execution_count": 26,
   "metadata": {},
   "outputs": [
    {
     "data": {
      "text/plain": [
       "0   -2.733\n",
       "1   -2.440\n",
       "2   -2.355\n",
       "3   -1.997\n",
       "4   -1.453\n",
       "Name: Excess Return % 23-mo (Treasury_), dtype: float64"
      ]
     },
     "execution_count": 26,
     "metadata": {},
     "output_type": "execute_result"
    }
   ],
   "source": [
    "df_IG['Excess Return % 23-mo (Treasury_)'] = df_IG['Excess Return % 1-mo (Treasury)'].rolling(23,win_type='boxcar',center=True).sum().shift(-11)\n",
    "df_IG[\"Excess Return % 23-mo (Treasury_)\"].head()"
   ]
  },
  {
   "cell_type": "code",
   "execution_count": 27,
   "metadata": {},
   "outputs": [
    {
     "data": {
      "text/plain": [
       "0   -2.338\n",
       "1   -2.121\n",
       "2   -1.896\n",
       "3   -1.559\n",
       "4   -1.452\n",
       "Name: Excess Return % 24-mo (Treasury_), dtype: float64"
      ]
     },
     "execution_count": 27,
     "metadata": {},
     "output_type": "execute_result"
    }
   ],
   "source": [
    "df_IG['Excess Return % 24-mo (Treasury_)'] = df_IG['Excess Return % 1-mo (Treasury)'].rolling(24,win_type='boxcar',center=True).sum().shift(-12)\n",
    "df_IG[\"Excess Return % 24-mo (Treasury_)\"].head()"
   ]
  },
  {
   "cell_type": "code",
   "execution_count": 28,
   "metadata": {},
   "outputs": [
    {
     "data": {
      "text/plain": [
       "0   -2.019\n",
       "1   -1.662\n",
       "2   -1.458\n",
       "3   -1.558\n",
       "4   -1.644\n",
       "Name: Excess Return % 25-mo (Treasury_), dtype: float64"
      ]
     },
     "execution_count": 28,
     "metadata": {},
     "output_type": "execute_result"
    }
   ],
   "source": [
    "df_IG['Excess Return % 25-mo (Treasury_)'] = df_IG['Excess Return % 1-mo (Treasury)'].rolling(25,win_type='boxcar',center=True).sum().shift(-12)\n",
    "df_IG[\"Excess Return % 25-mo (Treasury_)\"].head()"
   ]
  },
  {
   "cell_type": "code",
   "execution_count": 29,
   "metadata": {},
   "outputs": [
    {
     "data": {
      "text/plain": [
       "0   -1.560\n",
       "1   -1.224\n",
       "2   -1.457\n",
       "3   -1.750\n",
       "4   -1.971\n",
       "Name: Excess Return % 26-mo (Treasury_), dtype: float64"
      ]
     },
     "execution_count": 29,
     "metadata": {},
     "output_type": "execute_result"
    }
   ],
   "source": [
    "df_IG['Excess Return % 26-mo (Treasury_)'] = df_IG['Excess Return % 1-mo (Treasury)'].rolling(26,win_type='boxcar',center=True).sum().shift(-13)\n",
    "df_IG[\"Excess Return % 26-mo (Treasury_)\"].head()"
   ]
  },
  {
   "cell_type": "code",
   "execution_count": 30,
   "metadata": {},
   "outputs": [
    {
     "data": {
      "text/plain": [
       "0   -1.122\n",
       "1   -1.223\n",
       "2   -1.649\n",
       "3   -2.077\n",
       "4   -2.301\n",
       "Name: Excess Return % 27-mo (Treasury_), dtype: float64"
      ]
     },
     "execution_count": 30,
     "metadata": {},
     "output_type": "execute_result"
    }
   ],
   "source": [
    "df_IG['Excess Return % 27-mo (Treasury_)'] = df_IG['Excess Return % 1-mo (Treasury)'].rolling(27,win_type='boxcar',center=True).sum().shift(-13)\n",
    "df_IG[\"Excess Return % 27-mo (Treasury_)\"].head()"
   ]
  },
  {
   "cell_type": "code",
   "execution_count": 31,
   "metadata": {},
   "outputs": [
    {
     "data": {
      "text/plain": [
       "0   -1.121\n",
       "1   -1.415\n",
       "2   -1.976\n",
       "3   -2.407\n",
       "4   -2.591\n",
       "Name: Excess Return % 28-mo (Treasury_), dtype: float64"
      ]
     },
     "execution_count": 31,
     "metadata": {},
     "output_type": "execute_result"
    }
   ],
   "source": [
    "df_IG['Excess Return % 28-mo (Treasury_)'] = df_IG['Excess Return % 1-mo (Treasury)'].rolling(28,win_type='boxcar',center=True).sum().shift(-14)\n",
    "df_IG[\"Excess Return % 28-mo (Treasury_)\"].head()"
   ]
  },
  {
   "cell_type": "code",
   "execution_count": 32,
   "metadata": {},
   "outputs": [
    {
     "data": {
      "text/plain": [
       "0   -1.313\n",
       "1   -1.742\n",
       "2   -2.306\n",
       "3   -2.697\n",
       "4   -2.232\n",
       "Name: Excess Return % 29-mo (Treasury_), dtype: float64"
      ]
     },
     "execution_count": 32,
     "metadata": {},
     "output_type": "execute_result"
    }
   ],
   "source": [
    "df_IG['Excess Return % 29-mo (Treasury_)'] = df_IG['Excess Return % 1-mo (Treasury)'].rolling(29,win_type='boxcar',center=True).sum().shift(-14)\n",
    "df_IG[\"Excess Return % 29-mo (Treasury_)\"].head()"
   ]
  },
  {
   "cell_type": "code",
   "execution_count": 33,
   "metadata": {},
   "outputs": [
    {
     "data": {
      "text/plain": [
       "0   -1.640\n",
       "1   -2.072\n",
       "2   -2.596\n",
       "3   -2.338\n",
       "4   -1.984\n",
       "Name: Excess Return % 30-mo (Treasury_), dtype: float64"
      ]
     },
     "execution_count": 33,
     "metadata": {},
     "output_type": "execute_result"
    }
   ],
   "source": [
    "df_IG['Excess Return % 30-mo (Treasury_)'] = df_IG['Excess Return % 1-mo (Treasury)'].rolling(30,win_type='boxcar',center=True).sum().shift(-15)\n",
    "df_IG[\"Excess Return % 30-mo (Treasury_)\"].head()"
   ]
  },
  {
   "cell_type": "code",
   "execution_count": 34,
   "metadata": {},
   "outputs": [
    {
     "data": {
      "text/plain": [
       "0   -1.970\n",
       "1   -2.362\n",
       "2   -2.237\n",
       "3   -2.090\n",
       "4   -1.470\n",
       "Name: Excess Return % 31-mo (Treasury_), dtype: float64"
      ]
     },
     "execution_count": 34,
     "metadata": {},
     "output_type": "execute_result"
    }
   ],
   "source": [
    "df_IG['Excess Return % 31-mo (Treasury_)'] = df_IG['Excess Return % 1-mo (Treasury)'].rolling(31,win_type='boxcar',center=True).sum().shift(-15)\n",
    "df_IG[\"Excess Return % 31-mo (Treasury_)\"].head()"
   ]
  },
  {
   "cell_type": "code",
   "execution_count": 35,
   "metadata": {},
   "outputs": [
    {
     "data": {
      "text/plain": [
       "0   -2.260\n",
       "1   -2.003\n",
       "2   -1.989\n",
       "3   -1.576\n",
       "4   -1.282\n",
       "Name: Excess Return % 32-mo (Treasury_), dtype: float64"
      ]
     },
     "execution_count": 35,
     "metadata": {},
     "output_type": "execute_result"
    }
   ],
   "source": [
    "df_IG['Excess Return % 32-mo (Treasury_)'] = df_IG['Excess Return % 1-mo (Treasury)'].rolling(32,win_type='boxcar',center=True).sum().shift(-16)\n",
    "df_IG[\"Excess Return % 32-mo (Treasury_)\"].head()"
   ]
  },
  {
   "cell_type": "code",
   "execution_count": 36,
   "metadata": {},
   "outputs": [
    {
     "data": {
      "text/plain": [
       "0   -1.901\n",
       "1   -1.755\n",
       "2   -1.475\n",
       "3   -1.388\n",
       "4   -1.737\n",
       "Name: Excess Return % 33-mo (Treasury_), dtype: float64"
      ]
     },
     "execution_count": 36,
     "metadata": {},
     "output_type": "execute_result"
    }
   ],
   "source": [
    "df_IG['Excess Return % 33-mo (Treasury_)'] = df_IG['Excess Return % 1-mo (Treasury)'].rolling(33,win_type='boxcar',center=True).sum().shift(-16)\n",
    "df_IG[\"Excess Return % 33-mo (Treasury_)\"].head()"
   ]
  },
  {
   "cell_type": "code",
   "execution_count": 37,
   "metadata": {},
   "outputs": [
    {
     "data": {
      "text/plain": [
       "0   -1.653\n",
       "1   -1.241\n",
       "2   -1.287\n",
       "3   -1.843\n",
       "4   -2.316\n",
       "Name: Excess Return % 34-mo (Treasury_), dtype: float64"
      ]
     },
     "execution_count": 37,
     "metadata": {},
     "output_type": "execute_result"
    }
   ],
   "source": [
    "df_IG['Excess Return % 34-mo (Treasury_)'] = df_IG['Excess Return % 1-mo (Treasury)'].rolling(34,win_type='boxcar',center=True).sum().shift(-17)\n",
    "df_IG[\"Excess Return % 34-mo (Treasury_)\"].head()"
   ]
  },
  {
   "cell_type": "code",
   "execution_count": 38,
   "metadata": {},
   "outputs": [
    {
     "data": {
      "text/plain": [
       "0   -1.139\n",
       "1   -1.053\n",
       "2   -1.742\n",
       "3   -2.422\n",
       "4   -3.393\n",
       "Name: Excess Return % 35-mo (Treasury_), dtype: float64"
      ]
     },
     "execution_count": 38,
     "metadata": {},
     "output_type": "execute_result"
    }
   ],
   "source": [
    "df_IG['Excess Return % 35-mo (Treasury_)'] = df_IG['Excess Return % 1-mo (Treasury)'].rolling(35,win_type='boxcar',center=True).sum().shift(-17)\n",
    "df_IG[\"Excess Return % 35-mo (Treasury_)\"].head()"
   ]
  },
  {
   "cell_type": "code",
   "execution_count": 39,
   "metadata": {},
   "outputs": [
    {
     "data": {
      "text/plain": [
       "0   -0.951\n",
       "1   -1.508\n",
       "2   -2.321\n",
       "3   -3.499\n",
       "4   -4.230\n",
       "Name: Excess Return % 36-mo (Treasury_), dtype: float64"
      ]
     },
     "execution_count": 39,
     "metadata": {},
     "output_type": "execute_result"
    }
   ],
   "source": [
    "df_IG['Excess Return % 36-mo (Treasury_)'] = df_IG['Excess Return % 1-mo (Treasury)'].rolling(36,win_type='boxcar',center=True).sum().shift(-18)\n",
    "df_IG[\"Excess Return % 36-mo (Treasury_)\"].head()"
   ]
  },
  {
   "cell_type": "code",
   "execution_count": 40,
   "metadata": {},
   "outputs": [
    {
     "data": {
      "text/html": [
       "<div>\n",
       "<style scoped>\n",
       "    .dataframe tbody tr th:only-of-type {\n",
       "        vertical-align: middle;\n",
       "    }\n",
       "\n",
       "    .dataframe tbody tr th {\n",
       "        vertical-align: top;\n",
       "    }\n",
       "\n",
       "    .dataframe thead th {\n",
       "        text-align: right;\n",
       "    }\n",
       "</style>\n",
       "<table border=\"1\" class=\"dataframe\">\n",
       "  <thead>\n",
       "    <tr style=\"text-align: right;\">\n",
       "      <th></th>\n",
       "      <th>Date</th>\n",
       "      <th>OAS</th>\n",
       "      <th>Total Return % 1-mo-LOC</th>\n",
       "      <th>Agg Returns</th>\n",
       "      <th>Excess Return % 1-mo (Treasury)</th>\n",
       "      <th>Excess Return % 1-mo (Agg)</th>\n",
       "      <th>Excess Return % 3-mo (Treasury)</th>\n",
       "      <th>Excess Return % 3-mo (Agg)</th>\n",
       "      <th>Excess Return % 6-mo (Treasury)</th>\n",
       "      <th>Excess Return % 6-mo (Agg)</th>\n",
       "      <th>...</th>\n",
       "      <th>Excess Return % 27-mo (Treasury_)</th>\n",
       "      <th>Excess Return % 28-mo (Treasury_)</th>\n",
       "      <th>Excess Return % 29-mo (Treasury_)</th>\n",
       "      <th>Excess Return % 30-mo (Treasury_)</th>\n",
       "      <th>Excess Return % 31-mo (Treasury_)</th>\n",
       "      <th>Excess Return % 32-mo (Treasury_)</th>\n",
       "      <th>Excess Return % 33-mo (Treasury_)</th>\n",
       "      <th>Excess Return % 34-mo (Treasury_)</th>\n",
       "      <th>Excess Return % 35-mo (Treasury_)</th>\n",
       "      <th>Excess Return % 36-mo (Treasury_)</th>\n",
       "    </tr>\n",
       "  </thead>\n",
       "  <tbody>\n",
       "    <tr>\n",
       "      <th>0</th>\n",
       "      <td>1997-01-31</td>\n",
       "      <td>61</td>\n",
       "      <td>0.142</td>\n",
       "      <td>0.3062</td>\n",
       "      <td>0.102</td>\n",
       "      <td>-0.1642</td>\n",
       "      <td>0.437</td>\n",
       "      <td>-0.2998</td>\n",
       "      <td>0.547</td>\n",
       "      <td>0.1361</td>\n",
       "      <td>...</td>\n",
       "      <td>-1.122</td>\n",
       "      <td>-1.121</td>\n",
       "      <td>-1.313</td>\n",
       "      <td>-1.640</td>\n",
       "      <td>-1.970</td>\n",
       "      <td>-2.260</td>\n",
       "      <td>-1.901</td>\n",
       "      <td>-1.653</td>\n",
       "      <td>-1.139</td>\n",
       "      <td>-0.951</td>\n",
       "    </tr>\n",
       "    <tr>\n",
       "      <th>1</th>\n",
       "      <td>1997-02-28</td>\n",
       "      <td>59</td>\n",
       "      <td>0.255</td>\n",
       "      <td>0.2488</td>\n",
       "      <td>0.234</td>\n",
       "      <td>0.0062</td>\n",
       "      <td>0.229</td>\n",
       "      <td>-0.0155</td>\n",
       "      <td>0.613</td>\n",
       "      <td>1.3050</td>\n",
       "      <td>...</td>\n",
       "      <td>-1.223</td>\n",
       "      <td>-1.415</td>\n",
       "      <td>-1.742</td>\n",
       "      <td>-2.072</td>\n",
       "      <td>-2.362</td>\n",
       "      <td>-2.003</td>\n",
       "      <td>-1.755</td>\n",
       "      <td>-1.241</td>\n",
       "      <td>-1.053</td>\n",
       "      <td>-1.508</td>\n",
       "    </tr>\n",
       "    <tr>\n",
       "      <th>2</th>\n",
       "      <td>1997-03-31</td>\n",
       "      <td>57</td>\n",
       "      <td>-1.250</td>\n",
       "      <td>-1.1082</td>\n",
       "      <td>0.101</td>\n",
       "      <td>-0.1418</td>\n",
       "      <td>-0.046</td>\n",
       "      <td>-0.0510</td>\n",
       "      <td>0.333</td>\n",
       "      <td>0.6734</td>\n",
       "      <td>...</td>\n",
       "      <td>-1.649</td>\n",
       "      <td>-1.976</td>\n",
       "      <td>-2.306</td>\n",
       "      <td>-2.596</td>\n",
       "      <td>-2.237</td>\n",
       "      <td>-1.989</td>\n",
       "      <td>-1.475</td>\n",
       "      <td>-1.287</td>\n",
       "      <td>-1.742</td>\n",
       "      <td>-2.321</td>\n",
       "    </tr>\n",
       "    <tr>\n",
       "      <th>3</th>\n",
       "      <td>1997-04-30</td>\n",
       "      <td>59</td>\n",
       "      <td>1.617</td>\n",
       "      <td>1.4969</td>\n",
       "      <td>-0.106</td>\n",
       "      <td>0.1201</td>\n",
       "      <td>0.110</td>\n",
       "      <td>0.4359</td>\n",
       "      <td>0.241</td>\n",
       "      <td>1.1644</td>\n",
       "      <td>...</td>\n",
       "      <td>-2.077</td>\n",
       "      <td>-2.407</td>\n",
       "      <td>-2.697</td>\n",
       "      <td>-2.338</td>\n",
       "      <td>-2.090</td>\n",
       "      <td>-1.576</td>\n",
       "      <td>-1.388</td>\n",
       "      <td>-1.843</td>\n",
       "      <td>-2.422</td>\n",
       "      <td>-3.499</td>\n",
       "    </tr>\n",
       "    <tr>\n",
       "      <th>4</th>\n",
       "      <td>1997-05-31</td>\n",
       "      <td>61</td>\n",
       "      <td>0.916</td>\n",
       "      <td>0.9453</td>\n",
       "      <td>-0.041</td>\n",
       "      <td>-0.0293</td>\n",
       "      <td>0.384</td>\n",
       "      <td>1.3205</td>\n",
       "      <td>-0.261</td>\n",
       "      <td>1.0106</td>\n",
       "      <td>...</td>\n",
       "      <td>-2.301</td>\n",
       "      <td>-2.591</td>\n",
       "      <td>-2.232</td>\n",
       "      <td>-1.984</td>\n",
       "      <td>-1.470</td>\n",
       "      <td>-1.282</td>\n",
       "      <td>-1.737</td>\n",
       "      <td>-2.316</td>\n",
       "      <td>-3.393</td>\n",
       "      <td>-4.230</td>\n",
       "    </tr>\n",
       "  </tbody>\n",
       "</table>\n",
       "<p>5 rows × 54 columns</p>\n",
       "</div>"
      ],
      "text/plain": [
       "        Date  OAS  Total Return % 1-mo-LOC  Agg Returns  \\\n",
       "0 1997-01-31   61                    0.142       0.3062   \n",
       "1 1997-02-28   59                    0.255       0.2488   \n",
       "2 1997-03-31   57                   -1.250      -1.1082   \n",
       "3 1997-04-30   59                    1.617       1.4969   \n",
       "4 1997-05-31   61                    0.916       0.9453   \n",
       "\n",
       "   Excess Return % 1-mo (Treasury)  Excess Return % 1-mo (Agg)  \\\n",
       "0                            0.102                     -0.1642   \n",
       "1                            0.234                      0.0062   \n",
       "2                            0.101                     -0.1418   \n",
       "3                           -0.106                      0.1201   \n",
       "4                           -0.041                     -0.0293   \n",
       "\n",
       "   Excess Return % 3-mo (Treasury)  Excess Return % 3-mo (Agg)  \\\n",
       "0                            0.437                     -0.2998   \n",
       "1                            0.229                     -0.0155   \n",
       "2                           -0.046                     -0.0510   \n",
       "3                            0.110                      0.4359   \n",
       "4                            0.384                      1.3205   \n",
       "\n",
       "   Excess Return % 6-mo (Treasury)  Excess Return % 6-mo (Agg)  ...  \\\n",
       "0                            0.547                      0.1361  ...   \n",
       "1                            0.613                      1.3050  ...   \n",
       "2                            0.333                      0.6734  ...   \n",
       "3                            0.241                      1.1644  ...   \n",
       "4                           -0.261                      1.0106  ...   \n",
       "\n",
       "   Excess Return % 27-mo (Treasury_)  Excess Return % 28-mo (Treasury_)  \\\n",
       "0                             -1.122                             -1.121   \n",
       "1                             -1.223                             -1.415   \n",
       "2                             -1.649                             -1.976   \n",
       "3                             -2.077                             -2.407   \n",
       "4                             -2.301                             -2.591   \n",
       "\n",
       "   Excess Return % 29-mo (Treasury_)  Excess Return % 30-mo (Treasury_)  \\\n",
       "0                             -1.313                             -1.640   \n",
       "1                             -1.742                             -2.072   \n",
       "2                             -2.306                             -2.596   \n",
       "3                             -2.697                             -2.338   \n",
       "4                             -2.232                             -1.984   \n",
       "\n",
       "   Excess Return % 31-mo (Treasury_)  Excess Return % 32-mo (Treasury_)  \\\n",
       "0                             -1.970                             -2.260   \n",
       "1                             -2.362                             -2.003   \n",
       "2                             -2.237                             -1.989   \n",
       "3                             -2.090                             -1.576   \n",
       "4                             -1.470                             -1.282   \n",
       "\n",
       "   Excess Return % 33-mo (Treasury_)  Excess Return % 34-mo (Treasury_)  \\\n",
       "0                             -1.901                             -1.653   \n",
       "1                             -1.755                             -1.241   \n",
       "2                             -1.475                             -1.287   \n",
       "3                             -1.388                             -1.843   \n",
       "4                             -1.737                             -2.316   \n",
       "\n",
       "   Excess Return % 35-mo (Treasury_)  Excess Return % 36-mo (Treasury_)  \n",
       "0                             -1.139                             -0.951  \n",
       "1                             -1.053                             -1.508  \n",
       "2                             -1.742                             -2.321  \n",
       "3                             -2.422                             -3.499  \n",
       "4                             -3.393                             -4.230  \n",
       "\n",
       "[5 rows x 54 columns]"
      ]
     },
     "execution_count": 40,
     "metadata": {},
     "output_type": "execute_result"
    }
   ],
   "source": [
    "df_IG.head()"
   ]
  },
  {
   "cell_type": "markdown",
   "metadata": {},
   "source": [
    "# DO the same thing for returns against AGG"
   ]
  },
  {
   "cell_type": "code",
   "execution_count": 41,
   "metadata": {},
   "outputs": [
    {
     "data": {
      "text/plain": [
       "0   -0.1580\n",
       "1   -0.1356\n",
       "2   -0.0217\n",
       "3    0.0908\n",
       "4    0.3158\n",
       "Name: Excess Return % 2-mo (Agg_), dtype: float64"
      ]
     },
     "execution_count": 41,
     "metadata": {},
     "output_type": "execute_result"
    }
   ],
   "source": [
    "df_IG['Excess Return % 2-mo (Agg_)'] = df_IG['Excess Return % 1-mo (Agg)'].rolling(2,win_type='boxcar',center=True).sum().shift(-1)\n",
    "df_IG[\"Excess Return % 2-mo (Agg_)\"].head()"
   ]
  },
  {
   "cell_type": "code",
   "execution_count": 42,
   "metadata": {},
   "outputs": [
    {
     "data": {
      "text/plain": [
       "0   -0.2998\n",
       "1   -0.0155\n",
       "2   -0.0510\n",
       "3    0.4359\n",
       "4    1.3205\n",
       "Name: Excess Return % 3-mo (Agg_), dtype: float64"
      ]
     },
     "execution_count": 42,
     "metadata": {},
     "output_type": "execute_result"
    }
   ],
   "source": [
    "df_IG['Excess Return % 3-mo (Agg_)'] = df_IG['Excess Return % 1-mo (Agg)'].rolling(3,win_type='boxcar',center=True).sum().shift(-1)\n",
    "df_IG[\"Excess Return % 3-mo (Agg_)\"].head()"
   ]
  },
  {
   "cell_type": "code",
   "execution_count": 43,
   "metadata": {},
   "outputs": [
    {
     "data": {
      "text/plain": [
       "0   -0.1797\n",
       "1   -0.0448\n",
       "2    0.2941\n",
       "3    1.4406\n",
       "4    0.6951\n",
       "Name: Excess Return % 4-mo (Agg_), dtype: float64"
      ]
     },
     "execution_count": 43,
     "metadata": {},
     "output_type": "execute_result"
    }
   ],
   "source": [
    "df_IG['Excess Return % 4-mo (Agg_)'] = df_IG['Excess Return % 1-mo (Agg)'].rolling(4,win_type='boxcar',center=True).sum().shift(-2)\n",
    "df_IG[\"Excess Return % 4-mo (Agg_)\"].head()"
   ]
  },
  {
   "cell_type": "code",
   "execution_count": 44,
   "metadata": {},
   "outputs": [
    {
     "data": {
      "text/plain": [
       "0   -0.2090\n",
       "1    0.3003\n",
       "2    1.2988\n",
       "3    0.8152\n",
       "4    1.0443\n",
       "Name: Excess Return % 5-mo (Agg_), dtype: float64"
      ]
     },
     "execution_count": 44,
     "metadata": {},
     "output_type": "execute_result"
    }
   ],
   "source": [
    "df_IG['Excess Return % 5-mo (Agg_)'] = df_IG['Excess Return % 1-mo (Agg)'].rolling(5,win_type='boxcar',center=True).sum().shift(-2)\n",
    "df_IG[\"Excess Return % 5-mo (Agg_)\"].head()"
   ]
  },
  {
   "cell_type": "code",
   "execution_count": 45,
   "metadata": {},
   "outputs": [
    {
     "data": {
      "text/plain": [
       "0    0.1361\n",
       "1    1.3050\n",
       "2    0.6734\n",
       "3    1.1644\n",
       "4    1.0106\n",
       "Name: Excess Return % 6-mo (Agg_), dtype: float64"
      ]
     },
     "execution_count": 45,
     "metadata": {},
     "output_type": "execute_result"
    }
   ],
   "source": [
    "df_IG['Excess Return % 6-mo (Agg_)'] = df_IG['Excess Return % 1-mo (Agg)'].rolling(6,win_type='boxcar',center=True).sum().shift(-3)\n",
    "df_IG[\"Excess Return % 6-mo (Agg_)\"].head()"
   ]
  },
  {
   "cell_type": "code",
   "execution_count": 46,
   "metadata": {},
   "outputs": [
    {
     "data": {
      "text/plain": [
       "0    1.1408\n",
       "1    0.6796\n",
       "2    1.0226\n",
       "3    1.1307\n",
       "4    0.8511\n",
       "Name: Excess Return % 7-mo (Agg_), dtype: float64"
      ]
     },
     "execution_count": 46,
     "metadata": {},
     "output_type": "execute_result"
    }
   ],
   "source": [
    "df_IG['Excess Return % 7-mo (Agg_)'] = df_IG['Excess Return % 1-mo (Agg)'].rolling(7,win_type='boxcar',center=True).sum().shift(-3)\n",
    "df_IG[\"Excess Return % 7-mo (Agg_)\"].head()"
   ]
  },
  {
   "cell_type": "code",
   "execution_count": 47,
   "metadata": {},
   "outputs": [
    {
     "data": {
      "text/plain": [
       "0    0.5154\n",
       "1    1.0288\n",
       "2    0.9889\n",
       "3    0.9712\n",
       "4    0.8953\n",
       "Name: Excess Return % 8-mo (Agg_), dtype: float64"
      ]
     },
     "execution_count": 47,
     "metadata": {},
     "output_type": "execute_result"
    }
   ],
   "source": [
    "df_IG['Excess Return % 8-mo (Agg_)'] = df_IG['Excess Return % 1-mo (Agg)'].rolling(8,win_type='boxcar',center=True).sum().shift(-4)\n",
    "df_IG[\"Excess Return % 8-mo (Agg_)\"].head()"
   ]
  },
  {
   "cell_type": "code",
   "execution_count": 48,
   "metadata": {},
   "outputs": [
    {
     "data": {
      "text/plain": [
       "0    0.8646\n",
       "1    0.9951\n",
       "2    0.8294\n",
       "3    1.0154\n",
       "4    0.9305\n",
       "Name: Excess Return % 9-mo (Agg_), dtype: float64"
      ]
     },
     "execution_count": 48,
     "metadata": {},
     "output_type": "execute_result"
    }
   ],
   "source": [
    "df_IG['Excess Return % 9-mo (Agg_)'] = df_IG['Excess Return % 1-mo (Agg)'].rolling(9,win_type='boxcar',center=True).sum().shift(-4)\n",
    "df_IG[\"Excess Return % 9-mo (Agg_)\"].head()\n"
   ]
  },
  {
   "cell_type": "code",
   "execution_count": 49,
   "metadata": {},
   "outputs": [
    {
     "data": {
      "text/plain": [
       "0    0.8309\n",
       "1    0.8356\n",
       "2    0.8736\n",
       "3    1.0506\n",
       "4    0.8538\n",
       "Name: Excess Return % 10-mo (Agg_), dtype: float64"
      ]
     },
     "execution_count": 49,
     "metadata": {},
     "output_type": "execute_result"
    }
   ],
   "source": [
    "df_IG['Excess Return % 10-mo (Agg_)'] = df_IG['Excess Return % 1-mo (Agg)'].rolling(10,win_type='boxcar',center=True).sum().shift(-5)\n",
    "df_IG[\"Excess Return % 10-mo (Agg_)\"].head()"
   ]
  },
  {
   "cell_type": "code",
   "execution_count": 50,
   "metadata": {},
   "outputs": [
    {
     "data": {
      "text/plain": [
       "0    0.6714\n",
       "1    0.8798\n",
       "2    0.9088\n",
       "3    0.9739\n",
       "4    1.0062\n",
       "Name: Excess Return % 11-mo (Agg_), dtype: float64"
      ]
     },
     "execution_count": 50,
     "metadata": {},
     "output_type": "execute_result"
    }
   ],
   "source": [
    "df_IG['Excess Return % 11-mo (Agg_)'] = df_IG['Excess Return % 1-mo (Agg)'].rolling(11,win_type='boxcar',center=True).sum().shift(-5)\n",
    "df_IG[\"Excess Return % 11-mo (Agg_)\"].head()"
   ]
  },
  {
   "cell_type": "code",
   "execution_count": 51,
   "metadata": {},
   "outputs": [
    {
     "data": {
      "text/plain": [
       "0    0.7156\n",
       "1    0.9150\n",
       "2    0.8321\n",
       "3    1.1263\n",
       "4    0.9952\n",
       "Name: Excess Return % 12-mo (Agg_), dtype: float64"
      ]
     },
     "execution_count": 51,
     "metadata": {},
     "output_type": "execute_result"
    }
   ],
   "source": [
    "df_IG['Excess Return % 12-mo (Agg_)'] = df_IG['Excess Return % 1-mo (Agg)'].rolling(12,win_type='boxcar',center=True).sum().shift(-6)\n",
    "df_IG[\"Excess Return % 12-mo (Agg_)\"].head()"
   ]
  },
  {
   "cell_type": "code",
   "execution_count": 52,
   "metadata": {},
   "outputs": [
    {
     "data": {
      "text/plain": [
       "0    0.7508\n",
       "1    0.8383\n",
       "2    0.9845\n",
       "3    1.1153\n",
       "4    1.3116\n",
       "Name: Excess Return % 13-mo (Agg_), dtype: float64"
      ]
     },
     "execution_count": 52,
     "metadata": {},
     "output_type": "execute_result"
    }
   ],
   "source": [
    "df_IG['Excess Return % 13-mo (Agg_)'] = df_IG['Excess Return % 1-mo (Agg)'].rolling(13,win_type='boxcar',center=True).sum().shift(-6)\n",
    "df_IG[\"Excess Return % 13-mo (Agg_)\"].head()"
   ]
  },
  {
   "cell_type": "code",
   "execution_count": 53,
   "metadata": {},
   "outputs": [
    {
     "data": {
      "text/plain": [
       "0    0.6741\n",
       "1    0.9907\n",
       "2    0.9735\n",
       "3    1.4317\n",
       "4    1.3255\n",
       "Name: Excess Return % 14-mo (Agg_), dtype: float64"
      ]
     },
     "execution_count": 53,
     "metadata": {},
     "output_type": "execute_result"
    }
   ],
   "source": [
    "df_IG['Excess Return % 14-mo (Agg_)'] = df_IG['Excess Return % 1-mo (Agg)'].rolling(14,win_type='boxcar',center=True).sum().shift(-7)\n",
    "df_IG[\"Excess Return % 14-mo (Agg_)\"].head()"
   ]
  },
  {
   "cell_type": "code",
   "execution_count": 54,
   "metadata": {},
   "outputs": [
    {
     "data": {
      "text/plain": [
       "0    0.8265\n",
       "1    0.9797\n",
       "2    1.2899\n",
       "3    1.4456\n",
       "4    1.0318\n",
       "Name: Excess Return % 15-mo (Agg_), dtype: float64"
      ]
     },
     "execution_count": 54,
     "metadata": {},
     "output_type": "execute_result"
    }
   ],
   "source": [
    "df_IG['Excess Return % 15-mo (Agg_)'] = df_IG['Excess Return % 1-mo (Agg)'].rolling(15,win_type='boxcar',center=True).sum().shift(-7)\n",
    "df_IG[\"Excess Return % 15-mo (Agg_)\"].head()"
   ]
  },
  {
   "cell_type": "code",
   "execution_count": 55,
   "metadata": {},
   "outputs": [
    {
     "data": {
      "text/plain": [
       "0    0.8155\n",
       "1    1.2961\n",
       "2    1.3038\n",
       "3    1.1519\n",
       "4   -0.4536\n",
       "Name: Excess Return % 16-mo (Agg_), dtype: float64"
      ]
     },
     "execution_count": 55,
     "metadata": {},
     "output_type": "execute_result"
    }
   ],
   "source": [
    "df_IG['Excess Return % 16-mo (Agg_)'] = df_IG['Excess Return % 1-mo (Agg)'].rolling(16,win_type='boxcar',center=True).sum().shift(-8)\n",
    "df_IG[\"Excess Return % 16-mo (Agg_)\"].head()"
   ]
  },
  {
   "cell_type": "code",
   "execution_count": 56,
   "metadata": {},
   "outputs": [
    {
     "data": {
      "text/plain": [
       "0    1.1319\n",
       "1    1.3100\n",
       "2    1.0101\n",
       "3   -0.3335\n",
       "4    0.3108\n",
       "Name: Excess Return % 17-mo (Agg_), dtype: float64"
      ]
     },
     "execution_count": 56,
     "metadata": {},
     "output_type": "execute_result"
    }
   ],
   "source": [
    "df_IG['Excess Return % 17-mo (Agg_)'] = df_IG['Excess Return % 1-mo (Agg)'].rolling(17,win_type='boxcar',center=True).sum().shift(-8)\n",
    "df_IG[\"Excess Return % 17-mo (Agg_)\"].head()"
   ]
  },
  {
   "cell_type": "code",
   "execution_count": 57,
   "metadata": {},
   "outputs": [
    {
     "data": {
      "text/plain": [
       "0    1.1458\n",
       "1    1.0163\n",
       "2   -0.4753\n",
       "3    0.4309\n",
       "4   -0.3157\n",
       "Name: Excess Return % 18-mo (Agg_), dtype: float64"
      ]
     },
     "execution_count": 57,
     "metadata": {},
     "output_type": "execute_result"
    }
   ],
   "source": [
    "df_IG['Excess Return % 18-mo (Agg_)'] = df_IG['Excess Return % 1-mo (Agg)'].rolling(18,win_type='boxcar',center=True).sum().shift(-9)\n",
    "df_IG[\"Excess Return % 18-mo (Agg_)\"].head()"
   ]
  },
  {
   "cell_type": "code",
   "execution_count": 58,
   "metadata": {},
   "outputs": [
    {
     "data": {
      "text/plain": [
       "0    0.8521\n",
       "1   -0.4691\n",
       "2    0.2891\n",
       "3   -0.1956\n",
       "4    0.6600\n",
       "Name: Excess Return % 19-mo (Agg_), dtype: float64"
      ]
     },
     "execution_count": 58,
     "metadata": {},
     "output_type": "execute_result"
    }
   ],
   "source": [
    "df_IG['Excess Return % 19-mo (Agg_)'] = df_IG['Excess Return % 1-mo (Agg)'].rolling(19,win_type='boxcar',center=True).sum().shift(-9)\n",
    "df_IG[\"Excess Return % 19-mo (Agg_)\"].head()"
   ]
  },
  {
   "cell_type": "code",
   "execution_count": 59,
   "metadata": {},
   "outputs": [
    {
     "data": {
      "text/plain": [
       "0   -0.6333\n",
       "1    0.2953\n",
       "2   -0.3374\n",
       "3    0.7801\n",
       "4    0.9543\n",
       "Name: Excess Return % 20-mo (Agg_), dtype: float64"
      ]
     },
     "execution_count": 59,
     "metadata": {},
     "output_type": "execute_result"
    }
   ],
   "source": [
    "df_IG['Excess Return % 20-mo (Agg_)'] = df_IG['Excess Return % 1-mo (Agg)'].rolling(20,win_type='boxcar',center=True).sum().shift(-10)\n",
    "df_IG[\"Excess Return % 20-mo (Agg_)\"].head()"
   ]
  },
  {
   "cell_type": "code",
   "execution_count": 60,
   "metadata": {},
   "outputs": [
    {
     "data": {
      "text/plain": [
       "0    0.1311\n",
       "1   -0.3312\n",
       "2    0.6383\n",
       "3    1.0744\n",
       "4    1.2626\n",
       "Name: Excess Return % 21-mo (Agg_), dtype: float64"
      ]
     },
     "execution_count": 60,
     "metadata": {},
     "output_type": "execute_result"
    }
   ],
   "source": [
    "df_IG['Excess Return % 21-mo (Agg_)'] = df_IG['Excess Return % 1-mo (Agg)'].rolling(21,win_type='boxcar',center=True).sum().shift(-10)\n",
    "df_IG[\"Excess Return % 21-mo (Agg_)\"].head()"
   ]
  },
  {
   "cell_type": "code",
   "execution_count": 61,
   "metadata": {},
   "outputs": [
    {
     "data": {
      "text/plain": [
       "0   -0.4954\n",
       "1    0.6445\n",
       "2    0.9326\n",
       "3    1.3827\n",
       "4    0.4483\n",
       "Name: Excess Return % 22-mo (Agg_), dtype: float64"
      ]
     },
     "execution_count": 61,
     "metadata": {},
     "output_type": "execute_result"
    }
   ],
   "source": [
    "df_IG['Excess Return % 22-mo (Agg_)'] = df_IG['Excess Return % 1-mo (Agg)'].rolling(22,win_type='boxcar',center=True).sum().shift(-11)\n",
    "df_IG[\"Excess Return % 22-mo (Agg_)\"].head()"
   ]
  },
  {
   "cell_type": "code",
   "execution_count": 62,
   "metadata": {},
   "outputs": [
    {
     "data": {
      "text/plain": [
       "0    0.4803\n",
       "1    0.9388\n",
       "2    1.2409\n",
       "3    0.5684\n",
       "4    0.8031\n",
       "Name: Excess Return % 23-mo (Agg_), dtype: float64"
      ]
     },
     "execution_count": 62,
     "metadata": {},
     "output_type": "execute_result"
    }
   ],
   "source": [
    "df_IG['Excess Return % 23-mo (Agg_)'] = df_IG['Excess Return % 1-mo (Agg)'].rolling(23,win_type='boxcar',center=True).sum().shift(-11)\n",
    "df_IG[\"Excess Return % 23-mo (Agg_)\"].head()"
   ]
  },
  {
   "cell_type": "code",
   "execution_count": 63,
   "metadata": {},
   "outputs": [
    {
     "data": {
      "text/plain": [
       "0    0.7746\n",
       "1    1.2471\n",
       "2    0.4266\n",
       "3    0.9232\n",
       "4    0.8333\n",
       "Name: Excess Return % 24-mo (Agg_), dtype: float64"
      ]
     },
     "execution_count": 63,
     "metadata": {},
     "output_type": "execute_result"
    }
   ],
   "source": [
    "df_IG['Excess Return % 24-mo (Agg_)'] = df_IG['Excess Return % 1-mo (Agg)'].rolling(24,win_type='boxcar',center=True).sum().shift(-12)\n",
    "df_IG[\"Excess Return % 24-mo (Agg_)\"].head()"
   ]
  },
  {
   "cell_type": "code",
   "execution_count": 64,
   "metadata": {},
   "outputs": [
    {
     "data": {
      "text/plain": [
       "0    1.0829\n",
       "1    0.4328\n",
       "2    0.7814\n",
       "3    0.9534\n",
       "4    0.2622\n",
       "Name: Excess Return % 25-mo (Agg_), dtype: float64"
      ]
     },
     "execution_count": 64,
     "metadata": {},
     "output_type": "execute_result"
    }
   ],
   "source": [
    "df_IG['Excess Return % 25-mo (Agg_)'] = df_IG['Excess Return % 1-mo (Agg)'].rolling(25,win_type='boxcar',center=True).sum().shift(-12)\n",
    "df_IG[\"Excess Return % 25-mo (Agg_)\"].head()"
   ]
  },
  {
   "cell_type": "code",
   "execution_count": 65,
   "metadata": {},
   "outputs": [
    {
     "data": {
      "text/plain": [
       "0    0.2686\n",
       "1    0.7876\n",
       "2    0.8116\n",
       "3    0.3823\n",
       "4    0.0878\n",
       "Name: Excess Return % 26-mo (Agg_), dtype: float64"
      ]
     },
     "execution_count": 65,
     "metadata": {},
     "output_type": "execute_result"
    }
   ],
   "source": [
    "df_IG['Excess Return % 26-mo (Agg_)'] = df_IG['Excess Return % 1-mo (Agg)'].rolling(26,win_type='boxcar',center=True).sum().shift(-13)\n",
    "df_IG[\"Excess Return % 26-mo (Agg_)\"].head()"
   ]
  },
  {
   "cell_type": "code",
   "execution_count": 66,
   "metadata": {},
   "outputs": [
    {
     "data": {
      "text/plain": [
       "0    0.6234\n",
       "1    0.8178\n",
       "2    0.2405\n",
       "3    0.2079\n",
       "4   -0.0715\n",
       "Name: Excess Return % 27-mo (Agg_), dtype: float64"
      ]
     },
     "execution_count": 66,
     "metadata": {},
     "output_type": "execute_result"
    }
   ],
   "source": [
    "df_IG['Excess Return % 27-mo (Agg_)'] = df_IG['Excess Return % 1-mo (Agg)'].rolling(27,win_type='boxcar',center=True).sum().shift(-13)\n",
    "df_IG[\"Excess Return % 27-mo (Agg_)\"].head()"
   ]
  },
  {
   "cell_type": "code",
   "execution_count": 67,
   "metadata": {},
   "outputs": [
    {
     "data": {
      "text/plain": [
       "0    0.6536\n",
       "1    0.2467\n",
       "2    0.0661\n",
       "3    0.0486\n",
       "4   -0.2776\n",
       "Name: Excess Return % 28-mo (Agg_), dtype: float64"
      ]
     },
     "execution_count": 67,
     "metadata": {},
     "output_type": "execute_result"
    }
   ],
   "source": [
    "df_IG['Excess Return % 28-mo (Agg_)'] = df_IG['Excess Return % 1-mo (Agg)'].rolling(28,win_type='boxcar',center=True).sum().shift(-14)\n",
    "df_IG[\"Excess Return % 28-mo (Agg_)\"].head()"
   ]
  },
  {
   "cell_type": "code",
   "execution_count": 68,
   "metadata": {},
   "outputs": [
    {
     "data": {
      "text/plain": [
       "0    0.0825\n",
       "1    0.0723\n",
       "2   -0.0932\n",
       "3   -0.1575\n",
       "4   -0.3045\n",
       "Name: Excess Return % 29-mo (Agg_), dtype: float64"
      ]
     },
     "execution_count": 68,
     "metadata": {},
     "output_type": "execute_result"
    }
   ],
   "source": [
    "df_IG['Excess Return % 29-mo (Agg_)'] = df_IG['Excess Return % 1-mo (Agg)'].rolling(29,win_type='boxcar',center=True).sum().shift(-14)\n",
    "df_IG[\"Excess Return % 29-mo (Agg_)\"].head()"
   ]
  },
  {
   "cell_type": "code",
   "execution_count": 69,
   "metadata": {},
   "outputs": [
    {
     "data": {
      "text/plain": [
       "0   -0.0919\n",
       "1   -0.0870\n",
       "2   -0.2993\n",
       "3   -0.1844\n",
       "4   -0.3625\n",
       "Name: Excess Return % 30-mo (Agg_), dtype: float64"
      ]
     },
     "execution_count": 69,
     "metadata": {},
     "output_type": "execute_result"
    }
   ],
   "source": [
    "df_IG['Excess Return % 30-mo (Agg_)'] = df_IG['Excess Return % 1-mo (Agg)'].rolling(30,win_type='boxcar',center=True).sum().shift(-15)\n",
    "df_IG[\"Excess Return % 30-mo (Agg_)\"].head()"
   ]
  },
  {
   "cell_type": "code",
   "execution_count": 70,
   "metadata": {},
   "outputs": [
    {
     "data": {
      "text/plain": [
       "0   -0.2512\n",
       "1   -0.2931\n",
       "2   -0.3262\n",
       "3   -0.2424\n",
       "4   -0.2173\n",
       "Name: Excess Return % 31-mo (Agg_), dtype: float64"
      ]
     },
     "execution_count": 70,
     "metadata": {},
     "output_type": "execute_result"
    }
   ],
   "source": [
    "df_IG['Excess Return % 31-mo (Agg_)'] = df_IG['Excess Return % 1-mo (Agg)'].rolling(31,win_type='boxcar',center=True).sum().shift(-15)\n",
    "df_IG[\"Excess Return % 31-mo (Agg_)\"].head()"
   ]
  },
  {
   "cell_type": "code",
   "execution_count": 71,
   "metadata": {},
   "outputs": [
    {
     "data": {
      "text/plain": [
       "0   -0.4573\n",
       "1   -0.3200\n",
       "2   -0.3842\n",
       "3   -0.0972\n",
       "4   -0.0931\n",
       "Name: Excess Return % 32-mo (Agg_), dtype: float64"
      ]
     },
     "execution_count": 71,
     "metadata": {},
     "output_type": "execute_result"
    }
   ],
   "source": [
    "df_IG['Excess Return % 32-mo (Agg_)'] = df_IG['Excess Return % 1-mo (Agg)'].rolling(32,win_type='boxcar',center=True).sum().shift(-16)\n",
    "df_IG[\"Excess Return % 32-mo (Agg_)\"].head()"
   ]
  },
  {
   "cell_type": "code",
   "execution_count": 72,
   "metadata": {},
   "outputs": [
    {
     "data": {
      "text/plain": [
       "0   -0.4842\n",
       "1   -0.3780\n",
       "2   -0.2390\n",
       "3    0.0270\n",
       "4   -0.1007\n",
       "Name: Excess Return % 33-mo (Agg_), dtype: float64"
      ]
     },
     "execution_count": 72,
     "metadata": {},
     "output_type": "execute_result"
    }
   ],
   "source": [
    "df_IG['Excess Return % 33-mo (Agg_)'] = df_IG['Excess Return % 1-mo (Agg)'].rolling(33,win_type='boxcar',center=True).sum().shift(-16)\n",
    "df_IG[\"Excess Return % 33-mo (Agg_)\"].head()"
   ]
  },
  {
   "cell_type": "code",
   "execution_count": 73,
   "metadata": {},
   "outputs": [
    {
     "data": {
      "text/plain": [
       "0   -0.5422\n",
       "1   -0.2328\n",
       "2   -0.1148\n",
       "3    0.0194\n",
       "4   -0.5361\n",
       "Name: Excess Return % 34-mo (Agg_), dtype: float64"
      ]
     },
     "execution_count": 73,
     "metadata": {},
     "output_type": "execute_result"
    }
   ],
   "source": [
    "df_IG['Excess Return % 34-mo (Agg_)'] = df_IG['Excess Return % 1-mo (Agg)'].rolling(34,win_type='boxcar',center=True).sum().shift(-17)\n",
    "df_IG[\"Excess Return % 34-mo (Agg_)\"].head()"
   ]
  },
  {
   "cell_type": "code",
   "execution_count": 74,
   "metadata": {},
   "outputs": [
    {
     "data": {
      "text/plain": [
       "0   -0.3970\n",
       "1   -0.1086\n",
       "2   -0.1224\n",
       "3   -0.4160\n",
       "4   -0.7445\n",
       "Name: Excess Return % 35-mo (Agg_), dtype: float64"
      ]
     },
     "execution_count": 74,
     "metadata": {},
     "output_type": "execute_result"
    }
   ],
   "source": [
    "df_IG['Excess Return % 35-mo (Agg_)'] = df_IG['Excess Return % 1-mo (Agg)'].rolling(35,win_type='boxcar',center=True).sum().shift(-17)\n",
    "df_IG[\"Excess Return % 35-mo (Agg_)\"].head()"
   ]
  },
  {
   "cell_type": "code",
   "execution_count": 75,
   "metadata": {},
   "outputs": [
    {
     "data": {
      "text/plain": [
       "0   -0.2728\n",
       "1   -0.1162\n",
       "2   -0.5578\n",
       "3   -0.6244\n",
       "4   -1.6942\n",
       "Name: Excess Return % 36-mo (Agg_), dtype: float64"
      ]
     },
     "execution_count": 75,
     "metadata": {},
     "output_type": "execute_result"
    }
   ],
   "source": [
    "df_IG['Excess Return % 36-mo (Agg_)'] = df_IG['Excess Return % 1-mo (Agg)'].rolling(36,win_type='boxcar',center=True).sum().shift(-18)\n",
    "df_IG[\"Excess Return % 36-mo (Agg_)\"].head()"
   ]
  },
  {
   "cell_type": "code",
   "execution_count": 76,
   "metadata": {},
   "outputs": [
    {
     "data": {
      "text/html": [
       "<div>\n",
       "<style scoped>\n",
       "    .dataframe tbody tr th:only-of-type {\n",
       "        vertical-align: middle;\n",
       "    }\n",
       "\n",
       "    .dataframe tbody tr th {\n",
       "        vertical-align: top;\n",
       "    }\n",
       "\n",
       "    .dataframe thead th {\n",
       "        text-align: right;\n",
       "    }\n",
       "</style>\n",
       "<table border=\"1\" class=\"dataframe\">\n",
       "  <thead>\n",
       "    <tr style=\"text-align: right;\">\n",
       "      <th></th>\n",
       "      <th>Date</th>\n",
       "      <th>OAS</th>\n",
       "      <th>Total Return % 1-mo-LOC</th>\n",
       "      <th>Agg Returns</th>\n",
       "      <th>Excess Return % 1-mo (Treasury)</th>\n",
       "      <th>Excess Return % 1-mo (Agg)</th>\n",
       "      <th>Excess Return % 3-mo (Treasury)</th>\n",
       "      <th>Excess Return % 3-mo (Agg)</th>\n",
       "      <th>Excess Return % 6-mo (Treasury)</th>\n",
       "      <th>Excess Return % 6-mo (Agg)</th>\n",
       "      <th>...</th>\n",
       "      <th>Excess Return % 27-mo (Agg_)</th>\n",
       "      <th>Excess Return % 28-mo (Agg_)</th>\n",
       "      <th>Excess Return % 29-mo (Agg_)</th>\n",
       "      <th>Excess Return % 30-mo (Agg_)</th>\n",
       "      <th>Excess Return % 31-mo (Agg_)</th>\n",
       "      <th>Excess Return % 32-mo (Agg_)</th>\n",
       "      <th>Excess Return % 33-mo (Agg_)</th>\n",
       "      <th>Excess Return % 34-mo (Agg_)</th>\n",
       "      <th>Excess Return % 35-mo (Agg_)</th>\n",
       "      <th>Excess Return % 36-mo (Agg_)</th>\n",
       "    </tr>\n",
       "  </thead>\n",
       "  <tbody>\n",
       "    <tr>\n",
       "      <th>0</th>\n",
       "      <td>1997-01-31</td>\n",
       "      <td>61</td>\n",
       "      <td>0.142</td>\n",
       "      <td>0.3062</td>\n",
       "      <td>0.102</td>\n",
       "      <td>-0.1642</td>\n",
       "      <td>0.437</td>\n",
       "      <td>-0.2998</td>\n",
       "      <td>0.547</td>\n",
       "      <td>0.1361</td>\n",
       "      <td>...</td>\n",
       "      <td>0.6234</td>\n",
       "      <td>0.6536</td>\n",
       "      <td>0.0825</td>\n",
       "      <td>-0.0919</td>\n",
       "      <td>-0.2512</td>\n",
       "      <td>-0.4573</td>\n",
       "      <td>-0.4842</td>\n",
       "      <td>-0.5422</td>\n",
       "      <td>-0.3970</td>\n",
       "      <td>-0.2728</td>\n",
       "    </tr>\n",
       "    <tr>\n",
       "      <th>1</th>\n",
       "      <td>1997-02-28</td>\n",
       "      <td>59</td>\n",
       "      <td>0.255</td>\n",
       "      <td>0.2488</td>\n",
       "      <td>0.234</td>\n",
       "      <td>0.0062</td>\n",
       "      <td>0.229</td>\n",
       "      <td>-0.0155</td>\n",
       "      <td>0.613</td>\n",
       "      <td>1.3050</td>\n",
       "      <td>...</td>\n",
       "      <td>0.8178</td>\n",
       "      <td>0.2467</td>\n",
       "      <td>0.0723</td>\n",
       "      <td>-0.0870</td>\n",
       "      <td>-0.2931</td>\n",
       "      <td>-0.3200</td>\n",
       "      <td>-0.3780</td>\n",
       "      <td>-0.2328</td>\n",
       "      <td>-0.1086</td>\n",
       "      <td>-0.1162</td>\n",
       "    </tr>\n",
       "    <tr>\n",
       "      <th>2</th>\n",
       "      <td>1997-03-31</td>\n",
       "      <td>57</td>\n",
       "      <td>-1.250</td>\n",
       "      <td>-1.1082</td>\n",
       "      <td>0.101</td>\n",
       "      <td>-0.1418</td>\n",
       "      <td>-0.046</td>\n",
       "      <td>-0.0510</td>\n",
       "      <td>0.333</td>\n",
       "      <td>0.6734</td>\n",
       "      <td>...</td>\n",
       "      <td>0.2405</td>\n",
       "      <td>0.0661</td>\n",
       "      <td>-0.0932</td>\n",
       "      <td>-0.2993</td>\n",
       "      <td>-0.3262</td>\n",
       "      <td>-0.3842</td>\n",
       "      <td>-0.2390</td>\n",
       "      <td>-0.1148</td>\n",
       "      <td>-0.1224</td>\n",
       "      <td>-0.5578</td>\n",
       "    </tr>\n",
       "    <tr>\n",
       "      <th>3</th>\n",
       "      <td>1997-04-30</td>\n",
       "      <td>59</td>\n",
       "      <td>1.617</td>\n",
       "      <td>1.4969</td>\n",
       "      <td>-0.106</td>\n",
       "      <td>0.1201</td>\n",
       "      <td>0.110</td>\n",
       "      <td>0.4359</td>\n",
       "      <td>0.241</td>\n",
       "      <td>1.1644</td>\n",
       "      <td>...</td>\n",
       "      <td>0.2079</td>\n",
       "      <td>0.0486</td>\n",
       "      <td>-0.1575</td>\n",
       "      <td>-0.1844</td>\n",
       "      <td>-0.2424</td>\n",
       "      <td>-0.0972</td>\n",
       "      <td>0.0270</td>\n",
       "      <td>0.0194</td>\n",
       "      <td>-0.4160</td>\n",
       "      <td>-0.6244</td>\n",
       "    </tr>\n",
       "    <tr>\n",
       "      <th>4</th>\n",
       "      <td>1997-05-31</td>\n",
       "      <td>61</td>\n",
       "      <td>0.916</td>\n",
       "      <td>0.9453</td>\n",
       "      <td>-0.041</td>\n",
       "      <td>-0.0293</td>\n",
       "      <td>0.384</td>\n",
       "      <td>1.3205</td>\n",
       "      <td>-0.261</td>\n",
       "      <td>1.0106</td>\n",
       "      <td>...</td>\n",
       "      <td>-0.0715</td>\n",
       "      <td>-0.2776</td>\n",
       "      <td>-0.3045</td>\n",
       "      <td>-0.3625</td>\n",
       "      <td>-0.2173</td>\n",
       "      <td>-0.0931</td>\n",
       "      <td>-0.1007</td>\n",
       "      <td>-0.5361</td>\n",
       "      <td>-0.7445</td>\n",
       "      <td>-1.6942</td>\n",
       "    </tr>\n",
       "  </tbody>\n",
       "</table>\n",
       "<p>5 rows × 89 columns</p>\n",
       "</div>"
      ],
      "text/plain": [
       "        Date  OAS  Total Return % 1-mo-LOC  Agg Returns  \\\n",
       "0 1997-01-31   61                    0.142       0.3062   \n",
       "1 1997-02-28   59                    0.255       0.2488   \n",
       "2 1997-03-31   57                   -1.250      -1.1082   \n",
       "3 1997-04-30   59                    1.617       1.4969   \n",
       "4 1997-05-31   61                    0.916       0.9453   \n",
       "\n",
       "   Excess Return % 1-mo (Treasury)  Excess Return % 1-mo (Agg)  \\\n",
       "0                            0.102                     -0.1642   \n",
       "1                            0.234                      0.0062   \n",
       "2                            0.101                     -0.1418   \n",
       "3                           -0.106                      0.1201   \n",
       "4                           -0.041                     -0.0293   \n",
       "\n",
       "   Excess Return % 3-mo (Treasury)  Excess Return % 3-mo (Agg)  \\\n",
       "0                            0.437                     -0.2998   \n",
       "1                            0.229                     -0.0155   \n",
       "2                           -0.046                     -0.0510   \n",
       "3                            0.110                      0.4359   \n",
       "4                            0.384                      1.3205   \n",
       "\n",
       "   Excess Return % 6-mo (Treasury)  Excess Return % 6-mo (Agg)  ...  \\\n",
       "0                            0.547                      0.1361  ...   \n",
       "1                            0.613                      1.3050  ...   \n",
       "2                            0.333                      0.6734  ...   \n",
       "3                            0.241                      1.1644  ...   \n",
       "4                           -0.261                      1.0106  ...   \n",
       "\n",
       "   Excess Return % 27-mo (Agg_)  Excess Return % 28-mo (Agg_)  \\\n",
       "0                        0.6234                        0.6536   \n",
       "1                        0.8178                        0.2467   \n",
       "2                        0.2405                        0.0661   \n",
       "3                        0.2079                        0.0486   \n",
       "4                       -0.0715                       -0.2776   \n",
       "\n",
       "   Excess Return % 29-mo (Agg_)  Excess Return % 30-mo (Agg_)  \\\n",
       "0                        0.0825                       -0.0919   \n",
       "1                        0.0723                       -0.0870   \n",
       "2                       -0.0932                       -0.2993   \n",
       "3                       -0.1575                       -0.1844   \n",
       "4                       -0.3045                       -0.3625   \n",
       "\n",
       "   Excess Return % 31-mo (Agg_)  Excess Return % 32-mo (Agg_)  \\\n",
       "0                       -0.2512                       -0.4573   \n",
       "1                       -0.2931                       -0.3200   \n",
       "2                       -0.3262                       -0.3842   \n",
       "3                       -0.2424                       -0.0972   \n",
       "4                       -0.2173                       -0.0931   \n",
       "\n",
       "   Excess Return % 33-mo (Agg_)  Excess Return % 34-mo (Agg_)  \\\n",
       "0                       -0.4842                       -0.5422   \n",
       "1                       -0.3780                       -0.2328   \n",
       "2                       -0.2390                       -0.1148   \n",
       "3                        0.0270                        0.0194   \n",
       "4                       -0.1007                       -0.5361   \n",
       "\n",
       "   Excess Return % 35-mo (Agg_)  Excess Return % 36-mo (Agg_)  \n",
       "0                       -0.3970                       -0.2728  \n",
       "1                       -0.1086                       -0.1162  \n",
       "2                       -0.1224                       -0.5578  \n",
       "3                       -0.4160                       -0.6244  \n",
       "4                       -0.7445                       -1.6942  \n",
       "\n",
       "[5 rows x 89 columns]"
      ]
     },
     "execution_count": 76,
     "metadata": {},
     "output_type": "execute_result"
    }
   ],
   "source": [
    "df_IG.head()"
   ]
  },
  {
   "cell_type": "code",
   "execution_count": 77,
   "metadata": {},
   "outputs": [
    {
     "data": {
      "text/html": [
       "<div>\n",
       "<style scoped>\n",
       "    .dataframe tbody tr th:only-of-type {\n",
       "        vertical-align: middle;\n",
       "    }\n",
       "\n",
       "    .dataframe tbody tr th {\n",
       "        vertical-align: top;\n",
       "    }\n",
       "\n",
       "    .dataframe thead th {\n",
       "        text-align: right;\n",
       "    }\n",
       "</style>\n",
       "<table border=\"1\" class=\"dataframe\">\n",
       "  <thead>\n",
       "    <tr style=\"text-align: right;\">\n",
       "      <th></th>\n",
       "      <th>Date</th>\n",
       "      <th>OAS</th>\n",
       "      <th>Total Return % 1-mo-LOC</th>\n",
       "      <th>Agg Returns</th>\n",
       "      <th>Excess Return % 1-mo (Treasury)</th>\n",
       "      <th>Excess Return % 1-mo (Agg)</th>\n",
       "      <th>Quadrant</th>\n",
       "      <th>Excess Return % 2-mo (Treasury_)</th>\n",
       "      <th>Excess Return % 3-mo (Treasury_)</th>\n",
       "      <th>Excess Return % 4-mo (Treasury_)</th>\n",
       "      <th>...</th>\n",
       "      <th>Excess Return % 27-mo (Agg_)</th>\n",
       "      <th>Excess Return % 28-mo (Agg_)</th>\n",
       "      <th>Excess Return % 29-mo (Agg_)</th>\n",
       "      <th>Excess Return % 30-mo (Agg_)</th>\n",
       "      <th>Excess Return % 31-mo (Agg_)</th>\n",
       "      <th>Excess Return % 32-mo (Agg_)</th>\n",
       "      <th>Excess Return % 33-mo (Agg_)</th>\n",
       "      <th>Excess Return % 34-mo (Agg_)</th>\n",
       "      <th>Excess Return % 35-mo (Agg_)</th>\n",
       "      <th>Excess Return % 36-mo (Agg_)</th>\n",
       "    </tr>\n",
       "  </thead>\n",
       "  <tbody>\n",
       "    <tr>\n",
       "      <th>0</th>\n",
       "      <td>1997-01-31</td>\n",
       "      <td>61</td>\n",
       "      <td>0.142</td>\n",
       "      <td>0.3062</td>\n",
       "      <td>0.102</td>\n",
       "      <td>-0.1642</td>\n",
       "      <td>4</td>\n",
       "      <td>0.336</td>\n",
       "      <td>0.437</td>\n",
       "      <td>0.331</td>\n",
       "      <td>...</td>\n",
       "      <td>0.6234</td>\n",
       "      <td>0.6536</td>\n",
       "      <td>0.0825</td>\n",
       "      <td>-0.0919</td>\n",
       "      <td>-0.2512</td>\n",
       "      <td>-0.4573</td>\n",
       "      <td>-0.4842</td>\n",
       "      <td>-0.5422</td>\n",
       "      <td>-0.3970</td>\n",
       "      <td>-0.2728</td>\n",
       "    </tr>\n",
       "    <tr>\n",
       "      <th>1</th>\n",
       "      <td>1997-02-28</td>\n",
       "      <td>59</td>\n",
       "      <td>0.255</td>\n",
       "      <td>0.2488</td>\n",
       "      <td>0.234</td>\n",
       "      <td>0.0062</td>\n",
       "      <td>4</td>\n",
       "      <td>0.335</td>\n",
       "      <td>0.229</td>\n",
       "      <td>0.188</td>\n",
       "      <td>...</td>\n",
       "      <td>0.8178</td>\n",
       "      <td>0.2467</td>\n",
       "      <td>0.0723</td>\n",
       "      <td>-0.0870</td>\n",
       "      <td>-0.2931</td>\n",
       "      <td>-0.3200</td>\n",
       "      <td>-0.3780</td>\n",
       "      <td>-0.2328</td>\n",
       "      <td>-0.1086</td>\n",
       "      <td>-0.1162</td>\n",
       "    </tr>\n",
       "    <tr>\n",
       "      <th>2</th>\n",
       "      <td>1997-03-31</td>\n",
       "      <td>57</td>\n",
       "      <td>-1.250</td>\n",
       "      <td>-1.1082</td>\n",
       "      <td>0.101</td>\n",
       "      <td>-0.1418</td>\n",
       "      <td>4</td>\n",
       "      <td>-0.005</td>\n",
       "      <td>-0.046</td>\n",
       "      <td>0.211</td>\n",
       "      <td>...</td>\n",
       "      <td>0.2405</td>\n",
       "      <td>0.0661</td>\n",
       "      <td>-0.0932</td>\n",
       "      <td>-0.2993</td>\n",
       "      <td>-0.3262</td>\n",
       "      <td>-0.3842</td>\n",
       "      <td>-0.2390</td>\n",
       "      <td>-0.1148</td>\n",
       "      <td>-0.1224</td>\n",
       "      <td>-0.5578</td>\n",
       "    </tr>\n",
       "    <tr>\n",
       "      <th>3</th>\n",
       "      <td>1997-04-30</td>\n",
       "      <td>59</td>\n",
       "      <td>1.617</td>\n",
       "      <td>1.4969</td>\n",
       "      <td>-0.106</td>\n",
       "      <td>0.1201</td>\n",
       "      <td>4</td>\n",
       "      <td>-0.147</td>\n",
       "      <td>0.110</td>\n",
       "      <td>0.278</td>\n",
       "      <td>...</td>\n",
       "      <td>0.2079</td>\n",
       "      <td>0.0486</td>\n",
       "      <td>-0.1575</td>\n",
       "      <td>-0.1844</td>\n",
       "      <td>-0.2424</td>\n",
       "      <td>-0.0972</td>\n",
       "      <td>0.0270</td>\n",
       "      <td>0.0194</td>\n",
       "      <td>-0.4160</td>\n",
       "      <td>-0.6244</td>\n",
       "    </tr>\n",
       "    <tr>\n",
       "      <th>4</th>\n",
       "      <td>1997-05-31</td>\n",
       "      <td>61</td>\n",
       "      <td>0.916</td>\n",
       "      <td>0.9453</td>\n",
       "      <td>-0.041</td>\n",
       "      <td>-0.0293</td>\n",
       "      <td>4</td>\n",
       "      <td>0.216</td>\n",
       "      <td>0.384</td>\n",
       "      <td>0.338</td>\n",
       "      <td>...</td>\n",
       "      <td>-0.0715</td>\n",
       "      <td>-0.2776</td>\n",
       "      <td>-0.3045</td>\n",
       "      <td>-0.3625</td>\n",
       "      <td>-0.2173</td>\n",
       "      <td>-0.0931</td>\n",
       "      <td>-0.1007</td>\n",
       "      <td>-0.5361</td>\n",
       "      <td>-0.7445</td>\n",
       "      <td>-1.6942</td>\n",
       "    </tr>\n",
       "  </tbody>\n",
       "</table>\n",
       "<p>5 rows × 77 columns</p>\n",
       "</div>"
      ],
      "text/plain": [
       "        Date  OAS  Total Return % 1-mo-LOC  Agg Returns  \\\n",
       "0 1997-01-31   61                    0.142       0.3062   \n",
       "1 1997-02-28   59                    0.255       0.2488   \n",
       "2 1997-03-31   57                   -1.250      -1.1082   \n",
       "3 1997-04-30   59                    1.617       1.4969   \n",
       "4 1997-05-31   61                    0.916       0.9453   \n",
       "\n",
       "   Excess Return % 1-mo (Treasury)  Excess Return % 1-mo (Agg)  Quadrant  \\\n",
       "0                            0.102                     -0.1642         4   \n",
       "1                            0.234                      0.0062         4   \n",
       "2                            0.101                     -0.1418         4   \n",
       "3                           -0.106                      0.1201         4   \n",
       "4                           -0.041                     -0.0293         4   \n",
       "\n",
       "   Excess Return % 2-mo (Treasury_)  Excess Return % 3-mo (Treasury_)  \\\n",
       "0                             0.336                             0.437   \n",
       "1                             0.335                             0.229   \n",
       "2                            -0.005                            -0.046   \n",
       "3                            -0.147                             0.110   \n",
       "4                             0.216                             0.384   \n",
       "\n",
       "   Excess Return % 4-mo (Treasury_)  ...  Excess Return % 27-mo (Agg_)  \\\n",
       "0                             0.331  ...                        0.6234   \n",
       "1                             0.188  ...                        0.8178   \n",
       "2                             0.211  ...                        0.2405   \n",
       "3                             0.278  ...                        0.2079   \n",
       "4                             0.338  ...                       -0.0715   \n",
       "\n",
       "   Excess Return % 28-mo (Agg_)  Excess Return % 29-mo (Agg_)  \\\n",
       "0                        0.6536                        0.0825   \n",
       "1                        0.2467                        0.0723   \n",
       "2                        0.0661                       -0.0932   \n",
       "3                        0.0486                       -0.1575   \n",
       "4                       -0.2776                       -0.3045   \n",
       "\n",
       "   Excess Return % 30-mo (Agg_)  Excess Return % 31-mo (Agg_)  \\\n",
       "0                       -0.0919                       -0.2512   \n",
       "1                       -0.0870                       -0.2931   \n",
       "2                       -0.2993                       -0.3262   \n",
       "3                       -0.1844                       -0.2424   \n",
       "4                       -0.3625                       -0.2173   \n",
       "\n",
       "   Excess Return % 32-mo (Agg_)  Excess Return % 33-mo (Agg_)  \\\n",
       "0                       -0.4573                       -0.4842   \n",
       "1                       -0.3200                       -0.3780   \n",
       "2                       -0.3842                       -0.2390   \n",
       "3                       -0.0972                        0.0270   \n",
       "4                       -0.0931                       -0.1007   \n",
       "\n",
       "   Excess Return % 34-mo (Agg_)  Excess Return % 35-mo (Agg_)  \\\n",
       "0                       -0.5422                       -0.3970   \n",
       "1                       -0.2328                       -0.1086   \n",
       "2                       -0.1148                       -0.1224   \n",
       "3                        0.0194                       -0.4160   \n",
       "4                       -0.5361                       -0.7445   \n",
       "\n",
       "   Excess Return % 36-mo (Agg_)  \n",
       "0                       -0.2728  \n",
       "1                       -0.1162  \n",
       "2                       -0.5578  \n",
       "3                       -0.6244  \n",
       "4                       -1.6942  \n",
       "\n",
       "[5 rows x 77 columns]"
      ]
     },
     "execution_count": 77,
     "metadata": {},
     "output_type": "execute_result"
    }
   ],
   "source": [
    "df_IG = df_IG.drop(columns = ['Excess Return % 3-mo (Treasury)','Excess Return % 3-mo (Agg)','Excess Return % 6-mo (Treasury)','Excess Return % 6-mo (Agg)','Excess Return % 9-mo (Treasury)','Excess Return % 9-mo (Agg)','Excess Return % 12-mo (Treasury)','Excess Return % 12-mo (Agg)','Excess Return % 24-mo (Treasury)','Excess Return % 24-mo (Agg)','Excess Return % 36-mo (Treasury)','Excess Return % 36-mo (Agg)'])\n",
    "df_IG.head()"
   ]
  },
  {
   "cell_type": "code",
   "execution_count": 78,
   "metadata": {
    "scrolled": false
   },
   "outputs": [
    {
     "name": "stdout",
     "output_type": "stream",
     "text": [
      "<class 'pandas.core.frame.DataFrame'>\n",
      "RangeIndex: 279 entries, 0 to 278\n",
      "Data columns (total 77 columns):\n",
      " #   Column                             Non-Null Count  Dtype         \n",
      "---  ------                             --------------  -----         \n",
      " 0   Date                               279 non-null    datetime64[ns]\n",
      " 1   OAS                                279 non-null    int64         \n",
      " 2   Total Return % 1-mo-LOC            279 non-null    float64       \n",
      " 3   Agg Returns                        279 non-null    float64       \n",
      " 4   Excess Return % 1-mo (Treasury)    279 non-null    float64       \n",
      " 5   Excess Return % 1-mo (Agg)         279 non-null    float64       \n",
      " 6   Quadrant                           279 non-null    int64         \n",
      " 7   Excess Return % 2-mo (Treasury_)   278 non-null    float64       \n",
      " 8   Excess Return % 3-mo (Treasury_)   277 non-null    float64       \n",
      " 9   Excess Return % 4-mo (Treasury_)   276 non-null    float64       \n",
      " 10  Excess Return % 5-mo (Treasury_)   275 non-null    float64       \n",
      " 11  Excess Return % 6-mo (Treasury_)   274 non-null    float64       \n",
      " 12  Excess Return % 7-mo (Treasury_)   273 non-null    float64       \n",
      " 13  Excess Return % 8-mo (Treasury_)   272 non-null    float64       \n",
      " 14  Excess Return % 9-mo (Treasury_)   271 non-null    float64       \n",
      " 15  Excess Return % 10-mo (Treasury_)  270 non-null    float64       \n",
      " 16  Excess Return % 11-mo (Treasury_)  269 non-null    float64       \n",
      " 17  Excess Return % 12-mo (Treasury_)  268 non-null    float64       \n",
      " 18  Excess Return % 13-mo (Treasury_)  267 non-null    float64       \n",
      " 19  Excess Return % 14-mo (Treasury_)  266 non-null    float64       \n",
      " 20  Excess Return % 15-mo (Treasury_)  265 non-null    float64       \n",
      " 21  Excess Return % 16-mo (Treasury_)  264 non-null    float64       \n",
      " 22  Excess Return % 17-mo (Treasury_)  263 non-null    float64       \n",
      " 23  Excess Return % 18-mo (Treasury_)  262 non-null    float64       \n",
      " 24  Excess Return % 19-mo (Treasury_)  261 non-null    float64       \n",
      " 25  Excess Return % 20-mo (Treasury_)  260 non-null    float64       \n",
      " 26  Excess Return % 21-mo (Treasury_)  259 non-null    float64       \n",
      " 27  Excess Return % 22-mo (Treasury_)  258 non-null    float64       \n",
      " 28  Excess Return % 23-mo (Treasury_)  257 non-null    float64       \n",
      " 29  Excess Return % 24-mo (Treasury_)  256 non-null    float64       \n",
      " 30  Excess Return % 25-mo (Treasury_)  255 non-null    float64       \n",
      " 31  Excess Return % 26-mo (Treasury_)  254 non-null    float64       \n",
      " 32  Excess Return % 27-mo (Treasury_)  253 non-null    float64       \n",
      " 33  Excess Return % 28-mo (Treasury_)  252 non-null    float64       \n",
      " 34  Excess Return % 29-mo (Treasury_)  251 non-null    float64       \n",
      " 35  Excess Return % 30-mo (Treasury_)  250 non-null    float64       \n",
      " 36  Excess Return % 31-mo (Treasury_)  249 non-null    float64       \n",
      " 37  Excess Return % 32-mo (Treasury_)  248 non-null    float64       \n",
      " 38  Excess Return % 33-mo (Treasury_)  247 non-null    float64       \n",
      " 39  Excess Return % 34-mo (Treasury_)  246 non-null    float64       \n",
      " 40  Excess Return % 35-mo (Treasury_)  245 non-null    float64       \n",
      " 41  Excess Return % 36-mo (Treasury_)  244 non-null    float64       \n",
      " 42  Excess Return % 2-mo (Agg_)        278 non-null    float64       \n",
      " 43  Excess Return % 3-mo (Agg_)        277 non-null    float64       \n",
      " 44  Excess Return % 4-mo (Agg_)        276 non-null    float64       \n",
      " 45  Excess Return % 5-mo (Agg_)        275 non-null    float64       \n",
      " 46  Excess Return % 6-mo (Agg_)        274 non-null    float64       \n",
      " 47  Excess Return % 7-mo (Agg_)        273 non-null    float64       \n",
      " 48  Excess Return % 8-mo (Agg_)        272 non-null    float64       \n",
      " 49  Excess Return % 9-mo (Agg_)        271 non-null    float64       \n",
      " 50  Excess Return % 10-mo (Agg_)       270 non-null    float64       \n",
      " 51  Excess Return % 11-mo (Agg_)       269 non-null    float64       \n",
      " 52  Excess Return % 12-mo (Agg_)       268 non-null    float64       \n",
      " 53  Excess Return % 13-mo (Agg_)       267 non-null    float64       \n",
      " 54  Excess Return % 14-mo (Agg_)       266 non-null    float64       \n",
      " 55  Excess Return % 15-mo (Agg_)       265 non-null    float64       \n",
      " 56  Excess Return % 16-mo (Agg_)       264 non-null    float64       \n",
      " 57  Excess Return % 17-mo (Agg_)       263 non-null    float64       \n",
      " 58  Excess Return % 18-mo (Agg_)       262 non-null    float64       \n",
      " 59  Excess Return % 19-mo (Agg_)       261 non-null    float64       \n",
      " 60  Excess Return % 20-mo (Agg_)       260 non-null    float64       \n",
      " 61  Excess Return % 21-mo (Agg_)       259 non-null    float64       \n",
      " 62  Excess Return % 22-mo (Agg_)       258 non-null    float64       \n",
      " 63  Excess Return % 23-mo (Agg_)       257 non-null    float64       \n",
      " 64  Excess Return % 24-mo (Agg_)       256 non-null    float64       \n",
      " 65  Excess Return % 25-mo (Agg_)       255 non-null    float64       \n",
      " 66  Excess Return % 26-mo (Agg_)       254 non-null    float64       \n",
      " 67  Excess Return % 27-mo (Agg_)       253 non-null    float64       \n",
      " 68  Excess Return % 28-mo (Agg_)       252 non-null    float64       \n",
      " 69  Excess Return % 29-mo (Agg_)       251 non-null    float64       \n",
      " 70  Excess Return % 30-mo (Agg_)       250 non-null    float64       \n",
      " 71  Excess Return % 31-mo (Agg_)       249 non-null    float64       \n",
      " 72  Excess Return % 32-mo (Agg_)       248 non-null    float64       \n",
      " 73  Excess Return % 33-mo (Agg_)       247 non-null    float64       \n",
      " 74  Excess Return % 34-mo (Agg_)       246 non-null    float64       \n",
      " 75  Excess Return % 35-mo (Agg_)       245 non-null    float64       \n",
      " 76  Excess Return % 36-mo (Agg_)       244 non-null    float64       \n",
      "dtypes: datetime64[ns](1), float64(74), int64(2)\n",
      "memory usage: 168.0 KB\n"
     ]
    }
   ],
   "source": [
    "df_IG.info() #"
   ]
  },
  {
   "cell_type": "markdown",
   "metadata": {},
   "source": [
    "# Now, lets get rid of outliers"
   ]
  },
  {
   "cell_type": "code",
   "execution_count": 79,
   "metadata": {},
   "outputs": [],
   "source": [
    "# OAS Outlier Adjustment\n",
    "q1 = df_IG[\"OAS\"].quantile(0.25)\n",
    "q3 = df_IG[\"OAS\"].quantile(0.75)\n",
    "\n",
    "iqr = q3 - q1\n",
    "\n",
    "lower_bound = q1 -(1.5 * iqr) \n",
    "upper_bound = q3 +(1.5 * iqr)\n",
    "\n",
    "df_IG = df_IG[(df_IG['OAS'] > lower_bound) & (df_IG['OAS'] < upper_bound)] # gets rid of outliers"
   ]
  },
  {
   "cell_type": "code",
   "execution_count": 81,
   "metadata": {},
   "outputs": [
    {
     "name": "stdout",
     "output_type": "stream",
     "text": [
      "6.25\n"
     ]
    }
   ],
   "source": [
    "print(lower_bound) # any value less than this will not be in the sample"
   ]
  },
  {
   "cell_type": "code",
   "execution_count": 82,
   "metadata": {},
   "outputs": [
    {
     "name": "stdout",
     "output_type": "stream",
     "text": [
      "272.25\n"
     ]
    }
   ],
   "source": [
    "print(upper_bound) # any value greater than this will not be in the sample"
   ]
  },
  {
   "cell_type": "code",
   "execution_count": 80,
   "metadata": {},
   "outputs": [
    {
     "data": {
      "text/html": [
       "<div>\n",
       "<style scoped>\n",
       "    .dataframe tbody tr th:only-of-type {\n",
       "        vertical-align: middle;\n",
       "    }\n",
       "\n",
       "    .dataframe tbody tr th {\n",
       "        vertical-align: top;\n",
       "    }\n",
       "\n",
       "    .dataframe thead th {\n",
       "        text-align: right;\n",
       "    }\n",
       "</style>\n",
       "<table border=\"1\" class=\"dataframe\">\n",
       "  <thead>\n",
       "    <tr style=\"text-align: right;\">\n",
       "      <th></th>\n",
       "      <th>OAS</th>\n",
       "      <th>Total Return % 1-mo-LOC</th>\n",
       "      <th>Agg Returns</th>\n",
       "      <th>Excess Return % 1-mo (Treasury)</th>\n",
       "      <th>Excess Return % 1-mo (Agg)</th>\n",
       "      <th>Quadrant</th>\n",
       "      <th>Excess Return % 2-mo (Treasury_)</th>\n",
       "      <th>Excess Return % 3-mo (Treasury_)</th>\n",
       "      <th>Excess Return % 4-mo (Treasury_)</th>\n",
       "      <th>Excess Return % 5-mo (Treasury_)</th>\n",
       "      <th>...</th>\n",
       "      <th>Excess Return % 27-mo (Agg_)</th>\n",
       "      <th>Excess Return % 28-mo (Agg_)</th>\n",
       "      <th>Excess Return % 29-mo (Agg_)</th>\n",
       "      <th>Excess Return % 30-mo (Agg_)</th>\n",
       "      <th>Excess Return % 31-mo (Agg_)</th>\n",
       "      <th>Excess Return % 32-mo (Agg_)</th>\n",
       "      <th>Excess Return % 33-mo (Agg_)</th>\n",
       "      <th>Excess Return % 34-mo (Agg_)</th>\n",
       "      <th>Excess Return % 35-mo (Agg_)</th>\n",
       "      <th>Excess Return % 36-mo (Agg_)</th>\n",
       "    </tr>\n",
       "  </thead>\n",
       "  <tbody>\n",
       "    <tr>\n",
       "      <th>count</th>\n",
       "      <td>265.000000</td>\n",
       "      <td>265.000000</td>\n",
       "      <td>265.000000</td>\n",
       "      <td>265.000000</td>\n",
       "      <td>265.000000</td>\n",
       "      <td>265.000000</td>\n",
       "      <td>265.000000</td>\n",
       "      <td>264.000000</td>\n",
       "      <td>263.000000</td>\n",
       "      <td>262.000000</td>\n",
       "      <td>...</td>\n",
       "      <td>240.000000</td>\n",
       "      <td>239.000000</td>\n",
       "      <td>238.000000</td>\n",
       "      <td>237.000000</td>\n",
       "      <td>236.000000</td>\n",
       "      <td>235.000000</td>\n",
       "      <td>234.000000</td>\n",
       "      <td>233.000000</td>\n",
       "      <td>232.000000</td>\n",
       "      <td>231.000000</td>\n",
       "    </tr>\n",
       "    <tr>\n",
       "      <th>mean</th>\n",
       "      <td>138.467925</td>\n",
       "      <td>0.524906</td>\n",
       "      <td>0.429252</td>\n",
       "      <td>0.082758</td>\n",
       "      <td>0.095654</td>\n",
       "      <td>2.501887</td>\n",
       "      <td>0.087170</td>\n",
       "      <td>0.141212</td>\n",
       "      <td>0.169947</td>\n",
       "      <td>0.164038</td>\n",
       "      <td>...</td>\n",
       "      <td>1.368364</td>\n",
       "      <td>1.452177</td>\n",
       "      <td>1.525321</td>\n",
       "      <td>1.608193</td>\n",
       "      <td>1.689864</td>\n",
       "      <td>1.769491</td>\n",
       "      <td>1.849698</td>\n",
       "      <td>1.927652</td>\n",
       "      <td>2.006208</td>\n",
       "      <td>2.083613</td>\n",
       "    </tr>\n",
       "    <tr>\n",
       "      <th>std</th>\n",
       "      <td>45.473934</td>\n",
       "      <td>1.226121</td>\n",
       "      <td>0.936511</td>\n",
       "      <td>0.889975</td>\n",
       "      <td>0.548312</td>\n",
       "      <td>1.077049</td>\n",
       "      <td>1.538984</td>\n",
       "      <td>1.809523</td>\n",
       "      <td>2.143818</td>\n",
       "      <td>2.589041</td>\n",
       "      <td>...</td>\n",
       "      <td>4.157903</td>\n",
       "      <td>4.229926</td>\n",
       "      <td>4.290089</td>\n",
       "      <td>4.356719</td>\n",
       "      <td>4.427791</td>\n",
       "      <td>4.491090</td>\n",
       "      <td>4.550779</td>\n",
       "      <td>4.606268</td>\n",
       "      <td>4.660969</td>\n",
       "      <td>4.720419</td>\n",
       "    </tr>\n",
       "    <tr>\n",
       "      <th>min</th>\n",
       "      <td>54.000000</td>\n",
       "      <td>-4.221000</td>\n",
       "      <td>-3.361900</td>\n",
       "      <td>-3.293000</td>\n",
       "      <td>-1.779200</td>\n",
       "      <td>1.000000</td>\n",
       "      <td>-13.022000</td>\n",
       "      <td>-13.659000</td>\n",
       "      <td>-12.598000</td>\n",
       "      <td>-18.563000</td>\n",
       "      <td>...</td>\n",
       "      <td>-15.485600</td>\n",
       "      <td>-15.605100</td>\n",
       "      <td>-15.492800</td>\n",
       "      <td>-15.466100</td>\n",
       "      <td>-15.681800</td>\n",
       "      <td>-15.960500</td>\n",
       "      <td>-15.894500</td>\n",
       "      <td>-16.110200</td>\n",
       "      <td>-16.071000</td>\n",
       "      <td>-15.977300</td>\n",
       "    </tr>\n",
       "    <tr>\n",
       "      <th>25%</th>\n",
       "      <td>101.000000</td>\n",
       "      <td>-0.210000</td>\n",
       "      <td>-0.123000</td>\n",
       "      <td>-0.302000</td>\n",
       "      <td>-0.206100</td>\n",
       "      <td>2.000000</td>\n",
       "      <td>-0.501000</td>\n",
       "      <td>-0.638000</td>\n",
       "      <td>-0.751500</td>\n",
       "      <td>-0.720250</td>\n",
       "      <td>...</td>\n",
       "      <td>-0.630575</td>\n",
       "      <td>-0.654100</td>\n",
       "      <td>-0.526150</td>\n",
       "      <td>-0.651400</td>\n",
       "      <td>-0.679725</td>\n",
       "      <td>-0.822950</td>\n",
       "      <td>-0.831425</td>\n",
       "      <td>-0.976600</td>\n",
       "      <td>-0.895475</td>\n",
       "      <td>-1.042050</td>\n",
       "    </tr>\n",
       "    <tr>\n",
       "      <th>50%</th>\n",
       "      <td>132.000000</td>\n",
       "      <td>0.539000</td>\n",
       "      <td>0.464200</td>\n",
       "      <td>0.149000</td>\n",
       "      <td>0.101000</td>\n",
       "      <td>3.000000</td>\n",
       "      <td>0.282000</td>\n",
       "      <td>0.381500</td>\n",
       "      <td>0.388000</td>\n",
       "      <td>0.346500</td>\n",
       "      <td>...</td>\n",
       "      <td>1.869750</td>\n",
       "      <td>1.912800</td>\n",
       "      <td>2.087850</td>\n",
       "      <td>2.330100</td>\n",
       "      <td>2.243400</td>\n",
       "      <td>2.517600</td>\n",
       "      <td>2.888750</td>\n",
       "      <td>3.064700</td>\n",
       "      <td>3.304650</td>\n",
       "      <td>3.460700</td>\n",
       "    </tr>\n",
       "    <tr>\n",
       "      <th>75%</th>\n",
       "      <td>167.000000</td>\n",
       "      <td>1.295000</td>\n",
       "      <td>1.062200</td>\n",
       "      <td>0.470000</td>\n",
       "      <td>0.385100</td>\n",
       "      <td>3.000000</td>\n",
       "      <td>0.808000</td>\n",
       "      <td>1.108250</td>\n",
       "      <td>1.441000</td>\n",
       "      <td>1.698750</td>\n",
       "      <td>...</td>\n",
       "      <td>4.267425</td>\n",
       "      <td>4.520500</td>\n",
       "      <td>4.592975</td>\n",
       "      <td>4.692800</td>\n",
       "      <td>4.849850</td>\n",
       "      <td>4.899350</td>\n",
       "      <td>4.979725</td>\n",
       "      <td>5.010200</td>\n",
       "      <td>5.313450</td>\n",
       "      <td>5.445950</td>\n",
       "    </tr>\n",
       "    <tr>\n",
       "      <th>max</th>\n",
       "      <td>265.000000</td>\n",
       "      <td>3.948000</td>\n",
       "      <td>2.695300</td>\n",
       "      <td>3.504000</td>\n",
       "      <td>2.335000</td>\n",
       "      <td>4.000000</td>\n",
       "      <td>4.581000</td>\n",
       "      <td>5.630000</td>\n",
       "      <td>6.608000</td>\n",
       "      <td>6.488000</td>\n",
       "      <td>...</td>\n",
       "      <td>8.134800</td>\n",
       "      <td>8.937700</td>\n",
       "      <td>8.698200</td>\n",
       "      <td>9.088700</td>\n",
       "      <td>9.290300</td>\n",
       "      <td>10.162300</td>\n",
       "      <td>10.120200</td>\n",
       "      <td>10.287600</td>\n",
       "      <td>9.961800</td>\n",
       "      <td>10.421600</td>\n",
       "    </tr>\n",
       "  </tbody>\n",
       "</table>\n",
       "<p>8 rows × 76 columns</p>\n",
       "</div>"
      ],
      "text/plain": [
       "              OAS  Total Return % 1-mo-LOC  Agg Returns  \\\n",
       "count  265.000000               265.000000   265.000000   \n",
       "mean   138.467925                 0.524906     0.429252   \n",
       "std     45.473934                 1.226121     0.936511   \n",
       "min     54.000000                -4.221000    -3.361900   \n",
       "25%    101.000000                -0.210000    -0.123000   \n",
       "50%    132.000000                 0.539000     0.464200   \n",
       "75%    167.000000                 1.295000     1.062200   \n",
       "max    265.000000                 3.948000     2.695300   \n",
       "\n",
       "       Excess Return % 1-mo (Treasury)  Excess Return % 1-mo (Agg)  \\\n",
       "count                       265.000000                  265.000000   \n",
       "mean                          0.082758                    0.095654   \n",
       "std                           0.889975                    0.548312   \n",
       "min                          -3.293000                   -1.779200   \n",
       "25%                          -0.302000                   -0.206100   \n",
       "50%                           0.149000                    0.101000   \n",
       "75%                           0.470000                    0.385100   \n",
       "max                           3.504000                    2.335000   \n",
       "\n",
       "         Quadrant  Excess Return % 2-mo (Treasury_)  \\\n",
       "count  265.000000                        265.000000   \n",
       "mean     2.501887                          0.087170   \n",
       "std      1.077049                          1.538984   \n",
       "min      1.000000                        -13.022000   \n",
       "25%      2.000000                         -0.501000   \n",
       "50%      3.000000                          0.282000   \n",
       "75%      3.000000                          0.808000   \n",
       "max      4.000000                          4.581000   \n",
       "\n",
       "       Excess Return % 3-mo (Treasury_)  Excess Return % 4-mo (Treasury_)  \\\n",
       "count                        264.000000                        263.000000   \n",
       "mean                           0.141212                          0.169947   \n",
       "std                            1.809523                          2.143818   \n",
       "min                          -13.659000                        -12.598000   \n",
       "25%                           -0.638000                         -0.751500   \n",
       "50%                            0.381500                          0.388000   \n",
       "75%                            1.108250                          1.441000   \n",
       "max                            5.630000                          6.608000   \n",
       "\n",
       "       Excess Return % 5-mo (Treasury_)  ...  Excess Return % 27-mo (Agg_)  \\\n",
       "count                        262.000000  ...                    240.000000   \n",
       "mean                           0.164038  ...                      1.368364   \n",
       "std                            2.589041  ...                      4.157903   \n",
       "min                          -18.563000  ...                    -15.485600   \n",
       "25%                           -0.720250  ...                     -0.630575   \n",
       "50%                            0.346500  ...                      1.869750   \n",
       "75%                            1.698750  ...                      4.267425   \n",
       "max                            6.488000  ...                      8.134800   \n",
       "\n",
       "       Excess Return % 28-mo (Agg_)  Excess Return % 29-mo (Agg_)  \\\n",
       "count                    239.000000                    238.000000   \n",
       "mean                       1.452177                      1.525321   \n",
       "std                        4.229926                      4.290089   \n",
       "min                      -15.605100                    -15.492800   \n",
       "25%                       -0.654100                     -0.526150   \n",
       "50%                        1.912800                      2.087850   \n",
       "75%                        4.520500                      4.592975   \n",
       "max                        8.937700                      8.698200   \n",
       "\n",
       "       Excess Return % 30-mo (Agg_)  Excess Return % 31-mo (Agg_)  \\\n",
       "count                    237.000000                    236.000000   \n",
       "mean                       1.608193                      1.689864   \n",
       "std                        4.356719                      4.427791   \n",
       "min                      -15.466100                    -15.681800   \n",
       "25%                       -0.651400                     -0.679725   \n",
       "50%                        2.330100                      2.243400   \n",
       "75%                        4.692800                      4.849850   \n",
       "max                        9.088700                      9.290300   \n",
       "\n",
       "       Excess Return % 32-mo (Agg_)  Excess Return % 33-mo (Agg_)  \\\n",
       "count                    235.000000                    234.000000   \n",
       "mean                       1.769491                      1.849698   \n",
       "std                        4.491090                      4.550779   \n",
       "min                      -15.960500                    -15.894500   \n",
       "25%                       -0.822950                     -0.831425   \n",
       "50%                        2.517600                      2.888750   \n",
       "75%                        4.899350                      4.979725   \n",
       "max                       10.162300                     10.120200   \n",
       "\n",
       "       Excess Return % 34-mo (Agg_)  Excess Return % 35-mo (Agg_)  \\\n",
       "count                    233.000000                    232.000000   \n",
       "mean                       1.927652                      2.006208   \n",
       "std                        4.606268                      4.660969   \n",
       "min                      -16.110200                    -16.071000   \n",
       "25%                       -0.976600                     -0.895475   \n",
       "50%                        3.064700                      3.304650   \n",
       "75%                        5.010200                      5.313450   \n",
       "max                       10.287600                      9.961800   \n",
       "\n",
       "       Excess Return % 36-mo (Agg_)  \n",
       "count                    231.000000  \n",
       "mean                       2.083613  \n",
       "std                        4.720419  \n",
       "min                      -15.977300  \n",
       "25%                       -1.042050  \n",
       "50%                        3.460700  \n",
       "75%                        5.445950  \n",
       "max                       10.421600  \n",
       "\n",
       "[8 rows x 76 columns]"
      ]
     },
     "execution_count": 80,
     "metadata": {},
     "output_type": "execute_result"
    }
   ],
   "source": [
    "df_IG.describe()"
   ]
  },
  {
   "cell_type": "markdown",
   "metadata": {},
   "source": [
    "# Time to Normalize our data, we use min/max scale"
   ]
  },
  {
   "cell_type": "code",
   "execution_count": 85,
   "metadata": {},
   "outputs": [
    {
     "ename": "TypeError",
     "evalue": "'>=' not supported between instances of 'Timestamp' and 'int'",
     "output_type": "error",
     "traceback": [
      "\u001b[0;31m---------------------------------------------------------------------------\u001b[0m",
      "\u001b[0;31mTypeError\u001b[0m                                 Traceback (most recent call last)",
      "\u001b[0;32m<ipython-input-85-9493acea462c>\u001b[0m in \u001b[0;36m<module>\u001b[0;34m\u001b[0m\n\u001b[1;32m      1\u001b[0m \u001b[0mdf_IG\u001b[0m\u001b[0;34m[\u001b[0m\u001b[0;34m'OAS'\u001b[0m\u001b[0;34m]\u001b[0m \u001b[0;34m=\u001b[0m \u001b[0mpd\u001b[0m\u001b[0;34m.\u001b[0m\u001b[0mto_numeric\u001b[0m\u001b[0;34m(\u001b[0m\u001b[0mdf_IG\u001b[0m\u001b[0;34m[\u001b[0m\u001b[0;34m'OAS'\u001b[0m\u001b[0;34m]\u001b[0m\u001b[0;34m,\u001b[0m\u001b[0merrors\u001b[0m\u001b[0;34m=\u001b[0m\u001b[0;34m'coerce'\u001b[0m\u001b[0;34m)\u001b[0m \u001b[0;31m# converting back to float64 for normalize\u001b[0m\u001b[0;34m\u001b[0m\u001b[0;34m\u001b[0m\u001b[0m\n\u001b[1;32m      2\u001b[0m \u001b[0mcolumn_maxes\u001b[0m \u001b[0;34m=\u001b[0m \u001b[0mdf_IG\u001b[0m\u001b[0;34m.\u001b[0m\u001b[0mmax\u001b[0m\u001b[0;34m(\u001b[0m\u001b[0;34m)\u001b[0m\u001b[0;34m\u001b[0m\u001b[0;34m\u001b[0m\u001b[0m\n\u001b[0;32m----> 3\u001b[0;31m \u001b[0mdf_max\u001b[0m \u001b[0;34m=\u001b[0m \u001b[0mcolumn_maxes\u001b[0m\u001b[0;34m.\u001b[0m\u001b[0mmax\u001b[0m\u001b[0;34m(\u001b[0m\u001b[0;34m)\u001b[0m\u001b[0;34m\u001b[0m\u001b[0;34m\u001b[0m\u001b[0m\n\u001b[0m\u001b[1;32m      4\u001b[0m \u001b[0mcolumn_mins\u001b[0m \u001b[0;34m=\u001b[0m \u001b[0mdf_IG\u001b[0m\u001b[0;34m.\u001b[0m\u001b[0mmin\u001b[0m\u001b[0;34m(\u001b[0m\u001b[0;34m)\u001b[0m\u001b[0;34m\u001b[0m\u001b[0;34m\u001b[0m\u001b[0m\n\u001b[1;32m      5\u001b[0m \u001b[0mdf_min\u001b[0m \u001b[0;34m=\u001b[0m \u001b[0mcolumn_mins\u001b[0m\u001b[0;34m.\u001b[0m\u001b[0mmin\u001b[0m\u001b[0;34m(\u001b[0m\u001b[0;34m)\u001b[0m\u001b[0;34m\u001b[0m\u001b[0;34m\u001b[0m\u001b[0m\n",
      "\u001b[0;32m/opt/anaconda3/lib/python3.7/site-packages/pandas/core/generic.py\u001b[0m in \u001b[0;36mstat_func\u001b[0;34m(self, axis, skipna, level, numeric_only, **kwargs)\u001b[0m\n\u001b[1;32m  11215\u001b[0m             \u001b[0;32mreturn\u001b[0m \u001b[0mself\u001b[0m\u001b[0;34m.\u001b[0m\u001b[0m_agg_by_level\u001b[0m\u001b[0;34m(\u001b[0m\u001b[0mname\u001b[0m\u001b[0;34m,\u001b[0m \u001b[0maxis\u001b[0m\u001b[0;34m=\u001b[0m\u001b[0maxis\u001b[0m\u001b[0;34m,\u001b[0m \u001b[0mlevel\u001b[0m\u001b[0;34m=\u001b[0m\u001b[0mlevel\u001b[0m\u001b[0;34m,\u001b[0m \u001b[0mskipna\u001b[0m\u001b[0;34m=\u001b[0m\u001b[0mskipna\u001b[0m\u001b[0;34m)\u001b[0m\u001b[0;34m\u001b[0m\u001b[0;34m\u001b[0m\u001b[0m\n\u001b[1;32m  11216\u001b[0m         return self._reduce(\n\u001b[0;32m> 11217\u001b[0;31m             \u001b[0mf\u001b[0m\u001b[0;34m,\u001b[0m \u001b[0mname\u001b[0m\u001b[0;34m,\u001b[0m \u001b[0maxis\u001b[0m\u001b[0;34m=\u001b[0m\u001b[0maxis\u001b[0m\u001b[0;34m,\u001b[0m \u001b[0mskipna\u001b[0m\u001b[0;34m=\u001b[0m\u001b[0mskipna\u001b[0m\u001b[0;34m,\u001b[0m \u001b[0mnumeric_only\u001b[0m\u001b[0;34m=\u001b[0m\u001b[0mnumeric_only\u001b[0m\u001b[0;34m\u001b[0m\u001b[0;34m\u001b[0m\u001b[0m\n\u001b[0m\u001b[1;32m  11218\u001b[0m         )\n\u001b[1;32m  11219\u001b[0m \u001b[0;34m\u001b[0m\u001b[0m\n",
      "\u001b[0;32m/opt/anaconda3/lib/python3.7/site-packages/pandas/core/series.py\u001b[0m in \u001b[0;36m_reduce\u001b[0;34m(self, op, name, axis, skipna, numeric_only, filter_type, **kwds)\u001b[0m\n\u001b[1;32m   3889\u001b[0m                 )\n\u001b[1;32m   3890\u001b[0m             \u001b[0;32mwith\u001b[0m \u001b[0mnp\u001b[0m\u001b[0;34m.\u001b[0m\u001b[0merrstate\u001b[0m\u001b[0;34m(\u001b[0m\u001b[0mall\u001b[0m\u001b[0;34m=\u001b[0m\u001b[0;34m\"ignore\"\u001b[0m\u001b[0;34m)\u001b[0m\u001b[0;34m:\u001b[0m\u001b[0;34m\u001b[0m\u001b[0;34m\u001b[0m\u001b[0m\n\u001b[0;32m-> 3891\u001b[0;31m                 \u001b[0;32mreturn\u001b[0m \u001b[0mop\u001b[0m\u001b[0;34m(\u001b[0m\u001b[0mdelegate\u001b[0m\u001b[0;34m,\u001b[0m \u001b[0mskipna\u001b[0m\u001b[0;34m=\u001b[0m\u001b[0mskipna\u001b[0m\u001b[0;34m,\u001b[0m \u001b[0;34m**\u001b[0m\u001b[0mkwds\u001b[0m\u001b[0;34m)\u001b[0m\u001b[0;34m\u001b[0m\u001b[0;34m\u001b[0m\u001b[0m\n\u001b[0m\u001b[1;32m   3892\u001b[0m \u001b[0;34m\u001b[0m\u001b[0m\n\u001b[1;32m   3893\u001b[0m         \u001b[0;31m# TODO(EA) dispatch to Index\u001b[0m\u001b[0;34m\u001b[0m\u001b[0;34m\u001b[0m\u001b[0;34m\u001b[0m\u001b[0m\n",
      "\u001b[0;32m/opt/anaconda3/lib/python3.7/site-packages/pandas/core/nanops.py\u001b[0m in \u001b[0;36mf\u001b[0;34m(values, axis, skipna, **kwds)\u001b[0m\n\u001b[1;32m    123\u001b[0m                     \u001b[0mresult\u001b[0m \u001b[0;34m=\u001b[0m \u001b[0malt\u001b[0m\u001b[0;34m(\u001b[0m\u001b[0mvalues\u001b[0m\u001b[0;34m,\u001b[0m \u001b[0maxis\u001b[0m\u001b[0;34m=\u001b[0m\u001b[0maxis\u001b[0m\u001b[0;34m,\u001b[0m \u001b[0mskipna\u001b[0m\u001b[0;34m=\u001b[0m\u001b[0mskipna\u001b[0m\u001b[0;34m,\u001b[0m \u001b[0;34m**\u001b[0m\u001b[0mkwds\u001b[0m\u001b[0;34m)\u001b[0m\u001b[0;34m\u001b[0m\u001b[0;34m\u001b[0m\u001b[0m\n\u001b[1;32m    124\u001b[0m             \u001b[0;32melse\u001b[0m\u001b[0;34m:\u001b[0m\u001b[0;34m\u001b[0m\u001b[0;34m\u001b[0m\u001b[0m\n\u001b[0;32m--> 125\u001b[0;31m                 \u001b[0mresult\u001b[0m \u001b[0;34m=\u001b[0m \u001b[0malt\u001b[0m\u001b[0;34m(\u001b[0m\u001b[0mvalues\u001b[0m\u001b[0;34m,\u001b[0m \u001b[0maxis\u001b[0m\u001b[0;34m=\u001b[0m\u001b[0maxis\u001b[0m\u001b[0;34m,\u001b[0m \u001b[0mskipna\u001b[0m\u001b[0;34m=\u001b[0m\u001b[0mskipna\u001b[0m\u001b[0;34m,\u001b[0m \u001b[0;34m**\u001b[0m\u001b[0mkwds\u001b[0m\u001b[0;34m)\u001b[0m\u001b[0;34m\u001b[0m\u001b[0;34m\u001b[0m\u001b[0m\n\u001b[0m\u001b[1;32m    126\u001b[0m \u001b[0;34m\u001b[0m\u001b[0m\n\u001b[1;32m    127\u001b[0m             \u001b[0;32mreturn\u001b[0m \u001b[0mresult\u001b[0m\u001b[0;34m\u001b[0m\u001b[0;34m\u001b[0m\u001b[0m\n",
      "\u001b[0;32m/opt/anaconda3/lib/python3.7/site-packages/pandas/core/nanops.py\u001b[0m in \u001b[0;36mreduction\u001b[0;34m(values, axis, skipna, mask)\u001b[0m\n\u001b[1;32m    835\u001b[0m                 \u001b[0mresult\u001b[0m \u001b[0;34m=\u001b[0m \u001b[0mnp\u001b[0m\u001b[0;34m.\u001b[0m\u001b[0mnan\u001b[0m\u001b[0;34m\u001b[0m\u001b[0;34m\u001b[0m\u001b[0m\n\u001b[1;32m    836\u001b[0m         \u001b[0;32melse\u001b[0m\u001b[0;34m:\u001b[0m\u001b[0;34m\u001b[0m\u001b[0;34m\u001b[0m\u001b[0m\n\u001b[0;32m--> 837\u001b[0;31m             \u001b[0mresult\u001b[0m \u001b[0;34m=\u001b[0m \u001b[0mgetattr\u001b[0m\u001b[0;34m(\u001b[0m\u001b[0mvalues\u001b[0m\u001b[0;34m,\u001b[0m \u001b[0mmeth\u001b[0m\u001b[0;34m)\u001b[0m\u001b[0;34m(\u001b[0m\u001b[0maxis\u001b[0m\u001b[0;34m)\u001b[0m\u001b[0;34m\u001b[0m\u001b[0;34m\u001b[0m\u001b[0m\n\u001b[0m\u001b[1;32m    838\u001b[0m \u001b[0;34m\u001b[0m\u001b[0m\n\u001b[1;32m    839\u001b[0m         \u001b[0mresult\u001b[0m \u001b[0;34m=\u001b[0m \u001b[0m_wrap_results\u001b[0m\u001b[0;34m(\u001b[0m\u001b[0mresult\u001b[0m\u001b[0;34m,\u001b[0m \u001b[0mdtype\u001b[0m\u001b[0;34m,\u001b[0m \u001b[0mfill_value\u001b[0m\u001b[0;34m)\u001b[0m\u001b[0;34m\u001b[0m\u001b[0;34m\u001b[0m\u001b[0m\n",
      "\u001b[0;32m/opt/anaconda3/lib/python3.7/site-packages/numpy/core/_methods.py\u001b[0m in \u001b[0;36m_amax\u001b[0;34m(a, axis, out, keepdims, initial, where)\u001b[0m\n\u001b[1;32m     28\u001b[0m def _amax(a, axis=None, out=None, keepdims=False,\n\u001b[1;32m     29\u001b[0m           initial=_NoValue, where=True):\n\u001b[0;32m---> 30\u001b[0;31m     \u001b[0;32mreturn\u001b[0m \u001b[0mumr_maximum\u001b[0m\u001b[0;34m(\u001b[0m\u001b[0ma\u001b[0m\u001b[0;34m,\u001b[0m \u001b[0maxis\u001b[0m\u001b[0;34m,\u001b[0m \u001b[0;32mNone\u001b[0m\u001b[0;34m,\u001b[0m \u001b[0mout\u001b[0m\u001b[0;34m,\u001b[0m \u001b[0mkeepdims\u001b[0m\u001b[0;34m,\u001b[0m \u001b[0minitial\u001b[0m\u001b[0;34m,\u001b[0m \u001b[0mwhere\u001b[0m\u001b[0;34m)\u001b[0m\u001b[0;34m\u001b[0m\u001b[0;34m\u001b[0m\u001b[0m\n\u001b[0m\u001b[1;32m     31\u001b[0m \u001b[0;34m\u001b[0m\u001b[0m\n\u001b[1;32m     32\u001b[0m def _amin(a, axis=None, out=None, keepdims=False,\n",
      "\u001b[0;31mTypeError\u001b[0m: '>=' not supported between instances of 'Timestamp' and 'int'"
     ]
    }
   ],
   "source": [
    "df_IG['OAS'] = pd.to_numeric(df_IG['OAS'],errors='coerce') # converting back to float64 for normalize\n",
    "\n",
    "\n",
    "column_maxes = df_IG.max()\n",
    "df_max = column_maxes.max()\n",
    "column_mins = df_IG.min()\n",
    "df_min = column_mins.min()\n",
    "normalized_df = (df_IG - df_min) / (df_max - df_min)"
   ]
  },
  {
   "cell_type": "code",
   "execution_count": null,
   "metadata": {},
   "outputs": [],
   "source": []
  }
 ],
 "metadata": {
  "kernelspec": {
   "display_name": "Python 3",
   "language": "python",
   "name": "python3"
  },
  "language_info": {
   "codemirror_mode": {
    "name": "ipython",
    "version": 3
   },
   "file_extension": ".py",
   "mimetype": "text/x-python",
   "name": "python",
   "nbconvert_exporter": "python",
   "pygments_lexer": "ipython3",
   "version": "3.7.6"
  }
 },
 "nbformat": 4,
 "nbformat_minor": 4
}
