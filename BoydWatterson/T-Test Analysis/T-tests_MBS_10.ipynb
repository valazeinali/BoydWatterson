{
 "cells": [
  {
   "cell_type": "code",
   "execution_count": 1,
   "metadata": {},
   "outputs": [
    {
     "name": "stdout",
     "output_type": "stream",
     "text": [
      "Populating the interactive namespace from numpy and matplotlib\n"
     ]
    }
   ],
   "source": [
    "import numpy as np\n",
    "import pandas as pd\n",
    "import seaborn as sns\n",
    "sns.set_palette('husl')\n",
    "import matplotlib.pyplot as plt\n",
    "%matplotlib inline\n",
    "%pylab inline"
   ]
  },
  {
   "cell_type": "code",
   "execution_count": 2,
   "metadata": {},
   "outputs": [
    {
     "name": "stdout",
     "output_type": "stream",
     "text": [
      "Requirement already satisfied: researchpy in /Users/valazeinali/.local/lib/python3.7/site-packages (0.2.2)\r\n",
      "Requirement already satisfied: numpy in /opt/anaconda3/lib/python3.7/site-packages (from researchpy) (1.18.1)\r\n",
      "Requirement already satisfied: pandas in /opt/anaconda3/lib/python3.7/site-packages (from researchpy) (1.0.1)\r\n",
      "Requirement already satisfied: statsmodels in /opt/anaconda3/lib/python3.7/site-packages (from researchpy) (0.11.0)\r\n",
      "Requirement already satisfied: scipy in /opt/anaconda3/lib/python3.7/site-packages (from researchpy) (1.4.1)\r\n",
      "Requirement already satisfied: pytz>=2017.2 in /opt/anaconda3/lib/python3.7/site-packages (from pandas->researchpy) (2019.3)\r\n",
      "Requirement already satisfied: python-dateutil>=2.6.1 in /opt/anaconda3/lib/python3.7/site-packages (from pandas->researchpy) (2.8.1)\r\n",
      "Requirement already satisfied: patsy>=0.5 in /opt/anaconda3/lib/python3.7/site-packages (from statsmodels->researchpy) (0.5.1)\r\n",
      "Requirement already satisfied: six>=1.5 in /opt/anaconda3/lib/python3.7/site-packages (from python-dateutil>=2.6.1->pandas->researchpy) (1.14.0)\r\n"
     ]
    }
   ],
   "source": [
    "! pip install --user researchpy"
   ]
  },
  {
   "cell_type": "code",
   "execution_count": 3,
   "metadata": {},
   "outputs": [],
   "source": [
    "import researchpy # for t-test stuff! "
   ]
  },
  {
   "cell_type": "code",
   "execution_count": 4,
   "metadata": {},
   "outputs": [],
   "source": [
    "df = pd.read_csv('minmax_OAS_with_Returns_Final_NO_Outliers_MBS.csv') "
   ]
  },
  {
   "cell_type": "code",
   "execution_count": 5,
   "metadata": {},
   "outputs": [
    {
     "data": {
      "text/html": [
       "<div>\n",
       "<style scoped>\n",
       "    .dataframe tbody tr th:only-of-type {\n",
       "        vertical-align: middle;\n",
       "    }\n",
       "\n",
       "    .dataframe tbody tr th {\n",
       "        vertical-align: top;\n",
       "    }\n",
       "\n",
       "    .dataframe thead th {\n",
       "        text-align: right;\n",
       "    }\n",
       "</style>\n",
       "<table border=\"1\" class=\"dataframe\">\n",
       "  <thead>\n",
       "    <tr style=\"text-align: right;\">\n",
       "      <th></th>\n",
       "      <th>Date</th>\n",
       "      <th>OAS</th>\n",
       "      <th>Excess Return % 1-mo (Treasury)</th>\n",
       "      <th>Excess Return % 1-mo (Agg)</th>\n",
       "      <th>Excess Return % 3-mo (Treasury)</th>\n",
       "      <th>Excess Return % 3-mo (Agg)</th>\n",
       "      <th>Excess Return % 6-mo (Treasury)</th>\n",
       "      <th>Excess Return % 6-mo (Agg)</th>\n",
       "      <th>Excess Return % 9-mo (Treasury)</th>\n",
       "      <th>Excess Return % 9-mo (Agg)</th>\n",
       "      <th>Excess Return % 12-mo (Treasury)</th>\n",
       "      <th>Excess Return % 12-mo (Agg)</th>\n",
       "      <th>Excess Return % 24-mo (Treasury)</th>\n",
       "      <th>Excess Return % 24-mo (Agg)</th>\n",
       "      <th>Excess Return % 36-mo (Treasury)</th>\n",
       "      <th>Excess Return % 36-mo (Agg)</th>\n",
       "      <th>Quadrant</th>\n",
       "    </tr>\n",
       "  </thead>\n",
       "  <tbody>\n",
       "    <tr>\n",
       "      <th>0</th>\n",
       "      <td>1997-01-31 00:00:00</td>\n",
       "      <td>0.350365</td>\n",
       "      <td>0.717929</td>\n",
       "      <td>0.725832</td>\n",
       "      <td>0.630776</td>\n",
       "      <td>0.712547</td>\n",
       "      <td>0.745522</td>\n",
       "      <td>0.677576</td>\n",
       "      <td>0.708116</td>\n",
       "      <td>0.592760</td>\n",
       "      <td>0.694897</td>\n",
       "      <td>0.492488</td>\n",
       "      <td>0.570117</td>\n",
       "      <td>0.253638</td>\n",
       "      <td>0.747463</td>\n",
       "      <td>0.551875</td>\n",
       "      <td>4.0</td>\n",
       "    </tr>\n",
       "    <tr>\n",
       "      <th>1</th>\n",
       "      <td>1997-02-28 00:00:00</td>\n",
       "      <td>0.313869</td>\n",
       "      <td>0.637829</td>\n",
       "      <td>0.558983</td>\n",
       "      <td>0.601489</td>\n",
       "      <td>0.639215</td>\n",
       "      <td>0.562434</td>\n",
       "      <td>0.410301</td>\n",
       "      <td>0.594846</td>\n",
       "      <td>0.455540</td>\n",
       "      <td>0.589623</td>\n",
       "      <td>0.389947</td>\n",
       "      <td>0.540783</td>\n",
       "      <td>0.202642</td>\n",
       "      <td>0.541103</td>\n",
       "      <td>0.473883</td>\n",
       "      <td>4.0</td>\n",
       "    </tr>\n",
       "    <tr>\n",
       "      <th>2</th>\n",
       "      <td>1997-03-31 00:00:00</td>\n",
       "      <td>0.372263</td>\n",
       "      <td>0.375000</td>\n",
       "      <td>0.589971</td>\n",
       "      <td>0.562439</td>\n",
       "      <td>0.615111</td>\n",
       "      <td>0.556375</td>\n",
       "      <td>0.547829</td>\n",
       "      <td>0.525178</td>\n",
       "      <td>0.408284</td>\n",
       "      <td>0.592410</td>\n",
       "      <td>0.436515</td>\n",
       "      <td>0.586204</td>\n",
       "      <td>0.353999</td>\n",
       "      <td>0.529601</td>\n",
       "      <td>0.467643</td>\n",
       "      <td>4.0</td>\n",
       "    </tr>\n",
       "    <tr>\n",
       "      <th>3</th>\n",
       "      <td>1997-04-30 00:00:00</td>\n",
       "      <td>0.335766</td>\n",
       "      <td>0.661608</td>\n",
       "      <td>0.586265</td>\n",
       "      <td>0.667873</td>\n",
       "      <td>0.547397</td>\n",
       "      <td>0.599052</td>\n",
       "      <td>0.451645</td>\n",
       "      <td>0.602666</td>\n",
       "      <td>0.365778</td>\n",
       "      <td>0.632933</td>\n",
       "      <td>0.420977</td>\n",
       "      <td>0.645439</td>\n",
       "      <td>0.352820</td>\n",
       "      <td>0.409844</td>\n",
       "      <td>0.422184</td>\n",
       "      <td>4.0</td>\n",
       "    </tr>\n",
       "    <tr>\n",
       "      <th>4</th>\n",
       "      <td>1997-05-31 00:00:00</td>\n",
       "      <td>0.328467</td>\n",
       "      <td>0.562735</td>\n",
       "      <td>0.513109</td>\n",
       "      <td>0.470997</td>\n",
       "      <td>0.240147</td>\n",
       "      <td>0.496839</td>\n",
       "      <td>0.336672</td>\n",
       "      <td>0.507642</td>\n",
       "      <td>0.286514</td>\n",
       "      <td>0.609563</td>\n",
       "      <td>0.413176</td>\n",
       "      <td>0.607589</td>\n",
       "      <td>0.350575</td>\n",
       "      <td>0.398342</td>\n",
       "      <td>0.441813</td>\n",
       "      <td>4.0</td>\n",
       "    </tr>\n",
       "  </tbody>\n",
       "</table>\n",
       "</div>"
      ],
      "text/plain": [
       "                  Date       OAS  Excess Return % 1-mo (Treasury)  \\\n",
       "0  1997-01-31 00:00:00  0.350365                         0.717929   \n",
       "1  1997-02-28 00:00:00  0.313869                         0.637829   \n",
       "2  1997-03-31 00:00:00  0.372263                         0.375000   \n",
       "3  1997-04-30 00:00:00  0.335766                         0.661608   \n",
       "4  1997-05-31 00:00:00  0.328467                         0.562735   \n",
       "\n",
       "   Excess Return % 1-mo (Agg)  Excess Return % 3-mo (Treasury)  \\\n",
       "0                    0.725832                         0.630776   \n",
       "1                    0.558983                         0.601489   \n",
       "2                    0.589971                         0.562439   \n",
       "3                    0.586265                         0.667873   \n",
       "4                    0.513109                         0.470997   \n",
       "\n",
       "   Excess Return % 3-mo (Agg)  Excess Return % 6-mo (Treasury)  \\\n",
       "0                    0.712547                         0.745522   \n",
       "1                    0.639215                         0.562434   \n",
       "2                    0.615111                         0.556375   \n",
       "3                    0.547397                         0.599052   \n",
       "4                    0.240147                         0.496839   \n",
       "\n",
       "   Excess Return % 6-mo (Agg)  Excess Return % 9-mo (Treasury)  \\\n",
       "0                    0.677576                         0.708116   \n",
       "1                    0.410301                         0.594846   \n",
       "2                    0.547829                         0.525178   \n",
       "3                    0.451645                         0.602666   \n",
       "4                    0.336672                         0.507642   \n",
       "\n",
       "   Excess Return % 9-mo (Agg)  Excess Return % 12-mo (Treasury)  \\\n",
       "0                    0.592760                          0.694897   \n",
       "1                    0.455540                          0.589623   \n",
       "2                    0.408284                          0.592410   \n",
       "3                    0.365778                          0.632933   \n",
       "4                    0.286514                          0.609563   \n",
       "\n",
       "   Excess Return % 12-mo (Agg)  Excess Return % 24-mo (Treasury)  \\\n",
       "0                     0.492488                          0.570117   \n",
       "1                     0.389947                          0.540783   \n",
       "2                     0.436515                          0.586204   \n",
       "3                     0.420977                          0.645439   \n",
       "4                     0.413176                          0.607589   \n",
       "\n",
       "   Excess Return % 24-mo (Agg)  Excess Return % 36-mo (Treasury)  \\\n",
       "0                     0.253638                          0.747463   \n",
       "1                     0.202642                          0.541103   \n",
       "2                     0.353999                          0.529601   \n",
       "3                     0.352820                          0.409844   \n",
       "4                     0.350575                          0.398342   \n",
       "\n",
       "   Excess Return % 36-mo (Agg)  Quadrant  \n",
       "0                     0.551875       4.0  \n",
       "1                     0.473883       4.0  \n",
       "2                     0.467643       4.0  \n",
       "3                     0.422184       4.0  \n",
       "4                     0.441813       4.0  "
      ]
     },
     "execution_count": 5,
     "metadata": {},
     "output_type": "execute_result"
    }
   ],
   "source": [
    "df.head()"
   ]
  },
  {
   "cell_type": "code",
   "execution_count": 6,
   "metadata": {},
   "outputs": [
    {
     "ename": "KeyError",
     "evalue": "\"['Total Return % 1-mo-LOC' 'Agg Returns'] not found in axis\"",
     "output_type": "error",
     "traceback": [
      "\u001b[0;31m---------------------------------------------------------------------------\u001b[0m",
      "\u001b[0;31mKeyError\u001b[0m                                  Traceback (most recent call last)",
      "\u001b[0;32m<ipython-input-6-b275a6d5cc1e>\u001b[0m in \u001b[0;36m<module>\u001b[0;34m\u001b[0m\n\u001b[1;32m      1\u001b[0m df = df.drop(columns=[\"Total Return % 1-mo-LOC\", \"Agg Returns\" ,\n\u001b[0;32m----> 2\u001b[0;31m \"Excess Return % 1-mo (Treasury)\", \"Excess Return % 1-mo (Agg)\"], axis = 0) # get rid of these useless columns\n\u001b[0m",
      "\u001b[0;32m/opt/anaconda3/lib/python3.7/site-packages/pandas/core/frame.py\u001b[0m in \u001b[0;36mdrop\u001b[0;34m(self, labels, axis, index, columns, level, inplace, errors)\u001b[0m\n\u001b[1;32m   3995\u001b[0m             \u001b[0mlevel\u001b[0m\u001b[0;34m=\u001b[0m\u001b[0mlevel\u001b[0m\u001b[0;34m,\u001b[0m\u001b[0;34m\u001b[0m\u001b[0;34m\u001b[0m\u001b[0m\n\u001b[1;32m   3996\u001b[0m             \u001b[0minplace\u001b[0m\u001b[0;34m=\u001b[0m\u001b[0minplace\u001b[0m\u001b[0;34m,\u001b[0m\u001b[0;34m\u001b[0m\u001b[0;34m\u001b[0m\u001b[0m\n\u001b[0;32m-> 3997\u001b[0;31m             \u001b[0merrors\u001b[0m\u001b[0;34m=\u001b[0m\u001b[0merrors\u001b[0m\u001b[0;34m,\u001b[0m\u001b[0;34m\u001b[0m\u001b[0;34m\u001b[0m\u001b[0m\n\u001b[0m\u001b[1;32m   3998\u001b[0m         )\n\u001b[1;32m   3999\u001b[0m \u001b[0;34m\u001b[0m\u001b[0m\n",
      "\u001b[0;32m/opt/anaconda3/lib/python3.7/site-packages/pandas/core/generic.py\u001b[0m in \u001b[0;36mdrop\u001b[0;34m(self, labels, axis, index, columns, level, inplace, errors)\u001b[0m\n\u001b[1;32m   3934\u001b[0m         \u001b[0;32mfor\u001b[0m \u001b[0maxis\u001b[0m\u001b[0;34m,\u001b[0m \u001b[0mlabels\u001b[0m \u001b[0;32min\u001b[0m \u001b[0maxes\u001b[0m\u001b[0;34m.\u001b[0m\u001b[0mitems\u001b[0m\u001b[0;34m(\u001b[0m\u001b[0;34m)\u001b[0m\u001b[0;34m:\u001b[0m\u001b[0;34m\u001b[0m\u001b[0;34m\u001b[0m\u001b[0m\n\u001b[1;32m   3935\u001b[0m             \u001b[0;32mif\u001b[0m \u001b[0mlabels\u001b[0m \u001b[0;32mis\u001b[0m \u001b[0;32mnot\u001b[0m \u001b[0;32mNone\u001b[0m\u001b[0;34m:\u001b[0m\u001b[0;34m\u001b[0m\u001b[0;34m\u001b[0m\u001b[0m\n\u001b[0;32m-> 3936\u001b[0;31m                 \u001b[0mobj\u001b[0m \u001b[0;34m=\u001b[0m \u001b[0mobj\u001b[0m\u001b[0;34m.\u001b[0m\u001b[0m_drop_axis\u001b[0m\u001b[0;34m(\u001b[0m\u001b[0mlabels\u001b[0m\u001b[0;34m,\u001b[0m \u001b[0maxis\u001b[0m\u001b[0;34m,\u001b[0m \u001b[0mlevel\u001b[0m\u001b[0;34m=\u001b[0m\u001b[0mlevel\u001b[0m\u001b[0;34m,\u001b[0m \u001b[0merrors\u001b[0m\u001b[0;34m=\u001b[0m\u001b[0merrors\u001b[0m\u001b[0;34m)\u001b[0m\u001b[0;34m\u001b[0m\u001b[0;34m\u001b[0m\u001b[0m\n\u001b[0m\u001b[1;32m   3937\u001b[0m \u001b[0;34m\u001b[0m\u001b[0m\n\u001b[1;32m   3938\u001b[0m         \u001b[0;32mif\u001b[0m \u001b[0minplace\u001b[0m\u001b[0;34m:\u001b[0m\u001b[0;34m\u001b[0m\u001b[0;34m\u001b[0m\u001b[0m\n",
      "\u001b[0;32m/opt/anaconda3/lib/python3.7/site-packages/pandas/core/generic.py\u001b[0m in \u001b[0;36m_drop_axis\u001b[0;34m(self, labels, axis, level, errors)\u001b[0m\n\u001b[1;32m   3968\u001b[0m                 \u001b[0mnew_axis\u001b[0m \u001b[0;34m=\u001b[0m \u001b[0maxis\u001b[0m\u001b[0;34m.\u001b[0m\u001b[0mdrop\u001b[0m\u001b[0;34m(\u001b[0m\u001b[0mlabels\u001b[0m\u001b[0;34m,\u001b[0m \u001b[0mlevel\u001b[0m\u001b[0;34m=\u001b[0m\u001b[0mlevel\u001b[0m\u001b[0;34m,\u001b[0m \u001b[0merrors\u001b[0m\u001b[0;34m=\u001b[0m\u001b[0merrors\u001b[0m\u001b[0;34m)\u001b[0m\u001b[0;34m\u001b[0m\u001b[0;34m\u001b[0m\u001b[0m\n\u001b[1;32m   3969\u001b[0m             \u001b[0;32melse\u001b[0m\u001b[0;34m:\u001b[0m\u001b[0;34m\u001b[0m\u001b[0;34m\u001b[0m\u001b[0m\n\u001b[0;32m-> 3970\u001b[0;31m                 \u001b[0mnew_axis\u001b[0m \u001b[0;34m=\u001b[0m \u001b[0maxis\u001b[0m\u001b[0;34m.\u001b[0m\u001b[0mdrop\u001b[0m\u001b[0;34m(\u001b[0m\u001b[0mlabels\u001b[0m\u001b[0;34m,\u001b[0m \u001b[0merrors\u001b[0m\u001b[0;34m=\u001b[0m\u001b[0merrors\u001b[0m\u001b[0;34m)\u001b[0m\u001b[0;34m\u001b[0m\u001b[0;34m\u001b[0m\u001b[0m\n\u001b[0m\u001b[1;32m   3971\u001b[0m             \u001b[0mresult\u001b[0m \u001b[0;34m=\u001b[0m \u001b[0mself\u001b[0m\u001b[0;34m.\u001b[0m\u001b[0mreindex\u001b[0m\u001b[0;34m(\u001b[0m\u001b[0;34m**\u001b[0m\u001b[0;34m{\u001b[0m\u001b[0maxis_name\u001b[0m\u001b[0;34m:\u001b[0m \u001b[0mnew_axis\u001b[0m\u001b[0;34m}\u001b[0m\u001b[0;34m)\u001b[0m\u001b[0;34m\u001b[0m\u001b[0;34m\u001b[0m\u001b[0m\n\u001b[1;32m   3972\u001b[0m \u001b[0;34m\u001b[0m\u001b[0m\n",
      "\u001b[0;32m/opt/anaconda3/lib/python3.7/site-packages/pandas/core/indexes/base.py\u001b[0m in \u001b[0;36mdrop\u001b[0;34m(self, labels, errors)\u001b[0m\n\u001b[1;32m   5016\u001b[0m         \u001b[0;32mif\u001b[0m \u001b[0mmask\u001b[0m\u001b[0;34m.\u001b[0m\u001b[0many\u001b[0m\u001b[0;34m(\u001b[0m\u001b[0;34m)\u001b[0m\u001b[0;34m:\u001b[0m\u001b[0;34m\u001b[0m\u001b[0;34m\u001b[0m\u001b[0m\n\u001b[1;32m   5017\u001b[0m             \u001b[0;32mif\u001b[0m \u001b[0merrors\u001b[0m \u001b[0;34m!=\u001b[0m \u001b[0;34m\"ignore\"\u001b[0m\u001b[0;34m:\u001b[0m\u001b[0;34m\u001b[0m\u001b[0;34m\u001b[0m\u001b[0m\n\u001b[0;32m-> 5018\u001b[0;31m                 \u001b[0;32mraise\u001b[0m \u001b[0mKeyError\u001b[0m\u001b[0;34m(\u001b[0m\u001b[0;34mf\"{labels[mask]} not found in axis\"\u001b[0m\u001b[0;34m)\u001b[0m\u001b[0;34m\u001b[0m\u001b[0;34m\u001b[0m\u001b[0m\n\u001b[0m\u001b[1;32m   5019\u001b[0m             \u001b[0mindexer\u001b[0m \u001b[0;34m=\u001b[0m \u001b[0mindexer\u001b[0m\u001b[0;34m[\u001b[0m\u001b[0;34m~\u001b[0m\u001b[0mmask\u001b[0m\u001b[0;34m]\u001b[0m\u001b[0;34m\u001b[0m\u001b[0;34m\u001b[0m\u001b[0m\n\u001b[1;32m   5020\u001b[0m         \u001b[0;32mreturn\u001b[0m \u001b[0mself\u001b[0m\u001b[0;34m.\u001b[0m\u001b[0mdelete\u001b[0m\u001b[0;34m(\u001b[0m\u001b[0mindexer\u001b[0m\u001b[0;34m)\u001b[0m\u001b[0;34m\u001b[0m\u001b[0;34m\u001b[0m\u001b[0m\n",
      "\u001b[0;31mKeyError\u001b[0m: \"['Total Return % 1-mo-LOC' 'Agg Returns'] not found in axis\""
     ]
    }
   ],
   "source": [
    "df = df.drop(columns=[#\"Total Return % 1-mo-LOC\", \"Agg Returns\" ,\n",
    "\"Excess Return % 1-mo (Treasury)\", \"Excess Return % 1-mo (Agg)\"], axis = 0) # get rid of these useless columns"
   ]
  },
  {
   "cell_type": "code",
   "execution_count": null,
   "metadata": {},
   "outputs": [],
   "source": [
    "df.describe()"
   ]
  },
  {
   "cell_type": "markdown",
   "metadata": {},
   "source": [
    "# drop outliers that we have identified as 0 and 1s (1 is > upper fence, 0 is < lower fence)"
   ]
  },
  {
   "cell_type": "code",
   "execution_count": null,
   "metadata": {},
   "outputs": [],
   "source": [
    "# Getting rid of outliers below. When we ran the script to label outliers, the script\n",
    "# would label a number an outlier a 1 if it was above the Upper fence and would label\n",
    "# it a 0 if it was an outlier below the lower fence.\n",
    "# This script replaces all outliers as \"NaN\"\n",
    "\n",
    "df[\"OAS\"] = df[\"OAS\"].replace([0],[\"NaN\"])\n",
    "df[\"OAS\"] = df[\"OAS\"].replace([1],[\"Nan\"])\n",
    "\n",
    "df = df.dropna()\n",
    "\n",
    "df['OAS'] = pd.to_numeric(df['OAS'],errors='coerce') # converting back to float64 \n",
    "\n",
    "df.info()"
   ]
  },
  {
   "cell_type": "markdown",
   "metadata": {},
   "source": [
    "# Now lets select all OAS levels and their coresponding excess returns that are above the 90th percentile (top 10%)"
   ]
  },
  {
   "cell_type": "code",
   "execution_count": null,
   "metadata": {},
   "outputs": [],
   "source": [
    "# Select * \n",
    "# From OAS\n",
    "# Where OAS >= 90th percentile\n",
    "## SQL version above ## \n",
    "highspread = df[\"OAS\"].quantile(.90) # every data point over the 90th percentile\n",
    "print(highspread)\n",
    "\n",
    "# pandas version of the SQL function \n",
    "df = df[(df['OAS'] > highspread)]"
   ]
  },
  {
   "cell_type": "code",
   "execution_count": null,
   "metadata": {},
   "outputs": [],
   "source": [
    "df.describe()"
   ]
  },
  {
   "cell_type": "code",
   "execution_count": null,
   "metadata": {},
   "outputs": [],
   "source": [
    "des, res = researchpy.ttest(df['OAS'], df['Excess Return % 3-mo (Treasury)'])\n",
    "\n",
    "des, res"
   ]
  },
  {
   "cell_type": "code",
   "execution_count": null,
   "metadata": {},
   "outputs": [],
   "source": [
    "plt.figure(figsize=(22.5,10))\n",
    "sns.distplot(df[\"OAS\"], color=\"skyblue\", label=\"OAS_Normalized_Value\")\n",
    "sns.distplot(df[\"Excess Return % 3-mo (Treasury)\"], color=\"red\", label=\"3M_Tres._Normalized_Value\")"
   ]
  },
  {
   "cell_type": "code",
   "execution_count": null,
   "metadata": {},
   "outputs": [],
   "source": [
    "des, res = researchpy.ttest(df['OAS'], df['Excess Return % 3-mo (Agg)'])\n",
    "\n",
    "des, res"
   ]
  },
  {
   "cell_type": "code",
   "execution_count": null,
   "metadata": {},
   "outputs": [],
   "source": [
    "plt.figure(figsize=(22.5,10))\n",
    "sns.distplot(df[\"OAS\"], color=\"skyblue\", label=\"OAS_Normalized_Value\")\n",
    "sns.distplot(df[\"Excess Return % 3-mo (Agg)\"], color=\"red\", label=\"3M_Agg._Normalized_Value\")"
   ]
  },
  {
   "cell_type": "code",
   "execution_count": null,
   "metadata": {},
   "outputs": [],
   "source": [
    "des, res = researchpy.ttest(df['OAS'], df['Excess Return % 6-mo (Treasury)'])\n",
    "\n",
    "des, res"
   ]
  },
  {
   "cell_type": "code",
   "execution_count": null,
   "metadata": {},
   "outputs": [],
   "source": [
    "plt.figure(figsize=(22.5,10))\n",
    "sns.distplot(df[\"OAS\"], color=\"skyblue\", label=\"OAS_Normalized_Value\")\n",
    "sns.distplot(df[\"Excess Return % 6-mo (Treasury)\"], color=\"red\", label=\"6M_Tres._Normalized_Value\")"
   ]
  },
  {
   "cell_type": "code",
   "execution_count": null,
   "metadata": {},
   "outputs": [],
   "source": [
    "des, res = researchpy.ttest(df['OAS'], df['Excess Return % 6-mo (Agg)'])\n",
    "\n",
    "des, res"
   ]
  },
  {
   "cell_type": "code",
   "execution_count": null,
   "metadata": {},
   "outputs": [],
   "source": [
    "plt.figure(figsize=(22.5,10))\n",
    "sns.distplot(df[\"OAS\"], color=\"skyblue\", label=\"OAS_Normalized_Value\")\n",
    "sns.distplot(df[\"Excess Return % 6-mo (Agg)\"], color=\"red\", label=\"6M_Agg._Normalized_Value\")"
   ]
  },
  {
   "cell_type": "code",
   "execution_count": null,
   "metadata": {},
   "outputs": [],
   "source": [
    "des, res = researchpy.ttest(df['OAS'], df['Excess Return % 9-mo (Treasury)'])\n",
    "\n",
    "des, res"
   ]
  },
  {
   "cell_type": "code",
   "execution_count": null,
   "metadata": {},
   "outputs": [],
   "source": [
    "plt.figure(figsize=(22.5,10))\n",
    "sns.distplot(df[\"OAS\"], color=\"skyblue\", label=\"OAS_Normalized_Value\")\n",
    "sns.distplot(df[\"Excess Return % 9-mo (Treasury)\"], color=\"red\", label=\"9M_Tres._Normalized_Value\")"
   ]
  },
  {
   "cell_type": "code",
   "execution_count": null,
   "metadata": {},
   "outputs": [],
   "source": [
    "des, res = researchpy.ttest(df['OAS'], df['Excess Return % 9-mo (Agg)'])\n",
    "\n",
    "des, res"
   ]
  },
  {
   "cell_type": "code",
   "execution_count": null,
   "metadata": {},
   "outputs": [],
   "source": [
    "plt.figure(figsize=(22.5,10))\n",
    "sns.distplot(df[\"OAS\"], color=\"skyblue\", label=\"OAS_Normalized_Value\")\n",
    "sns.distplot(df[\"Excess Return % 9-mo (Agg)\"], color=\"red\", label=\"9M_Agg._Normalized_Value\")"
   ]
  },
  {
   "cell_type": "code",
   "execution_count": null,
   "metadata": {
    "scrolled": true
   },
   "outputs": [],
   "source": [
    "des, res = researchpy.ttest(df['OAS'], df['Excess Return % 12-mo (Treasury)'])\n",
    "\n",
    "des, res"
   ]
  },
  {
   "cell_type": "code",
   "execution_count": null,
   "metadata": {},
   "outputs": [],
   "source": [
    "plt.figure(figsize=(22.5,10))\n",
    "sns.distplot(df[\"OAS\"], color=\"skyblue\", label=\"OAS_Normalized_Value\")\n",
    "sns.distplot(df[\"Excess Return % 12-mo (Treasury)\"], color=\"red\", label=\"12M_Tres._Normalized_Value\")"
   ]
  },
  {
   "cell_type": "code",
   "execution_count": null,
   "metadata": {
    "scrolled": true
   },
   "outputs": [],
   "source": [
    "des, res = researchpy.ttest(df['OAS'], df['Excess Return % 12-mo (Agg)'])\n",
    "\n",
    "des, res"
   ]
  },
  {
   "cell_type": "code",
   "execution_count": null,
   "metadata": {},
   "outputs": [],
   "source": [
    "plt.figure(figsize=(22.5,10))\n",
    "sns.distplot(df[\"OAS\"], color=\"skyblue\", label=\"OAS_Normalized_Value\")\n",
    "sns.distplot(df[\"Excess Return % 12-mo (Agg)\"], color=\"red\", label=\"12M_Agg._Normalized_Value\")"
   ]
  },
  {
   "cell_type": "code",
   "execution_count": null,
   "metadata": {},
   "outputs": [],
   "source": [
    "des, res = researchpy.ttest(df['OAS'], df['Excess Return % 24-mo (Treasury)'])\n",
    "\n",
    "des, res"
   ]
  },
  {
   "cell_type": "code",
   "execution_count": null,
   "metadata": {},
   "outputs": [],
   "source": [
    "plt.figure(figsize=(22.5,10))\n",
    "sns.distplot(df[\"OAS\"], color=\"skyblue\", label=\"OAS_Normalized_Value\")\n",
    "sns.distplot(df[\"Excess Return % 24-mo (Treasury)\"], color=\"red\", label=\"24M_Tres._Normalized_Value\")"
   ]
  },
  {
   "cell_type": "code",
   "execution_count": null,
   "metadata": {
    "scrolled": true
   },
   "outputs": [],
   "source": [
    "des, res = researchpy.ttest(df['OAS'], df['Excess Return % 24-mo (Agg)'])\n",
    "\n",
    "des, res"
   ]
  },
  {
   "cell_type": "code",
   "execution_count": null,
   "metadata": {},
   "outputs": [],
   "source": [
    "plt.figure(figsize=(22.5,10))\n",
    "sns.distplot(df[\"OAS\"], color=\"skyblue\", label=\"OAS_Normalized_Value\")\n",
    "sns.distplot(df[\"Excess Return % 24-mo (Agg)\"], color=\"red\", label=\"24M_Agg._Normalized_Value\")"
   ]
  },
  {
   "cell_type": "code",
   "execution_count": null,
   "metadata": {},
   "outputs": [],
   "source": [
    "des, res = researchpy.ttest(df['OAS'], df['Excess Return % 36-mo (Treasury)'])\n",
    "\n",
    "des, res"
   ]
  },
  {
   "cell_type": "code",
   "execution_count": null,
   "metadata": {},
   "outputs": [],
   "source": [
    "plt.figure(figsize=(22.5,10))\n",
    "sns.distplot(df[\"OAS\"], color=\"skyblue\", label=\"OAS_Normalized_Value\")\n",
    "sns.distplot(df[\"Excess Return % 36-mo (Treasury)\"], color=\"red\", label=\"36M_Tres._Normalized_Value\")"
   ]
  },
  {
   "cell_type": "code",
   "execution_count": null,
   "metadata": {
    "scrolled": true
   },
   "outputs": [],
   "source": [
    "des, res = researchpy.ttest(df['OAS'], df['Excess Return % 36-mo (Agg)'])\n",
    "\n",
    "des, res"
   ]
  },
  {
   "cell_type": "code",
   "execution_count": null,
   "metadata": {},
   "outputs": [],
   "source": [
    "plt.figure(figsize=(22.5,10))\n",
    "sns.distplot(df[\"OAS\"], color=\"skyblue\", label=\"OAS_Normalized_Value\")\n",
    "sns.distplot(df[\"Excess Return % 36-mo (Agg)\"], color=\"red\", label=\"36M_Agg._Normalized_Value\")"
   ]
  },
  {
   "cell_type": "markdown",
   "metadata": {},
   "source": [
    "# Now lets run the same t-test but with High spreads to all returns"
   ]
  },
  {
   "cell_type": "code",
   "execution_count": null,
   "metadata": {},
   "outputs": [],
   "source": [
    "df1 = pd.read_csv('minmax_OAS_with_Returns_Final_NO_Outliers_MBS.csv') "
   ]
  },
  {
   "cell_type": "code",
   "execution_count": null,
   "metadata": {},
   "outputs": [],
   "source": [
    "df1.describe()"
   ]
  },
  {
   "cell_type": "code",
   "execution_count": null,
   "metadata": {},
   "outputs": [],
   "source": [
    "des, res = researchpy.ttest(df['OAS'], \n",
    "df1['Excess Return % 3-mo (Treasury)']) # notice we are using the High Spread Data for OAS\n",
    "\n",
    "des, res"
   ]
  },
  {
   "cell_type": "code",
   "execution_count": null,
   "metadata": {},
   "outputs": [],
   "source": [
    "df1[\"Excess Return % 3-mo (Treasury)\"] = df1[\"Excess Return % 3-mo (Treasury)\"].replace([0],[\"NaN\"])\n",
    "df1[\"Excess Return % 3-mo (Treasury)\"] = df1[\"Excess Return % 3-mo (Treasury)\"].replace([1],[\"NaN\"])\n",
    "\n",
    "plt.figure(figsize=(22.5,10))\n",
    "sns.distplot(df[\"OAS\"], color=\"skyblue\", label=\"OAS_Normalized_Value\")\n",
    "sns.distplot(df1[\"Excess Return % 3-mo (Treasury)\"], color=\"red\", label=\"3M_Tres._Normalized_Value\")"
   ]
  },
  {
   "cell_type": "code",
   "execution_count": null,
   "metadata": {},
   "outputs": [],
   "source": [
    "des, res = researchpy.ttest(df['OAS'], df1['Excess Return % 3-mo (Agg)'])\n",
    "\n",
    "des, res"
   ]
  },
  {
   "cell_type": "code",
   "execution_count": null,
   "metadata": {},
   "outputs": [],
   "source": [
    "df1[\"Excess Return % 3-mo (Agg)\"] = df1[\"Excess Return % 3-mo (Agg)\"].replace([0],[\"NaN\"])\n",
    "df1[\"Excess Return % 3-mo (Agg)\"] = df1[\"Excess Return % 3-mo (Agg)\"].replace([1],[\"NaN\"])\n",
    "\n",
    "plt.figure(figsize=(22.5,10))\n",
    "sns.distplot(df[\"OAS\"], color=\"skyblue\", label=\"OAS_Normalized_Value\")\n",
    "sns.distplot(df1[\"Excess Return % 3-mo (Agg)\"], color=\"red\", label=\"3M_Agg._Normalized_Value\")"
   ]
  },
  {
   "cell_type": "code",
   "execution_count": null,
   "metadata": {},
   "outputs": [],
   "source": [
    "des, res = researchpy.ttest(df['OAS'], df1['Excess Return % 6-mo (Treasury)'])\n",
    "\n",
    "des, res"
   ]
  },
  {
   "cell_type": "code",
   "execution_count": null,
   "metadata": {},
   "outputs": [],
   "source": [
    "df1[\"Excess Return % 6-mo (Treasury)\"] = df1[\"Excess Return % 6-mo (Treasury)\"].replace([0],[\"NaN\"])\n",
    "df1[\"Excess Return % 6-mo (Treasury)\"] = df1[\"Excess Return % 6-mo (Treasury)\"].replace([1],[\"NaN\"])\n",
    "\n",
    "plt.figure(figsize=(22.5,10))\n",
    "sns.distplot(df[\"OAS\"], color=\"skyblue\", label=\"OAS_Normalized_Value\")\n",
    "sns.distplot(df1[\"Excess Return % 6-mo (Treasury)\"], color=\"red\", label=\"6M_Tres._Normalized_Value\")"
   ]
  },
  {
   "cell_type": "code",
   "execution_count": null,
   "metadata": {},
   "outputs": [],
   "source": [
    "des, res = researchpy.ttest(df['OAS'], df1['Excess Return % 6-mo (Agg)'])\n",
    "\n",
    "des, res"
   ]
  },
  {
   "cell_type": "code",
   "execution_count": null,
   "metadata": {},
   "outputs": [],
   "source": [
    "df1[\"Excess Return % 6-mo (Agg)\"] = df1[\"Excess Return % 6-mo (Agg)\"].replace([0],[\"NaN\"])\n",
    "df1[\"Excess Return % 6-mo (Agg)\"] = df1[\"Excess Return % 6-mo (Agg)\"].replace([1],[\"NaN\"])\n",
    "\n",
    "plt.figure(figsize=(22.5,10))\n",
    "sns.distplot(df[\"OAS\"], color=\"skyblue\", label=\"OAS_Normalized_Value\")\n",
    "sns.distplot(df1[\"Excess Return % 6-mo (Agg)\"], color=\"red\", label=\"6M_Agg._Normalized_Value\")"
   ]
  },
  {
   "cell_type": "code",
   "execution_count": null,
   "metadata": {},
   "outputs": [],
   "source": [
    "des, res = researchpy.ttest(df['OAS'], df1['Excess Return % 9-mo (Treasury)'])\n",
    "\n",
    "des, res"
   ]
  },
  {
   "cell_type": "code",
   "execution_count": null,
   "metadata": {},
   "outputs": [],
   "source": [
    "df1[\"Excess Return % 9-mo (Treasury)\"] = df1[\"Excess Return % 9-mo (Treasury)\"].replace([0],[\"NaN\"])\n",
    "df1[\"Excess Return % 9-mo (Treasury)\"] = df1[\"Excess Return % 9-mo (Treasury)\"].replace([1],[\"NaN\"])\n",
    "\n",
    "plt.figure(figsize=(22.5,10))\n",
    "sns.distplot(df[\"OAS\"], color=\"skyblue\", label=\"OAS_Normalized_Value\")\n",
    "sns.distplot(df1[\"Excess Return % 9-mo (Treasury)\"], color=\"red\", label=\"9M_Tres._Normalized_Value\")"
   ]
  },
  {
   "cell_type": "code",
   "execution_count": null,
   "metadata": {},
   "outputs": [],
   "source": [
    "des, res = researchpy.ttest(df['OAS'], df1['Excess Return % 9-mo (Agg)'])\n",
    "\n",
    "des, res"
   ]
  },
  {
   "cell_type": "code",
   "execution_count": null,
   "metadata": {},
   "outputs": [],
   "source": [
    "df1[\"Excess Return % 9-mo (Agg)\"] = df1[\"Excess Return % 9-mo (Agg)\"].replace([0],[\"NaN\"])\n",
    "df1[\"Excess Return % 9-mo (Agg)\"] = df1[\"Excess Return % 9-mo (Agg)\"].replace([1],[\"NaN\"])\n",
    "\n",
    "plt.figure(figsize=(22.5,10))\n",
    "sns.distplot(df[\"OAS\"], color=\"skyblue\", label=\"OAS_Normalized_Value\")\n",
    "sns.distplot(df1[\"Excess Return % 9-mo (Agg)\"], color=\"red\", label=\"9M_Agg._Normalized_Value\")"
   ]
  },
  {
   "cell_type": "code",
   "execution_count": null,
   "metadata": {},
   "outputs": [],
   "source": [
    "des, res = researchpy.ttest(df['OAS'], df1['Excess Return % 12-mo (Treasury)'])\n",
    "\n",
    "des, res"
   ]
  },
  {
   "cell_type": "code",
   "execution_count": null,
   "metadata": {},
   "outputs": [],
   "source": [
    "df1[\"Excess Return % 12-mo (Treasury)\"] = df1[\"Excess Return % 12-mo (Treasury)\"].replace([0],[\"NaN\"])\n",
    "df1[\"Excess Return % 12-mo (Treasury)\"] = df1[\"Excess Return % 12-mo (Treasury)\"].replace([1],[\"NaN\"])\n",
    "plt.figure(figsize=(22.5,10))\n",
    "sns.distplot(df[\"OAS\"], color=\"skyblue\", label=\"OAS_Normalized_Value\")\n",
    "sns.distplot(df1[\"Excess Return % 12-mo (Treasury)\"], color=\"red\", label=\"12M_Tres._Normalized_Value\")"
   ]
  },
  {
   "cell_type": "code",
   "execution_count": null,
   "metadata": {
    "scrolled": true
   },
   "outputs": [],
   "source": [
    "des, res = researchpy.ttest(df['OAS'], df1['Excess Return % 12-mo (Agg)'])\n",
    "\n",
    "des, res"
   ]
  },
  {
   "cell_type": "code",
   "execution_count": null,
   "metadata": {},
   "outputs": [],
   "source": [
    "df1[\"Excess Return % 12-mo (Agg)\"] = df1[\"Excess Return % 12-mo (Agg)\"].replace([0],[\"NaN\"])\n",
    "df1[\"Excess Return % 12-mo (Agg)\"] = df1[\"Excess Return % 12-mo (Agg)\"].replace([1],[\"NaN\"])\n",
    "\n",
    "plt.figure(figsize=(22.5,10))\n",
    "sns.distplot(df[\"OAS\"], color=\"skyblue\", label=\"OAS_Normalized_Value\")\n",
    "sns.distplot(df1[\"Excess Return % 12-mo (Agg)\"], color=\"red\", label=\"12M_Agg._Normalized_Value\")"
   ]
  },
  {
   "cell_type": "code",
   "execution_count": null,
   "metadata": {},
   "outputs": [],
   "source": [
    "des, res = researchpy.ttest(df['OAS'], df1['Excess Return % 24-mo (Treasury)'])\n",
    "\n",
    "des, res"
   ]
  },
  {
   "cell_type": "code",
   "execution_count": null,
   "metadata": {},
   "outputs": [],
   "source": [
    "df1[\"Excess Return % 24-mo (Treasury)\"] = df1[\"Excess Return % 24-mo (Treasury)\"].replace([0],[\"NaN\"])\n",
    "df1[\"Excess Return % 24-mo (Treasury)\"] = df1[\"Excess Return % 24-mo (Treasury)\"].replace([1],[\"NaN\"])\n",
    "\n",
    "plt.figure(figsize=(22.5,10))\n",
    "sns.distplot(df[\"OAS\"], color=\"skyblue\", label=\"OAS_Normalized_Value\")\n",
    "sns.distplot(df1[\"Excess Return % 24-mo (Treasury)\"], color=\"red\", label=\"24M_Tres._Normalized_Value\")"
   ]
  },
  {
   "cell_type": "code",
   "execution_count": null,
   "metadata": {
    "scrolled": true
   },
   "outputs": [],
   "source": [
    "des, res = researchpy.ttest(df['OAS'], df1['Excess Return % 24-mo (Agg)'])\n",
    "\n",
    "des, res"
   ]
  },
  {
   "cell_type": "code",
   "execution_count": null,
   "metadata": {},
   "outputs": [],
   "source": [
    "df1[\"Excess Return % 24-mo (Agg)\"] = df1[\"Excess Return % 24-mo (Agg)\"].replace([0],[\"NaN\"])\n",
    "df1[\"Excess Return % 24-mo (Agg)\"] = df1[\"Excess Return % 24-mo (Agg)\"].replace([1],[\"NaN\"])\n",
    "\n",
    "plt.figure(figsize=(22.5,10))\n",
    "sns.distplot(df[\"OAS\"], color=\"skyblue\", label=\"OAS_Normalized_Value\")\n",
    "sns.distplot(df1[\"Excess Return % 24-mo (Agg)\"], color=\"red\", label=\"24M_Agg._Normalized_Value\")"
   ]
  },
  {
   "cell_type": "code",
   "execution_count": null,
   "metadata": {},
   "outputs": [],
   "source": [
    "des, res = researchpy.ttest(df['OAS'], df1['Excess Return % 36-mo (Treasury)'])\n",
    "\n",
    "des, res"
   ]
  },
  {
   "cell_type": "code",
   "execution_count": null,
   "metadata": {},
   "outputs": [],
   "source": [
    "df1[\"Excess Return % 36-mo (Treasury)\"] = df1[\"Excess Return % 36-mo (Treasury)\"].replace([0],[\"NaN\"])\n",
    "df1[\"Excess Return % 36-mo (Treasury)\"] = df1[\"Excess Return % 36-mo (Treasury)\"].replace([1],[\"NaN\"])\n",
    "\n",
    "plt.figure(figsize=(22.5,10))\n",
    "sns.distplot(df[\"OAS\"], color=\"skyblue\", label=\"OAS_Normalized_Value\")\n",
    "sns.distplot(df1[\"Excess Return % 36-mo (Treasury)\"], color=\"red\", label=\"36M_Tres._Normalized_Value\")"
   ]
  },
  {
   "cell_type": "code",
   "execution_count": null,
   "metadata": {
    "scrolled": true
   },
   "outputs": [],
   "source": [
    "des, res = researchpy.ttest(df['OAS'], df1['Excess Return % 36-mo (Agg)'])\n",
    "\n",
    "des, res"
   ]
  },
  {
   "cell_type": "code",
   "execution_count": null,
   "metadata": {},
   "outputs": [],
   "source": [
    "df1[\"Excess Return % 36-mo (Agg)\"] = df1[\"Excess Return % 36-mo (Agg)\"].replace([0],[\"NaN\"])\n",
    "df1[\"Excess Return % 36-mo (Agg)\"] = df1[\"Excess Return % 36-mo (Agg)\"].replace([1],[\"NaN\"])\n",
    "\n",
    "plt.figure(figsize=(22.5,10))\n",
    "sns.distplot(df[\"OAS\"], color=\"skyblue\", label=\"OAS_Normalized_Value\")\n",
    "sns.distplot(df1[\"Excess Return % 36-mo (Agg)\"], color=\"red\", label=\"36M_Agg._Normalized_Value\")"
   ]
  },
  {
   "cell_type": "code",
   "execution_count": null,
   "metadata": {},
   "outputs": [],
   "source": []
  }
 ],
 "metadata": {
  "kernelspec": {
   "display_name": "Python 3",
   "language": "python",
   "name": "python3"
  },
  "language_info": {
   "codemirror_mode": {
    "name": "ipython",
    "version": 3
   },
   "file_extension": ".py",
   "mimetype": "text/x-python",
   "name": "python",
   "nbconvert_exporter": "python",
   "pygments_lexer": "ipython3",
   "version": "3.7.6"
  }
 },
 "nbformat": 4,
 "nbformat_minor": 4
}
