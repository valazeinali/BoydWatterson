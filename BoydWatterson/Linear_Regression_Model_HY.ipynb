{
 "cells": [
  {
   "cell_type": "code",
   "execution_count": 61,
   "metadata": {},
   "outputs": [
    {
     "name": "stdout",
     "output_type": "stream",
     "text": [
      "Populating the interactive namespace from numpy and matplotlib\n"
     ]
    }
   ],
   "source": [
    "import numpy as np\n",
    "import pandas as pd\n",
    "import seaborn as sns\n",
    "import math\n",
    "sns.set_palette('husl')\n",
    "import matplotlib.pyplot as plt\n",
    "%matplotlib inline\n",
    "%pylab inline"
   ]
  },
  {
   "cell_type": "code",
   "execution_count": 62,
   "metadata": {},
   "outputs": [],
   "source": [
    "import warnings\n",
    "warnings.filterwarnings(\"ignore\")"
   ]
  },
  {
   "cell_type": "markdown",
   "metadata": {},
   "source": [
    "## Lets load in our data, we will start with HY and Manager data"
   ]
  },
  {
   "cell_type": "code",
   "execution_count": 63,
   "metadata": {},
   "outputs": [],
   "source": [
    "data = pd.read_csv('Managers.csv')"
   ]
  },
  {
   "cell_type": "code",
   "execution_count": 64,
   "metadata": {},
   "outputs": [],
   "source": [
    "data1 = pd.read_csv('HY_Agg.csv')"
   ]
  },
  {
   "cell_type": "code",
   "execution_count": 65,
   "metadata": {},
   "outputs": [
    {
     "data": {
      "text/html": [
       "<div>\n",
       "<style scoped>\n",
       "    .dataframe tbody tr th:only-of-type {\n",
       "        vertical-align: middle;\n",
       "    }\n",
       "\n",
       "    .dataframe tbody tr th {\n",
       "        vertical-align: top;\n",
       "    }\n",
       "\n",
       "    .dataframe thead th {\n",
       "        text-align: right;\n",
       "    }\n",
       "</style>\n",
       "<table border=\"1\" class=\"dataframe\">\n",
       "  <thead>\n",
       "    <tr style=\"text-align: right;\">\n",
       "      <th></th>\n",
       "      <th>Date</th>\n",
       "      <th>Manager_A_Monthly_Return_Percent</th>\n",
       "      <th>Manager_B_Monthly_Return_Percent</th>\n",
       "      <th>Manager_C_Monthly_Return_Percent</th>\n",
       "    </tr>\n",
       "  </thead>\n",
       "  <tbody>\n",
       "    <tr>\n",
       "      <th>0</th>\n",
       "      <td>01/31/2015</td>\n",
       "      <td>1.9610</td>\n",
       "      <td>1.58</td>\n",
       "      <td>2.088553</td>\n",
       "    </tr>\n",
       "    <tr>\n",
       "      <th>1</th>\n",
       "      <td>02/28/2015</td>\n",
       "      <td>-0.5723</td>\n",
       "      <td>-0.53</td>\n",
       "      <td>-0.896415</td>\n",
       "    </tr>\n",
       "    <tr>\n",
       "      <th>2</th>\n",
       "      <td>03/31/2015</td>\n",
       "      <td>0.3403</td>\n",
       "      <td>-0.14</td>\n",
       "      <td>-0.058587</td>\n",
       "    </tr>\n",
       "    <tr>\n",
       "      <th>3</th>\n",
       "      <td>04/30/2015</td>\n",
       "      <td>-0.4199</td>\n",
       "      <td>0.32</td>\n",
       "      <td>0.110233</td>\n",
       "    </tr>\n",
       "    <tr>\n",
       "      <th>4</th>\n",
       "      <td>05/31/2015</td>\n",
       "      <td>-0.5072</td>\n",
       "      <td>-0.12</td>\n",
       "      <td>0.244451</td>\n",
       "    </tr>\n",
       "  </tbody>\n",
       "</table>\n",
       "</div>"
      ],
      "text/plain": [
       "         Date  Manager_A_Monthly_Return_Percent  \\\n",
       "0  01/31/2015                            1.9610   \n",
       "1  02/28/2015                           -0.5723   \n",
       "2  03/31/2015                            0.3403   \n",
       "3  04/30/2015                           -0.4199   \n",
       "4  05/31/2015                           -0.5072   \n",
       "\n",
       "   Manager_B_Monthly_Return_Percent  Manager_C_Monthly_Return_Percent  \n",
       "0                              1.58                          2.088553  \n",
       "1                             -0.53                         -0.896415  \n",
       "2                             -0.14                         -0.058587  \n",
       "3                              0.32                          0.110233  \n",
       "4                             -0.12                          0.244451  "
      ]
     },
     "execution_count": 65,
     "metadata": {},
     "output_type": "execute_result"
    }
   ],
   "source": [
    "data.head()"
   ]
  },
  {
   "cell_type": "code",
   "execution_count": 66,
   "metadata": {},
   "outputs": [
    {
     "data": {
      "text/html": [
       "<div>\n",
       "<style scoped>\n",
       "    .dataframe tbody tr th:only-of-type {\n",
       "        vertical-align: middle;\n",
       "    }\n",
       "\n",
       "    .dataframe tbody tr th {\n",
       "        vertical-align: top;\n",
       "    }\n",
       "\n",
       "    .dataframe thead th {\n",
       "        text-align: right;\n",
       "    }\n",
       "</style>\n",
       "<table border=\"1\" class=\"dataframe\">\n",
       "  <thead>\n",
       "    <tr style=\"text-align: right;\">\n",
       "      <th></th>\n",
       "      <th>Date</th>\n",
       "      <th>HY_Percent_Return</th>\n",
       "      <th>Agg</th>\n",
       "    </tr>\n",
       "  </thead>\n",
       "  <tbody>\n",
       "    <tr>\n",
       "      <th>0</th>\n",
       "      <td>09/30/2019</td>\n",
       "      <td>0.317</td>\n",
       "      <td>-0.5325</td>\n",
       "    </tr>\n",
       "    <tr>\n",
       "      <th>1</th>\n",
       "      <td>08/30/2019</td>\n",
       "      <td>0.390</td>\n",
       "      <td>2.5913</td>\n",
       "    </tr>\n",
       "    <tr>\n",
       "      <th>2</th>\n",
       "      <td>07/31/2019</td>\n",
       "      <td>0.512</td>\n",
       "      <td>0.2201</td>\n",
       "    </tr>\n",
       "    <tr>\n",
       "      <th>3</th>\n",
       "      <td>06/28/2019</td>\n",
       "      <td>2.452</td>\n",
       "      <td>1.2556</td>\n",
       "    </tr>\n",
       "    <tr>\n",
       "      <th>4</th>\n",
       "      <td>05/31/2019</td>\n",
       "      <td>-1.271</td>\n",
       "      <td>1.7752</td>\n",
       "    </tr>\n",
       "  </tbody>\n",
       "</table>\n",
       "</div>"
      ],
      "text/plain": [
       "         Date  HY_Percent_Return     Agg\n",
       "0  09/30/2019              0.317 -0.5325\n",
       "1  08/30/2019              0.390  2.5913\n",
       "2  07/31/2019              0.512  0.2201\n",
       "3  06/28/2019              2.452  1.2556\n",
       "4  05/31/2019             -1.271  1.7752"
      ]
     },
     "execution_count": 66,
     "metadata": {},
     "output_type": "execute_result"
    }
   ],
   "source": [
    "data1.head()"
   ]
  },
  {
   "cell_type": "markdown",
   "metadata": {},
   "source": [
    "## Join the HY data and Manager data on the date (Prepping and cleaning data for linear regression)"
   ]
  },
  {
   "cell_type": "code",
   "execution_count": 67,
   "metadata": {},
   "outputs": [],
   "source": [
    "newData = pd.merge(data, data1, on='Date', how='right') "
   ]
  },
  {
   "cell_type": "code",
   "execution_count": 68,
   "metadata": {
    "scrolled": false
   },
   "outputs": [
    {
     "data": {
      "text/html": [
       "<div>\n",
       "<style scoped>\n",
       "    .dataframe tbody tr th:only-of-type {\n",
       "        vertical-align: middle;\n",
       "    }\n",
       "\n",
       "    .dataframe tbody tr th {\n",
       "        vertical-align: top;\n",
       "    }\n",
       "\n",
       "    .dataframe thead th {\n",
       "        text-align: right;\n",
       "    }\n",
       "</style>\n",
       "<table border=\"1\" class=\"dataframe\">\n",
       "  <thead>\n",
       "    <tr style=\"text-align: right;\">\n",
       "      <th></th>\n",
       "      <th>Date</th>\n",
       "      <th>Manager_A_Monthly_Return_Percent</th>\n",
       "      <th>Manager_B_Monthly_Return_Percent</th>\n",
       "      <th>Manager_C_Monthly_Return_Percent</th>\n",
       "      <th>HY_Percent_Return</th>\n",
       "      <th>Agg</th>\n",
       "    </tr>\n",
       "  </thead>\n",
       "  <tbody>\n",
       "    <tr>\n",
       "      <th>0</th>\n",
       "      <td>03/31/2015</td>\n",
       "      <td>0.3403</td>\n",
       "      <td>-0.14</td>\n",
       "      <td>-0.058587</td>\n",
       "      <td>-0.531</td>\n",
       "      <td>0.4644</td>\n",
       "    </tr>\n",
       "    <tr>\n",
       "      <th>1</th>\n",
       "      <td>04/30/2015</td>\n",
       "      <td>-0.4199</td>\n",
       "      <td>0.32</td>\n",
       "      <td>0.110233</td>\n",
       "      <td>1.199</td>\n",
       "      <td>-0.3588</td>\n",
       "    </tr>\n",
       "    <tr>\n",
       "      <th>2</th>\n",
       "      <td>06/30/2015</td>\n",
       "      <td>-1.3120</td>\n",
       "      <td>-0.58</td>\n",
       "      <td>-1.001936</td>\n",
       "      <td>-1.525</td>\n",
       "      <td>-1.0904</td>\n",
       "    </tr>\n",
       "    <tr>\n",
       "      <th>3</th>\n",
       "      <td>07/31/2015</td>\n",
       "      <td>0.8449</td>\n",
       "      <td>-0.32</td>\n",
       "      <td>-0.892478</td>\n",
       "      <td>-0.616</td>\n",
       "      <td>0.6951</td>\n",
       "    </tr>\n",
       "    <tr>\n",
       "      <th>4</th>\n",
       "      <td>08/31/2015</td>\n",
       "      <td>-0.5512</td>\n",
       "      <td>-0.62</td>\n",
       "      <td>-0.126473</td>\n",
       "      <td>-1.761</td>\n",
       "      <td>-0.1436</td>\n",
       "    </tr>\n",
       "  </tbody>\n",
       "</table>\n",
       "</div>"
      ],
      "text/plain": [
       "         Date  Manager_A_Monthly_Return_Percent  \\\n",
       "0  03/31/2015                            0.3403   \n",
       "1  04/30/2015                           -0.4199   \n",
       "2  06/30/2015                           -1.3120   \n",
       "3  07/31/2015                            0.8449   \n",
       "4  08/31/2015                           -0.5512   \n",
       "\n",
       "   Manager_B_Monthly_Return_Percent  Manager_C_Monthly_Return_Percent  \\\n",
       "0                             -0.14                         -0.058587   \n",
       "1                              0.32                          0.110233   \n",
       "2                             -0.58                         -1.001936   \n",
       "3                             -0.32                         -0.892478   \n",
       "4                             -0.62                         -0.126473   \n",
       "\n",
       "   HY_Percent_Return     Agg  \n",
       "0             -0.531  0.4644  \n",
       "1              1.199 -0.3588  \n",
       "2             -1.525 -1.0904  \n",
       "3             -0.616  0.6951  \n",
       "4             -1.761 -0.1436  "
      ]
     },
     "execution_count": 68,
     "metadata": {},
     "output_type": "execute_result"
    }
   ],
   "source": [
    "newData.head()"
   ]
  },
  {
   "cell_type": "code",
   "execution_count": 69,
   "metadata": {},
   "outputs": [],
   "source": [
    "newData['ManagerAData'] = (newData['Manager_A_Monthly_Return_Percent'] - newData['Agg']).abs()"
   ]
  },
  {
   "cell_type": "code",
   "execution_count": 70,
   "metadata": {},
   "outputs": [
    {
     "data": {
      "text/plain": [
       "0    0.1241\n",
       "1    0.0611\n",
       "2    0.2216\n",
       "3    0.1498\n",
       "4    0.4076\n",
       "Name: ManagerAData, dtype: float64"
      ]
     },
     "execution_count": 70,
     "metadata": {},
     "output_type": "execute_result"
    }
   ],
   "source": [
    "newData['ManagerAData'].head() # Sanity check |.3403 - .4644| = .1241 so our absolute value function worked!"
   ]
  },
  {
   "cell_type": "code",
   "execution_count": 71,
   "metadata": {},
   "outputs": [
    {
     "data": {
      "text/html": [
       "<div>\n",
       "<style scoped>\n",
       "    .dataframe tbody tr th:only-of-type {\n",
       "        vertical-align: middle;\n",
       "    }\n",
       "\n",
       "    .dataframe tbody tr th {\n",
       "        vertical-align: top;\n",
       "    }\n",
       "\n",
       "    .dataframe thead th {\n",
       "        text-align: right;\n",
       "    }\n",
       "</style>\n",
       "<table border=\"1\" class=\"dataframe\">\n",
       "  <thead>\n",
       "    <tr style=\"text-align: right;\">\n",
       "      <th></th>\n",
       "      <th>Date</th>\n",
       "      <th>Manager_A_Monthly_Return_Percent</th>\n",
       "      <th>Manager_B_Monthly_Return_Percent</th>\n",
       "      <th>Manager_C_Monthly_Return_Percent</th>\n",
       "      <th>HY_Percent_Return</th>\n",
       "      <th>Agg</th>\n",
       "      <th>ManagerAData</th>\n",
       "    </tr>\n",
       "  </thead>\n",
       "  <tbody>\n",
       "    <tr>\n",
       "      <th>0</th>\n",
       "      <td>03/31/2015</td>\n",
       "      <td>0.3403</td>\n",
       "      <td>-0.14</td>\n",
       "      <td>-0.058587</td>\n",
       "      <td>-0.531</td>\n",
       "      <td>0.4644</td>\n",
       "      <td>0.1241</td>\n",
       "    </tr>\n",
       "    <tr>\n",
       "      <th>1</th>\n",
       "      <td>04/30/2015</td>\n",
       "      <td>-0.4199</td>\n",
       "      <td>0.32</td>\n",
       "      <td>0.110233</td>\n",
       "      <td>1.199</td>\n",
       "      <td>-0.3588</td>\n",
       "      <td>0.0611</td>\n",
       "    </tr>\n",
       "    <tr>\n",
       "      <th>2</th>\n",
       "      <td>06/30/2015</td>\n",
       "      <td>-1.3120</td>\n",
       "      <td>-0.58</td>\n",
       "      <td>-1.001936</td>\n",
       "      <td>-1.525</td>\n",
       "      <td>-1.0904</td>\n",
       "      <td>0.2216</td>\n",
       "    </tr>\n",
       "    <tr>\n",
       "      <th>3</th>\n",
       "      <td>07/31/2015</td>\n",
       "      <td>0.8449</td>\n",
       "      <td>-0.32</td>\n",
       "      <td>-0.892478</td>\n",
       "      <td>-0.616</td>\n",
       "      <td>0.6951</td>\n",
       "      <td>0.1498</td>\n",
       "    </tr>\n",
       "    <tr>\n",
       "      <th>4</th>\n",
       "      <td>08/31/2015</td>\n",
       "      <td>-0.5512</td>\n",
       "      <td>-0.62</td>\n",
       "      <td>-0.126473</td>\n",
       "      <td>-1.761</td>\n",
       "      <td>-0.1436</td>\n",
       "      <td>0.4076</td>\n",
       "    </tr>\n",
       "  </tbody>\n",
       "</table>\n",
       "</div>"
      ],
      "text/plain": [
       "         Date  Manager_A_Monthly_Return_Percent  \\\n",
       "0  03/31/2015                            0.3403   \n",
       "1  04/30/2015                           -0.4199   \n",
       "2  06/30/2015                           -1.3120   \n",
       "3  07/31/2015                            0.8449   \n",
       "4  08/31/2015                           -0.5512   \n",
       "\n",
       "   Manager_B_Monthly_Return_Percent  Manager_C_Monthly_Return_Percent  \\\n",
       "0                             -0.14                         -0.058587   \n",
       "1                              0.32                          0.110233   \n",
       "2                             -0.58                         -1.001936   \n",
       "3                             -0.32                         -0.892478   \n",
       "4                             -0.62                         -0.126473   \n",
       "\n",
       "   HY_Percent_Return     Agg  ManagerAData  \n",
       "0             -0.531  0.4644        0.1241  \n",
       "1              1.199 -0.3588        0.0611  \n",
       "2             -1.525 -1.0904        0.2216  \n",
       "3             -0.616  0.6951        0.1498  \n",
       "4             -1.761 -0.1436        0.4076  "
      ]
     },
     "execution_count": 71,
     "metadata": {},
     "output_type": "execute_result"
    }
   ],
   "source": [
    "newData.head() # Adding columns to NewData with the absolute value "
   ]
  },
  {
   "cell_type": "code",
   "execution_count": 72,
   "metadata": {},
   "outputs": [],
   "source": [
    "newData['ManagerBData'] = (newData['Manager_B_Monthly_Return_Percent'] - newData['Agg']).abs()"
   ]
  },
  {
   "cell_type": "code",
   "execution_count": 73,
   "metadata": {},
   "outputs": [
    {
     "data": {
      "text/plain": [
       "0    0.6044\n",
       "1    0.6788\n",
       "2    0.5104\n",
       "3    1.0151\n",
       "4    0.4764\n",
       "dtype: float64"
      ]
     },
     "execution_count": 73,
     "metadata": {},
     "output_type": "execute_result"
    }
   ],
   "source": [
    "ManagerBData.head()"
   ]
  },
  {
   "cell_type": "code",
   "execution_count": 74,
   "metadata": {},
   "outputs": [],
   "source": [
    "newData['ManagerCData'] = (newData['Manager_C_Monthly_Return_Percent'] - newData['Agg']).abs()"
   ]
  },
  {
   "cell_type": "code",
   "execution_count": 75,
   "metadata": {},
   "outputs": [
    {
     "data": {
      "text/plain": [
       "0    0.522987\n",
       "1    0.469033\n",
       "2    0.088464\n",
       "3    1.587578\n",
       "4    0.017127\n",
       "dtype: float64"
      ]
     },
     "execution_count": 75,
     "metadata": {},
     "output_type": "execute_result"
    }
   ],
   "source": [
    "ManagerCData.head()"
   ]
  },
  {
   "cell_type": "code",
   "execution_count": 76,
   "metadata": {},
   "outputs": [],
   "source": [
    "newData['HY_Data'] = (newData['HY_Percent_Return'] - newData['Agg']).abs()"
   ]
  },
  {
   "cell_type": "code",
   "execution_count": 77,
   "metadata": {},
   "outputs": [
    {
     "data": {
      "text/plain": [
       "0    0.9954\n",
       "1    1.5578\n",
       "2    0.4346\n",
       "3    1.3111\n",
       "4    1.6174\n",
       "dtype: float64"
      ]
     },
     "execution_count": 77,
     "metadata": {},
     "output_type": "execute_result"
    }
   ],
   "source": [
    "HY_Data.head()"
   ]
  },
  {
   "cell_type": "code",
   "execution_count": 78,
   "metadata": {},
   "outputs": [
    {
     "data": {
      "text/html": [
       "<div>\n",
       "<style scoped>\n",
       "    .dataframe tbody tr th:only-of-type {\n",
       "        vertical-align: middle;\n",
       "    }\n",
       "\n",
       "    .dataframe tbody tr th {\n",
       "        vertical-align: top;\n",
       "    }\n",
       "\n",
       "    .dataframe thead th {\n",
       "        text-align: right;\n",
       "    }\n",
       "</style>\n",
       "<table border=\"1\" class=\"dataframe\">\n",
       "  <thead>\n",
       "    <tr style=\"text-align: right;\">\n",
       "      <th></th>\n",
       "      <th>Date</th>\n",
       "      <th>Manager_A_Monthly_Return_Percent</th>\n",
       "      <th>Manager_B_Monthly_Return_Percent</th>\n",
       "      <th>Manager_C_Monthly_Return_Percent</th>\n",
       "      <th>HY_Percent_Return</th>\n",
       "      <th>Agg</th>\n",
       "      <th>ManagerAData</th>\n",
       "      <th>ManagerBData</th>\n",
       "      <th>ManagerCData</th>\n",
       "      <th>HY_Data</th>\n",
       "    </tr>\n",
       "  </thead>\n",
       "  <tbody>\n",
       "    <tr>\n",
       "      <th>0</th>\n",
       "      <td>03/31/2015</td>\n",
       "      <td>0.3403</td>\n",
       "      <td>-0.14</td>\n",
       "      <td>-0.058587</td>\n",
       "      <td>-0.531</td>\n",
       "      <td>0.4644</td>\n",
       "      <td>0.1241</td>\n",
       "      <td>0.6044</td>\n",
       "      <td>0.522987</td>\n",
       "      <td>0.9954</td>\n",
       "    </tr>\n",
       "    <tr>\n",
       "      <th>1</th>\n",
       "      <td>04/30/2015</td>\n",
       "      <td>-0.4199</td>\n",
       "      <td>0.32</td>\n",
       "      <td>0.110233</td>\n",
       "      <td>1.199</td>\n",
       "      <td>-0.3588</td>\n",
       "      <td>0.0611</td>\n",
       "      <td>0.6788</td>\n",
       "      <td>0.469033</td>\n",
       "      <td>1.5578</td>\n",
       "    </tr>\n",
       "    <tr>\n",
       "      <th>2</th>\n",
       "      <td>06/30/2015</td>\n",
       "      <td>-1.3120</td>\n",
       "      <td>-0.58</td>\n",
       "      <td>-1.001936</td>\n",
       "      <td>-1.525</td>\n",
       "      <td>-1.0904</td>\n",
       "      <td>0.2216</td>\n",
       "      <td>0.5104</td>\n",
       "      <td>0.088464</td>\n",
       "      <td>0.4346</td>\n",
       "    </tr>\n",
       "    <tr>\n",
       "      <th>3</th>\n",
       "      <td>07/31/2015</td>\n",
       "      <td>0.8449</td>\n",
       "      <td>-0.32</td>\n",
       "      <td>-0.892478</td>\n",
       "      <td>-0.616</td>\n",
       "      <td>0.6951</td>\n",
       "      <td>0.1498</td>\n",
       "      <td>1.0151</td>\n",
       "      <td>1.587578</td>\n",
       "      <td>1.3111</td>\n",
       "    </tr>\n",
       "    <tr>\n",
       "      <th>4</th>\n",
       "      <td>08/31/2015</td>\n",
       "      <td>-0.5512</td>\n",
       "      <td>-0.62</td>\n",
       "      <td>-0.126473</td>\n",
       "      <td>-1.761</td>\n",
       "      <td>-0.1436</td>\n",
       "      <td>0.4076</td>\n",
       "      <td>0.4764</td>\n",
       "      <td>0.017127</td>\n",
       "      <td>1.6174</td>\n",
       "    </tr>\n",
       "  </tbody>\n",
       "</table>\n",
       "</div>"
      ],
      "text/plain": [
       "         Date  Manager_A_Monthly_Return_Percent  \\\n",
       "0  03/31/2015                            0.3403   \n",
       "1  04/30/2015                           -0.4199   \n",
       "2  06/30/2015                           -1.3120   \n",
       "3  07/31/2015                            0.8449   \n",
       "4  08/31/2015                           -0.5512   \n",
       "\n",
       "   Manager_B_Monthly_Return_Percent  Manager_C_Monthly_Return_Percent  \\\n",
       "0                             -0.14                         -0.058587   \n",
       "1                              0.32                          0.110233   \n",
       "2                             -0.58                         -1.001936   \n",
       "3                             -0.32                         -0.892478   \n",
       "4                             -0.62                         -0.126473   \n",
       "\n",
       "   HY_Percent_Return     Agg  ManagerAData  ManagerBData  ManagerCData  \\\n",
       "0             -0.531  0.4644        0.1241        0.6044      0.522987   \n",
       "1              1.199 -0.3588        0.0611        0.6788      0.469033   \n",
       "2             -1.525 -1.0904        0.2216        0.5104      0.088464   \n",
       "3             -0.616  0.6951        0.1498        1.0151      1.587578   \n",
       "4             -1.761 -0.1436        0.4076        0.4764      0.017127   \n",
       "\n",
       "   HY_Data  \n",
       "0   0.9954  \n",
       "1   1.5578  \n",
       "2   0.4346  \n",
       "3   1.3111  \n",
       "4   1.6174  "
      ]
     },
     "execution_count": 78,
     "metadata": {},
     "output_type": "execute_result"
    }
   ],
   "source": [
    "newData.head()"
   ]
  },
  {
   "cell_type": "markdown",
   "metadata": {},
   "source": [
    "## Lets do some descriptive statistics on our variables"
   ]
  },
  {
   "cell_type": "code",
   "execution_count": 79,
   "metadata": {},
   "outputs": [
    {
     "data": {
      "text/plain": [
       "count    39.000000\n",
       "mean      0.205133\n",
       "std       0.205348\n",
       "min       0.009500\n",
       "25%       0.061600\n",
       "50%       0.149800\n",
       "75%       0.235900\n",
       "max       1.043300\n",
       "Name: ManagerAData, dtype: float64"
      ]
     },
     "execution_count": 79,
     "metadata": {},
     "output_type": "execute_result"
    }
   ],
   "source": [
    "newData['ManagerAData'].describe() # Manager A Returns"
   ]
  },
  {
   "cell_type": "code",
   "execution_count": 81,
   "metadata": {},
   "outputs": [
    {
     "data": {
      "text/plain": [
       "count    39.000000\n",
       "mean      0.407305\n",
       "std       0.312504\n",
       "min       0.009700\n",
       "25%       0.166950\n",
       "50%       0.344900\n",
       "75%       0.525700\n",
       "max       1.505400\n",
       "Name: ManagerBData, dtype: float64"
      ]
     },
     "execution_count": 81,
     "metadata": {},
     "output_type": "execute_result"
    }
   ],
   "source": [
    "newData['ManagerBData'].describe() # Manager B Returns"
   ]
  },
  {
   "cell_type": "code",
   "execution_count": 82,
   "metadata": {},
   "outputs": [
    {
     "data": {
      "text/plain": [
       "count    39.000000\n",
       "mean      0.517487\n",
       "std       0.521741\n",
       "min       0.017127\n",
       "25%       0.105487\n",
       "50%       0.448559\n",
       "75%       0.705118\n",
       "max       2.586232\n",
       "Name: ManagerCData, dtype: float64"
      ]
     },
     "execution_count": 82,
     "metadata": {},
     "output_type": "execute_result"
    }
   ],
   "source": [
    "newData['ManagerCData'].describe() # Manager C Returns"
   ]
  },
  {
   "cell_type": "code",
   "execution_count": 84,
   "metadata": {},
   "outputs": [
    {
     "data": {
      "text/plain": [
       "count    57.000000\n",
       "mean      1.387904\n",
       "std       1.047271\n",
       "min       0.015900\n",
       "25%       0.696300\n",
       "50%       1.196400\n",
       "75%       1.893800\n",
       "max       4.029100\n",
       "Name: HY_Data, dtype: float64"
      ]
     },
     "execution_count": 84,
     "metadata": {},
     "output_type": "execute_result"
    }
   ],
   "source": [
    "newData['HY_Data'].describe() # HY Return"
   ]
  },
  {
   "cell_type": "markdown",
   "metadata": {},
   "source": [
    "## Linear Regression model "
   ]
  },
  {
   "cell_type": "code",
   "execution_count": 94,
   "metadata": {},
   "outputs": [
    {
     "data": {
      "text/plain": [
       "Text(0.5, 1.0, 'Absolute value of Manager A and Agg. Versus HY')"
      ]
     },
     "execution_count": 94,
     "metadata": {},
     "output_type": "execute_result"
    },
    {
     "data": {
      "text/plain": [
       "<Figure size 1080x3240 with 0 Axes>"
      ]
     },
     "metadata": {},
     "output_type": "display_data"
    },
    {
     "data": {
      "image/png": "[encoded data removed]",
      "text/plain": [
       "<Figure size 576x576 with 1 Axes>"
      ]
     },
     "metadata": {
      "needs_background": "light"
     },
     "output_type": "display_data"
    }
   ],
   "source": [
    "fig=plt.figure(figsize=(15, 45)) # Manager \n",
    "sns.lmplot('HY_Percent_Return','ManagerAData', data = newData, height=8, fit_reg=True)\n",
    "plt.title('Absolute value of Manager A and Agg. Versus HY', size=24)"
   ]
  },
  {
   "cell_type": "code",
   "execution_count": 96,
   "metadata": {},
   "outputs": [
    {
     "data": {
      "text/plain": [
       "Text(0.5, 1.0, 'Absolute value of Manager B and Agg. Versus HY')"
      ]
     },
     "execution_count": 96,
     "metadata": {},
     "output_type": "execute_result"
    },
    {
     "data": {
      "text/plain": [
       "<Figure size 1080x3240 with 0 Axes>"
      ]
     },
     "metadata": {},
     "output_type": "display_data"
    },
    {
     "data": {
      "image/png": "[encoded data removed]",
      "text/plain": [
       "<Figure size 576x576 with 1 Axes>"
      ]
     },
     "metadata": {
      "needs_background": "light"
     },
     "output_type": "display_data"
    }
   ],
   "source": [
    "fig=plt.figure(figsize=(15, 45)) # Manager \n",
    "sns.lmplot('HY_Percent_Return', 'ManagerBData', data = newData, height=8, fit_reg=True)\n",
    "plt.title('Absolute value of Manager B and Agg. Versus HY', size=24)"
   ]
  },
  {
   "cell_type": "code",
   "execution_count": 97,
   "metadata": {},
   "outputs": [
    {
     "data": {
      "text/plain": [
       "Text(0.5, 1.0, 'Absolute value of Manager C and Agg. Versus HY')"
      ]
     },
     "execution_count": 97,
     "metadata": {},
     "output_type": "execute_result"
    },
    {
     "data": {
      "text/plain": [
       "<Figure size 1080x3240 with 0 Axes>"
      ]
     },
     "metadata": {},
     "output_type": "display_data"
    },
    {
     "data": {
      "image/png": "[encoded data removed]",
      "text/plain": [
       "<Figure size 576x576 with 1 Axes>"
      ]
     },
     "metadata": {
      "needs_background": "light"
     },
     "output_type": "display_data"
    }
   ],
   "source": [
    "fig=plt.figure(figsize=(15, 45)) # Manager \n",
    "sns.lmplot('HY_Percent_Return', 'ManagerCData', data = newData, height=8, fit_reg=True)\n",
    "plt.title('Absolute value of Manager C and Agg. Versus HY', size=24)"
   ]
  },
  {
   "cell_type": "code",
   "execution_count": 98,
   "metadata": {},
   "outputs": [
    {
     "data": {
      "text/plain": [
       "Text(0.5, 1.0, 'Absolute value of HY and Agg. Versus HY')"
      ]
     },
     "execution_count": 98,
     "metadata": {},
     "output_type": "execute_result"
    },
    {
     "data": {
      "text/plain": [
       "<Figure size 1080x3240 with 0 Axes>"
      ]
     },
     "metadata": {},
     "output_type": "display_data"
    },
    {
     "data": {
      "image/png": "[encoded data removed]",
      "text/plain": [
       "<Figure size 576x576 with 1 Axes>"
      ]
     },
     "metadata": {
      "needs_background": "light"
     },
     "output_type": "display_data"
    }
   ],
   "source": [
    "fig=plt.figure(figsize=(15, 45)) # Manager \n",
    "sns.lmplot('HY_Percent_Return', 'HY_Data', data = newData, height=8, fit_reg=True)\n",
    "plt.title('Absolute value of HY and Agg. Versus HY', size=24)"
   ]
  },
  {
   "cell_type": "markdown",
   "metadata": {},
   "source": [
    "# Correlation Matrix to show which managers have most correlated return amongst the HY Index"
   ]
  },
  {
   "cell_type": "code",
   "execution_count": 99,
   "metadata": {},
   "outputs": [
    {
     "data": {
      "image/png": "[encoded data removed]",
      "text/plain": [
       "<Figure size 720x720 with 2 Axes>"
      ]
     },
     "metadata": {
      "needs_background": "light"
     },
     "output_type": "display_data"
    }
   ],
   "source": [
    "#Pairwise correlation between attributes\n",
    "fig=plt.figure(figsize=(10, 10))\n",
    "sns.heatmap(newData[['HY_Percent_Return', 'ManagerCData', 'ManagerBData', 'ManagerAData', 'HY_Data' ]].corr(), vmin = -1, vmax=1, annot=True)\n",
    "plt.show()"
   ]
  },
  {
   "cell_type": "code",
   "execution_count": null,
   "metadata": {},
   "outputs": [],
   "source": []
  }
 ],
 "metadata": {
  "kernelspec": {
   "display_name": "Python 3",
   "language": "python",
   "name": "python3"
  },
  "language_info": {
   "codemirror_mode": {
    "name": "ipython",
    "version": 3
   },
   "file_extension": ".py",
   "mimetype": "text/x-python",
   "name": "python",
   "nbconvert_exporter": "python",
   "pygments_lexer": "ipython3",
   "version": "3.7.3"
  }
 },
 "nbformat": 4,
 "nbformat_minor": 2
}
